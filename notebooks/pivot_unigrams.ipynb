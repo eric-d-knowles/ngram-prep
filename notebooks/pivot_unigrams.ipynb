{
 "cells": [
  {
   "metadata": {},
   "cell_type": "markdown",
   "source": "# **Setup**",
   "id": "ed15de79ff6600a1"
  },
  {
   "metadata": {
    "ExecuteTime": {
     "end_time": "2025-10-25T02:24:43.123157Z",
     "start_time": "2025-10-25T02:24:42.964602Z"
    }
   },
   "cell_type": "code",
   "source": [
    "# Auto-reload edited scripts\n",
    "%load_ext autoreload\n",
    "%autoreload 2\n",
    "\n",
    "# Logging\n",
    "from ngram_prep.ngram_acquire.logger import setup_logger\n",
    "\n",
    "# Ngram pivot functions\n",
    "from pathlib import Path\n",
    "from ngram_prep.ngram_pivot.config import PipelineConfig\n",
    "from ngram_prep.ngram_pivot.pipeline import run_pivot_pipeline\n",
    "\n",
    "# Utilities\n",
    "from ngram_prep.utilities.peek import *"
   ],
   "id": "ce854c30d3ed2553",
   "outputs": [],
   "execution_count": 1
  },
  {
   "metadata": {},
   "cell_type": "markdown",
   "source": "## Log to file",
   "id": "9dcc445498bb0c6a"
  },
  {
   "metadata": {
    "ExecuteTime": {
     "end_time": "2025-10-25T02:24:43.165032Z",
     "start_time": "2025-10-25T02:24:43.129383Z"
    }
   },
   "cell_type": "code",
   "source": [
    "setup_logger(\n",
    "    db_path=\"/scratch/edk202/NLP_corpora/Google_Books/20200217/eng/5gram_files/5grams_pivoted.db\",\n",
    "    console=False,\n",
    "    rotate=True,\n",
    "    max_bytes=100_000_000,\n",
    "    backup_count=5,\n",
    "    force=True\n",
    ")"
   ],
   "id": "12e3d73b8a010aa3",
   "outputs": [
    {
     "data": {
      "text/plain": [
       "PosixPath('/scratch/edk202/NLP_corpora/Google_Books/20200217/eng/5gram_files/ngram_download_20251024_222443.log')"
      ]
     },
     "execution_count": 2,
     "metadata": {},
     "output_type": "execute_result"
    }
   ],
   "execution_count": 2
  },
  {
   "metadata": {},
   "cell_type": "markdown",
   "source": "# **Pivot Unigrams to Create Yearly Indices**",
   "id": "3c54b7932d2716a8"
  },
  {
   "metadata": {
    "ExecuteTime": {
     "end_time": "2025-10-25T02:50:10.787175Z",
     "start_time": "2025-10-25T02:24:44.128932Z"
    }
   },
   "cell_type": "code",
   "source": [
    "pipeline_cfg = PipelineConfig(\n",
    "    src_db=Path(\"/scratch/edk202/NLP_corpora/Google_Books/20200217/eng/1gram_files/1grams_processed.db\"),\n",
    "    dst_db=Path(\"/scratch/edk202/NLP_corpora/Google_Books/20200217/eng/1gram_files/1grams_pivoted.db\"),\n",
    "    tmp_dir=Path(\"/scratch/edk202/NLP_corpora/Google_Books/20200217/eng/1gram_files/pivot_tmp\"),\n",
    "    num_workers=20,\n",
    "    num_initial_work_units=30,\n",
    "    max_split_depth=50,\n",
    "    work_unit_claim_order=\"random\",\n",
    "    split_check_interval_s=15.0,\n",
    "    progress_every_s=15.0,\n",
    "    mode=\"restart\",\n",
    "    max_items_per_bucket=1_000_000,\n",
    "    max_bytes_per_bucket=128 * 1024 * 1024,\n",
    "    num_ingest_readers=20,\n",
    "    ingest_queue_depth=80,\n",
    "    ingest_batch_items=10_000\n",
    ")\n",
    "\n",
    "run_pivot_pipeline(pipeline_cfg)"
   ],
   "id": "6878b76f41ccd438",
   "outputs": [
    {
     "name": "stdout",
     "output_type": "stream",
     "text": [
      "\n",
      "PARALLEL N-GRAM DATABASE PIVOT\n",
      "━━━━━━━━━━━━━━━━━━━━━━━━━━━━━━━━━━━━━━━━━━━━━━━━━━━━━━━━━━━━━━━━━━━━━━━━━━━━━━━━━━━━━━━━━━━━━━━━━━━━\n",
      "Start Time: 2025-10-24 22:24:47\n",
      "Mode:       RESTART\n",
      "\n",
      "Configuration\n",
      "════════════════════════════════════════════════════════════════════════════════════════════════════\n",
      "Source DB:            ...dk202/NLP_corpora/Google_Books/20200217/eng/1gram_files/1grams_processed.db\n",
      "Target DB:            .../edk202/NLP_corpora/Google_Books/20200217/eng/1gram_files/1grams_pivoted.db\n",
      "Temp directory:       /scratch/edk202/NLP_corpora/Google_Books/20200217/eng/1gram_files/pivot_tmp\n",
      "\n",
      "Parallelism\n",
      "────────────────────────────────────────────────────────────────────────────────────────────────────\n",
      "Workers:              20\n",
      "Initial work units:   30\n",
      "Max split depth:      50\n",
      "Split check interval: 15.0s\n",
      "\n",
      "Database Profiles\n",
      "────────────────────────────────────────────────────────────────────────────────────────────────────\n",
      "Reader profile:       read:packed24\n",
      "Writer profile:       write:packed24\n",
      "Ingest profile:       write:packed24\n",
      "\n",
      "Buffer Configuration\n",
      "────────────────────────────────────────────────────────────────────────────────────────────────────\n",
      "Worker buffer size:   1,000,000 items\n",
      "Worker buffer bytes:  128.00 MB\n",
      "Ingest batch size:    10,000 items\n",
      "\n",
      "\n",
      "Phase 1: Creating work units...\n",
      "════════════════════════════════════════════════════════════════════════════════════════════════════\n",
      "Clean restart - creating new work units\n",
      "Created 30 uniform work units (byte-range partitioning)\n",
      "Dynamic splitting will handle load balancing at runtime\n",
      "\n",
      "Phase 2: Processing 30 work units with 20 workers...\n",
      "════════════════════════════════════════════════════════════════════════════════════════════════════\n",
      "\n",
      "     ngrams           exp            units           splits           rate          elapsed     \n",
      "────────────────────────────────────────────────────────────────────────────────────────────────\n",
      "       0              0.0x        0·14·1·0·30          15             0/s             15s       \n",
      "     1.85M           71.5x        1·20·18·0·38         33           61.4k/s           30s       \n",
      "     4.02M           72.4x       13·19·38·0·41         52           89.1k/s           45s       \n",
      "     4.66M           72.2x       11·11·56·0·52         64           77.5k/s          1m00s      \n",
      "     6.83M           72.1x        0·17·77·0·69         89           90.9k/s          1m15s      \n",
      "     9.06M           72.0x       9·20·101·0·75        115           100.5k/s         1m30s      \n",
      "     10.85M          71.7x       2·15·141·0·84        141           103.2k/s         1m45s      \n",
      "     12.02M          71.6x        0·5·169·0·90        161           100.0k/s         2m00s      \n",
      "     12.41M          71.7x        0·7·177·0·93        170           91.9k/s          2m15s      \n",
      "     13.20M          71.9x        0·2·194·0·96        183           87.9k/s          2m30s      \n",
      "     13.50M          71.9x        0·0·198·0·97        185           81.7k/s          2m45s      \n",
      "────────────────────────────────────────────── final ──────────────────────────────────────────────\n",
      "     13.50M          71.9x        0·0·198·0·97        185           81.3k/s          2m45s      \n",
      "\n",
      "Phase 3: Ingesting 198 shards with 40 parallel readers...\n",
      "════════════════════════════════════════════════════════════════════════════════════════════════════\n"
     ]
    },
    {
     "name": "stderr",
     "output_type": "stream",
     "text": [
      "Shards Ingested: 100%|███████████████████████████████████████████████████████| 198/198 [20:13<00:00]\n"
     ]
    },
    {
     "name": "stdout",
     "output_type": "stream",
     "text": [
      "\n",
      "\n",
      "Phase 4: Finalizing database...\n",
      "════════════════════════════════════════════════════════════════════════════════════════════════════\n",
      "\n",
      "Post-Ingestion Compaction\n",
      "────────────────────────────────────────────────────────────────────────────────────────────────────\n",
      "Initial DB size:         27.21 GB\n",
      "Compaction completed in 0:02:22\n",
      "Size before:             27.21 GB\n",
      "Size after:              27.21 GB\n",
      "Space saved:             283.58 KB (0.0%)\n",
      "\n",
      "Pipeline Complete\n",
      "════════════════════════════════════════════════════════════════════════════════════════════════════\n",
      "Output database:      .../edk202/NLP_corpora/Google_Books/20200217/eng/1gram_files/1grams_pivoted.db\n",
      "Total records:        970,620,875\n",
      "Database size:        27.21 GB\n",
      "End Time:             2025-10-24 22:50:10\n",
      "━━━━━━━━━━━━━━━━━━━━━━━━━━━━━━━━━━━━━━━━━━━━━━━━━━━━━━━━━━━━━━━━━━━━━━━━━━━━━━━━━━━━━━━━━━━━━━━━━━━━\n",
      "\n"
     ]
    }
   ],
   "execution_count": 3
  },
  {
   "metadata": {},
   "cell_type": "markdown",
   "source": [
    "# **Inspect the Procesed Database**\n",
    "## `db_head`: Print the first _N_ key–value pairs"
   ],
   "id": "b916bcb8f52efc4e"
  },
  {
   "metadata": {
    "ExecuteTime": {
     "end_time": "2025-10-25T02:01:50.846839878Z",
     "start_time": "2025-10-24T23:20:53.581017Z"
    }
   },
   "cell_type": "code",
   "source": [
    "db_path = \"/scratch/edk202/NLP_corpora/Google_Books/20200217/eng/1gram_files/1grams_pivoted.db\"\n",
    "\n",
    "db_head(db_path, n=5)"
   ],
   "id": "602ef9dec8103212",
   "outputs": [
    {
     "name": "stdout",
     "output_type": "stream",
     "text": [
      "First 5 key-value pairs:\n",
      "────────────────────────────────────────────────────────────────────────────────────────────────────\n",
      "[ 1] Key:   [1470] abstract\n",
      "     Value: 1 occurrences in 1 documents\n",
      "\n",
      "[ 2] Key:   [1470] angle\n",
      "     Value: 2 occurrences in 2 documents\n",
      "\n",
      "[ 3] Key:   [1470] arran\n",
      "     Value: 1 occurrences in 1 documents\n",
      "\n",
      "[ 4] Key:   [1470] arrange\n",
      "     Value: 1 occurrences in 1 documents\n",
      "\n",
      "[ 5] Key:   [1470] atomic\n",
      "     Value: 1 occurrences in 1 documents\n",
      "\n"
     ]
    }
   ],
   "execution_count": 4
  },
  {
   "metadata": {},
   "cell_type": "markdown",
   "source": "## `db_peek`: Print _N_ key-value pairs starting at the specified key",
   "id": "a5cd2b4c5b2bef6c"
  },
  {
   "metadata": {
    "ExecuteTime": {
     "end_time": "2025-10-24T23:24:47.012578Z",
     "start_time": "2025-10-24T23:24:46.953092Z"
    }
   },
   "cell_type": "code",
   "source": [
    "db_path = \"/scratch/edk202/NLP_corpora/Google_Books/20200217/eng/1gram_files/1grams_pivoted.db\"\n",
    "\n",
    "db_peek(db_path, start_key=\"[2000] quick\", n=5)\n"
   ],
   "id": "4ae0c4f82ae61dbd",
   "outputs": [
    {
     "name": "stdout",
     "output_type": "stream",
     "text": [
      "5 key-value pairs starting from 000007d0717569636b:\n",
      "────────────────────────────────────────────────────────────────────────────────────────────────────\n",
      "[ 1] Key:   [2000] quick\n",
      "     Value: 882,968 occurrences in 239,075 documents\n",
      "\n",
      "[ 2] Key:   [2000] quicka\n",
      "     Value: 6 occurrences in 4 documents\n",
      "\n",
      "[ 3] Key:   [2000] quickaccess\n",
      "     Value: 526 occurrences in 62 documents\n",
      "\n",
      "[ 4] Key:   [2000] quickaccount\n",
      "     Value: 2 occurrences in 2 documents\n",
      "\n",
      "[ 5] Key:   [2000] quickacting\n",
      "     Value: 47 occurrences in 43 documents\n",
      "\n"
     ]
    }
   ],
   "execution_count": 4
  },
  {
   "metadata": {},
   "cell_type": "markdown",
   "source": "## `db_peek_prefix`: Print key-value pairs containing the specified prefix",
   "id": "f0261bc901193643"
  },
  {
   "metadata": {
    "ExecuteTime": {
     "end_time": "2025-10-24T23:27:45.236132Z",
     "start_time": "2025-10-24T23:27:45.089877Z"
    }
   },
   "cell_type": "code",
   "source": [
    "db_path = \"/scratch/edk202/NLP_corpora/Google_Books/20200217/eng/1gram_files/1grams_pivoted.db\"\n",
    "\n",
    "db_peek_prefix(db_path, prefix=\"[2011] unite\", n=5)"
   ],
   "id": "b04a9e9cf0cc209f",
   "outputs": [
    {
     "name": "stdout",
     "output_type": "stream",
     "text": [
      "5 key-value pairs with prefix 000007db756e697465:\n",
      "────────────────────────────────────────────────────────────────────────────────────────────────────\n",
      "[ 1] Key:   [2011] unite\n",
      "     Value: 435,288 occurrences in 172,321 documents\n",
      "\n",
      "[ 2] Key:   [2011] unitea\n",
      "     Value: 23 occurrences in 19 documents\n",
      "\n",
      "[ 3] Key:   [2011] uniteal\n",
      "     Value: 3 occurrences in 3 documents\n",
      "\n",
      "[ 4] Key:   [2011] uniteam\n",
      "     Value: 2 occurrences in 2 documents\n",
      "\n",
      "[ 5] Key:   [2011] unitec\n",
      "     Value: 224 occurrences in 90 documents\n",
      "\n"
     ]
    }
   ],
   "execution_count": 12
  },
  {
   "metadata": {},
   "cell_type": "code",
   "source": "",
   "id": "35abdd0e1baea1b1",
   "outputs": [],
   "execution_count": null
  }
 ],
 "metadata": {
  "kernelspec": {
   "display_name": "Python 3 (ipykernel)",
   "language": "python",
   "name": "python3"
  },
  "language_info": {
   "codemirror_mode": {
    "name": "ipython",
    "version": 3
   },
   "file_extension": ".py",
   "mimetype": "text/x-python",
   "name": "python",
   "nbconvert_exporter": "python",
   "pygments_lexer": "ipython3",
   "version": "3.11.13"
  }
 },
 "nbformat": 4,
 "nbformat_minor": 5
}
