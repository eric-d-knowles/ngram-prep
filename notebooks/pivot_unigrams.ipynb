{
 "cells": [
  {
   "metadata": {},
   "cell_type": "markdown",
   "source": "# **Setup**",
   "id": "ed15de79ff6600a1"
  },
  {
   "metadata": {
    "ExecuteTime": {
     "end_time": "2025-10-25T16:49:47.932544Z",
     "start_time": "2025-10-25T16:49:47.748963Z"
    }
   },
   "cell_type": "code",
   "source": [
    "# Auto-reload edited scripts\n",
    "%load_ext autoreload\n",
    "%autoreload 2\n",
    "\n",
    "# Logging\n",
    "from ngram_prep.ngram_acquire.logger import setup_logger\n",
    "\n",
    "# Ngram pivot functions\n",
    "from pathlib import Path\n",
    "from ngram_prep.ngram_pivot.config import PipelineConfig\n",
    "from ngram_prep.ngram_pivot.pipeline import run_pivot_pipeline\n",
    "\n",
    "# Utilities\n",
    "from ngram_prep.utilities.peek import *"
   ],
   "id": "ce854c30d3ed2553",
   "outputs": [],
   "execution_count": 1
  },
  {
   "metadata": {},
   "cell_type": "markdown",
   "source": "## Log to file",
   "id": "9dcc445498bb0c6a"
  },
  {
   "metadata": {
    "ExecuteTime": {
     "end_time": "2025-10-25T16:49:50.650320Z",
     "start_time": "2025-10-25T16:49:50.622046Z"
    }
   },
   "cell_type": "code",
   "source": [
    "setup_logger(\n",
    "    db_path=\"/scratch/edk202/NLP_corpora/Google_Books/20200217/eng/5gram_files/5grams_pivoted.db\",\n",
    "    console=False,\n",
    "    rotate=True,\n",
    "    max_bytes=100_000_000,\n",
    "    backup_count=5,\n",
    "    force=True\n",
    ")"
   ],
   "id": "12e3d73b8a010aa3",
   "outputs": [
    {
     "data": {
      "text/plain": [
       "PosixPath('/scratch/edk202/NLP_corpora/Google_Books/20200217/eng/5gram_files/5grams_pivoted.db/ngram_download_20251025_124950.log')"
      ]
     },
     "execution_count": 2,
     "metadata": {},
     "output_type": "execute_result"
    }
   ],
   "execution_count": 2
  },
  {
   "metadata": {},
   "cell_type": "markdown",
   "source": "# **Pivot Unigrams to Create Yearly Indices**",
   "id": "3c54b7932d2716a8"
  },
  {
   "metadata": {
    "ExecuteTime": {
     "end_time": "2025-10-25T16:49:51.505604Z",
     "start_time": "2025-10-25T16:49:51.392541Z"
    }
   },
   "cell_type": "code",
   "source": [
    "pipeline_cfg = PipelineConfig(\n",
    "    src_db=Path(\"/scratch/edk202/NLP_corpora/Google_Books/20200217/eng/1gram_files/1grams_processed.db\"),\n",
    "    dst_db=Path(\"/scratch/edk202/NLP_corpora/Google_Books/20200217/eng/1gram_files/1grams_pivoted.db\"),\n",
    "    tmp_dir=Path(\"/scratch/edk202/NLP_corpora/Google_Books/20200217/eng/1gram_files/pivot_tmp\"),\n",
    "    num_workers=20,\n",
    "    num_initial_work_units=30,\n",
    "    max_split_depth=50,\n",
    "    work_unit_claim_order=\"random\",\n",
    "    split_check_interval_s=15.0,\n",
    "    progress_every_s=15.0,\n",
    "    mode=\"restart\",\n",
    "    max_items_per_bucket=1_000_000,\n",
    "    max_bytes_per_bucket=128 * 1024 * 1024,\n",
    "    num_ingest_readers=20,\n",
    "    ingest_queue_depth=80,\n",
    "    ingest_batch_items=10_000\n",
    ")\n",
    "\n",
    "run_pivot_pipeline(pipeline_cfg)"
   ],
   "id": "6878b76f41ccd438",
   "outputs": [
    {
     "ename": "TypeError",
     "evalue": "PipelineConfig.__init__() got an unexpected keyword argument 'ingest_queue_depth'",
     "output_type": "error",
     "traceback": [
      "\u001B[31m---------------------------------------------------------------------------\u001B[39m",
      "\u001B[31mTypeError\u001B[39m                                 Traceback (most recent call last)",
      "\u001B[36mCell\u001B[39m\u001B[36m \u001B[39m\u001B[32mIn[3]\u001B[39m\u001B[32m, line 1\u001B[39m\n\u001B[32m----> \u001B[39m\u001B[32m1\u001B[39m pipeline_cfg = \u001B[43mPipelineConfig\u001B[49m\u001B[43m(\u001B[49m\n\u001B[32m      2\u001B[39m \u001B[43m    \u001B[49m\u001B[43msrc_db\u001B[49m\u001B[43m=\u001B[49m\u001B[43mPath\u001B[49m\u001B[43m(\u001B[49m\u001B[33;43m\"\u001B[39;49m\u001B[33;43m/scratch/edk202/NLP_corpora/Google_Books/20200217/eng/1gram_files/1grams_processed.db\u001B[39;49m\u001B[33;43m\"\u001B[39;49m\u001B[43m)\u001B[49m\u001B[43m,\u001B[49m\n\u001B[32m      3\u001B[39m \u001B[43m    \u001B[49m\u001B[43mdst_db\u001B[49m\u001B[43m=\u001B[49m\u001B[43mPath\u001B[49m\u001B[43m(\u001B[49m\u001B[33;43m\"\u001B[39;49m\u001B[33;43m/scratch/edk202/NLP_corpora/Google_Books/20200217/eng/1gram_files/1grams_pivoted.db\u001B[39;49m\u001B[33;43m\"\u001B[39;49m\u001B[43m)\u001B[49m\u001B[43m,\u001B[49m\n\u001B[32m      4\u001B[39m \u001B[43m    \u001B[49m\u001B[43mtmp_dir\u001B[49m\u001B[43m=\u001B[49m\u001B[43mPath\u001B[49m\u001B[43m(\u001B[49m\u001B[33;43m\"\u001B[39;49m\u001B[33;43m/scratch/edk202/NLP_corpora/Google_Books/20200217/eng/1gram_files/pivot_tmp\u001B[39;49m\u001B[33;43m\"\u001B[39;49m\u001B[43m)\u001B[49m\u001B[43m,\u001B[49m\n\u001B[32m      5\u001B[39m \u001B[43m    \u001B[49m\u001B[43mnum_workers\u001B[49m\u001B[43m=\u001B[49m\u001B[32;43m20\u001B[39;49m\u001B[43m,\u001B[49m\n\u001B[32m      6\u001B[39m \u001B[43m    \u001B[49m\u001B[43mnum_initial_work_units\u001B[49m\u001B[43m=\u001B[49m\u001B[32;43m30\u001B[39;49m\u001B[43m,\u001B[49m\n\u001B[32m      7\u001B[39m \u001B[43m    \u001B[49m\u001B[43mmax_split_depth\u001B[49m\u001B[43m=\u001B[49m\u001B[32;43m50\u001B[39;49m\u001B[43m,\u001B[49m\n\u001B[32m      8\u001B[39m \u001B[43m    \u001B[49m\u001B[43mwork_unit_claim_order\u001B[49m\u001B[43m=\u001B[49m\u001B[33;43m\"\u001B[39;49m\u001B[33;43mrandom\u001B[39;49m\u001B[33;43m\"\u001B[39;49m\u001B[43m,\u001B[49m\n\u001B[32m      9\u001B[39m \u001B[43m    \u001B[49m\u001B[43msplit_check_interval_s\u001B[49m\u001B[43m=\u001B[49m\u001B[32;43m15.0\u001B[39;49m\u001B[43m,\u001B[49m\n\u001B[32m     10\u001B[39m \u001B[43m    \u001B[49m\u001B[43mprogress_every_s\u001B[49m\u001B[43m=\u001B[49m\u001B[32;43m15.0\u001B[39;49m\u001B[43m,\u001B[49m\n\u001B[32m     11\u001B[39m \u001B[43m    \u001B[49m\u001B[43mmode\u001B[49m\u001B[43m=\u001B[49m\u001B[33;43m\"\u001B[39;49m\u001B[33;43mrestart\u001B[39;49m\u001B[33;43m\"\u001B[39;49m\u001B[43m,\u001B[49m\n\u001B[32m     12\u001B[39m \u001B[43m    \u001B[49m\u001B[43mmax_items_per_bucket\u001B[49m\u001B[43m=\u001B[49m\u001B[32;43m1_000_000\u001B[39;49m\u001B[43m,\u001B[49m\n\u001B[32m     13\u001B[39m \u001B[43m    \u001B[49m\u001B[43mmax_bytes_per_bucket\u001B[49m\u001B[43m=\u001B[49m\u001B[32;43m128\u001B[39;49m\u001B[43m \u001B[49m\u001B[43m*\u001B[49m\u001B[43m \u001B[49m\u001B[32;43m1024\u001B[39;49m\u001B[43m \u001B[49m\u001B[43m*\u001B[49m\u001B[43m \u001B[49m\u001B[32;43m1024\u001B[39;49m\u001B[43m,\u001B[49m\n\u001B[32m     14\u001B[39m \u001B[43m    \u001B[49m\u001B[43mnum_ingest_readers\u001B[49m\u001B[43m=\u001B[49m\u001B[32;43m20\u001B[39;49m\u001B[43m,\u001B[49m\n\u001B[32m     15\u001B[39m \u001B[43m    \u001B[49m\u001B[43mingest_queue_depth\u001B[49m\u001B[43m=\u001B[49m\u001B[32;43m80\u001B[39;49m\u001B[43m,\u001B[49m\n\u001B[32m     16\u001B[39m \u001B[43m    \u001B[49m\u001B[43mingest_batch_items\u001B[49m\u001B[43m=\u001B[49m\u001B[32;43m10_000\u001B[39;49m\n\u001B[32m     17\u001B[39m \u001B[43m)\u001B[49m\n\u001B[32m     19\u001B[39m run_pivot_pipeline(pipeline_cfg)\n",
      "\u001B[31mTypeError\u001B[39m: PipelineConfig.__init__() got an unexpected keyword argument 'ingest_queue_depth'"
     ]
    }
   ],
   "execution_count": 3
  },
  {
   "metadata": {},
   "cell_type": "markdown",
   "source": [
    "# **Inspect the Procesed Database**\n",
    "## `db_head`: Print the first _N_ key–value pairs"
   ],
   "id": "b916bcb8f52efc4e"
  },
  {
   "metadata": {},
   "cell_type": "code",
   "source": [
    "db_path = \"/scratch/edk202/NLP_corpora/Google_Books/20200217/eng/1gram_files/1grams_pivoted.db\"\n",
    "\n",
    "db_head(db_path, n=5)"
   ],
   "id": "602ef9dec8103212",
   "outputs": [],
   "execution_count": null
  },
  {
   "metadata": {},
   "cell_type": "markdown",
   "source": "## `db_peek`: Print _N_ key-value pairs starting at the specified key",
   "id": "a5cd2b4c5b2bef6c"
  },
  {
   "metadata": {},
   "cell_type": "code",
   "source": [
    "db_path = \"/scratch/edk202/NLP_corpora/Google_Books/20200217/eng/1gram_files/1grams_pivoted.db\"\n",
    "\n",
    "db_peek(db_path, start_key=\"[2000] quick\", n=5)\n"
   ],
   "id": "4ae0c4f82ae61dbd",
   "outputs": [],
   "execution_count": null
  },
  {
   "metadata": {},
   "cell_type": "markdown",
   "source": "## `db_peek_prefix`: Print key-value pairs containing the specified prefix",
   "id": "f0261bc901193643"
  },
  {
   "metadata": {},
   "cell_type": "code",
   "source": [
    "db_path = \"/scratch/edk202/NLP_corpora/Google_Books/20200217/eng/1gram_files/1grams_pivoted.db\"\n",
    "\n",
    "db_peek_prefix(db_path, prefix=\"[2011] unite\", n=5)"
   ],
   "id": "b04a9e9cf0cc209f",
   "outputs": [],
   "execution_count": null
  },
  {
   "metadata": {},
   "cell_type": "code",
   "source": "",
   "id": "35abdd0e1baea1b1",
   "outputs": [],
   "execution_count": null
  }
 ],
 "metadata": {
  "kernelspec": {
   "display_name": "Python 3 (ipykernel)",
   "language": "python",
   "name": "python3"
  },
  "language_info": {
   "codemirror_mode": {
    "name": "ipython",
    "version": 3
   },
   "file_extension": ".py",
   "mimetype": "text/x-python",
   "name": "python",
   "nbconvert_exporter": "python",
   "pygments_lexer": "ipython3",
   "version": "3.11.13"
  }
 },
 "nbformat": 4,
 "nbformat_minor": 5
}
