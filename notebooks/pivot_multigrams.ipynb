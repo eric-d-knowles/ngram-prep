{
 "cells": [
  {
   "metadata": {},
   "cell_type": "markdown",
   "source": "# **Setup**",
   "id": "ed15de79ff6600a1"
  },
  {
   "metadata": {
    "ExecuteTime": {
     "end_time": "2025-10-26T02:55:04.566389Z",
     "start_time": "2025-10-26T02:55:04.306200Z"
    }
   },
   "cell_type": "code",
   "source": [
    "# Auto-reload edited scripts\n",
    "%load_ext autoreload\n",
    "%autoreload 2\n",
    "\n",
    "# Logging\n",
    "from ngram_prep.ngram_acquire.logger import setup_logger\n",
    "\n",
    "# Ngram pivot functions\n",
    "from pathlib import Path\n",
    "from ngram_prep.ngram_pivot.config import PipelineConfig\n",
    "from ngram_prep.ngram_pivot.pipeline import run_pivot_pipeline\n",
    "\n",
    "# Utilities\n",
    "from ngram_prep.utilities.peek import *"
   ],
   "id": "ce854c30d3ed2553",
   "outputs": [],
   "execution_count": 1
  },
  {
   "metadata": {},
   "cell_type": "markdown",
   "source": "## Log to file",
   "id": "9dcc445498bb0c6a"
  },
  {
   "metadata": {
    "ExecuteTime": {
     "end_time": "2025-10-26T02:55:04.617446Z",
     "start_time": "2025-10-26T02:55:04.579057Z"
    }
   },
   "cell_type": "code",
   "source": [
    "setup_logger(\n",
    "    db_path=\"/scratch/edk202/NLP_corpora/Google_Books/20200217/eng/5gram_files/5grams_pivoted.db\",\n",
    "    console=False,\n",
    "    rotate=True,\n",
    "    max_bytes=100_000_000,\n",
    "    backup_count=5,\n",
    "    force=True\n",
    ")"
   ],
   "id": "12e3d73b8a010aa3",
   "outputs": [
    {
     "data": {
      "text/plain": [
       "PosixPath('/scratch/edk202/NLP_corpora/Google_Books/20200217/eng/5gram_files/5grams_pivoted.db/ngram_download_20251025_225504.log')"
      ]
     },
     "execution_count": 2,
     "metadata": {},
     "output_type": "execute_result"
    }
   ],
   "execution_count": 2
  },
  {
   "metadata": {},
   "cell_type": "markdown",
   "source": "# **Pivot Multigrams to Create Yearly Indices**",
   "id": "3c54b7932d2716a8"
  },
  {
   "metadata": {
    "jupyter": {
     "is_executing": true
    },
    "ExecuteTime": {
     "start_time": "2025-10-26T02:55:06.767360Z"
    }
   },
   "cell_type": "code",
   "source": [
    "pipeline_cfg = PipelineConfig(\n",
    "    src_db=Path(\"/scratch/edk202/NLP_corpora/Google_Books/20200217/eng/5gram_files/5grams_processed.db\"),\n",
    "    dst_db=Path(\"/scratch/edk202/NLP_corpora/Google_Books/20200217/eng/5gram_files/5grams_pivoted.db\"),\n",
    "    tmp_dir=Path(\"/scratch/edk202/NLP_corpora/Google_Books/20200217/eng/5gram_files/pivot_tmp\"),\n",
    "    num_workers=20,\n",
    "    num_initial_work_units=30,\n",
    "    max_split_depth=100,\n",
    "    work_unit_claim_order=\"random\",\n",
    "    split_check_interval_s=5.0,\n",
    "    progress_every_s=15.0,\n",
    "    mode=\"resume\",\n",
    "    max_items_per_bucket=50_000_000,\n",
    "    max_bytes_per_bucket=5 * 1204 * 1024 * 1024,\n",
    "    num_ingest_readers=3,\n",
    "    ingest_buffer_shards=1\n",
    ")\n",
    "\n",
    "run_pivot_pipeline(pipeline_cfg)"
   ],
   "id": "84069a99800e8422",
   "outputs": [
    {
     "name": "stdout",
     "output_type": "stream",
     "text": [
      "\n",
      "PARALLEL N-GRAM DATABASE PIVOT\n",
      "━━━━━━━━━━━━━━━━━━━━━━━━━━━━━━━━━━━━━━━━━━━━━━━━━━━━━━━━━━━━━━━━━━━━━━━━━━━━━━━━━━━━━━━━━━━━━━━━━━━━\n",
      "Start Time: 2025-10-25 22:55:06\n",
      "Mode:       RESUME\n",
      "\n",
      "Configuration\n",
      "════════════════════════════════════════════════════════════════════════════════════════════════════\n",
      "Source DB:            ...dk202/NLP_corpora/Google_Books/20200217/eng/5gram_files/5grams_processed.db\n",
      "Target DB:            .../edk202/NLP_corpora/Google_Books/20200217/eng/5gram_files/5grams_pivoted.db\n",
      "Temp directory:       /scratch/edk202/NLP_corpora/Google_Books/20200217/eng/5gram_files/pivot_tmp\n",
      "\n",
      "Parallelism\n",
      "────────────────────────────────────────────────────────────────────────────────────────────────────\n",
      "Workers:              20\n",
      "Initial work units:   30\n",
      "Max split depth:      100\n",
      "Split check interval: 5.0s\n",
      "\n",
      "Database Profiles\n",
      "────────────────────────────────────────────────────────────────────────────────────────────────────\n",
      "Reader profile:       read:packed24\n",
      "Writer profile:       write:packed24\n",
      "Ingest profile:       write:packed24\n",
      "\n",
      "Buffer Configuration\n",
      "────────────────────────────────────────────────────────────────────────────────────────────────────\n",
      "Worker buffer size:   50,000,000 items\n",
      "Worker buffer bytes:  5.88 GB\n",
      "\n",
      "\n",
      "Phase 1: Creating work units...\n",
      "════════════════════════════════════════════════════════════════════════════════════════════════════\n",
      "Resuming existing work units\n",
      "Resuming: 600 completed, 0 processing, 0 pending\n",
      "\n",
      "Phase 2: Processing 0 work units with 20 workers...\n",
      "════════════════════════════════════════════════════════════════════════════════════════════════════\n",
      "\n",
      "     ngrams           exp            units           splits           rate          elapsed     \n",
      "────────────────────────────────────────────────────────────────────────────────────────────────\n",
      "───────────────────────────────────────────── final ────────────────────────────────────────────\n",
      "       0              0.0x       0·0·600·0·7498       5453            0/s              3s       \n",
      "\n",
      "Phase 3: Ingesting 600 shards with 3 workers (each buffers 1 shards = 3 total in memory)...\n",
      "════════════════════════════════════════════════════════════════════════════════════════════════════\n"
     ]
    },
    {
     "name": "stderr",
     "output_type": "stream",
     "text": [
      "Shards Ingested:   0%|                                                             | 0/600 [00:00<?]"
     ]
    }
   ],
   "execution_count": null
  },
  {
   "metadata": {},
   "cell_type": "markdown",
   "source": [
    "# **Inspect the Procesed Database**\n",
    "## `db_head`: Print the first _N_ key–value pairs"
   ],
   "id": "b916bcb8f52efc4e"
  },
  {
   "metadata": {
    "ExecuteTime": {
     "end_time": "2025-10-24T23:20:53.989725Z",
     "start_time": "2025-10-24T23:20:53.581017Z"
    }
   },
   "cell_type": "code",
   "source": [
    "db_path = \"/scratch/edk202/NLP_corpora/Google_Books/20200217/eng/1gram_files/1grams_pivoted.db\"\n",
    "\n",
    "db_head(db_path, n=5)"
   ],
   "id": "602ef9dec8103212",
   "outputs": [
    {
     "name": "stdout",
     "output_type": "stream",
     "text": [
      "First 5 key-value pairs:\n",
      "────────────────────────────────────────────────────────────────────────────────────────────────────\n",
      "[ 1] Key:   [1470] abstract\n",
      "     Value: 1 occurrences in 1 documents\n",
      "\n",
      "[ 2] Key:   [1470] angle\n",
      "     Value: 2 occurrences in 2 documents\n",
      "\n",
      "[ 3] Key:   [1470] arran\n",
      "     Value: 1 occurrences in 1 documents\n",
      "\n",
      "[ 4] Key:   [1470] arrange\n",
      "     Value: 1 occurrences in 1 documents\n",
      "\n",
      "[ 5] Key:   [1470] atomic\n",
      "     Value: 1 occurrences in 1 documents\n",
      "\n"
     ]
    }
   ],
   "execution_count": 4
  },
  {
   "metadata": {},
   "cell_type": "markdown",
   "source": "## `db_peek`: Print _N_ key-value pairs starting at the specified key",
   "id": "a5cd2b4c5b2bef6c"
  },
  {
   "metadata": {
    "ExecuteTime": {
     "end_time": "2025-10-24T23:24:47.012578Z",
     "start_time": "2025-10-24T23:24:46.953092Z"
    }
   },
   "cell_type": "code",
   "source": [
    "db_path = \"/scratch/edk202/NLP_corpora/Google_Books/20200217/eng/1gram_files/1grams_pivoted.db\"\n",
    "\n",
    "db_peek(db_path, start_key=\"[2000] quick\", n=5)\n"
   ],
   "id": "4ae0c4f82ae61dbd",
   "outputs": [
    {
     "name": "stdout",
     "output_type": "stream",
     "text": [
      "5 key-value pairs starting from 000007d0717569636b:\n",
      "────────────────────────────────────────────────────────────────────────────────────────────────────\n",
      "[ 1] Key:   [2000] quick\n",
      "     Value: 882,968 occurrences in 239,075 documents\n",
      "\n",
      "[ 2] Key:   [2000] quicka\n",
      "     Value: 6 occurrences in 4 documents\n",
      "\n",
      "[ 3] Key:   [2000] quickaccess\n",
      "     Value: 526 occurrences in 62 documents\n",
      "\n",
      "[ 4] Key:   [2000] quickaccount\n",
      "     Value: 2 occurrences in 2 documents\n",
      "\n",
      "[ 5] Key:   [2000] quickacting\n",
      "     Value: 47 occurrences in 43 documents\n",
      "\n"
     ]
    }
   ],
   "execution_count": 4
  },
  {
   "metadata": {},
   "cell_type": "markdown",
   "source": "## `db_peek_prefix`: Print key-value pairs containing the specified prefix",
   "id": "f0261bc901193643"
  },
  {
   "metadata": {
    "ExecuteTime": {
     "end_time": "2025-10-24T23:27:45.236132Z",
     "start_time": "2025-10-24T23:27:45.089877Z"
    }
   },
   "cell_type": "code",
   "source": [
    "db_path = \"/scratch/edk202/NLP_corpora/Google_Books/20200217/eng/1gram_files/1grams_pivoted.db\"\n",
    "\n",
    "db_peek_prefix(db_path, prefix=\"[2011] unite\", n=5)"
   ],
   "id": "b04a9e9cf0cc209f",
   "outputs": [
    {
     "name": "stdout",
     "output_type": "stream",
     "text": [
      "5 key-value pairs with prefix 000007db756e697465:\n",
      "────────────────────────────────────────────────────────────────────────────────────────────────────\n",
      "[ 1] Key:   [2011] unite\n",
      "     Value: 435,288 occurrences in 172,321 documents\n",
      "\n",
      "[ 2] Key:   [2011] unitea\n",
      "     Value: 23 occurrences in 19 documents\n",
      "\n",
      "[ 3] Key:   [2011] uniteal\n",
      "     Value: 3 occurrences in 3 documents\n",
      "\n",
      "[ 4] Key:   [2011] uniteam\n",
      "     Value: 2 occurrences in 2 documents\n",
      "\n",
      "[ 5] Key:   [2011] unitec\n",
      "     Value: 224 occurrences in 90 documents\n",
      "\n"
     ]
    }
   ],
   "execution_count": 12
  },
  {
   "metadata": {},
   "cell_type": "code",
   "source": "",
   "id": "35abdd0e1baea1b1",
   "outputs": [],
   "execution_count": null
  }
 ],
 "metadata": {
  "kernelspec": {
   "display_name": "Python 3 (ipykernel)",
   "language": "python",
   "name": "python3"
  },
  "language_info": {
   "codemirror_mode": {
    "name": "ipython",
    "version": 3
   },
   "file_extension": ".py",
   "mimetype": "text/x-python",
   "name": "python",
   "nbconvert_exporter": "python",
   "pygments_lexer": "ipython3",
   "version": "3.11.13"
  }
 },
 "nbformat": 4,
 "nbformat_minor": 5
}
