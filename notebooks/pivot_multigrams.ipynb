{
 "cells": [
  {
   "metadata": {},
   "cell_type": "markdown",
   "source": "# **Setup**",
   "id": "ed15de79ff6600a1"
  },
  {
   "metadata": {
    "ExecuteTime": {
     "end_time": "2025-10-24T20:55:29.367069Z",
     "start_time": "2025-10-24T20:55:29.355202Z"
    }
   },
   "cell_type": "code",
   "source": [
    "# Auto-reload edited scripts\n",
    "%load_ext autoreload\n",
    "%autoreload 2\n",
    "\n",
    "# Logging\n",
    "from ngram_prep.ngram_acquire.logger import  setup_logger\n",
    "\n",
    "# Ngram pivot functions\n",
    "from pathlib import Path\n",
    "from ngram_prep.ngram_pivot.config import PipelineConfig\n",
    "from ngram_prep.ngram_pivot.pipeline import run_pivot_pipeline\n",
    "\n",
    "# Utilities\n",
    "from ngram_prep.utilities.peek import *"
   ],
   "id": "ce854c30d3ed2553",
   "outputs": [
    {
     "name": "stdout",
     "output_type": "stream",
     "text": [
      "The autoreload extension is already loaded. To reload it, use:\n",
      "  %reload_ext autoreload\n"
     ]
    }
   ],
   "execution_count": 3
  },
  {
   "metadata": {},
   "cell_type": "markdown",
   "source": "## Log to file",
   "id": "9dcc445498bb0c6a"
  },
  {
   "metadata": {
    "ExecuteTime": {
     "end_time": "2025-10-24T20:55:29.984927Z",
     "start_time": "2025-10-24T20:55:29.825432Z"
    }
   },
   "cell_type": "code",
   "source": [
    "setup_logger(\n",
    "    db_path=\"/vast/edk202/NLP_corpora/Google_Books/20200217/eng/5gram_files/5grams_pivoted.db\",\n",
    "    console=False,\n",
    "    rotate=True,\n",
    "    max_bytes=100_000_000,\n",
    "    backup_count=5,\n",
    "    force=True\n",
    ")"
   ],
   "id": "12e3d73b8a010aa3",
   "outputs": [
    {
     "ename": "OSError",
     "evalue": "[Errno 30] Read-only file system: '/vast'",
     "output_type": "error",
     "traceback": [
      "\u001B[31m---------------------------------------------------------------------------\u001B[39m",
      "\u001B[31mFileNotFoundError\u001B[39m                         Traceback (most recent call last)",
      "\u001B[36mFile \u001B[39m\u001B[32m/opt/miniforge/lib/python3.11/pathlib.py:1116\u001B[39m, in \u001B[36mPath.mkdir\u001B[39m\u001B[34m(self, mode, parents, exist_ok)\u001B[39m\n\u001B[32m   1115\u001B[39m \u001B[38;5;28;01mtry\u001B[39;00m:\n\u001B[32m-> \u001B[39m\u001B[32m1116\u001B[39m     \u001B[43mos\u001B[49m\u001B[43m.\u001B[49m\u001B[43mmkdir\u001B[49m\u001B[43m(\u001B[49m\u001B[38;5;28;43mself\u001B[39;49m\u001B[43m,\u001B[49m\u001B[43m \u001B[49m\u001B[43mmode\u001B[49m\u001B[43m)\u001B[49m\n\u001B[32m   1117\u001B[39m \u001B[38;5;28;01mexcept\u001B[39;00m \u001B[38;5;167;01mFileNotFoundError\u001B[39;00m:\n",
      "\u001B[31mFileNotFoundError\u001B[39m: [Errno 2] No such file or directory: '/vast/edk202/NLP_corpora/Google_Books/20200217/eng/5gram_files'",
      "\nDuring handling of the above exception, another exception occurred:\n",
      "\u001B[31mFileNotFoundError\u001B[39m                         Traceback (most recent call last)",
      "\u001B[36mFile \u001B[39m\u001B[32m/opt/miniforge/lib/python3.11/pathlib.py:1116\u001B[39m, in \u001B[36mPath.mkdir\u001B[39m\u001B[34m(self, mode, parents, exist_ok)\u001B[39m\n\u001B[32m   1115\u001B[39m \u001B[38;5;28;01mtry\u001B[39;00m:\n\u001B[32m-> \u001B[39m\u001B[32m1116\u001B[39m     \u001B[43mos\u001B[49m\u001B[43m.\u001B[49m\u001B[43mmkdir\u001B[49m\u001B[43m(\u001B[49m\u001B[38;5;28;43mself\u001B[39;49m\u001B[43m,\u001B[49m\u001B[43m \u001B[49m\u001B[43mmode\u001B[49m\u001B[43m)\u001B[49m\n\u001B[32m   1117\u001B[39m \u001B[38;5;28;01mexcept\u001B[39;00m \u001B[38;5;167;01mFileNotFoundError\u001B[39;00m:\n",
      "\u001B[31mFileNotFoundError\u001B[39m: [Errno 2] No such file or directory: '/vast/edk202/NLP_corpora/Google_Books/20200217/eng'",
      "\nDuring handling of the above exception, another exception occurred:\n",
      "\u001B[31mFileNotFoundError\u001B[39m                         Traceback (most recent call last)",
      "\u001B[36mFile \u001B[39m\u001B[32m/opt/miniforge/lib/python3.11/pathlib.py:1116\u001B[39m, in \u001B[36mPath.mkdir\u001B[39m\u001B[34m(self, mode, parents, exist_ok)\u001B[39m\n\u001B[32m   1115\u001B[39m \u001B[38;5;28;01mtry\u001B[39;00m:\n\u001B[32m-> \u001B[39m\u001B[32m1116\u001B[39m     \u001B[43mos\u001B[49m\u001B[43m.\u001B[49m\u001B[43mmkdir\u001B[49m\u001B[43m(\u001B[49m\u001B[38;5;28;43mself\u001B[39;49m\u001B[43m,\u001B[49m\u001B[43m \u001B[49m\u001B[43mmode\u001B[49m\u001B[43m)\u001B[49m\n\u001B[32m   1117\u001B[39m \u001B[38;5;28;01mexcept\u001B[39;00m \u001B[38;5;167;01mFileNotFoundError\u001B[39;00m:\n",
      "\u001B[31mFileNotFoundError\u001B[39m: [Errno 2] No such file or directory: '/vast/edk202/NLP_corpora/Google_Books/20200217'",
      "\nDuring handling of the above exception, another exception occurred:\n",
      "\u001B[31mFileNotFoundError\u001B[39m                         Traceback (most recent call last)",
      "\u001B[36mFile \u001B[39m\u001B[32m/opt/miniforge/lib/python3.11/pathlib.py:1116\u001B[39m, in \u001B[36mPath.mkdir\u001B[39m\u001B[34m(self, mode, parents, exist_ok)\u001B[39m\n\u001B[32m   1115\u001B[39m \u001B[38;5;28;01mtry\u001B[39;00m:\n\u001B[32m-> \u001B[39m\u001B[32m1116\u001B[39m     os.mkdir(\u001B[38;5;28mself\u001B[39m, mode)\n\u001B[32m   1117\u001B[39m \u001B[38;5;28;01mexcept\u001B[39;00m \u001B[38;5;167;01mFileNotFoundError\u001B[39;00m:\n",
      "\u001B[31mFileNotFoundError\u001B[39m: [Errno 2] No such file or directory: '/vast/edk202/NLP_corpora/Google_Books'",
      "\nDuring handling of the above exception, another exception occurred:\n",
      "\u001B[31mFileNotFoundError\u001B[39m                         Traceback (most recent call last)",
      "\u001B[36mFile \u001B[39m\u001B[32m/opt/miniforge/lib/python3.11/pathlib.py:1116\u001B[39m, in \u001B[36mPath.mkdir\u001B[39m\u001B[34m(self, mode, parents, exist_ok)\u001B[39m\n\u001B[32m   1115\u001B[39m \u001B[38;5;28;01mtry\u001B[39;00m:\n\u001B[32m-> \u001B[39m\u001B[32m1116\u001B[39m     os.mkdir(\u001B[38;5;28mself\u001B[39m, mode)\n\u001B[32m   1117\u001B[39m \u001B[38;5;28;01mexcept\u001B[39;00m \u001B[38;5;167;01mFileNotFoundError\u001B[39;00m:\n",
      "\u001B[31mFileNotFoundError\u001B[39m: [Errno 2] No such file or directory: '/vast/edk202/NLP_corpora'",
      "\nDuring handling of the above exception, another exception occurred:\n",
      "\u001B[31mFileNotFoundError\u001B[39m                         Traceback (most recent call last)",
      "\u001B[36mFile \u001B[39m\u001B[32m/opt/miniforge/lib/python3.11/pathlib.py:1116\u001B[39m, in \u001B[36mPath.mkdir\u001B[39m\u001B[34m(self, mode, parents, exist_ok)\u001B[39m\n\u001B[32m   1115\u001B[39m \u001B[38;5;28;01mtry\u001B[39;00m:\n\u001B[32m-> \u001B[39m\u001B[32m1116\u001B[39m     os.mkdir(\u001B[38;5;28mself\u001B[39m, mode)\n\u001B[32m   1117\u001B[39m \u001B[38;5;28;01mexcept\u001B[39;00m \u001B[38;5;167;01mFileNotFoundError\u001B[39;00m:\n",
      "\u001B[31mFileNotFoundError\u001B[39m: [Errno 2] No such file or directory: '/vast/edk202'",
      "\nDuring handling of the above exception, another exception occurred:\n",
      "\u001B[31mOSError\u001B[39m                                   Traceback (most recent call last)",
      "\u001B[36mCell\u001B[39m\u001B[36m \u001B[39m\u001B[32mIn[4]\u001B[39m\u001B[32m, line 1\u001B[39m\n\u001B[32m----> \u001B[39m\u001B[32m1\u001B[39m \u001B[43msetup_logger\u001B[49m\u001B[43m(\u001B[49m\n\u001B[32m      2\u001B[39m \u001B[43m    \u001B[49m\u001B[43mdb_path\u001B[49m\u001B[43m=\u001B[49m\u001B[33;43m\"\u001B[39;49m\u001B[33;43m/vast/edk202/NLP_corpora/Google_Books/20200217/eng/5gram_files/5grams_pivoted.db\u001B[39;49m\u001B[33;43m\"\u001B[39;49m\u001B[43m,\u001B[49m\n\u001B[32m      3\u001B[39m \u001B[43m    \u001B[49m\u001B[43mconsole\u001B[49m\u001B[43m=\u001B[49m\u001B[38;5;28;43;01mFalse\u001B[39;49;00m\u001B[43m,\u001B[49m\n\u001B[32m      4\u001B[39m \u001B[43m    \u001B[49m\u001B[43mrotate\u001B[49m\u001B[43m=\u001B[49m\u001B[38;5;28;43;01mTrue\u001B[39;49;00m\u001B[43m,\u001B[49m\n\u001B[32m      5\u001B[39m \u001B[43m    \u001B[49m\u001B[43mmax_bytes\u001B[49m\u001B[43m=\u001B[49m\u001B[32;43m100_000_000\u001B[39;49m\u001B[43m,\u001B[49m\n\u001B[32m      6\u001B[39m \u001B[43m    \u001B[49m\u001B[43mbackup_count\u001B[49m\u001B[43m=\u001B[49m\u001B[32;43m5\u001B[39;49m\u001B[43m,\u001B[49m\n\u001B[32m      7\u001B[39m \u001B[43m    \u001B[49m\u001B[43mforce\u001B[49m\u001B[43m=\u001B[49m\u001B[38;5;28;43;01mTrue\u001B[39;49;00m\n\u001B[32m      8\u001B[39m \u001B[43m)\u001B[49m\n",
      "\u001B[36mFile \u001B[39m\u001B[32m/scratch/edk202/ngram-prep/src/ngram_prep/ngram_acquire/logger.py:58\u001B[39m, in \u001B[36msetup_logger\u001B[39m\u001B[34m(db_path, level, filename_prefix, console, rotate, max_bytes, backup_count, force)\u001B[39m\n\u001B[32m     55\u001B[39m \u001B[38;5;28;01melse\u001B[39;00m:\n\u001B[32m     56\u001B[39m     log_dir = db_path.parent\n\u001B[32m---> \u001B[39m\u001B[32m58\u001B[39m \u001B[43mlog_dir\u001B[49m\u001B[43m.\u001B[49m\u001B[43mmkdir\u001B[49m\u001B[43m(\u001B[49m\u001B[43mparents\u001B[49m\u001B[43m=\u001B[49m\u001B[38;5;28;43;01mTrue\u001B[39;49;00m\u001B[43m,\u001B[49m\u001B[43m \u001B[49m\u001B[43mexist_ok\u001B[49m\u001B[43m=\u001B[49m\u001B[38;5;28;43;01mTrue\u001B[39;49;00m\u001B[43m)\u001B[49m\n\u001B[32m     60\u001B[39m \u001B[38;5;66;03m# Create timestamped log filename\u001B[39;00m\n\u001B[32m     61\u001B[39m timestamp = datetime.now().strftime(\u001B[33m\"\u001B[39m\u001B[33m%\u001B[39m\u001B[33mY\u001B[39m\u001B[33m%\u001B[39m\u001B[33mm\u001B[39m\u001B[38;5;132;01m%d\u001B[39;00m\u001B[33m_\u001B[39m\u001B[33m%\u001B[39m\u001B[33mH\u001B[39m\u001B[33m%\u001B[39m\u001B[33mM\u001B[39m\u001B[33m%\u001B[39m\u001B[33mS\u001B[39m\u001B[33m\"\u001B[39m)\n",
      "\u001B[36mFile \u001B[39m\u001B[32m/opt/miniforge/lib/python3.11/pathlib.py:1120\u001B[39m, in \u001B[36mPath.mkdir\u001B[39m\u001B[34m(self, mode, parents, exist_ok)\u001B[39m\n\u001B[32m   1118\u001B[39m     \u001B[38;5;28;01mif\u001B[39;00m \u001B[38;5;129;01mnot\u001B[39;00m parents \u001B[38;5;129;01mor\u001B[39;00m \u001B[38;5;28mself\u001B[39m.parent == \u001B[38;5;28mself\u001B[39m:\n\u001B[32m   1119\u001B[39m         \u001B[38;5;28;01mraise\u001B[39;00m\n\u001B[32m-> \u001B[39m\u001B[32m1120\u001B[39m     \u001B[38;5;28;43mself\u001B[39;49m\u001B[43m.\u001B[49m\u001B[43mparent\u001B[49m\u001B[43m.\u001B[49m\u001B[43mmkdir\u001B[49m\u001B[43m(\u001B[49m\u001B[43mparents\u001B[49m\u001B[43m=\u001B[49m\u001B[38;5;28;43;01mTrue\u001B[39;49;00m\u001B[43m,\u001B[49m\u001B[43m \u001B[49m\u001B[43mexist_ok\u001B[49m\u001B[43m=\u001B[49m\u001B[38;5;28;43;01mTrue\u001B[39;49;00m\u001B[43m)\u001B[49m\n\u001B[32m   1121\u001B[39m     \u001B[38;5;28mself\u001B[39m.mkdir(mode, parents=\u001B[38;5;28;01mFalse\u001B[39;00m, exist_ok=exist_ok)\n\u001B[32m   1122\u001B[39m \u001B[38;5;28;01mexcept\u001B[39;00m \u001B[38;5;167;01mOSError\u001B[39;00m:\n\u001B[32m   1123\u001B[39m     \u001B[38;5;66;03m# Cannot rely on checking for EEXIST, since the operating system\u001B[39;00m\n\u001B[32m   1124\u001B[39m     \u001B[38;5;66;03m# could give priority to other errors like EACCES or EROFS\u001B[39;00m\n",
      "\u001B[36mFile \u001B[39m\u001B[32m/opt/miniforge/lib/python3.11/pathlib.py:1120\u001B[39m, in \u001B[36mPath.mkdir\u001B[39m\u001B[34m(self, mode, parents, exist_ok)\u001B[39m\n\u001B[32m   1118\u001B[39m     \u001B[38;5;28;01mif\u001B[39;00m \u001B[38;5;129;01mnot\u001B[39;00m parents \u001B[38;5;129;01mor\u001B[39;00m \u001B[38;5;28mself\u001B[39m.parent == \u001B[38;5;28mself\u001B[39m:\n\u001B[32m   1119\u001B[39m         \u001B[38;5;28;01mraise\u001B[39;00m\n\u001B[32m-> \u001B[39m\u001B[32m1120\u001B[39m     \u001B[38;5;28;43mself\u001B[39;49m\u001B[43m.\u001B[49m\u001B[43mparent\u001B[49m\u001B[43m.\u001B[49m\u001B[43mmkdir\u001B[49m\u001B[43m(\u001B[49m\u001B[43mparents\u001B[49m\u001B[43m=\u001B[49m\u001B[38;5;28;43;01mTrue\u001B[39;49;00m\u001B[43m,\u001B[49m\u001B[43m \u001B[49m\u001B[43mexist_ok\u001B[49m\u001B[43m=\u001B[49m\u001B[38;5;28;43;01mTrue\u001B[39;49;00m\u001B[43m)\u001B[49m\n\u001B[32m   1121\u001B[39m     \u001B[38;5;28mself\u001B[39m.mkdir(mode, parents=\u001B[38;5;28;01mFalse\u001B[39;00m, exist_ok=exist_ok)\n\u001B[32m   1122\u001B[39m \u001B[38;5;28;01mexcept\u001B[39;00m \u001B[38;5;167;01mOSError\u001B[39;00m:\n\u001B[32m   1123\u001B[39m     \u001B[38;5;66;03m# Cannot rely on checking for EEXIST, since the operating system\u001B[39;00m\n\u001B[32m   1124\u001B[39m     \u001B[38;5;66;03m# could give priority to other errors like EACCES or EROFS\u001B[39;00m\n",
      "    \u001B[31m[... skipping similar frames: Path.mkdir at line 1120 (3 times)]\u001B[39m\n",
      "\u001B[36mFile \u001B[39m\u001B[32m/opt/miniforge/lib/python3.11/pathlib.py:1120\u001B[39m, in \u001B[36mPath.mkdir\u001B[39m\u001B[34m(self, mode, parents, exist_ok)\u001B[39m\n\u001B[32m   1118\u001B[39m     \u001B[38;5;28;01mif\u001B[39;00m \u001B[38;5;129;01mnot\u001B[39;00m parents \u001B[38;5;129;01mor\u001B[39;00m \u001B[38;5;28mself\u001B[39m.parent == \u001B[38;5;28mself\u001B[39m:\n\u001B[32m   1119\u001B[39m         \u001B[38;5;28;01mraise\u001B[39;00m\n\u001B[32m-> \u001B[39m\u001B[32m1120\u001B[39m     \u001B[38;5;28;43mself\u001B[39;49m\u001B[43m.\u001B[49m\u001B[43mparent\u001B[49m\u001B[43m.\u001B[49m\u001B[43mmkdir\u001B[49m\u001B[43m(\u001B[49m\u001B[43mparents\u001B[49m\u001B[43m=\u001B[49m\u001B[38;5;28;43;01mTrue\u001B[39;49;00m\u001B[43m,\u001B[49m\u001B[43m \u001B[49m\u001B[43mexist_ok\u001B[49m\u001B[43m=\u001B[49m\u001B[38;5;28;43;01mTrue\u001B[39;49;00m\u001B[43m)\u001B[49m\n\u001B[32m   1121\u001B[39m     \u001B[38;5;28mself\u001B[39m.mkdir(mode, parents=\u001B[38;5;28;01mFalse\u001B[39;00m, exist_ok=exist_ok)\n\u001B[32m   1122\u001B[39m \u001B[38;5;28;01mexcept\u001B[39;00m \u001B[38;5;167;01mOSError\u001B[39;00m:\n\u001B[32m   1123\u001B[39m     \u001B[38;5;66;03m# Cannot rely on checking for EEXIST, since the operating system\u001B[39;00m\n\u001B[32m   1124\u001B[39m     \u001B[38;5;66;03m# could give priority to other errors like EACCES or EROFS\u001B[39;00m\n",
      "\u001B[36mFile \u001B[39m\u001B[32m/opt/miniforge/lib/python3.11/pathlib.py:1116\u001B[39m, in \u001B[36mPath.mkdir\u001B[39m\u001B[34m(self, mode, parents, exist_ok)\u001B[39m\n\u001B[32m   1112\u001B[39m \u001B[38;5;250m\u001B[39m\u001B[33;03m\"\"\"\u001B[39;00m\n\u001B[32m   1113\u001B[39m \u001B[33;03mCreate a new directory at this given path.\u001B[39;00m\n\u001B[32m   1114\u001B[39m \u001B[33;03m\"\"\"\u001B[39;00m\n\u001B[32m   1115\u001B[39m \u001B[38;5;28;01mtry\u001B[39;00m:\n\u001B[32m-> \u001B[39m\u001B[32m1116\u001B[39m     os.mkdir(\u001B[38;5;28mself\u001B[39m, mode)\n\u001B[32m   1117\u001B[39m \u001B[38;5;28;01mexcept\u001B[39;00m \u001B[38;5;167;01mFileNotFoundError\u001B[39;00m:\n\u001B[32m   1118\u001B[39m     \u001B[38;5;28;01mif\u001B[39;00m \u001B[38;5;129;01mnot\u001B[39;00m parents \u001B[38;5;129;01mor\u001B[39;00m \u001B[38;5;28mself\u001B[39m.parent == \u001B[38;5;28mself\u001B[39m:\n",
      "\u001B[31mOSError\u001B[39m: [Errno 30] Read-only file system: '/vast'"
     ]
    }
   ],
   "execution_count": 4
  },
  {
   "metadata": {},
   "cell_type": "markdown",
   "source": "# **Pivot Multigrams to Create Yearly Indices**",
   "id": "3c54b7932d2716a8"
  },
  {
   "metadata": {
    "jupyter": {
     "is_executing": true
    },
    "ExecuteTime": {
     "end_time": "2025-10-24T21:00:12.533810430Z",
     "start_time": "2025-10-24T20:55:32.320644Z"
    }
   },
   "cell_type": "code",
   "source": [
    "pipeline_cfg = PipelineConfig(\n",
    "    src_db=Path(\"/scratch/edk202/NLP_corpora/Google_Books/20200217/eng/1gram_files/1grams_processed.db\"),\n",
    "    dst_db=Path(\"/scratch/edk202/NLP_corpora/Google_Books/20200217/eng/1gram_files/1grams_pivoted.db\"),\n",
    "    tmp_dir=Path(\"/scratch/edk202/NLP_corpora/Google_Books/20200217/eng/1gram_files/pivot_tmp\"),\n",
    "    num_workers=40,\n",
    "    num_initial_work_units=80,\n",
    "    max_split_depth=50,\n",
    "    work_unit_claim_order=\"sequential\",\n",
    "    split_check_interval_s=45.0,\n",
    "    progress_every_s=15.0,\n",
    "    mode=\"restart\",\n",
    "    ingest_batch_items=1_00_000,\n",
    "    max_items_per_bucket=10_000_000,\n",
    "    max_bytes_per_bucket=256 * 1024 * 1024\n",
    ")\n",
    "\n",
    "run_pivot_pipeline(pipeline_cfg)"
   ],
   "id": "84069a99800e8422",
   "outputs": [
    {
     "name": "stdout",
     "output_type": "stream",
     "text": [
      "\n",
      "PARALLEL N-GRAM DATABASE PIVOT\n",
      "━━━━━━━━━━━━━━━━━━━━━━━━━━━━━━━━━━━━━━━━━━━━━━━━━━━━━━━━━━━━━━━━━━━━━━━━━━━━━━━━━━━━━━━━━━━━━━━━━━━━\n",
      "Start Time: 2025-10-24 16:55:33\n",
      "Mode:       RESTART\n",
      "\n",
      "Configuration\n",
      "════════════════════════════════════════════════════════════════════════════════════════════════════\n",
      "Source DB:            ...dk202/NLP_corpora/Google_Books/20200217/eng/1gram_files/1grams_processed.db\n",
      "Target DB:            .../edk202/NLP_corpora/Google_Books/20200217/eng/1gram_files/1grams_pivoted.db\n",
      "Temp directory:       /scratch/edk202/NLP_corpora/Google_Books/20200217/eng/1gram_files/pivot_tmp\n",
      "\n",
      "Parallelism\n",
      "────────────────────────────────────────────────────────────────────────────────────────────────────\n",
      "Workers:              40\n",
      "Initial work units:   80\n",
      "Max split depth:      50\n",
      "Split check interval: 45.0s\n",
      "\n",
      "Database Profiles\n",
      "────────────────────────────────────────────────────────────────────────────────────────────────────\n",
      "Reader profile:       read:packed24\n",
      "Writer profile:       write:packed24\n",
      "Ingest profile:       write:packed24\n",
      "\n",
      "Buffer Configuration\n",
      "────────────────────────────────────────────────────────────────────────────────────────────────────\n",
      "Worker buffer size:   10,000,000 items\n",
      "Worker buffer bytes:  256.00 MB\n",
      "Ingest batch size:    100,000 items\n",
      "\n",
      "\n",
      "Phase 1: Creating work units...\n",
      "════════════════════════════════════════════════════════════════════════════════════════════════════\n",
      "Clean restart - creating new work units\n",
      "Created 80 uniform work units (byte-range partitioning)\n",
      "Dynamic splitting will handle load balancing at runtime\n",
      "\n",
      "Phase 2: Processing 80 work units with 40 workers...\n",
      "════════════════════════════════════════════════════════════════════════════════════════════════════\n",
      "\n",
      "     ngrams           exp            units           splits           rate          elapsed     \n",
      "────────────────────────────────────────────────────────────────────────────────────────────────\n",
      "Worker 25 failed to claim work unit: [Errno 16] Device or resource busy: '.nfs2e03ee7e48e0c94000000fee'\n",
      "Worker 37 failed to claim work unit: [Errno 16] Device or resource busy: '.nfsc8f681ef4d8bcf1600000ff3'\n",
      "     33.39K          67.0x        0·23·0·1·79          23            2.2k/s           15s       \n",
      "    291.31K          65.2x        0·20·0·3·80          23            9.7k/s           30s       \n",
      "    291.31K          65.2x        0·20·0·2·81          23            6.4k/s           45s       \n",
      "Worker 4 failed to claim work unit: [Errno 16] Device or resource busy: '.nfs5b9bc50e9b4968e100000fe8'\n",
      "Worker 13 failed to claim work unit: [Errno 16] Device or resource busy: '.nfsd7bfcd5934c2b1c000000fe9'\n",
      "Worker 36 failed to claim work unit: [Errno 16] Device or resource busy: '.nfs2e28967a7d61bbb800000ff1'\n",
      "    291.31K          65.2x        0·20·5·7·85          27            4.8k/s          1m00s      \n",
      "Worker 19 failed to claim work unit: [Errno 16] Device or resource busy: '.nfs5ecc1a1e7fd9095c00000ff2'\n",
      "Worker 26 failed to claim work unit: [Errno 16] Device or resource busy: '.nfs8ee50adc86394de500000feb'\n",
      "Worker 9 failed to claim work unit: [Errno 16] Device or resource busy: '.nfs978864e2dd88a4d200000fec'\n",
      "Worker 32 failed to claim work unit: [Errno 16] Device or resource busy: '.nfsc71efe09c0d321c700000fea'\n",
      "Worker 30 failed to claim work unit: [Errno 16] Device or resource busy: '.nfs963a7b19203a4bef00000ff4'\n",
      "Worker 17 failed to claim work unit: [Errno 16] Device or resource busy: '.nfsae8bd5ae7402853e00000fe5'\n",
      "Worker 26 failed to claim work unit: [Errno 16] Device or resource busy: '.nfsfad606c58e42cbb600000fe6'\n",
      "Worker 9 failed to claim work unit: [Errno 16] Device or resource busy: '.nfs08dff0076055afe000000ff0'\n",
      "     4.72M           72.4x        0·22·0·11·98         33           62.9k/s          1m15s      \n",
      "     5.01M           72.1x        0·22·0·7·102         33           55.6k/s          1m30s      \n",
      "     5.01M           72.1x        0·22·0·7·102         33           47.6k/s          1m45s      \n",
      "     5.95M           72.4x       0·20·1·11·108         37           49.5k/s          2m00s      \n",
      "     7.02M           72.5x       0·18·0·13·116         42           51.9k/s          2m15s      \n",
      "     7.28M           72.6x       0·17·0·12·119         43           48.5k/s          2m30s      \n",
      "     7.28M           72.6x       1·16·1·12·119         43           44.1k/s          2m45s      \n",
      "     7.54M           72.6x       0·19·0·12·124         47           41.8k/s          3m00s      \n",
      "     8.45M           72.2x       0·16·0·15·125         48           43.3k/s          3m15s      \n",
      "     8.45M           72.2x       0·16·0·15·125         48           40.2k/s          3m30s      \n",
      "     8.62M           72.2x       0·15·0·15·126         48           38.3k/s          3m45s      \n",
      "     9.14M           72.1x       0·14·0·17·128         50           38.0k/s          4m00s      \n",
      "     9.14M           72.1x       0·14·0·17·128         50           35.8k/s          4m15s      \n",
      "     9.30M           72.1x       0·13·0·18·128         50           34.4k/s          4m30s      \n"
     ]
    }
   ],
   "execution_count": null
  },
  {
   "metadata": {},
   "cell_type": "markdown",
   "source": [
    "# **Inspect the Procesed Database**\n",
    "## `db_head`: Print the first _N_ key–value pairs"
   ],
   "id": "b916bcb8f52efc4e"
  },
  {
   "metadata": {},
   "cell_type": "code",
   "source": [
    "db_path = \"/vast/edk202/NLP_corpora/Google_Books/20200217/eng/5gram_files/5grams_processed.db\"\n",
    "\n",
    "db_head(db_path, key_format=\"utf-8\", value_format=\"packed\", n=5)"
   ],
   "id": "602ef9dec8103212",
   "outputs": [],
   "execution_count": null
  },
  {
   "metadata": {},
   "cell_type": "markdown",
   "source": "## `db_peek`: Print _N_ key-value pairs starting at the specified key",
   "id": "a5cd2b4c5b2bef6c"
  },
  {
   "metadata": {},
   "cell_type": "code",
   "source": [
    "db_path = \"/vast/edk202/NLP_corpora/Google_Books/20200217/eng/5gram_files/5grams_processed.db\"\n",
    "\n",
    "db_peek(db_path, start_key=b\"quick brown <UNK> <UNK> <UNK>\", key_format=\"utf-8\", value_format=\"packed\", n=5)\n"
   ],
   "id": "4ae0c4f82ae61dbd",
   "outputs": [],
   "execution_count": null
  },
  {
   "metadata": {},
   "cell_type": "markdown",
   "source": "## `db_peek_prefix`: Print key-value pairs containing the specified prefix",
   "id": "f0261bc901193643"
  },
  {
   "metadata": {},
   "cell_type": "code",
   "source": [
    "db_path = \"/vast/edk202/NLP_corpora/Google_Books/20200217/eng/5gram_files/5grams_processed.db\"\n",
    "\n",
    "db_peek_prefix(db_path, prefix=b\"<UNK> united state <UNK> <UNK>\", key_format=\"utf-8\", value_format=\"summary\", n=1)"
   ],
   "id": "b04a9e9cf0cc209f",
   "outputs": [],
   "execution_count": null
  },
  {
   "metadata": {},
   "cell_type": "code",
   "source": "",
   "id": "35abdd0e1baea1b1",
   "outputs": [],
   "execution_count": null
  }
 ],
 "metadata": {
  "kernelspec": {
   "display_name": "Python 3 (ipykernel)",
   "language": "python",
   "name": "python3"
  },
  "language_info": {
   "codemirror_mode": {
    "name": "ipython",
    "version": 3
   },
   "file_extension": ".py",
   "mimetype": "text/x-python",
   "name": "python",
   "nbconvert_exporter": "python",
   "pygments_lexer": "ipython3",
   "version": "3.11.13"
  }
 },
 "nbformat": 4,
 "nbformat_minor": 5
}
