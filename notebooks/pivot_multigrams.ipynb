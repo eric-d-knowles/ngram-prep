{
 "cells": [
  {
   "metadata": {},
   "cell_type": "markdown",
   "source": [
    "# **Setup**\n",
    "## Imports"
   ],
   "id": "ed15de79ff6600a1"
  },
  {
   "metadata": {
    "ExecuteTime": {
     "end_time": "2025-10-15T21:28:12.686554Z",
     "start_time": "2025-10-15T21:28:12.462883Z"
    }
   },
   "cell_type": "code",
   "source": "# Auto-reload edited scripts\n%load_ext autoreload\n%autoreload 2\n\n# Logging\nfrom ngram_prep.ngram_acquire.logger import setup_logger\n\n# Ngram pivot functions\nfrom pathlib import Path\nfrom ngram_prep.ngram_pivot.config import PipelineConfig\nfrom ngram_prep.ngram_pivot.pipeline import run_pivot_pipeline\n\n# Utilities\nfrom ngram_prep.utilities.peek import *",
   "id": "ce854c30d3ed2553",
   "outputs": [],
   "execution_count": 1
  },
  {
   "metadata": {},
   "cell_type": "markdown",
   "source": "## Set up logging to file",
   "id": "9dcc445498bb0c6a"
  },
  {
   "metadata": {
    "ExecuteTime": {
     "end_time": "2025-10-15T21:28:12.756918Z",
     "start_time": "2025-10-15T21:28:12.691421Z"
    }
   },
   "cell_type": "code",
   "source": [
    "setup_logger(\n",
    "    db_path=\"/vast/edk202/NLP_corpora/Google_Books/20200217/eng/5gram_files/5grams_pivoted.db\",\n",
    "    console=False,\n",
    "    rotate=True,\n",
    "    max_bytes=100_000_000,\n",
    "    backup_count=5,\n",
    "    force=True\n",
    ")"
   ],
   "id": "12e3d73b8a010aa3",
   "outputs": [
    {
     "data": {
      "text/plain": [
       "PosixPath('/vast/edk202/NLP_corpora/Google_Books/20200217/eng/5gram_files/5grams_pivoted.db/ngram_download_20251015_172812.log')"
      ]
     },
     "execution_count": 2,
     "metadata": {},
     "output_type": "execute_result"
    }
   ],
   "execution_count": 2
  },
  {
   "metadata": {},
   "cell_type": "markdown",
   "source": "# **Pivot Multigrams to Create Yearly Indices**",
   "id": "3c54b7932d2716a8"
  },
  {
   "metadata": {
    "jupyter": {
     "is_executing": true
    },
    "ExecuteTime": {
     "start_time": "2025-10-15T21:28:15.886829Z"
    }
   },
   "cell_type": "code",
   "source": [
    "pipeline_cfg = PipelineConfig(\n",
    "    src_db=Path(\"/vast/edk202/NLP_corpora/Google_Books/20200217/eng/5gram_files/5grams_processed.db\"),\n",
    "    dst_db=Path(\"/vast/edk202/NLP_corpora/Google_Books/20200217/eng/5gram_files/5grams_pivoted.db\"),\n",
    "    tmp_dir=Path(\"/vast/edk202/NLP_corpora/Google_Books/20200217/eng/5gram_files/pivot_tmp\"),\n",
    "    num_workers=30,\n",
    "    num_initial_work_units=30,\n",
    "    max_split_depth=15,\n",
    "    split_check_interval_s=30.0,\n",
    "    progress_every_s=30.0,\n",
    "    mode=\"restart\",\n",
    "    max_items_per_bucket=100_000,\n",
    "    max_bytes_per_bucket=128 * 1024 * 1024\n",
    ")\n",
    "\n",
    "run_pivot_pipeline(pipeline_cfg)"
   ],
   "id": "43b7bbb5c1414fd3",
   "outputs": [
    {
     "name": "stdout",
     "output_type": "stream",
     "text": [
      "\n",
      "PARALLEL N-GRAM DATABASE PIVOT\n",
      "━━━━━━━━━━━━━━━━━━━━━━━━━━━━━━━━━━━━━━━━━━━━━━━━━━━━━━━━━━━━━━━━━━━━━━━━━━━━━━━━━━━━━━━━━━━━━━━━━━━━\n",
      "Start Time: 2025-10-15 17:28:17\n",
      "Mode:       RESTART\n",
      "\n",
      "Configuration\n",
      "════════════════════════════════════════════════════════════════════════════════════════════════════\n",
      "Source DB:            ...dk202/NLP_corpora/Google_Books/20200217/eng/5gram_files/5grams_processed.db\n",
      "Target DB:            .../edk202/NLP_corpora/Google_Books/20200217/eng/5gram_files/5grams_pivoted.db\n",
      "Temp directory:       /vast/edk202/NLP_corpora/Google_Books/20200217/eng/5gram_files/pivot_tmp\n",
      "\n",
      "Parallelism\n",
      "────────────────────────────────────────────────────────────────────────────────────────────────────\n",
      "Workers:              30\n",
      "Initial work units:   30\n",
      "Max split depth:      15\n",
      "Split check interval: 30.0s\n",
      "\n",
      "Database Profiles\n",
      "────────────────────────────────────────────────────────────────────────────────────────────────────\n",
      "Reader profile:       read:packed24\n",
      "Writer profile:       write:packed24\n",
      "Ingest profile:       write:packed24\n",
      "\n",
      "Buffer Configuration\n",
      "────────────────────────────────────────────────────────────────────────────────────────────────────\n",
      "Worker buffer size:   100,000 items\n",
      "Worker buffer bytes:  128.00 MB\n",
      "Ingest batch size:    200,000 items\n",
      "\n",
      "\n",
      "Phase 1: Creating work units...\n",
      "════════════════════════════════════════════════════════════════════════════════════════════════════\n",
      "Clean restart - creating new work units\n",
      "Created 30 uniform work units (byte-range partitioning)\n",
      "Dynamic splitting will handle load balancing at runtime\n",
      "\n",
      "Phase 2: Processing 30 work units with 30 workers...\n",
      "════════════════════════════════════════════════════════════════════════════════════════════════════\n",
      "\n",
      "    ngrams         exp         workers        units         splits         rate        elapsed    \n",
      "──────────────────────────────────────────────────────────────────────────────────────────────────\n",
      "      0            0.0x      15/30 (15i)      0p·1w           15           0/s           31s      \n",
      "   450.98K        43.2x       29/30 (1i)      4p·3w           40          7.4k/s        1m00s     \n",
      "    1.22M         42.2x       25/30 (5i)      11p·4w          57         13.4k/s        1m30s     \n",
      "    1.57M         42.9x         30/30         12p·3w          79         13.0k/s        2m00s     \n",
      "    1.99M         42.5x       27/30 (3i)      16p·4w          95         13.2k/s        2m30s     \n",
      "    2.30M         41.9x      18/30 (12i)      40p·1w         109         12.7k/s        3m00s     \n",
      "    2.44M         42.0x      13/30 (17i)      47p·1w         115         11.6k/s        3m30s     \n",
      "    2.71M         41.5x      14/30 (16i)      51p·1w         121         11.3k/s        4m00s     \n",
      "    3.19M         41.3x      14/30 (16i)      53p·1w         129         11.8k/s        4m30s     \n",
      "    3.55M         42.1x      16/30 (14i)      58p·1w         136         11.8k/s        5m00s     \n",
      "    4.94M         42.5x      16/30 (14i)      62p·1w         146         14.9k/s        5m30s     \n",
      "    6.51M         42.9x      17/30 (13i)      63p·1w         155         18.0k/s        6m00s     \n",
      "    7.65M         42.7x      18/30 (12i)      63p·1w         163         19.6k/s        6m30s     \n",
      "    8.02M         42.5x      14/30 (16i)      66p·0w         168         19.0k/s        7m00s     \n",
      "    8.91M         42.7x      16/30 (14i)      62p·1w         175         19.8k/s        7m30s     \n",
      "    9.40M         42.8x      15/30 (15i)      67p·2w         179         19.6k/s        8m00s     \n",
      "    9.97M         42.5x      17/30 (13i)      65p·2w         183         19.5k/s        8m30s     \n",
      "    10.44M        42.2x      14/30 (16i)      66p·4w         185         19.3k/s        9m00s     \n",
      "    11.15M        42.3x      18/30 (12i)      65p·7w         186         19.5k/s        9m30s     \n",
      "    11.92M        42.5x      18/30 (12i)     63p·10w         187         19.8k/s        10m00s    \n",
      "    12.31M        42.4x      19/30 (11i)     62p·10w         189         19.5k/s        10m30s    \n",
      "    12.82M        42.3x      20/30 (10i)     62p·11w         191         19.4k/s        11m00s    \n",
      "    12.93M        42.5x       21/30 (9i)     60p·11w         192         18.7k/s        11m30s    \n",
      "    12.99M        42.5x      20/30 (10i)     62p·11w         193         18.0k/s        12m00s    \n",
      "    13.13M        42.6x      20/30 (10i)     61p·12w         193         17.5k/s        12m30s    \n",
      "    13.13M        42.6x      20/30 (10i)     61p·12w         194         16.8k/s        13m00s    \n",
      "    13.49M        42.7x       22/30 (8i)     59p·13w         195         16.6k/s        13m30s    \n",
      "    13.63M        42.8x       22/30 (8i)     60p·13w         196         16.2k/s        14m00s    \n",
      "    13.83M        42.9x       23/30 (7i)     60p·13w         197         15.9k/s        14m30s    \n",
      "    14.23M        42.8x       24/30 (6i)     59p·14w         199         15.8k/s        15m00s    \n",
      "    14.43M        42.8x       25/30 (5i)     58p·13w         200         15.5k/s        15m30s    \n",
      "    14.67M        42.9x       22/30 (8i)     60p·13w         202         15.3k/s        16m00s    \n",
      "    14.88M        42.8x       23/30 (7i)     61p·13w         203         15.0k/s        16m30s    \n",
      "    15.91M        42.8x       23/30 (7i)     60p·14w         204         15.6k/s        17m01s    \n",
      "    15.91M        42.8x       23/30 (7i)     61p·14w         205         15.1k/s        17m30s    \n",
      "    16.84M        42.5x       22/30 (8i)     62p·14w         206         15.6k/s        18m00s    \n",
      "    17.32M        42.5x       22/30 (8i)     61p·14w         208         15.6k/s        18m30s    \n",
      "    17.82M        42.5x       22/30 (8i)     60p·15w         209         15.6k/s        19m00s    \n",
      "    19.03M        42.5x       23/30 (7i)     58p·15w         213         16.3k/s        19m30s    \n",
      "    19.45M        42.5x       24/30 (6i)     58p·16w         214         16.2k/s        20m00s    \n",
      "    19.45M        42.5x       24/30 (6i)     59p·16w         215         15.8k/s        20m30s    \n",
      "    19.63M        42.5x       23/30 (7i)     57p·18w         215         15.6k/s        21m00s    \n",
      "    21.36M        42.4x       23/30 (7i)     57p·18w         216         16.5k/s        21m30s    \n",
      "    21.93M        42.5x       24/30 (6i)     58p·18w         219         16.6k/s        22m00s    \n",
      "    24.36M        42.6x       25/30 (5i)     56p·20w         220         18.0k/s        22m30s    \n",
      "    24.61M        42.6x       26/30 (4i)     57p·18w         223         17.8k/s        23m00s    \n",
      "    25.04M        42.6x       26/30 (4i)     56p·19w         224         17.7k/s        23m30s    \n",
      "    25.46M        42.6x       26/30 (4i)     57p·19w         226         17.7k/s        24m00s    \n",
      "    25.92M        42.5x       26/30 (4i)     56p·20w         227         17.6k/s        24m30s    \n",
      "    26.12M        42.6x       26/30 (4i)     56p·21w         228         17.4k/s        25m00s    \n",
      "    26.13M        42.6x       26/30 (4i)     54p·22w         229         17.1k/s        25m30s    \n",
      "    26.70M        42.5x       26/30 (4i)     54p·22w         230         17.1k/s        26m01s    \n",
      "    26.91M        42.5x       26/30 (4i)     55p·22w         231         16.9k/s        26m30s    \n",
      "    27.00M        42.4x       26/30 (4i)     55p·22w         232         16.7k/s        27m00s    \n",
      "    27.00M        42.4x       26/30 (4i)     53p·22w         233         16.4k/s        27m30s    \n",
      "    27.22M        42.5x       26/30 (4i)     52p·23w         234         16.2k/s        28m00s    \n",
      "    27.42M        42.5x       27/30 (3i)     52p·22w         236         16.0k/s        28m30s    \n",
      "    27.54M        42.5x       27/30 (3i)     53p·22w         237         15.8k/s        29m00s    \n",
      "    27.54M        42.5x       27/30 (3i)     54p·22w         238         15.5k/s        29m30s    \n",
      "    27.82M        42.5x       27/30 (3i)     51p·22w         240         15.4k/s        30m00s    \n",
      "    27.82M        42.5x       27/30 (3i)     52p·22w         241         15.2k/s        30m30s    \n",
      "    28.04M        42.5x       27/30 (3i)     51p·22w         243         15.1k/s        31m00s    \n",
      "    28.27M        42.5x       27/30 (3i)     52p·22w         245         14.9k/s        31m30s    \n",
      "    28.51M        42.5x       28/30 (2i)     53p·22w         247         14.8k/s        32m00s    \n",
      "    28.66M        42.5x       27/30 (3i)     53p·22w         248         14.7k/s        32m30s    \n",
      "    28.88M        42.4x       28/30 (2i)     53p·23w         248         14.6k/s        33m00s    \n",
      "    29.00M        42.4x       28/30 (2i)     53p·23w         249         14.4k/s        33m30s    \n",
      "    29.00M        42.4x       28/30 (2i)     53p·24w         249         14.2k/s        34m00s    \n",
      "    29.26M        42.4x       29/30 (1i)     52p·24w         250         14.1k/s        34m30s    \n",
      "    29.45M        42.4x       29/30 (1i)     51p·24w         251         14.0k/s        35m00s    \n",
      "    30.16M        42.4x       29/30 (1i)     51p·24w         252         14.2k/s        35m30s    \n",
      "    30.16M        42.4x       29/30 (1i)     52p·24w         252         14.0k/s        36m00s    \n",
      "    30.16M        42.4x       29/30 (1i)     52p·24w         252         13.8k/s        36m30s    \n",
      "    30.35M        42.4x       28/30 (2i)     52p·23w         253         13.7k/s        37m00s    \n",
      "    30.79M        42.3x       28/30 (2i)     51p·22w         255         13.7k/s        37m30s    \n",
      "    30.79M        42.3x       28/30 (2i)     52p·22w         255         13.5k/s        38m00s    \n",
      "    30.79M        42.3x       28/30 (2i)     52p·22w         255         13.3k/s        38m30s    \n",
      "    30.79M        42.3x       28/30 (2i)     52p·22w         255         13.2k/s        39m00s    \n",
      "    30.99M        42.3x       28/30 (2i)     52p·21w         256         13.1k/s        39m30s    \n",
      "    31.65M        42.3x       28/30 (2i)     50p·20w         257         13.2k/s        40m00s    \n",
      "    31.79M        42.3x       28/30 (2i)     49p·20w         258         13.1k/s        40m30s    \n",
      "    31.79M        42.3x       28/30 (2i)     49p·19w         259         12.9k/s        41m00s    \n",
      "    31.85M        42.3x       28/30 (2i)     49p·19w         260         12.8k/s        41m30s    \n",
      "    31.85M        42.3x       28/30 (2i)     48p·19w         261         12.6k/s        42m00s    \n",
      "    31.85M        42.3x       28/30 (2i)     48p·19w         261         12.5k/s        42m30s    \n",
      "    32.08M        42.3x       28/30 (2i)     47p·18w         262         12.4k/s        43m00s    \n",
      "    32.09M        42.3x       28/30 (2i)     48p·17w         263         12.3k/s        43m30s    \n",
      "    32.32M        42.3x       28/30 (2i)     49p·17w         264         12.2k/s        44m00s    \n",
      "    32.54M        42.3x       28/30 (2i)     49p·17w         265         12.2k/s        44m30s    \n",
      "    33.18M        42.3x       28/30 (2i)     49p·16w         268         12.3k/s        45m00s    \n",
      "    33.39M        42.3x       28/30 (2i)     49p·16w         269         12.2k/s        45m30s    \n",
      "    33.39M        42.3x       28/30 (2i)     50p·16w         269         12.1k/s        46m00s    \n",
      "    33.39M        42.3x       28/30 (2i)     50p·16w         269         12.0k/s        46m30s    \n",
      "    33.39M        42.3x       28/30 (2i)     50p·16w         269         11.8k/s        47m00s    \n",
      "    33.39M        42.3x       28/30 (2i)     50p·16w         269         11.7k/s        47m30s    \n",
      "    33.39M        42.3x       28/30 (2i)     50p·16w         269         11.6k/s        48m00s    \n",
      "    33.39M        42.3x       28/30 (2i)     50p·16w         269         11.5k/s        48m30s    \n",
      "    33.83M        42.3x       27/30 (3i)     50p·15w         271         11.5k/s        49m00s    \n",
      "    34.01M        42.3x       27/30 (3i)     51p·15w         272         11.4k/s        49m31s    \n",
      "    34.45M        42.3x       27/30 (3i)     50p·14w         274         11.5k/s        50m00s    \n",
      "    34.65M        42.4x       26/30 (4i)     50p·15w         274         11.4k/s        50m30s    \n",
      "    34.65M        42.4x       26/30 (4i)     51p·15w         274         11.3k/s        51m00s    \n",
      "    34.65M        42.4x       26/30 (4i)     51p·15w         274         11.2k/s        51m30s    \n",
      "    34.65M        42.4x       26/30 (4i)     51p·15w         274         11.1k/s        52m00s    \n",
      "    34.65M        42.4x       26/30 (4i)     51p·15w         274         11.0k/s        52m30s    \n",
      "    34.65M        42.4x       26/30 (4i)     51p·15w         274         10.9k/s        53m00s    \n",
      "    34.65M        42.4x       26/30 (4i)     51p·15w         274         10.8k/s        53m30s    \n",
      "    34.65M        42.4x       26/30 (4i)     51p·15w         274         10.7k/s        54m00s    \n",
      "    34.65M        42.4x       26/30 (4i)     51p·15w         274         10.6k/s        54m31s    \n",
      "    34.65M        42.4x       26/30 (4i)     51p·15w         274         10.5k/s        55m00s    \n",
      "    35.34M        42.3x       26/30 (4i)     51p·14w         275         10.6k/s        55m30s    \n",
      "    35.49M        42.3x       26/30 (4i)     50p·15w         275         10.6k/s        56m00s    \n",
      "    35.75M        42.2x       27/30 (3i)     49p·16w         275         10.5k/s        56m30s    \n",
      "    35.97M        42.2x       27/30 (3i)     47p·16w         276         10.5k/s        57m00s    \n",
      "    36.92M        42.2x       27/30 (3i)     47p·16w         277         10.7k/s        57m30s    \n",
      "    37.92M        42.3x       27/30 (3i)     47p·16w         278         10.9k/s        58m00s    \n",
      "    38.12M        42.3x       27/30 (3i)     46p·17w         279         10.9k/s        58m30s    \n",
      "    38.45M        42.3x       27/30 (3i)     47p·16w         281         10.9k/s        59m00s    \n",
      "    38.45M        42.3x       27/30 (3i)     49p·15w         284         10.8k/s        59m30s    \n",
      "    38.45M        42.3x       27/30 (3i)     51p·15w         284         10.7k/s        1h00m     \n",
      "    38.45M        42.3x       27/30 (3i)     51p·14w         285         10.6k/s        1h00m     \n",
      "    38.67M        42.3x       27/30 (3i)     49p·15w         287         10.6k/s        1h01m     \n",
      "    38.86M        42.3x       26/30 (4i)     50p·15w         288         10.5k/s        1h01m     \n",
      "    39.10M        42.3x       26/30 (4i)     50p·15w         291         10.5k/s        1h02m     \n",
      "    39.31M        42.3x       26/30 (4i)     51p·14w         292         10.5k/s        1h02m     \n"
     ]
    }
   ],
   "execution_count": null
  },
  {
   "metadata": {},
   "cell_type": "markdown",
   "source": [
    "# **Inspect the Procesed Database**\n",
    "## `db_head`: Print the first _N_ key–value pairs"
   ],
   "id": "b916bcb8f52efc4e"
  },
  {
   "metadata": {
    "ExecuteTime": {
     "end_time": "2025-10-07T15:44:54.857648Z",
     "start_time": "2025-10-07T15:44:50.387247Z"
    }
   },
   "cell_type": "code",
   "source": [
    "db_path = \"/vast/edk202/NLP_corpora/Google_Books/20200217/eng/5gram_files/5grams_processed.db\"\n",
    "\n",
    "db_head(db_path, key_format=\"utf-8\", value_format=\"packed\", n=5)"
   ],
   "id": "602ef9dec8103212",
   "outputs": [
    {
     "name": "stdout",
     "output_type": "stream",
     "text": [
      "First 5 key-value pairs:\n",
      "────────────────────────────────────────────────────────────────────────────────────────────────────\n",
      "[ 1] Key:   <UNK> <UNK> <UNK> <UNK> aaa\n",
      "     Value: [166 records] ... +156 earlier, (2010, 471, 403), (2011, 413, 327), (2012, 362, 299)\n",
      "            (2013, 267, 224), (2014, 309, 256), (2015, 220, 190), (2016, 232, 204)\n",
      "            (2017, 194, 184), (2018, 132, 107), (2019, 139, 115)\n",
      "\n",
      "[ 2] Key:   <UNK> <UNK> <UNK> <UNK> aac\n",
      "     Value: [122 records] ... +112 earlier, (2010, 124, 103), (2011, 131, 97), (2012, 138, 114)\n",
      "            (2013, 178, 87), (2014, 176, 134), (2015, 58, 53), (2016, 96, 86), (2017, 121, 74)\n",
      "            (2018, 115, 74), (2019, 29, 27)\n",
      "\n",
      "[ 3] Key:   <UNK> <UNK> <UNK> <UNK> aachen\n",
      "     Value: [143 records] ... +133 earlier, (2010, 216, 152), (2011, 235, 173), (2012, 1900, 1363)\n",
      "            (2013, 1181, 944), (2014, 223, 169), (2015, 132, 120), (2016, 207, 162)\n",
      "            (2017, 257, 141), (2018, 192, 140), (2019, 144, 121)\n",
      "\n",
      "[ 4] Key:   <UNK> <UNK> <UNK> <UNK> aad\n",
      "     Value: [49 records] ... +39 earlier, (2010, 16, 15), (2011, 32, 21), (2012, 49, 41), (2013, 36, 32)\n",
      "            (2014, 27, 21), (2015, 16, 15), (2016, 20, 17), (2017, 27, 24), (2018, 41, 28)\n",
      "            (2019, 24, 21)\n",
      "\n",
      "[ 5] Key:   <UNK> <UNK> <UNK> <UNK> aaf\n",
      "     Value: [84 records] ... +74 earlier, (2010, 45, 37), (2011, 57, 45), (2012, 629, 319), (2013, 291, 181)\n",
      "            (2014, 61, 57), (2015, 49, 45), (2016, 69, 51), (2017, 34, 27), (2018, 56, 36)\n",
      "            (2019, 84, 43)\n",
      "\n"
     ]
    }
   ],
   "execution_count": 4
  },
  {
   "metadata": {},
   "cell_type": "markdown",
   "source": "## `db_peek`: Print _N_ key-value pairs starting at the specified key",
   "id": "a5cd2b4c5b2bef6c"
  },
  {
   "metadata": {
    "ExecuteTime": {
     "end_time": "2025-10-07T15:45:03.799144Z",
     "start_time": "2025-10-07T15:45:01.919493Z"
    }
   },
   "cell_type": "code",
   "source": [
    "db_path = \"/vast/edk202/NLP_corpora/Google_Books/20200217/eng/5gram_files/5grams_processed.db\"\n",
    "\n",
    "db_peek(db_path, start_key=b\"quick brown <UNK> <UNK> <UNK>\", key_format=\"utf-8\", value_format=\"packed\", n=5)\n"
   ],
   "id": "4ae0c4f82ae61dbd",
   "outputs": [
    {
     "name": "stdout",
     "output_type": "stream",
     "text": [
      "5 key-value pairs starting from 717569636b2062726f776e203c554e4b3e203c554e4b3e203c554e4b3e:\n",
      "────────────────────────────────────────────────────────────────────────────────────────────────────\n",
      "[ 1] Key:   quick brown <UNK> <UNK> <UNK>\n",
      "     Value: [21 records] ... +11 earlier, (2006, 4, 3), (2007, 1, 1), (2008, 13, 3), (2009, 2, 2)\n",
      "            (2010, 5, 4), (2011, 2, 2), (2012, 9, 7), (2013, 5, 3), (2014, 2, 1), (2016, 1, 1)\n",
      "\n",
      "[ 2] Key:   quick brown eye <UNK> <UNK>\n",
      "     Value: [156 records] ... +146 earlier, (2010, 5, 5), (2011, 6, 6), (2012, 10, 10), (2013, 19, 19)\n",
      "            (2014, 18, 18), (2015, 22, 22), (2016, 18, 18), (2017, 26, 26), (2018, 99, 99)\n",
      "            (2019, 16, 16)\n",
      "\n",
      "[ 3] Key:   quick brown eye <UNK> butler\n",
      "     Value: [10 records] (1866, 23, 23), (1867, 2, 2), (1869, 2, 2), (1870, 2, 2), (1871, 4, 4), (1875, 3, 3)\n",
      "            (1891, 1, 1), (1892, 1, 1), (1903, 1, 1), (1908, 1, 1)\n",
      "\n",
      "[ 4] Key:   quick brown eye take <UNK>\n",
      "     Value: [36 records] ... +26 earlier, (2007, 1, 1), (2008, 9, 9), (2009, 1, 1), (2011, 2, 2), (2012, 3, 3)\n",
      "            (2013, 1, 1), (2014, 1, 1), (2015, 1, 1), (2018, 2, 2), (2019, 5, 5)\n",
      "\n",
      "[ 5] Key:   quick brown fox <UNK> <UNK>\n",
      "     Value: [74 records] ... +64 earlier, (2010, 86, 45), (2011, 19, 18), (2012, 75, 42), (2013, 69, 35)\n",
      "            (2014, 61, 33), (2015, 85, 26), (2016, 58, 35), (2017, 56, 22), (2018, 45, 20)\n",
      "            (2019, 7, 6)\n",
      "\n"
     ]
    }
   ],
   "execution_count": 5
  },
  {
   "metadata": {},
   "cell_type": "markdown",
   "source": "## `db_peek_prefix`: Print key-value pairs containing the specified prefix",
   "id": "f0261bc901193643"
  },
  {
   "metadata": {
    "ExecuteTime": {
     "end_time": "2025-10-07T15:49:48.574130Z",
     "start_time": "2025-10-07T15:49:47.054355Z"
    }
   },
   "cell_type": "code",
   "source": [
    "db_path = \"/vast/edk202/NLP_corpora/Google_Books/20200217/eng/5gram_files/5grams_processed.db\"\n",
    "\n",
    "db_peek_prefix(db_path, prefix=b\"<UNK> united state <UNK> <UNK>\", key_format=\"utf-8\", value_format=\"summary\", n=1)"
   ],
   "id": "b04a9e9cf0cc209f",
   "outputs": [
    {
     "name": "stdout",
     "output_type": "stream",
     "text": [
      "1 key-value pairs with prefix 3c554e4b3e20756e69746564207374617465203c554e4b3e203c554e4b3e:\n",
      "────────────────────────────────────────────────────────────────────────────────────────────────────\n",
      "[ 1] Key:   <UNK> united state <UNK> <UNK>\n",
      "     Value: Total: 163,384,713 occurrences in 96,901,345 volumes (1472-2019, 384 years)\n",
      "\n"
     ]
    }
   ],
   "execution_count": 9
  },
  {
   "metadata": {},
   "cell_type": "code",
   "outputs": [],
   "execution_count": null,
   "source": "",
   "id": "35abdd0e1baea1b1"
  }
 ],
 "metadata": {
  "kernelspec": {
   "display_name": "hist_w2v (Singularity)",
   "language": "python",
   "name": "hist_w2v"
  },
  "language_info": {
   "codemirror_mode": {
    "name": "ipython",
    "version": 3
   },
   "file_extension": ".py",
   "mimetype": "text/x-python",
   "name": "python",
   "nbconvert_exporter": "python",
   "pygments_lexer": "ipython3",
   "version": "3.11.13"
  }
 },
 "nbformat": 4,
 "nbformat_minor": 5
}
