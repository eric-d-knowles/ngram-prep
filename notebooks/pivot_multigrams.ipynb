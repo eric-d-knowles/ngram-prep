{
 "cells": [
  {
   "metadata": {},
   "cell_type": "markdown",
   "source": "# **Setup**",
   "id": "ed15de79ff6600a1"
  },
  {
   "metadata": {
    "ExecuteTime": {
     "end_time": "2025-10-24T23:25:44.624409Z",
     "start_time": "2025-10-24T23:25:44.425188Z"
    }
   },
   "cell_type": "code",
   "source": [
    "# Auto-reload edited scripts\n",
    "%load_ext autoreload\n",
    "%autoreload 2\n",
    "\n",
    "# Logging\n",
    "from ngram_prep.ngram_acquire.logger import setup_logger\n",
    "\n",
    "# Ngram pivot functions\n",
    "from pathlib import Path\n",
    "from ngram_prep.ngram_pivot.config import PipelineConfig\n",
    "from ngram_prep.ngram_pivot.pipeline import run_pivot_pipeline\n",
    "\n",
    "# Utilities\n",
    "from ngram_prep.utilities.peek import *"
   ],
   "id": "ce854c30d3ed2553",
   "outputs": [],
   "execution_count": 1
  },
  {
   "metadata": {},
   "cell_type": "markdown",
   "source": "## Log to file",
   "id": "9dcc445498bb0c6a"
  },
  {
   "metadata": {
    "ExecuteTime": {
     "end_time": "2025-10-24T23:25:44.866738Z",
     "start_time": "2025-10-24T23:25:44.629765Z"
    }
   },
   "cell_type": "code",
   "source": [
    "setup_logger(\n",
    "    db_path=\"/vast/edk202/NLP_corpora/Google_Books/20200217/eng/5gram_files/5grams_pivoted.db\",\n",
    "    console=False,\n",
    "    rotate=True,\n",
    "    max_bytes=100_000_000,\n",
    "    backup_count=5,\n",
    "    force=True\n",
    ")"
   ],
   "id": "12e3d73b8a010aa3",
   "outputs": [
    {
     "ename": "OSError",
     "evalue": "[Errno 30] Read-only file system: '/vast'",
     "output_type": "error",
     "traceback": [
      "\u001B[31m---------------------------------------------------------------------------\u001B[39m",
      "\u001B[31mFileNotFoundError\u001B[39m                         Traceback (most recent call last)",
      "\u001B[36mFile \u001B[39m\u001B[32m/opt/miniforge/lib/python3.11/pathlib.py:1116\u001B[39m, in \u001B[36mPath.mkdir\u001B[39m\u001B[34m(self, mode, parents, exist_ok)\u001B[39m\n\u001B[32m   1115\u001B[39m \u001B[38;5;28;01mtry\u001B[39;00m:\n\u001B[32m-> \u001B[39m\u001B[32m1116\u001B[39m     \u001B[43mos\u001B[49m\u001B[43m.\u001B[49m\u001B[43mmkdir\u001B[49m\u001B[43m(\u001B[49m\u001B[38;5;28;43mself\u001B[39;49m\u001B[43m,\u001B[49m\u001B[43m \u001B[49m\u001B[43mmode\u001B[49m\u001B[43m)\u001B[49m\n\u001B[32m   1117\u001B[39m \u001B[38;5;28;01mexcept\u001B[39;00m \u001B[38;5;167;01mFileNotFoundError\u001B[39;00m:\n",
      "\u001B[31mFileNotFoundError\u001B[39m: [Errno 2] No such file or directory: '/vast/edk202/NLP_corpora/Google_Books/20200217/eng/5gram_files'",
      "\nDuring handling of the above exception, another exception occurred:\n",
      "\u001B[31mFileNotFoundError\u001B[39m                         Traceback (most recent call last)",
      "\u001B[36mFile \u001B[39m\u001B[32m/opt/miniforge/lib/python3.11/pathlib.py:1116\u001B[39m, in \u001B[36mPath.mkdir\u001B[39m\u001B[34m(self, mode, parents, exist_ok)\u001B[39m\n\u001B[32m   1115\u001B[39m \u001B[38;5;28;01mtry\u001B[39;00m:\n\u001B[32m-> \u001B[39m\u001B[32m1116\u001B[39m     \u001B[43mos\u001B[49m\u001B[43m.\u001B[49m\u001B[43mmkdir\u001B[49m\u001B[43m(\u001B[49m\u001B[38;5;28;43mself\u001B[39;49m\u001B[43m,\u001B[49m\u001B[43m \u001B[49m\u001B[43mmode\u001B[49m\u001B[43m)\u001B[49m\n\u001B[32m   1117\u001B[39m \u001B[38;5;28;01mexcept\u001B[39;00m \u001B[38;5;167;01mFileNotFoundError\u001B[39;00m:\n",
      "\u001B[31mFileNotFoundError\u001B[39m: [Errno 2] No such file or directory: '/vast/edk202/NLP_corpora/Google_Books/20200217/eng'",
      "\nDuring handling of the above exception, another exception occurred:\n",
      "\u001B[31mFileNotFoundError\u001B[39m                         Traceback (most recent call last)",
      "\u001B[36mFile \u001B[39m\u001B[32m/opt/miniforge/lib/python3.11/pathlib.py:1116\u001B[39m, in \u001B[36mPath.mkdir\u001B[39m\u001B[34m(self, mode, parents, exist_ok)\u001B[39m\n\u001B[32m   1115\u001B[39m \u001B[38;5;28;01mtry\u001B[39;00m:\n\u001B[32m-> \u001B[39m\u001B[32m1116\u001B[39m     \u001B[43mos\u001B[49m\u001B[43m.\u001B[49m\u001B[43mmkdir\u001B[49m\u001B[43m(\u001B[49m\u001B[38;5;28;43mself\u001B[39;49m\u001B[43m,\u001B[49m\u001B[43m \u001B[49m\u001B[43mmode\u001B[49m\u001B[43m)\u001B[49m\n\u001B[32m   1117\u001B[39m \u001B[38;5;28;01mexcept\u001B[39;00m \u001B[38;5;167;01mFileNotFoundError\u001B[39;00m:\n",
      "\u001B[31mFileNotFoundError\u001B[39m: [Errno 2] No such file or directory: '/vast/edk202/NLP_corpora/Google_Books/20200217'",
      "\nDuring handling of the above exception, another exception occurred:\n",
      "\u001B[31mFileNotFoundError\u001B[39m                         Traceback (most recent call last)",
      "\u001B[36mFile \u001B[39m\u001B[32m/opt/miniforge/lib/python3.11/pathlib.py:1116\u001B[39m, in \u001B[36mPath.mkdir\u001B[39m\u001B[34m(self, mode, parents, exist_ok)\u001B[39m\n\u001B[32m   1115\u001B[39m \u001B[38;5;28;01mtry\u001B[39;00m:\n\u001B[32m-> \u001B[39m\u001B[32m1116\u001B[39m     \u001B[43mos\u001B[49m\u001B[43m.\u001B[49m\u001B[43mmkdir\u001B[49m\u001B[43m(\u001B[49m\u001B[38;5;28;43mself\u001B[39;49m\u001B[43m,\u001B[49m\u001B[43m \u001B[49m\u001B[43mmode\u001B[49m\u001B[43m)\u001B[49m\n\u001B[32m   1117\u001B[39m \u001B[38;5;28;01mexcept\u001B[39;00m \u001B[38;5;167;01mFileNotFoundError\u001B[39;00m:\n",
      "\u001B[31mFileNotFoundError\u001B[39m: [Errno 2] No such file or directory: '/vast/edk202/NLP_corpora/Google_Books'",
      "\nDuring handling of the above exception, another exception occurred:\n",
      "\u001B[31mFileNotFoundError\u001B[39m                         Traceback (most recent call last)",
      "\u001B[36mFile \u001B[39m\u001B[32m/opt/miniforge/lib/python3.11/pathlib.py:1116\u001B[39m, in \u001B[36mPath.mkdir\u001B[39m\u001B[34m(self, mode, parents, exist_ok)\u001B[39m\n\u001B[32m   1115\u001B[39m \u001B[38;5;28;01mtry\u001B[39;00m:\n\u001B[32m-> \u001B[39m\u001B[32m1116\u001B[39m     \u001B[43mos\u001B[49m\u001B[43m.\u001B[49m\u001B[43mmkdir\u001B[49m\u001B[43m(\u001B[49m\u001B[38;5;28;43mself\u001B[39;49m\u001B[43m,\u001B[49m\u001B[43m \u001B[49m\u001B[43mmode\u001B[49m\u001B[43m)\u001B[49m\n\u001B[32m   1117\u001B[39m \u001B[38;5;28;01mexcept\u001B[39;00m \u001B[38;5;167;01mFileNotFoundError\u001B[39;00m:\n",
      "\u001B[31mFileNotFoundError\u001B[39m: [Errno 2] No such file or directory: '/vast/edk202/NLP_corpora'",
      "\nDuring handling of the above exception, another exception occurred:\n",
      "\u001B[31mFileNotFoundError\u001B[39m                         Traceback (most recent call last)",
      "\u001B[36mFile \u001B[39m\u001B[32m/opt/miniforge/lib/python3.11/pathlib.py:1116\u001B[39m, in \u001B[36mPath.mkdir\u001B[39m\u001B[34m(self, mode, parents, exist_ok)\u001B[39m\n\u001B[32m   1115\u001B[39m \u001B[38;5;28;01mtry\u001B[39;00m:\n\u001B[32m-> \u001B[39m\u001B[32m1116\u001B[39m     \u001B[43mos\u001B[49m\u001B[43m.\u001B[49m\u001B[43mmkdir\u001B[49m\u001B[43m(\u001B[49m\u001B[38;5;28;43mself\u001B[39;49m\u001B[43m,\u001B[49m\u001B[43m \u001B[49m\u001B[43mmode\u001B[49m\u001B[43m)\u001B[49m\n\u001B[32m   1117\u001B[39m \u001B[38;5;28;01mexcept\u001B[39;00m \u001B[38;5;167;01mFileNotFoundError\u001B[39;00m:\n",
      "\u001B[31mFileNotFoundError\u001B[39m: [Errno 2] No such file or directory: '/vast/edk202'",
      "\nDuring handling of the above exception, another exception occurred:\n",
      "\u001B[31mOSError\u001B[39m                                   Traceback (most recent call last)",
      "\u001B[36mCell\u001B[39m\u001B[36m \u001B[39m\u001B[32mIn[2]\u001B[39m\u001B[32m, line 1\u001B[39m\n\u001B[32m----> \u001B[39m\u001B[32m1\u001B[39m \u001B[43msetup_logger\u001B[49m\u001B[43m(\u001B[49m\n\u001B[32m      2\u001B[39m \u001B[43m    \u001B[49m\u001B[43mdb_path\u001B[49m\u001B[43m=\u001B[49m\u001B[33;43m\"\u001B[39;49m\u001B[33;43m/vast/edk202/NLP_corpora/Google_Books/20200217/eng/5gram_files/5grams_pivoted.db\u001B[39;49m\u001B[33;43m\"\u001B[39;49m\u001B[43m,\u001B[49m\n\u001B[32m      3\u001B[39m \u001B[43m    \u001B[49m\u001B[43mconsole\u001B[49m\u001B[43m=\u001B[49m\u001B[38;5;28;43;01mFalse\u001B[39;49;00m\u001B[43m,\u001B[49m\n\u001B[32m      4\u001B[39m \u001B[43m    \u001B[49m\u001B[43mrotate\u001B[49m\u001B[43m=\u001B[49m\u001B[38;5;28;43;01mTrue\u001B[39;49;00m\u001B[43m,\u001B[49m\n\u001B[32m      5\u001B[39m \u001B[43m    \u001B[49m\u001B[43mmax_bytes\u001B[49m\u001B[43m=\u001B[49m\u001B[32;43m100_000_000\u001B[39;49m\u001B[43m,\u001B[49m\n\u001B[32m      6\u001B[39m \u001B[43m    \u001B[49m\u001B[43mbackup_count\u001B[49m\u001B[43m=\u001B[49m\u001B[32;43m5\u001B[39;49m\u001B[43m,\u001B[49m\n\u001B[32m      7\u001B[39m \u001B[43m    \u001B[49m\u001B[43mforce\u001B[49m\u001B[43m=\u001B[49m\u001B[38;5;28;43;01mTrue\u001B[39;49;00m\n\u001B[32m      8\u001B[39m \u001B[43m)\u001B[49m\n",
      "\u001B[36mFile \u001B[39m\u001B[32m/scratch/edk202/ngram-prep/src/ngram_prep/ngram_acquire/logger.py:58\u001B[39m, in \u001B[36msetup_logger\u001B[39m\u001B[34m(db_path, level, filename_prefix, console, rotate, max_bytes, backup_count, force)\u001B[39m\n\u001B[32m     55\u001B[39m \u001B[38;5;28;01melse\u001B[39;00m:\n\u001B[32m     56\u001B[39m     log_dir = db_path.parent\n\u001B[32m---> \u001B[39m\u001B[32m58\u001B[39m \u001B[43mlog_dir\u001B[49m\u001B[43m.\u001B[49m\u001B[43mmkdir\u001B[49m\u001B[43m(\u001B[49m\u001B[43mparents\u001B[49m\u001B[43m=\u001B[49m\u001B[38;5;28;43;01mTrue\u001B[39;49;00m\u001B[43m,\u001B[49m\u001B[43m \u001B[49m\u001B[43mexist_ok\u001B[49m\u001B[43m=\u001B[49m\u001B[38;5;28;43;01mTrue\u001B[39;49;00m\u001B[43m)\u001B[49m\n\u001B[32m     60\u001B[39m \u001B[38;5;66;03m# Create timestamped log filename\u001B[39;00m\n\u001B[32m     61\u001B[39m timestamp = datetime.now().strftime(\u001B[33m\"\u001B[39m\u001B[33m%\u001B[39m\u001B[33mY\u001B[39m\u001B[33m%\u001B[39m\u001B[33mm\u001B[39m\u001B[38;5;132;01m%d\u001B[39;00m\u001B[33m_\u001B[39m\u001B[33m%\u001B[39m\u001B[33mH\u001B[39m\u001B[33m%\u001B[39m\u001B[33mM\u001B[39m\u001B[33m%\u001B[39m\u001B[33mS\u001B[39m\u001B[33m\"\u001B[39m)\n",
      "\u001B[36mFile \u001B[39m\u001B[32m/opt/miniforge/lib/python3.11/pathlib.py:1120\u001B[39m, in \u001B[36mPath.mkdir\u001B[39m\u001B[34m(self, mode, parents, exist_ok)\u001B[39m\n\u001B[32m   1118\u001B[39m     \u001B[38;5;28;01mif\u001B[39;00m \u001B[38;5;129;01mnot\u001B[39;00m parents \u001B[38;5;129;01mor\u001B[39;00m \u001B[38;5;28mself\u001B[39m.parent == \u001B[38;5;28mself\u001B[39m:\n\u001B[32m   1119\u001B[39m         \u001B[38;5;28;01mraise\u001B[39;00m\n\u001B[32m-> \u001B[39m\u001B[32m1120\u001B[39m     \u001B[38;5;28;43mself\u001B[39;49m\u001B[43m.\u001B[49m\u001B[43mparent\u001B[49m\u001B[43m.\u001B[49m\u001B[43mmkdir\u001B[49m\u001B[43m(\u001B[49m\u001B[43mparents\u001B[49m\u001B[43m=\u001B[49m\u001B[38;5;28;43;01mTrue\u001B[39;49;00m\u001B[43m,\u001B[49m\u001B[43m \u001B[49m\u001B[43mexist_ok\u001B[49m\u001B[43m=\u001B[49m\u001B[38;5;28;43;01mTrue\u001B[39;49;00m\u001B[43m)\u001B[49m\n\u001B[32m   1121\u001B[39m     \u001B[38;5;28mself\u001B[39m.mkdir(mode, parents=\u001B[38;5;28;01mFalse\u001B[39;00m, exist_ok=exist_ok)\n\u001B[32m   1122\u001B[39m \u001B[38;5;28;01mexcept\u001B[39;00m \u001B[38;5;167;01mOSError\u001B[39;00m:\n\u001B[32m   1123\u001B[39m     \u001B[38;5;66;03m# Cannot rely on checking for EEXIST, since the operating system\u001B[39;00m\n\u001B[32m   1124\u001B[39m     \u001B[38;5;66;03m# could give priority to other errors like EACCES or EROFS\u001B[39;00m\n",
      "\u001B[36mFile \u001B[39m\u001B[32m/opt/miniforge/lib/python3.11/pathlib.py:1120\u001B[39m, in \u001B[36mPath.mkdir\u001B[39m\u001B[34m(self, mode, parents, exist_ok)\u001B[39m\n\u001B[32m   1118\u001B[39m     \u001B[38;5;28;01mif\u001B[39;00m \u001B[38;5;129;01mnot\u001B[39;00m parents \u001B[38;5;129;01mor\u001B[39;00m \u001B[38;5;28mself\u001B[39m.parent == \u001B[38;5;28mself\u001B[39m:\n\u001B[32m   1119\u001B[39m         \u001B[38;5;28;01mraise\u001B[39;00m\n\u001B[32m-> \u001B[39m\u001B[32m1120\u001B[39m     \u001B[38;5;28;43mself\u001B[39;49m\u001B[43m.\u001B[49m\u001B[43mparent\u001B[49m\u001B[43m.\u001B[49m\u001B[43mmkdir\u001B[49m\u001B[43m(\u001B[49m\u001B[43mparents\u001B[49m\u001B[43m=\u001B[49m\u001B[38;5;28;43;01mTrue\u001B[39;49;00m\u001B[43m,\u001B[49m\u001B[43m \u001B[49m\u001B[43mexist_ok\u001B[49m\u001B[43m=\u001B[49m\u001B[38;5;28;43;01mTrue\u001B[39;49;00m\u001B[43m)\u001B[49m\n\u001B[32m   1121\u001B[39m     \u001B[38;5;28mself\u001B[39m.mkdir(mode, parents=\u001B[38;5;28;01mFalse\u001B[39;00m, exist_ok=exist_ok)\n\u001B[32m   1122\u001B[39m \u001B[38;5;28;01mexcept\u001B[39;00m \u001B[38;5;167;01mOSError\u001B[39;00m:\n\u001B[32m   1123\u001B[39m     \u001B[38;5;66;03m# Cannot rely on checking for EEXIST, since the operating system\u001B[39;00m\n\u001B[32m   1124\u001B[39m     \u001B[38;5;66;03m# could give priority to other errors like EACCES or EROFS\u001B[39;00m\n",
      "    \u001B[31m[... skipping similar frames: Path.mkdir at line 1120 (3 times)]\u001B[39m\n",
      "\u001B[36mFile \u001B[39m\u001B[32m/opt/miniforge/lib/python3.11/pathlib.py:1120\u001B[39m, in \u001B[36mPath.mkdir\u001B[39m\u001B[34m(self, mode, parents, exist_ok)\u001B[39m\n\u001B[32m   1118\u001B[39m     \u001B[38;5;28;01mif\u001B[39;00m \u001B[38;5;129;01mnot\u001B[39;00m parents \u001B[38;5;129;01mor\u001B[39;00m \u001B[38;5;28mself\u001B[39m.parent == \u001B[38;5;28mself\u001B[39m:\n\u001B[32m   1119\u001B[39m         \u001B[38;5;28;01mraise\u001B[39;00m\n\u001B[32m-> \u001B[39m\u001B[32m1120\u001B[39m     \u001B[38;5;28;43mself\u001B[39;49m\u001B[43m.\u001B[49m\u001B[43mparent\u001B[49m\u001B[43m.\u001B[49m\u001B[43mmkdir\u001B[49m\u001B[43m(\u001B[49m\u001B[43mparents\u001B[49m\u001B[43m=\u001B[49m\u001B[38;5;28;43;01mTrue\u001B[39;49;00m\u001B[43m,\u001B[49m\u001B[43m \u001B[49m\u001B[43mexist_ok\u001B[49m\u001B[43m=\u001B[49m\u001B[38;5;28;43;01mTrue\u001B[39;49;00m\u001B[43m)\u001B[49m\n\u001B[32m   1121\u001B[39m     \u001B[38;5;28mself\u001B[39m.mkdir(mode, parents=\u001B[38;5;28;01mFalse\u001B[39;00m, exist_ok=exist_ok)\n\u001B[32m   1122\u001B[39m \u001B[38;5;28;01mexcept\u001B[39;00m \u001B[38;5;167;01mOSError\u001B[39;00m:\n\u001B[32m   1123\u001B[39m     \u001B[38;5;66;03m# Cannot rely on checking for EEXIST, since the operating system\u001B[39;00m\n\u001B[32m   1124\u001B[39m     \u001B[38;5;66;03m# could give priority to other errors like EACCES or EROFS\u001B[39;00m\n",
      "\u001B[36mFile \u001B[39m\u001B[32m/opt/miniforge/lib/python3.11/pathlib.py:1116\u001B[39m, in \u001B[36mPath.mkdir\u001B[39m\u001B[34m(self, mode, parents, exist_ok)\u001B[39m\n\u001B[32m   1112\u001B[39m \u001B[38;5;250m\u001B[39m\u001B[33;03m\"\"\"\u001B[39;00m\n\u001B[32m   1113\u001B[39m \u001B[33;03mCreate a new directory at this given path.\u001B[39;00m\n\u001B[32m   1114\u001B[39m \u001B[33;03m\"\"\"\u001B[39;00m\n\u001B[32m   1115\u001B[39m \u001B[38;5;28;01mtry\u001B[39;00m:\n\u001B[32m-> \u001B[39m\u001B[32m1116\u001B[39m     \u001B[43mos\u001B[49m\u001B[43m.\u001B[49m\u001B[43mmkdir\u001B[49m\u001B[43m(\u001B[49m\u001B[38;5;28;43mself\u001B[39;49m\u001B[43m,\u001B[49m\u001B[43m \u001B[49m\u001B[43mmode\u001B[49m\u001B[43m)\u001B[49m\n\u001B[32m   1117\u001B[39m \u001B[38;5;28;01mexcept\u001B[39;00m \u001B[38;5;167;01mFileNotFoundError\u001B[39;00m:\n\u001B[32m   1118\u001B[39m     \u001B[38;5;28;01mif\u001B[39;00m \u001B[38;5;129;01mnot\u001B[39;00m parents \u001B[38;5;129;01mor\u001B[39;00m \u001B[38;5;28mself\u001B[39m.parent == \u001B[38;5;28mself\u001B[39m:\n",
      "\u001B[31mOSError\u001B[39m: [Errno 30] Read-only file system: '/vast'"
     ]
    }
   ],
   "execution_count": 2
  },
  {
   "metadata": {},
   "cell_type": "markdown",
   "source": "# **Pivot Multigrams to Create Yearly Indices**",
   "id": "3c54b7932d2716a8"
  },
  {
   "metadata": {
    "ExecuteTime": {
     "end_time": "2025-10-24T22:12:48.125557Z",
     "start_time": "2025-10-24T21:45:50.770632Z"
    }
   },
   "cell_type": "code",
   "source": [
    "pipeline_cfg = PipelineConfig(\n",
    "    src_db=Path(\"/scratch/edk202/NLP_corpora/Google_Books/20200217/eng/1gram_files/1grams_processed.db\"),\n",
    "    dst_db=Path(\"/scratch/edk202/NLP_corpora/Google_Books/20200217/eng/1gram_files/1grams_pivoted.db\"),\n",
    "    tmp_dir=Path(\"/scratch/edk202/NLP_corpora/Google_Books/20200217/eng/1gram_files/pivot_tmp\"),\n",
    "    num_workers=40,\n",
    "    num_initial_work_units=80,\n",
    "    max_split_depth=50,\n",
    "    work_unit_claim_order=\"sequential\",\n",
    "    split_check_interval_s=45.0,\n",
    "    progress_every_s=15.0,\n",
    "    mode=\"restart\",\n",
    "    max_items_per_bucket=10_000_000,\n",
    "    max_bytes_per_bucket=256 * 1024 * 1024,\n",
    "    num_ingest_readers=40,\n",
    "    ingest_batch_items=1_000_000\n",
    ")\n",
    "\n",
    "run_pivot_pipeline(pipeline_cfg)"
   ],
   "id": "84069a99800e8422",
   "outputs": [
    {
     "name": "stdout",
     "output_type": "stream",
     "text": [
      "\n",
      "PARALLEL N-GRAM DATABASE PIVOT\n",
      "━━━━━━━━━━━━━━━━━━━━━━━━━━━━━━━━━━━━━━━━━━━━━━━━━━━━━━━━━━━━━━━━━━━━━━━━━━━━━━━━━━━━━━━━━━━━━━━━━━━━\n",
      "Start Time: 2025-10-24 17:45:52\n",
      "Mode:       RESTART\n",
      "\n",
      "Configuration\n",
      "════════════════════════════════════════════════════════════════════════════════════════════════════\n",
      "Source DB:            ...dk202/NLP_corpora/Google_Books/20200217/eng/1gram_files/1grams_processed.db\n",
      "Target DB:            .../edk202/NLP_corpora/Google_Books/20200217/eng/1gram_files/1grams_pivoted.db\n",
      "Temp directory:       /scratch/edk202/NLP_corpora/Google_Books/20200217/eng/1gram_files/pivot_tmp\n",
      "\n",
      "Parallelism\n",
      "────────────────────────────────────────────────────────────────────────────────────────────────────\n",
      "Workers:              40\n",
      "Initial work units:   80\n",
      "Max split depth:      50\n",
      "Split check interval: 45.0s\n",
      "\n",
      "Database Profiles\n",
      "────────────────────────────────────────────────────────────────────────────────────────────────────\n",
      "Reader profile:       read:packed24\n",
      "Writer profile:       write:packed24\n",
      "Ingest profile:       write:packed24\n",
      "\n",
      "Buffer Configuration\n",
      "────────────────────────────────────────────────────────────────────────────────────────────────────\n",
      "Worker buffer size:   10,000,000 items\n",
      "Worker buffer bytes:  256.00 MB\n",
      "Ingest batch size:    1,000,000 items\n",
      "\n",
      "\n",
      "Phase 1: Creating work units...\n",
      "════════════════════════════════════════════════════════════════════════════════════════════════════\n",
      "Clean restart - creating new work units\n",
      "Created 80 uniform work units (byte-range partitioning)\n",
      "Dynamic splitting will handle load balancing at runtime\n",
      "\n",
      "Phase 2: Processing 80 work units with 40 workers...\n",
      "════════════════════════════════════════════════════════════════════════════════════════════════════\n",
      "\n",
      "     ngrams           exp            units           splits           rate          elapsed     \n",
      "────────────────────────────────────────────────────────────────────────────────────────────────\n",
      "     33.39K          67.0x        0·24·2·0·80          26            2.2k/s           15s       \n",
      "    291.31K          65.2x        0·21·5·0·80          26            9.6k/s           30s       \n",
      "    291.31K          65.2x        0·21·5·0·80          26            6.4k/s           45s       \n",
      "    707.85K          70.7x        4·20·19·0·82         34           11.8k/s          1m00s      \n",
      "     5.79M           71.6x        0·23·32·0·99         55           77.1k/s          1m15s      \n",
      "     6.30M           71.5x        0·17·38·0·99         55           69.8k/s          1m30s      \n",
      "     6.78M           71.5x        0·14·41·0·99         55           64.5k/s          1m45s      \n",
      "     7.40M           71.7x       0·14·58·0·106         68           61.6k/s          2m00s      \n",
      "     10.38M          71.9x        0·8·64·0·110         72           76.7k/s          2m15s      \n",
      "     10.60M          71.9x        0·6·66·0·110         72           70.6k/s          2m30s      \n",
      "     10.81M          71.8x        0·5·68·0·110         72           65.5k/s          2m45s      \n",
      "     11.57M          72.0x        0·5·71·0·114         76           64.2k/s          3m00s      \n",
      "     11.84M          72.0x        0·6·73·0·115         79           60.7k/s          3m15s      \n",
      "     12.36M          71.9x        0·4·75·0·115         79           58.8k/s          3m30s      \n",
      "     12.75M          71.8x        0·3·78·0·115         80           56.6k/s          3m45s      \n",
      "     13.02M          71.8x        0·2·81·0·117         83           54.2k/s          4m00s      \n",
      "     13.33M          71.9x        0·1·82·0·117         83           52.2k/s          4m15s      \n",
      "────────────────────────────────────────────── final ──────────────────────────────────────────────\n",
      "     13.50M          71.9x        0·0·83·0·117         83           52.3k/s          4m18s      \n",
      "\n",
      "Phase 3: Ingesting 83 shards with 40 parallel readers...\n",
      "════════════════════════════════════════════════════════════════════════════════════════════════════\n"
     ]
    },
    {
     "name": "stderr",
     "output_type": "stream",
     "text": [
      "Shards Ingested: 100%|█████████████████████████████████████████████████████████| 83/83 [20:26<00:00]\n"
     ]
    },
    {
     "name": "stdout",
     "output_type": "stream",
     "text": [
      "\n",
      "\n",
      "Phase 4: Finalizing database...\n",
      "════════════════════════════════════════════════════════════════════════════════════════════════════\n",
      "\n",
      "Post-Ingestion Compaction\n",
      "────────────────────────────────────────────────────────────────────────────────────────────────────\n",
      "Initial DB size:         27.21 GB\n",
      "Compaction completed in 0:02:09\n",
      "Size before:             27.21 GB\n",
      "Size after:              27.21 GB\n",
      "Space saved:             247.91 KB (0.0%)\n",
      "\n",
      "Pipeline Complete\n",
      "════════════════════════════════════════════════════════════════════════════════════════════════════\n",
      "Output database:      .../edk202/NLP_corpora/Google_Books/20200217/eng/1gram_files/1grams_pivoted.db\n",
      "Total records:        970,620,875\n",
      "Database size:        27.21 GB\n",
      "End Time:             2025-10-24 18:12:48\n",
      "━━━━━━━━━━━━━━━━━━━━━━━━━━━━━━━━━━━━━━━━━━━━━━━━━━━━━━━━━━━━━━━━━━━━━━━━━━━━━━━━━━━━━━━━━━━━━━━━━━━━\n",
      "\n"
     ]
    }
   ],
   "execution_count": 3
  },
  {
   "metadata": {},
   "cell_type": "markdown",
   "source": [
    "# **Inspect the Procesed Database**\n",
    "## `db_head`: Print the first _N_ key–value pairs"
   ],
   "id": "b916bcb8f52efc4e"
  },
  {
   "metadata": {
    "ExecuteTime": {
     "end_time": "2025-10-24T23:20:53.989725Z",
     "start_time": "2025-10-24T23:20:53.581017Z"
    }
   },
   "cell_type": "code",
   "source": [
    "db_path = \"/scratch/edk202/NLP_corpora/Google_Books/20200217/eng/1gram_files/1grams_pivoted.db\"\n",
    "\n",
    "db_head(db_path, n=5)"
   ],
   "id": "602ef9dec8103212",
   "outputs": [
    {
     "name": "stdout",
     "output_type": "stream",
     "text": [
      "First 5 key-value pairs:\n",
      "────────────────────────────────────────────────────────────────────────────────────────────────────\n",
      "[ 1] Key:   [1470] abstract\n",
      "     Value: 1 occurrences in 1 documents\n",
      "\n",
      "[ 2] Key:   [1470] angle\n",
      "     Value: 2 occurrences in 2 documents\n",
      "\n",
      "[ 3] Key:   [1470] arran\n",
      "     Value: 1 occurrences in 1 documents\n",
      "\n",
      "[ 4] Key:   [1470] arrange\n",
      "     Value: 1 occurrences in 1 documents\n",
      "\n",
      "[ 5] Key:   [1470] atomic\n",
      "     Value: 1 occurrences in 1 documents\n",
      "\n"
     ]
    }
   ],
   "execution_count": 4
  },
  {
   "metadata": {},
   "cell_type": "markdown",
   "source": "## `db_peek`: Print _N_ key-value pairs starting at the specified key",
   "id": "a5cd2b4c5b2bef6c"
  },
  {
   "metadata": {
    "ExecuteTime": {
     "end_time": "2025-10-24T23:24:47.012578Z",
     "start_time": "2025-10-24T23:24:46.953092Z"
    }
   },
   "cell_type": "code",
   "source": [
    "db_path = \"/scratch/edk202/NLP_corpora/Google_Books/20200217/eng/1gram_files/1grams_pivoted.db\"\n",
    "\n",
    "db_peek(db_path, start_key=\"[2000] quick\", n=5)\n"
   ],
   "id": "4ae0c4f82ae61dbd",
   "outputs": [
    {
     "name": "stdout",
     "output_type": "stream",
     "text": [
      "5 key-value pairs starting from 000007d0717569636b:\n",
      "────────────────────────────────────────────────────────────────────────────────────────────────────\n",
      "[ 1] Key:   [2000] quick\n",
      "     Value: 882,968 occurrences in 239,075 documents\n",
      "\n",
      "[ 2] Key:   [2000] quicka\n",
      "     Value: 6 occurrences in 4 documents\n",
      "\n",
      "[ 3] Key:   [2000] quickaccess\n",
      "     Value: 526 occurrences in 62 documents\n",
      "\n",
      "[ 4] Key:   [2000] quickaccount\n",
      "     Value: 2 occurrences in 2 documents\n",
      "\n",
      "[ 5] Key:   [2000] quickacting\n",
      "     Value: 47 occurrences in 43 documents\n",
      "\n"
     ]
    }
   ],
   "execution_count": 4
  },
  {
   "metadata": {},
   "cell_type": "markdown",
   "source": "## `db_peek_prefix`: Print key-value pairs containing the specified prefix",
   "id": "f0261bc901193643"
  },
  {
   "metadata": {
    "ExecuteTime": {
     "end_time": "2025-10-24T23:27:45.236132Z",
     "start_time": "2025-10-24T23:27:45.089877Z"
    }
   },
   "cell_type": "code",
   "source": [
    "db_path = \"/scratch/edk202/NLP_corpora/Google_Books/20200217/eng/1gram_files/1grams_pivoted.db\"\n",
    "\n",
    "db_peek_prefix(db_path, prefix=\"[2011] unite\", n=5)"
   ],
   "id": "b04a9e9cf0cc209f",
   "outputs": [
    {
     "name": "stdout",
     "output_type": "stream",
     "text": [
      "5 key-value pairs with prefix 000007db756e697465:\n",
      "────────────────────────────────────────────────────────────────────────────────────────────────────\n",
      "[ 1] Key:   [2011] unite\n",
      "     Value: 435,288 occurrences in 172,321 documents\n",
      "\n",
      "[ 2] Key:   [2011] unitea\n",
      "     Value: 23 occurrences in 19 documents\n",
      "\n",
      "[ 3] Key:   [2011] uniteal\n",
      "     Value: 3 occurrences in 3 documents\n",
      "\n",
      "[ 4] Key:   [2011] uniteam\n",
      "     Value: 2 occurrences in 2 documents\n",
      "\n",
      "[ 5] Key:   [2011] unitec\n",
      "     Value: 224 occurrences in 90 documents\n",
      "\n"
     ]
    }
   ],
   "execution_count": 12
  },
  {
   "metadata": {},
   "cell_type": "code",
   "source": "",
   "id": "35abdd0e1baea1b1",
   "outputs": [],
   "execution_count": null
  }
 ],
 "metadata": {
  "kernelspec": {
   "display_name": "Python 3 (ipykernel)",
   "language": "python",
   "name": "python3"
  },
  "language_info": {
   "codemirror_mode": {
    "name": "ipython",
    "version": 3
   },
   "file_extension": ".py",
   "mimetype": "text/x-python",
   "name": "python",
   "nbconvert_exporter": "python",
   "pygments_lexer": "ipython3",
   "version": "3.11.13"
  }
 },
 "nbformat": 4,
 "nbformat_minor": 5
}
