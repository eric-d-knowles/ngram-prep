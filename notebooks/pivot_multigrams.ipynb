{
 "cells": [
  {
   "metadata": {},
   "cell_type": "markdown",
   "source": "# **Setup**",
   "id": "ed15de79ff6600a1"
  },
  {
   "metadata": {
    "ExecuteTime": {
     "end_time": "2025-10-29T17:12:53.723104Z",
     "start_time": "2025-10-29T17:12:53.193212Z"
    }
   },
   "cell_type": "code",
   "source": [
    "# Auto-reload edited scripts\n",
    "%load_ext autoreload\n",
    "%autoreload 2\n",
    "\n",
    "# Logging\n",
    "from ngram_prep.ngram_acquire.logger import setup_logger\n",
    "\n",
    "# Ngram pivot functions\n",
    "from pathlib import Path\n",
    "from ngram_prep.ngram_pivot.config import PipelineConfig\n",
    "from ngram_prep.ngram_pivot.pipeline import run_pivot_pipeline\n",
    "\n",
    "# Utilities\n",
    "from ngram_prep.utilities.peek import *"
   ],
   "id": "ce854c30d3ed2553",
   "outputs": [],
   "execution_count": 1
  },
  {
   "metadata": {
    "ExecuteTime": {
     "end_time": "2025-10-29T17:12:55.241350Z",
     "start_time": "2025-10-29T17:12:54.904855Z"
    }
   },
   "cell_type": "code",
   "source": [
    "setup_logger(\n",
    "    db_path=\"/scratch/edk202/NLP_corpora/Google_Books/20200217/eng/5gram_files/5grams_pivoted.db\",\n",
    "    console=False,\n",
    "    rotate=True,\n",
    "    max_bytes=100_000_000,\n",
    "    backup_count=5,\n",
    "    force=True\n",
    ")"
   ],
   "id": "12e3d73b8a010aa3",
   "outputs": [
    {
     "data": {
      "text/plain": [
       "PosixPath('/scratch/edk202/NLP_corpora/Google_Books/20200217/eng/5gram_files/5grams_pivoted.db/ngram_download_20251029_131255.log')"
      ]
     },
     "execution_count": 2,
     "metadata": {},
     "output_type": "execute_result"
    }
   ],
   "execution_count": 2
  },
  {
   "metadata": {},
   "cell_type": "markdown",
   "source": "# **Pivot Multigrams to Create Yearly Indices**",
   "id": "3c54b7932d2716a8"
  },
  {
   "metadata": {
    "ExecuteTime": {
     "end_time": "2025-10-29T17:33:02.144516Z",
     "start_time": "2025-10-29T17:13:34.880667Z"
    }
   },
   "cell_type": "code",
   "source": [
    "pipeline_cfg = PipelineConfig(\n",
    "    src_db=Path(\"/scratch/edk202/NLP_corpora/Google_Books/20200217/eng/5gram_files/5grams_processed.db\"),\n",
    "    dst_db=Path(\"/scratch/edk202/NLP_corpora/Google_Books/20200217/eng/5gram_files/5grams_pivoted.db\"),\n",
    "    tmp_dir=Path(\"/scratch/edk202/NLP_corpora/Google_Books/20200217/eng/5gram_files/pivot_tmp\"),\n",
    "    num_workers=30,\n",
    "    num_initial_work_units=20,\n",
    "    max_split_depth=100,\n",
    "    work_unit_claim_order=\"random\",\n",
    "    split_check_interval_s=15.0,\n",
    "    progress_every_s=600.0,\n",
    "    mode=\"resume\",\n",
    "    max_items_per_bucket=50_000_000,\n",
    "    max_bytes_per_bucket=5 * 1204 * 1024 * 1024,\n",
    "    num_ingest_readers=3,\n",
    "    ingest_buffer_shards=1\n",
    ")\n",
    "\n",
    "run_pivot_pipeline(pipeline_cfg)"
   ],
   "id": "84069a99800e8422",
   "outputs": [
    {
     "name": "stdout",
     "output_type": "stream",
     "text": [
      "\n",
      "PARALLEL N-GRAM DATABASE PIVOT\n",
      "━━━━━━━━━━━━━━━━━━━━━━━━━━━━━━━━━━━━━━━━━━━━━━━━━━━━━━━━━━━━━━━━━━━━━━━━━━━━━━━━━━━━━━━━━━━━━━━━━━━━\n",
      "Start Time: 2025-10-29 13:13:34\n",
      "Mode:       RESUME\n",
      "\n",
      "Configuration\n",
      "════════════════════════════════════════════════════════════════════════════════════════════════════\n",
      "Source DB:            ...dk202/NLP_corpora/Google_Books/20200217/eng/5gram_files/5grams_processed.db\n",
      "Target DB:            .../edk202/NLP_corpora/Google_Books/20200217/eng/5gram_files/5grams_pivoted.db\n",
      "Temp directory:       /scratch/edk202/NLP_corpora/Google_Books/20200217/eng/5gram_files/pivot_tmp\n",
      "\n",
      "Parallelism\n",
      "────────────────────────────────────────────────────────────────────────────────────────────────────\n",
      "Workers:              30\n",
      "Initial work units:   20\n",
      "Max split depth:      100\n",
      "Split check interval: 15.0s\n",
      "\n",
      "Database Profiles\n",
      "────────────────────────────────────────────────────────────────────────────────────────────────────\n",
      "Reader profile:       read:packed24\n",
      "Writer profile:       write:packed24\n",
      "Ingest profile:       write:packed24\n",
      "\n",
      "Buffer Configuration\n",
      "────────────────────────────────────────────────────────────────────────────────────────────────────\n",
      "Worker buffer size:   50,000,000 items\n",
      "Worker buffer bytes:  5.88 GB\n",
      "\n",
      "\n",
      "Phase 1: Creating work units...\n",
      "════════════════════════════════════════════════════════════════════════════════════════════════════\n",
      "Resuming existing work units\n",
      "Resuming: 4509 completed, 0 processing, 0 pending\n",
      "\n",
      "Phase 2: Processing 0 work units with 30 workers...\n",
      "════════════════════════════════════════════════════════════════════════════════════════════════════\n",
      "\n",
      "     ngrams           exp            units           splits           rate          elapsed     \n",
      "────────────────────────────────────────────────────────────────────────────────────────────────\n",
      "───────────────────────────────────────────── final ────────────────────────────────────────────\n",
      "       0              0.0x          0·0·4509          4578            0/s              1s       \n",
      "\n",
      "Phase 3: Ingesting 4509 shards with 3 workers (each buffers 1 shards = 3 total in memory)...\n",
      "════════════════════════════════════════════════════════════════════════════════════════════════════\n"
     ]
    },
    {
     "name": "stderr",
     "output_type": "stream",
     "text": [
      "Shards Ingested:   1%|▌                                                   | 46/4509 [19:11<19:21:56]Process ngp:ingest-worker-2:\n",
      "Process ngp:ingest-worker-0:\n",
      "Shards Ingested:   1%|▌                                                   | 46/4509 [19:25<31:25:13]\n",
      "Traceback (most recent call last):\n",
      "Traceback (most recent call last):\n",
      "  File \"/opt/miniforge/lib/python3.11/multiprocessing/process.py\", line 314, in _bootstrap\n",
      "    self.run()\n",
      "  File \"/opt/miniforge/lib/python3.11/multiprocessing/process.py\", line 108, in run\n",
      "    self._target(*self._args, **self._kwargs)\n",
      "  File \"/scratch/edk202/ngram-prep/src/ngram_prep/ngram_pivot/pipeline/worker_pool.py\", line 104, in read_and_write_batch_process\n",
      "    with write_lock:\n",
      "  File \"/opt/miniforge/lib/python3.11/multiprocessing/synchronize.py\", line 95, in __enter__\n",
      "    return self._semlock.__enter__()\n",
      "           ^^^^^^^^^^^^^^^^^^^^^^^^^\n",
      "  File \"/opt/miniforge/lib/python3.11/multiprocessing/process.py\", line 314, in _bootstrap\n",
      "    self.run()\n",
      "  File \"/opt/miniforge/lib/python3.11/multiprocessing/process.py\", line 108, in run\n",
      "    self._target(*self._args, **self._kwargs)\n",
      "  File \"/scratch/edk202/ngram-prep/src/ngram_prep/ngram_pivot/pipeline/worker_pool.py\", line 104, in read_and_write_batch_process\n",
      "    with write_lock:\n",
      "KeyboardInterrupt\n",
      "  File \"/opt/miniforge/lib/python3.11/multiprocessing/synchronize.py\", line 95, in __enter__\n",
      "    return self._semlock.__enter__()\n",
      "           ^^^^^^^^^^^^^^^^^^^^^^^^^\n",
      "KeyboardInterrupt\n"
     ]
    },
    {
     "ename": "KeyboardInterrupt",
     "evalue": "",
     "output_type": "error",
     "traceback": [
      "\u001B[31m---------------------------------------------------------------------------\u001B[39m",
      "\u001B[31mKeyboardInterrupt\u001B[39m                         Traceback (most recent call last)",
      "\u001B[36mCell\u001B[39m\u001B[36m \u001B[39m\u001B[32mIn[3]\u001B[39m\u001B[32m, line 18\u001B[39m\n\u001B[32m      1\u001B[39m pipeline_cfg = PipelineConfig(\n\u001B[32m      2\u001B[39m     src_db=Path(\u001B[33m\"\u001B[39m\u001B[33m/scratch/edk202/NLP_corpora/Google_Books/20200217/eng/5gram_files/5grams_processed.db\u001B[39m\u001B[33m\"\u001B[39m),\n\u001B[32m      3\u001B[39m     dst_db=Path(\u001B[33m\"\u001B[39m\u001B[33m/scratch/edk202/NLP_corpora/Google_Books/20200217/eng/5gram_files/5grams_pivoted.db\u001B[39m\u001B[33m\"\u001B[39m),\n\u001B[32m   (...)\u001B[39m\u001B[32m     15\u001B[39m     ingest_buffer_shards=\u001B[32m1\u001B[39m\n\u001B[32m     16\u001B[39m )\n\u001B[32m---> \u001B[39m\u001B[32m18\u001B[39m \u001B[43mrun_pivot_pipeline\u001B[49m\u001B[43m(\u001B[49m\u001B[43mpipeline_cfg\u001B[49m\u001B[43m)\u001B[49m\n",
      "\u001B[36mFile \u001B[39m\u001B[32m/scratch/edk202/ngram-prep/src/ngram_prep/ngram_pivot/pipeline/orchestrator.py:453\u001B[39m, in \u001B[36mrun_pivot_pipeline\u001B[39m\u001B[34m(pipeline_config)\u001B[39m\n\u001B[32m    446\u001B[39m \u001B[38;5;250m\u001B[39m\u001B[33;03m\"\"\"\u001B[39;00m\n\u001B[32m    447\u001B[39m \u001B[33;03mMain entry point for the ngram pivot pipeline.\u001B[39;00m\n\u001B[32m    448\u001B[39m \n\u001B[32m    449\u001B[39m \u001B[33;03mArgs:\u001B[39;00m\n\u001B[32m    450\u001B[39m \u001B[33;03m    pipeline_config: Configuration for pipeline execution\u001B[39;00m\n\u001B[32m    451\u001B[39m \u001B[33;03m\"\"\"\u001B[39;00m\n\u001B[32m    452\u001B[39m orchestrator = PivotOrchestrator(pipeline_config)\n\u001B[32m--> \u001B[39m\u001B[32m453\u001B[39m \u001B[43morchestrator\u001B[49m\u001B[43m.\u001B[49m\u001B[43mrun\u001B[49m\u001B[43m(\u001B[49m\u001B[43m)\u001B[49m\n",
      "\u001B[36mFile \u001B[39m\u001B[32m/scratch/edk202/ngram-prep/src/ngram_prep/ngram_pivot/pipeline/orchestrator.py:74\u001B[39m, in \u001B[36mPivotOrchestrator.run\u001B[39m\u001B[34m(self)\u001B[39m\n\u001B[32m     72\u001B[39m \u001B[38;5;28mself\u001B[39m._create_work_units()\n\u001B[32m     73\u001B[39m \u001B[38;5;28mself\u001B[39m._process_work_units()\n\u001B[32m---> \u001B[39m\u001B[32m74\u001B[39m \u001B[38;5;28;43mself\u001B[39;49m\u001B[43m.\u001B[49m\u001B[43m_ingest_shards\u001B[49m\u001B[43m(\u001B[49m\u001B[43m)\u001B[49m\n\u001B[32m     75\u001B[39m \u001B[38;5;28mself\u001B[39m._finalize_database()\n\u001B[32m     76\u001B[39m \u001B[38;5;28mself\u001B[39m._compact_if_requested()\n",
      "\u001B[36mFile \u001B[39m\u001B[32m/scratch/edk202/ngram-prep/src/ngram_prep/ngram_pivot/pipeline/orchestrator.py:238\u001B[39m, in \u001B[36mPivotOrchestrator._ingest_shards\u001B[39m\u001B[34m(self)\u001B[39m\n\u001B[32m    235\u001B[39m print_phase_header(\u001B[32m3\u001B[39m, \u001B[33mf\u001B[39m\u001B[33m\"\u001B[39m\u001B[33mIngesting \u001B[39m\u001B[38;5;132;01m{\u001B[39;00mnum_shards\u001B[38;5;132;01m}\u001B[39;00m\u001B[33m shards with \u001B[39m\u001B[38;5;132;01m{\u001B[39;00mnum_readers\u001B[38;5;132;01m}\u001B[39;00m\u001B[33m workers (each buffers \u001B[39m\u001B[38;5;132;01m{\u001B[39;00mbuffer_shards\u001B[38;5;132;01m}\u001B[39;00m\u001B[33m shards = \u001B[39m\u001B[38;5;132;01m{\u001B[39;00mtotal_buffered\u001B[38;5;132;01m}\u001B[39;00m\u001B[33m total in memory)...\u001B[39m\u001B[33m\"\u001B[39m)\n\u001B[32m    237\u001B[39m \u001B[38;5;28;01mfrom\u001B[39;00m\u001B[38;5;250m \u001B[39m\u001B[34;01m.\u001B[39;00m\u001B[34;01mworker_pool\u001B[39;00m\u001B[38;5;250m \u001B[39m\u001B[38;5;28;01mimport\u001B[39;00m ingest_coordinator_process\n\u001B[32m--> \u001B[39m\u001B[32m238\u001B[39m \u001B[43mingest_coordinator_process\u001B[49m\u001B[43m(\u001B[49m\n\u001B[32m    239\u001B[39m \u001B[43m    \u001B[49m\u001B[43mdst_db_path\u001B[49m\u001B[43m=\u001B[49m\u001B[38;5;28;43mself\u001B[39;49m\u001B[43m.\u001B[49m\u001B[43mtemp_paths\u001B[49m\u001B[43m[\u001B[49m\u001B[33;43m'\u001B[39;49m\u001B[33;43mdst_db\u001B[39;49m\u001B[33;43m'\u001B[39;49m\u001B[43m]\u001B[49m\u001B[43m,\u001B[49m\n\u001B[32m    240\u001B[39m \u001B[43m    \u001B[49m\u001B[43mwork_tracker_path\u001B[49m\u001B[43m=\u001B[49m\u001B[38;5;28;43mself\u001B[39;49m\u001B[43m.\u001B[49m\u001B[43mtemp_paths\u001B[49m\u001B[43m[\u001B[49m\u001B[33;43m'\u001B[39;49m\u001B[33;43mwork_tracker\u001B[39;49m\u001B[33;43m'\u001B[39;49m\u001B[43m]\u001B[49m\u001B[43m,\u001B[49m\n\u001B[32m    241\u001B[39m \u001B[43m    \u001B[49m\u001B[43moutput_dir\u001B[49m\u001B[43m=\u001B[49m\u001B[38;5;28;43mself\u001B[39;49m\u001B[43m.\u001B[49m\u001B[43mtemp_paths\u001B[49m\u001B[43m[\u001B[49m\u001B[33;43m'\u001B[39;49m\u001B[33;43moutput_dir\u001B[39;49m\u001B[33;43m'\u001B[39;49m\u001B[43m]\u001B[49m\u001B[43m,\u001B[49m\n\u001B[32m    242\u001B[39m \u001B[43m    \u001B[49m\u001B[43mpipeline_config\u001B[49m\u001B[43m=\u001B[49m\u001B[38;5;28;43mself\u001B[39;49m\u001B[43m.\u001B[49m\u001B[43mpipeline_config\u001B[49m\u001B[43m,\u001B[49m\n\u001B[32m    243\u001B[39m \u001B[43m    \u001B[49m\u001B[43mstop_event\u001B[49m\u001B[43m=\u001B[49m\u001B[38;5;28;43;01mNone\u001B[39;49;00m\u001B[43m,\u001B[49m\u001B[43m  \u001B[49m\u001B[38;5;66;43;03m# Separate-stage mode - reader stops when no more units\u001B[39;49;00m\n\u001B[32m    244\u001B[39m \u001B[43m\u001B[49m\u001B[43m)\u001B[49m\n",
      "\u001B[36mFile \u001B[39m\u001B[32m/scratch/edk202/ngram-prep/src/ngram_prep/ngram_pivot/pipeline/worker_pool.py:280\u001B[39m, in \u001B[36mingest_coordinator_process\u001B[39m\u001B[34m(dst_db_path, work_tracker_path, output_dir, pipeline_config, stop_event)\u001B[39m\n\u001B[32m    277\u001B[39m     \u001B[38;5;28;01mif\u001B[39;00m all_done:\n\u001B[32m    278\u001B[39m         \u001B[38;5;28;01mbreak\u001B[39;00m\n\u001B[32m--> \u001B[39m\u001B[32m280\u001B[39m     time.sleep(\u001B[32m0.5\u001B[39m)\n\u001B[32m    282\u001B[39m \u001B[38;5;66;03m# Wait for all workers to complete\u001B[39;00m\n\u001B[32m    283\u001B[39m \u001B[38;5;28;01mfor\u001B[39;00m worker_id, process \u001B[38;5;129;01min\u001B[39;00m processes:\n",
      "\u001B[31mKeyboardInterrupt\u001B[39m: "
     ]
    }
   ],
   "execution_count": 3
  },
  {
   "metadata": {},
   "cell_type": "markdown",
   "source": [
    "# **Inspect the Procesed Database**\n",
    "## `db_head`: Print the first _N_ key–value pairs"
   ],
   "id": "b916bcb8f52efc4e"
  },
  {
   "metadata": {
    "ExecuteTime": {
     "end_time": "2025-10-27T11:13:12.190755Z",
     "start_time": "2025-10-27T11:13:11.451678Z"
    }
   },
   "cell_type": "code",
   "source": [
    "db_path = \"/scratch/edk202/NLP_corpora/Google_Books/20200217/eng/5gram_files/5grams_pivoted.db\"\n",
    "\n",
    "db_head(db_path, n=5)"
   ],
   "id": "602ef9dec8103212",
   "outputs": [
    {
     "name": "stdout",
     "output_type": "stream",
     "text": [
      "First 5 key-value pairs:\n",
      "────────────────────────────────────────────────────────────────────────────────────────────────────\n",
      "[ 1] Key:   [1470] <UNK> <UNK> <UNK> <UNK> convenient\n",
      "     Value: 1 occurrences in 1 documents\n",
      "\n",
      "[ 2] Key:   [1470] <UNK> <UNK> <UNK> <UNK> eng\n",
      "     Value: 1 occurrences in 1 documents\n",
      "\n",
      "[ 3] Key:   [1470] <UNK> <UNK> <UNK> atomic energy\n",
      "     Value: 1 occurrences in 1 documents\n",
      "\n",
      "[ 4] Key:   [1470] <UNK> <UNK> <UNK> convenient one\n",
      "     Value: 1 occurrences in 1 documents\n",
      "\n",
      "[ 5] Key:   [1470] <UNK> <UNK> <UNK> eng <UNK>\n",
      "     Value: 1 occurrences in 1 documents\n",
      "\n"
     ]
    }
   ],
   "execution_count": 3
  },
  {
   "metadata": {},
   "cell_type": "markdown",
   "source": "## `db_peek`: Print _N_ key-value pairs starting at the specified key",
   "id": "a5cd2b4c5b2bef6c"
  },
  {
   "metadata": {
    "ExecuteTime": {
     "end_time": "2025-10-27T11:13:30.546329Z",
     "start_time": "2025-10-27T11:13:29.956889Z"
    }
   },
   "cell_type": "code",
   "source": [
    "db_path = \"/scratch/edk202/NLP_corpora/Google_Books/20200217/eng/5gram_files/5grams_pivoted.db\"\n",
    "\n",
    "db_peek(db_path, start_key=\"[2002] world trade center attack\", n=5)\n"
   ],
   "id": "4ae0c4f82ae61dbd",
   "outputs": [
    {
     "name": "stdout",
     "output_type": "stream",
     "text": [
      "5 key-value pairs starting from 000007d2776f726c642074726164652063656e7465722061747461636b:\n",
      "────────────────────────────────────────────────────────────────────────────────────────────────────\n",
      "[ 1] Key:   [2002] world trade center attack <UNK>\n",
      "     Value: 3,027 occurrences in 2,537 documents\n",
      "\n",
      "[ 2] Key:   [2002] world trade center attack claim\n",
      "     Value: 46 occurrences in 16 documents\n",
      "\n",
      "[ 3] Key:   [2002] world trade center attack occur\n",
      "     Value: 6 occurrences in 6 documents\n",
      "\n",
      "[ 4] Key:   [2002] world trade center attack see\n",
      "     Value: 1 occurrences in 1 documents\n",
      "\n",
      "[ 5] Key:   [2002] world trade center attack victim\n",
      "     Value: 13 occurrences in 13 documents\n",
      "\n"
     ]
    }
   ],
   "execution_count": 4
  },
  {
   "metadata": {},
   "cell_type": "markdown",
   "source": "## `db_peek_prefix`: Print key-value pairs containing the specified prefix",
   "id": "f0261bc901193643"
  },
  {
   "metadata": {
    "ExecuteTime": {
     "end_time": "2025-10-27T11:23:32.763869Z",
     "start_time": "2025-10-27T11:23:32.197551Z"
    }
   },
   "cell_type": "code",
   "source": [
    "db_path = \"/scratch/edk202/NLP_corpora/Google_Books/20200217/eng/5gram_files/5grams_pivoted.db\"\n",
    "\n",
    "db_peek_prefix(db_path, prefix=\"[2017] <UNK> risk <UNK> nuclear war\", n=10)"
   ],
   "id": "b04a9e9cf0cc209f",
   "outputs": [
    {
     "name": "stdout",
     "output_type": "stream",
     "text": [
      "10 key-value pairs with prefix 000007e13c554e4b3e207269736b203c554e4b3e206e75636c65617220776172:\n",
      "────────────────────────────────────────────────────────────────────────────────────────────────────\n",
      "[ 1] Key:   [2017] <UNK> risk <UNK> nuclear war\n",
      "     Value: 279 occurrences in 220 documents\n",
      "\n",
      "[ 2] Key:   [2017] <UNK> risk <UNK> nuclear warfare\n",
      "     Value: 7 occurrences in 7 documents\n",
      "\n"
     ]
    }
   ],
   "execution_count": 26
  },
  {
   "metadata": {},
   "cell_type": "code",
   "source": "",
   "id": "35abdd0e1baea1b1",
   "outputs": [],
   "execution_count": null
  }
 ],
 "metadata": {
  "kernelspec": {
   "display_name": "Python 3 (ipykernel)",
   "language": "python",
   "name": "python3"
  },
  "language_info": {
   "codemirror_mode": {
    "name": "ipython",
    "version": 3
   },
   "file_extension": ".py",
   "mimetype": "text/x-python",
   "name": "python",
   "nbconvert_exporter": "python",
   "pygments_lexer": "ipython3",
   "version": "3.11.13"
  }
 },
 "nbformat": 4,
 "nbformat_minor": 5
}
