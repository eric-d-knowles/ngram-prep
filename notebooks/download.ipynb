{
 "cells": [
  {
   "cell_type": "code",
   "execution_count": 1,
   "id": "344907c2",
   "metadata": {},
   "outputs": [],
   "source": [
    "import pytest\n",
    "\n",
    "import sys\n",
    "sys.path.append(\"/scratch/edk202/ngram-prep/src\")"
   ]
  },
  {
   "cell_type": "code",
   "execution_count": 3,
   "id": "c5464da0",
   "metadata": {},
   "outputs": [
    {
     "name": "stdout",
     "output_type": "stream",
     "text": [
      "\n",
      "==================================== ERRORS ====================================\n",
      "\u001b[31m\u001b[1m_____________ ERROR collecting tests/pipeline/test_orchestrate.py ______________\u001b[0m\n",
      "\u001b[31mImportError while importing test module '/scratch/edk202/ngram-prep/tests/pipeline/test_orchestrate.py'.\n",
      "Hint: make sure your test modules/packages have valid Python names.\n",
      "Traceback:\n",
      "\u001b[1m\u001b[31m/ext3/miniforge3/envs/hist_w2v/lib/python3.11/importlib/__init__.py\u001b[0m:126: in import_module\n",
      "    \u001b[0m\u001b[94mreturn\u001b[39;49;00m _bootstrap._gcd_import(name[level:], package, level)\u001b[90m\u001b[39;49;00m\n",
      "           ^^^^^^^^^^^^^^^^^^^^^^^^^^^^^^^^^^^^^^^^^^^^^^^^^^^^\u001b[90m\u001b[39;49;00m\n",
      "\u001b[1m\u001b[31m/scratch/edk202/ngram-prep/tests/pipeline/test_orchestrate.py\u001b[0m:10: in <module>\n",
      "    \u001b[0m\u001b[94mfrom\u001b[39;49;00m\u001b[90m \u001b[39;49;00m\u001b[04m\u001b[96mngram_prep\u001b[39;49;00m\u001b[04m\u001b[96m.\u001b[39;49;00m\u001b[04m\u001b[96mpipeline\u001b[39;49;00m\u001b[04m\u001b[96m.\u001b[39;49;00m\u001b[04m\u001b[96morchestrate\u001b[39;49;00m\u001b[90m \u001b[39;49;00m\u001b[94mimport\u001b[39;49;00m download_and_ingest_to_rocksdb\u001b[90m\u001b[39;49;00m\n",
      "\u001b[1m\u001b[31m/scratch/edk202/ngram-prep/src/ngram_prep/pipeline/orchestrate.py\u001b[0m:22: in <module>\n",
      "    \u001b[0m\u001b[94mfrom\u001b[39;49;00m\u001b[90m \u001b[39;49;00m\u001b[04m\u001b[96mngram_prep\u001b[39;49;00m\u001b[04m\u001b[96m.\u001b[39;49;00m\u001b[04m\u001b[96mdb\u001b[39;49;00m\u001b[04m\u001b[96m.\u001b[39;49;00m\u001b[04m\u001b[96msetup\u001b[39;49;00m\u001b[90m \u001b[39;49;00m\u001b[94mimport\u001b[39;49;00m setup_rocksdb\u001b[90m\u001b[39;49;00m\n",
      "\u001b[1m\u001b[31mE   ModuleNotFoundError: No module named 'ngram_prep.db.setup'\u001b[0m\u001b[0m\n",
      "\u001b[36m\u001b[1m=========================== short test summary info ============================\u001b[0m\n",
      "\u001b[31mERROR\u001b[0m ../../scratch/edk202/ngram-prep/tests/pipeline/test_orchestrate.py\n",
      "!!!!!!!!!!!!!!!!!!!! Interrupted: 1 error during collection !!!!!!!!!!!!!!!!!!!!\n",
      "\u001b[31m\u001b[31m\u001b[1m1 error\u001b[0m\u001b[31m in 0.28s\u001b[0m\u001b[0m\n"
     ]
    },
    {
     "data": {
      "text/plain": [
       "<ExitCode.INTERRUPTED: 2>"
      ]
     },
     "execution_count": 3,
     "metadata": {},
     "output_type": "execute_result"
    }
   ],
   "source": [
    "pytest.main([\n",
    "    \"-q\",\n",
    "    \"/scratch/edk202/ngram-prep/tests/utils/test_cleanup.py\",\n",
    "    \"/scratch/edk202/ngram-prep/tests/utils/test_filters.py\",\n",
    "    \"/scratch/edk202/ngram-prep/tests/io/test_parse.py\",\n",
    "    \"/scratch/edk202/ngram-prep/tests/pipeline/test_logger.py\",\n",
    "    \"/scratch/edk202/ngram-prep/tests/db/test_rocks.py\",\n",
    "    \"/scratch/edk202/ngram-prep/tests/io/test_locations.py\",\n",
    "    \"/scratch/edk202/ngram-prep/tests/io/test_fetch.py\",\n",
    "    \"/scratch/edk202/ngram-prep/tests/pipeline/test_report.py\",\n",
    "    \"/scratch/edk202/ngram-prep/tests/pipeline/test_worker.py\",\n",
    "    \"/scratch/edk202/ngram-prep/tests/db/test_metadata.py\",\n",
    "    \"/scratch/edk202/ngram-prep/tests/db/test_write.py\",\n",
    "    \"/scratch/edk202/ngram-prep/tests/pipeline/test_runner.py\",\n",
    "    \"/scratch/edk202/ngram-prep/tests/pipeline/test_orchestrate.py\"\n",
    "])"
   ]
  },
  {
   "cell_type": "code",
   "execution_count": null,
   "id": "a5a4a126",
   "metadata": {},
   "outputs": [],
   "source": []
  }
 ],
 "metadata": {
  "kernelspec": {
   "display_name": "Remote kernel: hist_w2v",
   "language": "python",
   "name": "hist_w2v"
  },
  "language_info": {
   "codemirror_mode": {
    "name": "ipython",
    "version": 3
   },
   "file_extension": ".py",
   "mimetype": "text/x-python",
   "name": "python",
   "nbconvert_exporter": "python",
   "pygments_lexer": "ipython3",
   "version": "3.11.13"
  }
 },
 "nbformat": 4,
 "nbformat_minor": 5
}
