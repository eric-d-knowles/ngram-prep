{
 "cells": [
  {
   "metadata": {},
   "cell_type": "markdown",
   "source": "# **Setup**",
   "id": "2d7d8e9ec4dd02cf"
  },
  {
   "metadata": {
    "ExecuteTime": {
     "end_time": "2025-10-31T02:58:02.860371Z",
     "start_time": "2025-10-31T02:58:01.620023Z"
    }
   },
   "cell_type": "code",
   "source": [
    "# Auto-reload edited scripts\n",
    "%load_ext autoreload\n",
    "%autoreload 2\n",
    "\n",
    "# Recompile Cython script\n",
    "%cd /scratch/edk202/ngram-prep\n",
    "!python setup.py build_ext --inplace -q\n",
    "\n",
    "# Stop words\n",
    "from stop_words import get_stop_words\n",
    "\n",
    "# Lemmatization\n",
    "from ngram_prep.ngram_filter.lemmatizer import SpacyLemmatizer\n",
    "\n",
    "# Ngram acquisition functions\n",
    "from ngram_prep.ngram_acquire import download_and_ingest_to_rocksdb\n",
    "from ngram_prep.ngram_acquire.logger import setup_logger\n",
    "\n",
    "# Ngram processing functions\n",
    "from pathlib import Path\n",
    "from ngram_prep.ngram_filter.config import PipelineConfig, FilterConfig\n",
    "from ngram_prep.ngram_filter.pipeline.orchestrator import build_processed_db\n",
    "from ngram_prep.utilities.peek import db_head, db_peek, db_peek_prefix"
   ],
   "id": "ce854c30d3ed2553",
   "outputs": [
    {
     "name": "stdout",
     "output_type": "stream",
     "text": [
      "/scratch/edk202/ngram-prep\n",
      "/bin/bash: warning: setlocale: LC_ALL: cannot change locale (en_US.UTF-8)\r\n",
      "running build_ext\r\n"
     ]
    }
   ],
   "execution_count": 1
  },
  {
   "metadata": {},
   "cell_type": "markdown",
   "source": "## Log to file",
   "id": "9dcc445498bb0c6a"
  },
  {
   "metadata": {
    "ExecuteTime": {
     "end_time": "2025-10-31T02:58:02.891758Z",
     "start_time": "2025-10-31T02:58:02.864992Z"
    }
   },
   "cell_type": "code",
   "source": [
    "setup_logger(\n",
    "    db_path=\"/scratch/edk202/NLP_corpora/Google_Books/20200217/eng/5gram_files/5grams.db\",\n",
    "    console=False,\n",
    "    rotate=True,\n",
    "    max_bytes=100_000_000,\n",
    "    backup_count=5,\n",
    "    force=True\n",
    ")"
   ],
   "id": "12e3d73b8a010aa3",
   "outputs": [
    {
     "data": {
      "text/plain": [
       "PosixPath('/scratch/edk202/NLP_corpora/Google_Books/20200217/eng/5gram_files/5grams.db/ngram_download_20251030_225802.log')"
      ]
     },
     "execution_count": 2,
     "metadata": {},
     "output_type": "execute_result"
    }
   ],
   "execution_count": 2
  },
  {
   "metadata": {},
   "cell_type": "markdown",
   "source": "# **Download 5-Grams and Ingest to RocksDB**",
   "id": "7ef4e7ff09f03459"
  },
  {
   "metadata": {
    "jupyter": {
     "is_executing": true
    },
    "ExecuteTime": {
     "end_time": "2025-10-31T02:21:15.776778274Z",
     "start_time": "2025-10-31T02:21:03.133826Z"
    }
   },
   "cell_type": "code",
   "source": [
    "download_and_ingest_to_rocksdb(\n",
    "    ngram_size=5,\n",
    "    repo_release_id=\"20200217\",\n",
    "    repo_corpus_id=\"eng\",\n",
    "    db_path_stub=\"/scratch/edk202/NLP_corpora/Google_Books/\",\n",
    "    file_range=(0, 19422),\n",
    "    random_seed=76,\n",
    "    workers=30,\n",
    "    use_threads=False,\n",
    "    ngram_type=\"tagged\",\n",
    "    overwrite_db=False,\n",
    "    write_batch_size=1_000_000,\n",
    "    open_type=\"write:packed24\",\n",
    "    compact_after_ingest=True\n",
    ")"
   ],
   "id": "c114576e7345015e",
   "outputs": [
    {
     "name": "stdout",
     "output_type": "stream",
     "text": [
      "N-GRAM ACQUISITION PIPELINE\n",
      "━━━━━━━━━━━━━━━━━━━━━━━━━━━━━━━━━━━━━━━━━━━━━━━━━━━━━━━━━━━━━━━━━━━━━━━━━━━━━━━━━━━━━━━━━━━━━━━━━━━━\n",
      "Start Time: 2025-10-30 22:21:03\n",
      "\n",
      "Download Configuration\n",
      "════════════════════════════════════════════════════════════════════════════════════════════════════\n",
      "Ngram repo:           https://books.storage.googleapis.com/?prefix=ngrams/books/20200217/eng/5-\n",
      "DB path:              /scratch/edk202/NLP_corpora/Google_Books/20200217/eng/5gram_files/5grams.db\n",
      "File range:           0 to 19422\n",
      "Total files:          19423\n",
      "Files to get:         19423\n",
      "Skipping:             0\n",
      "Download workers:     30\n",
      "Batch size:           1,000,000\n",
      "Ngram size:           5\n",
      "Ngram type:           tagged\n",
      "Overwrite DB:         False\n",
      "DB Profile:           write:packed24\n",
      "\n",
      "Download Progress\n",
      "════════════════════════════════════════════════════════════════════════════════════════════════════\n"
     ]
    },
    {
     "name": "stderr",
     "output_type": "stream",
     "text": [
      "Files Processed:   0%|                                                           | 0/19423 [00:00<?]"
     ]
    }
   ],
   "execution_count": null
  },
  {
   "metadata": {},
   "cell_type": "markdown",
   "source": "# **Run Processing Pipeline**",
   "id": "293dff16a66060a0"
  },
  {
   "metadata": {
    "jupyter": {
     "is_executing": true
    },
    "ExecuteTime": {
     "start_time": "2025-10-31T02:44:37.709944Z"
    }
   },
   "cell_type": "code",
   "source": [
    "src_db = Path(\"/vast/edk202/NLP_corpora/Google_Books/20200217/eng/5gram_files/5grams.db\")\n",
    "dst_db = src_db.parent / \"5grams_processed.db\"\n",
    "tmp_dir = src_db.parent / \"processing_tmp\"\n",
    "whitelist_dir = src_db.parent.parent / \"1gram_files\" / \"1grams_processed.db\" / \"whitelist.txt\"\n",
    "\n",
    "stop_set = set(get_stop_words(\"english\"))\n",
    "lemmatizer = SpacyLemmatizer(language=\"en\")\n",
    "spell_check_lang = \"en\"\n",
    "\n",
    "filter_config = FilterConfig(\n",
    "    stop_set=stop_set,\n",
    "    lemma_gen=lemmatizer,\n",
    "    whitelist_path = whitelist_dir\n",
    ")\n",
    "\n",
    "pipeline_config = PipelineConfig(\n",
    "    src_db=src_db,\n",
    "    dst_db=dst_db,\n",
    "    tmp_dir=tmp_dir,\n",
    "    num_workers=40,\n",
    "    num_initial_work_units=40,\n",
    "    work_unit_claim_order=\"random\",\n",
    "    flush_interval_s=5.0,\n",
    "    mode=\"restart\",\n",
    "    progress_every_s=5.0,\n",
    "    ingest_num_readers=10,\n",
    "    ingest_batch_items=1_000_000,\n",
    "    ingest_queue_size=2,\n",
    ")\n",
    "\n",
    "build_processed_db(pipeline_config, filter_config)"
   ],
   "id": "35e8aa97d8255330",
   "outputs": [
    {
     "name": "stdout",
     "output_type": "stream",
     "text": [
      "N-GRAM FILTER PIPELINE\n",
      "━━━━━━━━━━━━━━━━━━━━━━━━━━━━━━━━━━━━━━━━━━━━━━━━━━━━━━━━━━━━━━━━━━━━━━━━━━━━━━━━━━━━━━━━━━━━━━━━━━━━\n",
      "\n",
      "Configuration\n",
      "════════════════════════════════════════════════════════════════════════════════════════════════════\n",
      "\u001B[4mPipeline\u001B[0m\n",
      "Run mode:             restart\n",
      "Compact after ingest: True\n",
      "\n",
      "\u001B[4mWorkers\u001B[0m\n",
      "Num Workers:        40\n",
      "Initial work units: 40\n",
      "Dynamic splitting:  Enabled\n",
      "Profiles:           read=read:packed24, write=write:packed24\n",
      "Flush interval:     5.0s\n",
      "\n",
      "\u001B[4mFiles\u001B[0m\n",
      "Source: /vast/edk202/NLP_corpora/Google_Books/20200217/eng/5gram_files/5grams.db\n",
      "Destination: /vast/edk202/NLP_corpora/Google_Books/20200217/eng/5gram_files/5grams_processed.db\n",
      "Input whitelist: ..._corpora/Google_Books/20200217/eng/1gram_files/1grams_processed.db/whitelist.txt\n",
      "  All tokens (min count: 1)\n",
      "Output whitelist: None\n",
      "Loading whitelist...\n",
      "Loaded 5,000 tokens\n",
      "\n",
      "Phase 1: Creating work units...\n",
      "════════════════════════════════════════════════════════════════════════════════════════════════════\n",
      "Clean restart - creating new work units\n",
      "Created 40 uniform work units (byte-range partitioning)\n",
      "Dynamic splitting will handle load balancing at runtime\n",
      "\n",
      "Phase 2: Processing 40 work units with 40 workers...\n",
      "════════════════════════════════════════════════════════════════════════════════════════════════════\n",
      "\n",
      "    items         kept%        workers        units         splits         rate        elapsed    \n",
      "──────────────────────────────────────────────────────────────────────────────────────────────────\n",
      "      0            0.0%       4/40 (36i)      35·4·1          0            0/s            5s      \n",
      "      0            0.0%       8/40 (32i)      28·8·4          0            0/s           10s      \n",
      "      0            0.0%      12/40 (28i)     19·12·9          0            0/s           15s      \n",
      "    76.52K        35.1%      16/40 (24i)     12·16·14         2           3.8k/s         20s      \n",
      "   148.39K        33.7%      20/40 (20i)     4·20·20          4           5.9k/s         25s      \n",
      "   267.51K        27.6%      23/40 (17i)     0·23·24          7           8.9k/s         30s      \n",
      "   403.77K        23.4%      19/40 (21i)     0·19·29          8          11.5k/s         35s      \n",
      "   548.16K        32.4%      19/40 (21i)     0·19·33          12         13.6k/s         40s      \n",
      "   702.37K        32.5%      17/40 (23i)     1·17·38          17         15.5k/s         45s      \n",
      "   943.66K        33.5%      18/40 (22i)     0·18·45          23         18.8k/s         50s      \n",
      "    1.02M         34.2%      18/40 (22i)     0·18·48          26         18.5k/s         55s      \n",
      "    1.29M         39.1%      18/40 (22i)     0·18·53          31         21.4k/s        1m00s     \n",
      "    1.36M         38.8%      18/40 (22i)     0·18·55          33         20.9k/s        1m05s     \n",
      "    1.66M         42.1%      18/40 (22i)     0·18·62          40         23.6k/s        1m10s     \n",
      "    1.83M         42.5%      18/40 (22i)     0·18·66          44         24.3k/s        1m15s     \n",
      "    1.91M         43.2%      18/40 (22i)     0·18·68          46         23.8k/s        1m20s     \n",
      "    2.20M         42.2%      17/40 (23i)     0·17·74          51         25.8k/s        1m25s     \n",
      "    2.38M         42.4%      16/40 (24i)     1·16·81          58         26.4k/s        1m30s     \n",
      "    2.58M         43.3%      17/40 (23i)     0·17·84          61         27.1k/s        1m35s     \n",
      "    2.70M         44.6%      17/40 (23i)     0·17·87          64         26.9k/s        1m40s     \n",
      "    2.81M         45.8%      17/40 (23i)     0·17·89          66         26.7k/s        1m45s     \n",
      "    3.12M         47.1%      17/40 (23i)     0·17·99          76         28.3k/s        1m50s     \n",
      "    3.16M         47.5%      17/40 (23i)     0·17·99          76         27.5k/s        1m55s     \n",
      "    3.32M         48.3%      17/40 (23i)     0·17·103         80         27.6k/s        2m00s     \n",
      "    3.40M         49.2%      17/40 (23i)     0·17·106         83         27.1k/s        2m05s     \n",
      "    3.66M         49.7%      17/40 (23i)     0·17·111         88         28.1k/s        2m10s     \n",
      "    3.78M         50.1%      17/40 (23i)     0·17·114         91         28.0k/s        2m15s     \n",
      "    3.86M         50.2%      17/40 (23i)     0·17·118         95         27.5k/s        2m20s     \n",
      "    4.02M         50.3%      17/40 (23i)     0·17·122         99         27.7k/s        2m25s     \n",
      "    4.26M         50.8%      17/40 (23i)     0·17·127        104         28.3k/s        2m30s     \n",
      "    4.38M         50.7%      17/40 (23i)     0·17·129        106         28.2k/s        2m35s     \n",
      "    4.41M         50.9%      17/40 (23i)     0·17·131        108         27.6k/s        2m40s     \n",
      "    4.60M         50.9%      17/40 (23i)     0·17·137        114         27.9k/s        2m45s     \n",
      "    4.67M         50.8%      17/40 (23i)     0·17·140        117         27.5k/s        2m50s     \n",
      "    4.91M         51.8%      17/40 (23i)     0·17·144        121         28.0k/s        2m55s     \n",
      "    5.08M         51.6%      17/40 (23i)     0·17·147        124         28.2k/s        3m00s     \n",
      "    5.19M         52.2%      17/40 (23i)     0·17·151        128         28.0k/s        3m05s     \n",
      "    5.35M         52.5%      17/40 (23i)     0·17·155        132         28.1k/s        3m10s     \n",
      "    5.56M         52.7%      17/40 (23i)     0·17·161        138         28.5k/s        3m15s     \n",
      "    5.68M         52.9%      17/40 (23i)     0·17·163        140         28.4k/s        3m20s     \n",
      "    5.83M         53.3%      17/40 (23i)     0·17·169        146         28.4k/s        3m25s     \n",
      "    6.02M         53.3%      17/40 (23i)     0·17·171        148         28.7k/s        3m30s     \n",
      "    6.21M         54.2%      17/40 (23i)     0·17·177        154         28.9k/s        3m35s     \n",
      "    6.25M         54.1%      17/40 (23i)     0·17·178        155         28.4k/s        3m40s     \n",
      "    6.46M         54.0%      17/40 (23i)     0·17·183        160         28.7k/s        3m45s     \n",
      "    6.58M         54.2%      17/40 (23i)     0·17·185        162         28.6k/s        3m50s     \n",
      "    6.82M         54.6%      17/40 (23i)     0·17·191        168         29.0k/s        3m55s     \n",
      "    6.86M         54.8%      17/40 (23i)     0·17·193        170         28.6k/s        4m00s     \n",
      "    6.98M         55.2%      17/40 (23i)     0·17·196        173         28.5k/s        4m05s     \n",
      "    7.49M         55.8%      16/40 (24i)     0·16·203        179         30.0k/s        4m10s     \n",
      "    7.62M         56.0%      16/40 (24i)     0·16·206        182         29.9k/s        4m15s     \n",
      "    7.73M         55.8%      16/40 (24i)     0·16·209        185         29.7k/s        4m20s     \n",
      "    7.81M         55.7%      16/40 (24i)     0·16·211        187         29.5k/s        4m25s     \n",
      "    8.17M         56.4%      16/40 (24i)     0·16·221        197         30.2k/s        4m30s     \n",
      "    8.38M         56.5%      16/40 (24i)     0·16·225        201         30.5k/s        4m35s     \n",
      "    8.46M         56.7%      16/40 (24i)     0·16·226        202         30.2k/s        4m40s     \n",
      "    8.54M         56.6%      16/40 (24i)     0·16·228        204         29.9k/s        4m45s     \n",
      "    8.66M         56.7%      16/40 (24i)     0·16·231        207         29.9k/s        4m50s     \n",
      "    8.82M         56.7%      16/40 (24i)     0·16·236        212         29.9k/s        4m55s     \n",
      "    8.99M         57.1%      16/40 (24i)     0·16·240        216         29.9k/s        5m00s     \n",
      "    9.15M         57.2%      16/40 (24i)     0·16·244        220         30.0k/s        5m05s     \n",
      "    9.31M         57.2%      16/40 (24i)     0·16·249        225         30.0k/s        5m10s     \n",
      "    9.47M         57.4%      16/40 (24i)     0·16·252        228         30.1k/s        5m15s     \n",
      "    9.55M         57.6%      16/40 (24i)     0·16·256        232         29.8k/s        5m20s     \n",
      "    9.79M         57.8%      15/40 (25i)     1·15·263        239         30.1k/s        5m25s     \n",
      "    9.99M         57.9%      16/40 (24i)     0·16·266        242         30.3k/s        5m30s     \n",
      "    10.16M        58.2%      15/40 (25i)     1·15·270        247         30.3k/s        5m35s     \n",
      "    10.28M        58.5%      16/40 (24i)     0·16·273        249         30.2k/s        5m40s     \n",
      "    10.66M        58.8%      16/40 (24i)     0·16·280        256         30.9k/s        5m45s     \n",
      "    10.82M        58.8%      16/40 (24i)     0·16·284        260         30.9k/s        5m50s     \n",
      "    10.86M        59.0%      16/40 (24i)     0·16·287        263         30.6k/s        5m55s     \n",
      "    11.07M        59.1%      16/40 (24i)     0·16·292        268         30.7k/s        6m00s     \n",
      "    11.31M        59.6%      16/40 (24i)     0·16·296        272         31.0k/s        6m05s     \n",
      "    11.35M        59.8%      16/40 (24i)     0·16·299        275         30.7k/s        6m10s     \n",
      "    11.52M        60.0%      16/40 (24i)     0·16·301        277         30.7k/s        6m15s     \n",
      "    11.60M        60.2%      16/40 (24i)     0·16·307        283         30.5k/s        6m20s     \n",
      "    11.85M        60.5%      16/40 (24i)     0·16·310        286         30.8k/s        6m25s     \n",
      "    12.09M        60.6%      16/40 (24i)     0·16·316        292         31.0k/s        6m30s     \n",
      "    12.13M        60.8%      16/40 (24i)     0·16·316        292         30.7k/s        6m35s     \n",
      "    12.39M        60.9%      16/40 (24i)     0·16·323        299         30.9k/s        6m40s     \n",
      "    12.43M        60.8%      16/40 (24i)     0·16·325        301         30.7k/s        6m45s     \n",
      "    12.51M        61.1%      16/40 (24i)     0·16·328        304         30.5k/s        6m50s     \n",
      "    12.72M        61.4%      16/40 (24i)     0·16·333        309         30.6k/s        6m55s     \n",
      "    12.93M        61.7%      16/40 (24i)     0·16·337        313         30.8k/s        7m00s     \n",
      "    13.10M        61.8%      16/40 (24i)     0·16·342        318         30.8k/s        7m05s     \n",
      "    13.22M        62.1%      16/40 (24i)     0·16·343        319         30.7k/s        7m10s     \n",
      "    13.34M        62.1%      16/40 (24i)     0·16·346        322         30.7k/s        7m15s     \n",
      "    13.34M        62.1%      16/40 (24i)     0·16·350        326         30.3k/s        7m20s     \n",
      "    13.59M        62.6%      16/40 (24i)     0·16·354        330         30.5k/s        7m25s     \n",
      "    13.79M        62.6%      16/40 (24i)     0·16·358        334         30.6k/s        7m30s     \n",
      "    14.00M        62.8%      16/40 (24i)     0·16·363        339         30.8k/s        7m35s     \n",
      "    14.21M        62.9%      16/40 (24i)     0·16·367        343         30.9k/s        7m40s     \n",
      "    14.33M        63.1%      16/40 (24i)     0·16·370        346         30.8k/s        7m45s     \n",
      "    14.45M        63.0%      16/40 (24i)     0·16·373        349         30.7k/s        7m50s     \n",
      "    14.66M        62.9%      15/40 (25i)     0·16·378        355         30.8k/s        7m55s     \n",
      "    14.79M        63.1%      16/40 (24i)     0·16·382        358         30.8k/s        8m00s     \n",
      "    14.91M        63.2%      16/40 (24i)     0·16·385        361         30.7k/s        8m05s     \n",
      "    15.08M        63.3%      16/40 (24i)     0·16·388        364         30.8k/s        8m10s     \n",
      "    15.29M        63.4%      16/40 (24i)     0·16·393        369         30.9k/s        8m15s     \n",
      "    15.37M        63.5%      16/40 (24i)     0·16·395        371         30.7k/s        8m20s     \n",
      "    15.58M        63.5%      16/40 (24i)     0·16·402        378         30.8k/s        8m25s     \n"
     ]
    }
   ],
   "execution_count": null
  },
  {
   "metadata": {},
   "cell_type": "markdown",
   "source": [
    ", # **Inspect the Procesed Database**\n",
    "## `db_head`: Print the first _N_ key–value pairs"
   ],
   "id": "b916bcb8f52efc4e"
  },
  {
   "metadata": {
    "ExecuteTime": {
     "end_time": "2025-10-24T18:51:10.359525Z",
     "start_time": "2025-10-24T18:51:09.602168Z"
    }
   },
   "cell_type": "code",
   "source": [
    "db_path = \"/scratch/edk202/NLP_corpora/Google_Books/20200217/eng/5gram_files/5grams_processed.db\"\n",
    "\n",
    "db_head(db_path, key_format=\"utf-8\", value_format=\"packed\", n=5)"
   ],
   "id": "602ef9dec8103212",
   "outputs": [
    {
     "name": "stdout",
     "output_type": "stream",
     "text": [
      "First 5 key-value pairs:\n",
      "────────────────────────────────────────────────────────────────────────────────────────────────────\n",
      "[ 1] Key:   <UNK> <UNK> <UNK> <UNK> aaa\n",
      "     Value: [166 records] ... +156 earlier, (2010, 676, 433), (2011, 531, 360), (2012, 507, 342)\n",
      "            (2013, 356, 246), (2014, 425, 286), (2015, 322, 219), (2016, 313, 232)\n",
      "            (2017, 246, 202), (2018, 228, 125), (2019, 191, 123)\n",
      "\n",
      "[ 2] Key:   <UNK> <UNK> <UNK> <UNK> aar\n",
      "     Value: [220 records] ... +210 earlier, (2010, 63, 54), (2011, 62, 51), (2012, 31, 31), (2013, 51, 51)\n",
      "            (2014, 80, 38), (2015, 30, 28), (2016, 19, 17), (2017, 52, 51), (2018, 1140, 1136)\n",
      "            (2019, 15, 15)\n",
      "\n",
      "[ 3] Key:   <UNK> <UNK> <UNK> <UNK> aaron\n",
      "     Value: [304 records] ... +294 earlier, (2010, 1929, 1736), (2011, 2095, 1935), (2012, 2762, 2518)\n",
      "            (2013, 2385, 2195), (2014, 2637, 2441), (2015, 2500, 2252), (2016, 2176, 1949)\n",
      "            (2017, 9100, 6289), (2018, 2809, 2607), (2019, 2034, 1886)\n",
      "\n",
      "[ 4] Key:   <UNK> <UNK> <UNK> <UNK> aba\n",
      "     Value: [162 records] ... +152 earlier, (2010, 377, 298), (2011, 215, 184), (2012, 588, 421)\n",
      "            (2013, 472, 336), (2014, 268, 178), (2015, 243, 193), (2016, 658, 476)\n",
      "            (2017, 680, 416), (2018, 1043, 737), (2019, 270, 223)\n",
      "\n",
      "[ 5] Key:   <UNK> <UNK> <UNK> <UNK> aback\n",
      "     Value: [169 records] ... +159 earlier, (2010, 6, 6), (2011, 6, 6), (2012, 12, 12), (2013, 19, 19)\n",
      "            (2014, 19, 19), (2015, 17, 17), (2016, 20, 18), (2017, 70, 64), (2018, 62, 62)\n",
      "            (2019, 14, 14)\n",
      "\n"
     ]
    }
   ],
   "execution_count": 4
  },
  {
   "metadata": {},
   "cell_type": "markdown",
   "source": "## `db_peek`: Print _N_ key-value pairs starting at the specified key",
   "id": "a5cd2b4c5b2bef6c"
  },
  {
   "metadata": {
    "ExecuteTime": {
     "end_time": "2025-10-24T18:51:18.307466Z",
     "start_time": "2025-10-24T18:51:17.732373Z"
    }
   },
   "cell_type": "code",
   "source": [
    "db_path = \"/scratch/edk202/NLP_corpora/Google_Books/20200217/eng/5gram_files/5grams_processed.db\"\n",
    "\n",
    "db_peek(db_path, start_key=b\"quick brown <UNK> <UNK> <UNK>\", key_format=\"utf-8\", value_format=\"packed\", n=5)\n"
   ],
   "id": "4ae0c4f82ae61dbd",
   "outputs": [
    {
     "name": "stdout",
     "output_type": "stream",
     "text": [
      "5 key-value pairs starting from 717569636b2062726f776e203c554e4b3e203c554e4b3e203c554e4b3e:\n",
      "────────────────────────────────────────────────────────────────────────────────────────────────────\n",
      "[ 1] Key:   quick brown <UNK> <UNK> <UNK>\n",
      "     Value: [21 records] ... +11 earlier, (2006, 4, 3), (2007, 1, 1), (2008, 13, 3), (2009, 2, 2)\n",
      "            (2010, 5, 4), (2011, 2, 2), (2012, 9, 7), (2013, 5, 3), (2014, 2, 1), (2016, 1, 1)\n",
      "\n",
      "[ 2] Key:   quick brown eye <UNK> <UNK>\n",
      "     Value: [156 records] ... +146 earlier, (2010, 5, 5), (2011, 6, 6), (2012, 10, 10), (2013, 19, 19)\n",
      "            (2014, 18, 18), (2015, 22, 22), (2016, 18, 18), (2017, 26, 26), (2018, 99, 99)\n",
      "            (2019, 16, 16)\n",
      "\n",
      "[ 3] Key:   quick brown eye <UNK> butler\n",
      "     Value: [10 records] (1866, 23, 23), (1867, 2, 2), (1869, 2, 2), (1870, 2, 2), (1871, 4, 4), (1875, 3, 3)\n",
      "            (1891, 1, 1), (1892, 1, 1), (1903, 1, 1), (1908, 1, 1)\n",
      "\n",
      "[ 4] Key:   quick brown eye take <UNK>\n",
      "     Value: [36 records] ... +26 earlier, (2007, 1, 1), (2008, 9, 9), (2009, 1, 1), (2011, 2, 2), (2012, 3, 3)\n",
      "            (2013, 1, 1), (2014, 1, 1), (2015, 1, 1), (2018, 2, 2), (2019, 5, 5)\n",
      "\n",
      "[ 5] Key:   quick brown fox <UNK> <UNK>\n",
      "     Value: [74 records] ... +64 earlier, (2010, 86, 45), (2011, 19, 18), (2012, 75, 42), (2013, 69, 35)\n",
      "            (2014, 61, 33), (2015, 85, 26), (2016, 58, 35), (2017, 56, 22), (2018, 45, 20)\n",
      "            (2019, 7, 6)\n",
      "\n"
     ]
    }
   ],
   "execution_count": 5
  },
  {
   "metadata": {},
   "cell_type": "markdown",
   "source": "## `db_peek_prefix`: Print key-value pairs containing the specified prefix",
   "id": "f0261bc901193643"
  },
  {
   "metadata": {
    "ExecuteTime": {
     "end_time": "2025-10-24T18:51:28.986408Z",
     "start_time": "2025-10-24T18:51:28.453019Z"
    }
   },
   "cell_type": "code",
   "source": [
    "db_path = \"/scratch/edk202/NLP_corpora/Google_Books/20200217/eng/5gram_files/5grams_processed.db\"\n",
    "\n",
    "db_peek_prefix(db_path, prefix=b\"<UNK> <UNK> united state <UNK>\", key_format=\"utf-8\", value_format=\"summary\", n=1)"
   ],
   "id": "b04a9e9cf0cc209f",
   "outputs": [
    {
     "name": "stdout",
     "output_type": "stream",
     "text": [
      "1 key-value pairs with prefix 3c554e4b3e203c554e4b3e20756e69746564207374617465203c554e4b3e:\n",
      "────────────────────────────────────────────────────────────────────────────────────────────────────\n",
      "[ 1] Key:   <UNK> <UNK> united state <UNK>\n",
      "     Value: Total: 309,111,055 occurrences in 125,635,403 volumes (1472-2019, 424 years)\n",
      "\n"
     ]
    }
   ],
   "execution_count": 6
  },
  {
   "metadata": {},
   "cell_type": "code",
   "source": "",
   "id": "35abdd0e1baea1b1",
   "outputs": [],
   "execution_count": null
  }
 ],
 "metadata": {
  "kernelspec": {
   "display_name": "Python 3 (ipykernel)",
   "language": "python",
   "name": "python3"
  },
  "language_info": {
   "codemirror_mode": {
    "name": "ipython",
    "version": 3
   },
   "file_extension": ".py",
   "mimetype": "text/x-python",
   "name": "python",
   "nbconvert_exporter": "python",
   "pygments_lexer": "ipython3",
   "version": "3.11.13"
  }
 },
 "nbformat": 4,
 "nbformat_minor": 5
}
