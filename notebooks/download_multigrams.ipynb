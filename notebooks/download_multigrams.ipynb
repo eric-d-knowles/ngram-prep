{
 "cells": [
  {
   "metadata": {},
   "cell_type": "markdown",
   "source": [
    "# **Setup**\n",
    "## Recompile Cython Extensions"
   ],
   "id": "ed15de79ff6600a1"
  },
  {
   "metadata": {},
   "cell_type": "code",
   "outputs": [],
   "execution_count": null,
   "source": [
    "%cd /scratch/edk202/ngram-prep\n",
    "\n",
    "%env LC_ALL=C.UTF-8\n",
    "%env LANG=C.UTF-8\n",
    "\n",
    "%pip install -e . --no-build-isolation -q"
   ],
   "id": "5a286fabaadb42f3"
  },
  {
   "metadata": {},
   "cell_type": "markdown",
   "source": "## Imports",
   "id": "2d7d8e9ec4dd02cf"
  },
  {
   "metadata": {
    "ExecuteTime": {
     "end_time": "2025-10-16T17:46:27.689691Z",
     "start_time": "2025-10-16T17:46:21.587010Z"
    }
   },
   "cell_type": "code",
   "source": [
    "# Auto-reload edited scripts\n",
    "%load_ext autoreload\n",
    "%autoreload 2\n",
    "\n",
    "# NLTK resources\n",
    "from nltk.corpus import stopwords; stopwords = set(stopwords.words(\"english\"))\n",
    "from nltk.stem import WordNetLemmatizer; lemmatizer = WordNetLemmatizer()\n",
    "\n",
    "# Ngram acquisition functions\n",
    "from ngram_prep.ngram_acquire import download_and_ingest_to_rocksdb\n",
    "from ngram_prep.ngram_acquire.logger import setup_logger\n",
    "\n",
    "# Ngram processing functions\n",
    "from pathlib import Path\n",
    "from ngram_prep.ngram_filter.config import PipelineConfig, FilterConfig\n",
    "from ngram_prep.ngram_filter.pipeline.orchestrator import build_processed_db\n",
    "from ngram_prep.utilities.peek import db_peek, db_peek_prefix"
   ],
   "id": "ce854c30d3ed2553",
   "outputs": [],
   "execution_count": 1
  },
  {
   "metadata": {},
   "cell_type": "markdown",
   "source": "## Set up logging to file",
   "id": "9dcc445498bb0c6a"
  },
  {
   "metadata": {
    "ExecuteTime": {
     "end_time": "2025-10-16T17:46:27.746629Z",
     "start_time": "2025-10-16T17:46:27.694069Z"
    }
   },
   "cell_type": "code",
   "source": [
    "setup_logger(\n",
    "    db_path=\"/vast/edk202/NLP_corpora/Google_Books/20200217/eng/5gram_files/5grams.db\",\n",
    "    console=False,\n",
    "    rotate=True,\n",
    "    max_bytes=100_000_000,\n",
    "    backup_count=5,\n",
    "    force=True\n",
    ")"
   ],
   "id": "12e3d73b8a010aa3",
   "outputs": [
    {
     "data": {
      "text/plain": [
       "PosixPath('/vast/edk202/NLP_corpora/Google_Books/20200217/eng/5gram_files/5grams.db/ngram_download_20251016_134627.log')"
      ]
     },
     "execution_count": 2,
     "metadata": {},
     "output_type": "execute_result"
    }
   ],
   "execution_count": 2
  },
  {
   "metadata": {},
   "cell_type": "markdown",
   "source": "# **Download 5-Grams and Ingest to RocksDB**",
   "id": "7ef4e7ff09f03459"
  },
  {
   "metadata": {},
   "cell_type": "code",
   "source": [
    "download_and_ingest_to_rocksdb(\n",
    "    ngram_size=1,\n",
    "    repo_release_id=\"20200217\",\n",
    "    repo_corpus_id=\"eng\",\n",
    "    db_path_stub=\"/vast/edk202/NLP_corpora/Google_Books/\",\n",
    "    file_range=(0, 19422),\n",
    "    random_seed=98,\n",
    "    workers=39,\n",
    "    use_threads=False,\n",
    "    ngram_type=\"tagged\",\n",
    "    overwrite_db=True,\n",
    "    write_batch_size=100_000,\n",
    "    open_type=\"write:packed24\",\n",
    "    compact_after_ingest=True\n",
    ")"
   ],
   "id": "c114576e7345015e",
   "outputs": [],
   "execution_count": null
  },
  {
   "metadata": {},
   "cell_type": "markdown",
   "source": "# **Run Processing Pipeline**",
   "id": "293dff16a66060a0"
  },
  {
   "metadata": {
    "jupyter": {
     "is_executing": true
    },
    "ExecuteTime": {
     "start_time": "2025-10-16T17:46:27.749637Z"
    }
   },
   "cell_type": "code",
   "source": [
    "src_db = Path(\"/vast/edk202/NLP_corpora/Google_Books/20200217/eng/5gram_files/5grams.db\")\n",
    "dst_db = src_db.parent / \"5grams_processed.db\"\n",
    "tmp_dir = src_db.parent / \"processing_tmp\"\n",
    "whitelist_dir = src_db.parent.parent / \"1gram_files\" / \"1grams_processed.db\" / \"whitelist.txt\"\n",
    "\n",
    "filter_config = FilterConfig(\n",
    "    stop_set=stopwords,\n",
    "    lemma_gen=lemmatizer,\n",
    "    whitelist_path=whitelist_dir\n",
    ")\n",
    "\n",
    "pipeline_config = PipelineConfig(\n",
    "    src_db=src_db,\n",
    "    dst_db=dst_db,\n",
    "    tmp_dir=tmp_dir,\n",
    "    num_workers=34,\n",
    "    num_initial_work_units=360,\n",
    "    max_split_depth=100,\n",
    "    split_check_interval_s=30.0,\n",
    "    mode=\"restart\",\n",
    "    progress_every_s=30.0,\n",
    "    max_items_per_bucket=100_000,\n",
    "    max_bytes_per_bucket=128 * 1024 * 1024\n",
    ")\n",
    "\n",
    "build_processed_db(pipeline_config, filter_config)"
   ],
   "id": "35e8aa97d8255330",
   "outputs": [
    {
     "name": "stdout",
     "output_type": "stream",
     "text": [
      "N-GRAM FILTER PIPELINE\n",
      "━━━━━━━━━━━━━━━━━━━━━━━━━━━━━━━━━━━━━━━━━━━━━━━━━━━━━━━━━━━━━━━━━━━━━━━━━━━━━━━━━━━━━━━━━━━━━━━━━━━━\n",
      "\n",
      "Configuration\n",
      "════════════════════════════════════════════════════════════════════════════════════════════════════\n",
      "\u001B[4mPipeline\u001B[0m\n",
      "Run mode:             restart\n",
      "Compact after ingest: True\n",
      "\n",
      "\u001B[4mWorkers\u001B[0m\n",
      "Num Workers:        34\n",
      "Initial work units: 360\n",
      "Dynamic splitting:  Enabled\n",
      "Profiles:           read=read:packed24, write=write:packed24\n",
      "Buffer:             100,000 items, 128.00 MB\n",
      "\n",
      "\u001B[4mFiles\u001B[0m\n",
      "Source: /vast/edk202/NLP_corpora/Google_Books/20200217/eng/5gram_files/5grams.db\n",
      "Destination: /vast/edk202/NLP_corpora/Google_Books/20200217/eng/5gram_files/5grams_processed.db\n",
      "Input whitelist: ..._corpora/Google_Books/20200217/eng/1gram_files/1grams_processed.db/whitelist.txt\n",
      "  All tokens (min count: 1)\n",
      "Output whitelist: None\n",
      "Loading whitelist...\n",
      "Loaded 30,000 tokens\n",
      "\n",
      "Phase 1: Creating work units...\n",
      "════════════════════════════════════════════════════════════════════════════════════════════════════\n",
      "Clean restart - creating new work units\n",
      "Created 360 uniform work units (byte-range partitioning)\n",
      "Dynamic splitting will handle load balancing at runtime\n",
      "\n",
      "Phase 2: Processing 360 work units with 34 workers...\n",
      "════════════════════════════════════════════════════════════════════════════════════════════════════\n",
      "\n",
      "    items         kept%        workers        units         splits         rate        elapsed    \n",
      "──────────────────────────────────────────────────────────────────────────────────────────────────\n",
      "      0            0.0%       33/34 (1i)     279p·33w         0            0/s           30s      \n",
      "   243.23K        46.0%         34/34        255p·34w         2           4.0k/s        1m00s     \n",
      "    9.79M         71.8%         34/34        245p·34w         8          108.5k/s       1m30s     \n",
      "    15.31M        69.2%         34/34        237p·34w         8          127.3k/s       2m00s     \n",
      "    54.47M        72.2%       30/34 (4i)     239p·30w         32         362.5k/s       2m30s     \n",
      "   103.52M        78.5%         34/34        245p·34w         75         574.3k/s       3m00s     \n",
      "   105.17M        78.8%       32/34 (2i)     230p·32w         78         500.2k/s       3m30s     \n",
      "   142.75M        80.9%       28/34 (6i)     244p·28w        110         594.2k/s       4m00s     \n",
      "   154.60M        81.9%         34/34        220p·34w        112         572.1k/s       4m30s     \n",
      "   158.66M        82.1%         34/34        216p·34w        112         528.5k/s       5m00s     \n",
      "   165.45M        82.7%         34/34        212p·34w        112         501.0k/s       5m30s     \n",
      "   168.46M        83.0%         34/34        210p·34w        112         467.6k/s       6m00s     \n",
      "   190.13M        84.3%         34/34        204p·34w        112         487.2k/s       6m30s     \n",
      "   194.98M        84.6%         34/34        202p·34w        112         464.0k/s       7m00s     \n",
      "   206.95M        85.3%         34/34        199p·34w        112         459.6k/s       7m30s     \n",
      "   215.15M        85.6%         34/34        198p·34w        112         448.0k/s       8m00s     \n",
      "   219.62M        85.9%         34/34        196p·34w        112         430.4k/s       8m30s     \n",
      "   246.99M        87.0%         34/34        192p·34w        112         457.2k/s       9m00s     \n",
      "   316.38M        88.0%       27/34 (7i)     200p·27w        126         554.8k/s       9m30s     \n",
      "   505.48M        89.7%       33/34 (1i)     199p·32w        168         842.1k/s       10m00s    \n",
      "   523.50M        90.0%         34/34        193p·34w        190         830.6k/s       10m30s    \n",
      "   524.35M        90.0%         34/34        148p·34w        190         794.2k/s       11m00s    \n",
      "   547.71M        90.3%       28/34 (6i)     145p·28w        214         793.5k/s       11m30s    \n",
      "   585.38M        90.7%       32/34 (2i)     146p·32w        244         812.8k/s       12m00s    \n",
      "   595.29M        90.8%         34/34        146p·34w        259         793.4k/s       12m30s    \n",
      "   605.67M        90.9%       31/34 (3i)     147p·31w        273         776.2k/s       13m00s    \n",
      "   650.94M        91.4%       32/34 (2i)     160p·32w        303         803.4k/s       13m30s    \n",
      "   663.88M        91.5%       32/34 (2i)     166p·32w        336         790.1k/s       14m00s    \n",
      "   672.86M        91.6%       30/34 (4i)     174p·30w        367         773.2k/s       14m30s    \n",
      "   688.31M        91.7%       33/34 (1i)     184p·32w        398         764.6k/s       15m00s    \n",
      "   702.42M        91.8%         34/34        187p·33w        424         755.1k/s       15m30s    \n",
      "   704.33M        91.8%      11/34 (23i)     206p·11w        447         733.5k/s       16m00s    \n",
      "   704.33M        91.8%       1/34 (33i)     217p·1w         450         711.3k/s       16m30s    \n",
      "   704.33M        91.8%       1/34 (33i)     217p·1w         451         690.4k/s       17m00s    \n",
      "   704.33M        91.8%       1/34 (33i)     217p·1w         452         670.6k/s       17m30s    \n",
      "   704.83M        91.8%       2/34 (32i)     214p·2w         453         652.5k/s       18m00s    \n",
      "   706.04M        91.8%       1/34 (33i)     216p·1w         457         635.9k/s       18m30s    \n",
      "   706.65M        91.8%       0/34 (34i)     216p·0w         458         619.7k/s       19m00s    \n",
      "   706.65M        91.8%       1/34 (33i)     216p·1w         459         603.8k/s       19m30s    \n",
      "   706.65M        91.8%       1/34 (33i)     217p·1w         460         588.7k/s       20m00s    \n",
      "   707.36M        91.8%       1/34 (33i)     215p·1w         462         575.0k/s       20m30s    \n",
      "   707.36M        91.8%       1/34 (33i)     216p·1w         463         561.3k/s       21m00s    \n",
      "   707.89M        91.8%       1/34 (33i)     214p·1w         465         548.6k/s       21m30s    \n",
      "   707.89M        91.8%       1/34 (33i)     215p·1w         466         536.2k/s       22m00s    \n",
      "   709.04M        91.8%       0/34 (34i)     214p·0w         468         525.1k/s       22m30s    \n",
      "   712.05M        91.8%       3/34 (31i)     213p·3w         473         515.9k/s       23m00s    \n",
      "   717.44M        91.9%       5/34 (29i)     212p·5w         478         508.7k/s       23m30s    \n",
      "   718.34M        91.9%       1/34 (33i)     215p·1w         480         498.8k/s       24m00s    \n",
      "   721.37M        91.9%       4/34 (30i)     212p·4w         480         490.6k/s       24m30s    \n",
      "   723.60M        91.9%       2/34 (32i)     209p·2w         485         482.3k/s       25m00s    \n",
      "   724.68M        91.9%       2/34 (32i)     209p·2w         486         473.6k/s       25m30s    \n",
      "   724.68M        91.9%       2/34 (32i)     211p·2w         488         464.5k/s       26m00s    \n",
      "   724.73M        91.9%       1/34 (33i)     212p·1w         489         455.7k/s       26m30s    \n",
      "   726.99M        91.8%       2/34 (32i)     212p·2w         492         448.7k/s       27m00s    \n",
      "   731.51M        91.8%       5/34 (29i)     210p·5w         498         443.3k/s       27m30s    \n",
      "   746.32M        91.8%      21/34 (13i)     200p·21w        523         444.2k/s       28m00s    \n",
      "   746.32M        91.8%      11/34 (23i)     207p·11w        538         436.4k/s       28m30s    \n",
      "   746.33M        91.8%       4/34 (30i)     211p·4w         543         428.9k/s       29m00s    \n",
      "   748.07M        91.8%       4/34 (30i)     214p·4w         548         422.6k/s       29m30s    \n",
      "   748.78M        91.8%       4/34 (30i)     214p·4w         552         415.9k/s       30m00s    \n",
      "   751.72M        91.8%       7/34 (27i)     215p·7w         559         410.7k/s       30m30s    \n",
      "   760.39M        91.9%       9/34 (25i)     220p·9w         571         408.8k/s       31m00s    \n",
      "   769.55M        91.9%       6/34 (28i)     224p·6w         583         407.1k/s       31m30s    \n",
      "   779.16M        92.0%      11/34 (23i)     225p·11w        604         405.8k/s       32m00s    \n",
      "   784.10M        92.0%       5/34 (29i)     232p·5w         613         402.1k/s       32m30s    \n",
      "   786.82M        92.0%       5/34 (29i)     234p·5w         620         397.3k/s       33m00s    \n",
      "   787.73M        92.1%       4/34 (30i)     236p·4w         625         391.9k/s       33m30s    \n",
      "   789.06M        92.1%       2/34 (32i)     237p·2w         631         386.7k/s       34m00s    \n",
      "   794.04M        92.1%       3/34 (31i)     235p·3w         638         383.5k/s       34m30s    \n",
      "   801.14M        92.1%       9/34 (25i)     234p·9w         651         381.4k/s       35m00s    \n",
      "   809.06M        92.1%      12/34 (22i)     230p·12w        670         379.8k/s       35m30s    \n",
      "   812.88M        92.1%      12/34 (22i)     228p·12w        687         376.3k/s       36m00s    \n",
      "   817.89M        92.1%      18/34 (16i)     223p·18w        707         373.4k/s       36m30s    \n",
      "   826.74M        92.2%      15/34 (19i)     228p·15w        728         372.4k/s       37m00s    \n",
      "   834.56M        92.2%      18/34 (16i)     227p·18w        744         370.9k/s       37m30s    \n",
      "   842.60M        92.3%       5/34 (29i)     233p·5w         761         369.5k/s       38m00s    \n",
      "   847.94M        92.3%      16/34 (18i)     222p·16w        771         367.0k/s       38m30s    \n",
      "   855.46M        92.3%      16/34 (18i)     225p·16w        794         365.5k/s       39m00s    \n",
      "   858.61M        92.4%      13/34 (21i)     226p·13w        813         362.2k/s       39m30s    \n",
      "   861.26M        92.4%      10/34 (24i)     228p·10w        837         358.8k/s       40m00s    \n",
      "   865.04M        92.4%      12/34 (22i)     216p·12w        850         355.9k/s       40m30s    \n",
      "   866.69M        92.4%       6/34 (28i)     220p·6w         866         352.3k/s       41m00s    \n",
      "   874.04M        92.4%       7/34 (27i)     217p·7w         885         351.0k/s       41m30s    \n",
      "   876.83M        92.5%      10/34 (24i)     216p·10w        902         347.9k/s       42m00s    \n",
      "   881.62M        92.5%       5/34 (29i)     221p·5w         914         345.7k/s       42m30s    \n",
      "   886.87M        92.5%       5/34 (29i)     220p·5w         928         343.7k/s       43m00s    \n",
      "   894.96M        92.5%      14/34 (20i)     216p·14w        949         342.9k/s       43m30s    \n",
      "   896.01M        92.5%       6/34 (28i)     210p·6w         962         339.4k/s       44m00s    \n",
      "   898.40M        92.6%       9/34 (25i)     207p·9w         971         336.4k/s       44m30s    \n",
      "   901.60M        92.6%      10/34 (24i)     198p·10w        989         333.9k/s       45m00s    \n",
      "   908.62M        92.6%      15/34 (19i)     197p·14w        1014        332.8k/s       45m30s    \n",
      "   912.21M        92.6%       8/34 (26i)     197p·8w         1033        330.5k/s       46m00s    \n",
      "   916.74M        92.7%       9/34 (25i)     195p·9w         1049        328.6k/s       46m30s    \n",
      "   924.29M        92.7%      15/34 (19i)     191p·15w        1067        327.7k/s       47m00s    \n",
      "   930.77M        92.8%      17/34 (17i)     195p·17w        1084        326.6k/s       47m30s    \n",
      "   938.33M        92.8%      15/34 (19i)     200p·15w        1101        325.8k/s       48m00s    \n",
      "   942.64M        92.8%      10/34 (24i)     204p·10w        1114        323.9k/s       48m30s    \n",
      "   956.23M        92.9%      22/34 (12i)     193p·22w        1134        325.2k/s       49m00s    \n",
      "   962.49M        92.9%      21/34 (13i)     199p·21w        1162        324.0k/s       49m30s    \n",
      "   972.66M        93.0%      21/34 (13i)     190p·21w        1183        324.2k/s       50m00s    \n",
      "   975.60M        93.0%      11/34 (23i)     196p·11w        1212        322.0k/s       50m30s    \n",
      "   981.72M        93.0%      18/34 (16i)     192p·18w        1233        320.8k/s       51m00s    \n",
      "   988.09M        93.0%      15/34 (19i)     192p·15w        1253        319.7k/s       51m30s    \n",
      "   995.20M        93.1%      11/34 (23i)     195p·11w        1279        319.0k/s       52m00s    \n",
      "    1.00B         93.1%      16/34 (18i)     188p·16w        1307        317.9k/s       52m30s    \n",
      "    1.01B         93.1%      12/34 (22i)     186p·12w        1325        316.4k/s       53m00s    \n",
      "    1.02B         93.2%      18/34 (16i)     182p·18w        1352        316.2k/s       53m30s    \n",
      "    1.02B         93.2%      14/34 (20i)     188p·14w        1371        313.9k/s       54m00s    \n",
      "    1.03B         93.2%      16/34 (18i)     186p·16w        1390        314.0k/s       54m30s    \n",
      "    1.04B         93.2%      16/34 (18i)     189p·16w        1413        313.9k/s       55m00s    \n",
      "    1.04B         93.3%      11/34 (23i)     195p·11w        1433        313.4k/s       55m30s    \n",
      "    1.05B         93.3%       9/34 (25i)     193p·9w         1451        312.5k/s       56m00s    \n",
      "    1.06B         93.3%      13/34 (21i)     187p·13w        1463        311.6k/s       56m30s    \n",
      "    1.07B         93.4%      17/34 (17i)     180p·17w        1479        311.9k/s       57m00s    \n",
      "    1.07B         93.4%      11/34 (23i)     186p·11w        1506        311.0k/s       57m30s    \n",
      "    1.08B         93.4%      18/34 (16i)     174p·18w        1521        309.3k/s       58m00s    \n",
      "    1.08B         93.4%      16/34 (18i)     178p·16w        1548        308.4k/s       58m30s    \n",
      "    1.09B         93.4%      10/34 (24i)     183p·10w        1567        306.8k/s       59m00s    \n",
      "    1.10B         93.5%      10/34 (24i)     186p·10w        1597        307.6k/s       59m30s    \n",
      "    1.10B         93.5%      15/34 (19i)     174p·15w        1616        306.7k/s       1h00m     \n",
      "    1.11B         93.6%      15/34 (19i)     175p·15w        1644        305.8k/s       1h00m     \n",
      "    1.12B         93.6%      20/34 (14i)     176p·20w        1667        305.2k/s       1h01m     \n",
      "    1.13B         93.6%      15/34 (19i)     180p·15w        1689        304.9k/s       1h01m     \n",
      "    1.13B         93.7%      12/34 (22i)     184p·12w        1711        304.6k/s       1h02m     \n",
      "    1.14B         93.7%      13/34 (21i)     182p·13w        1724        304.0k/s       1h02m     \n",
      "    1.15B         93.7%      13/34 (21i)     181p·13w        1745        303.6k/s       1h03m     \n",
      "    1.15B         93.7%      15/34 (19i)     180p·15w        1766        302.4k/s       1h03m     \n",
      "    1.16B         93.8%      15/34 (19i)     179p·15w        1791        302.0k/s       1h04m     \n",
      "    1.17B         93.8%      11/34 (23i)     184p·11w        1805        301.1k/s       1h04m     \n",
      "    1.17B         93.8%      20/34 (14i)     181p·19w        1822        301.0k/s       1h05m     \n",
      "    1.18B         93.9%      10/34 (24i)     187p·10w        1842        300.3k/s       1h05m     \n",
      "    1.19B         93.9%      21/34 (13i)     187p·21w        1869        300.4k/s       1h06m     \n",
      "    1.20B         94.0%      12/34 (22i)     180p·12w        1890        300.1k/s       1h06m     \n",
      "    1.20B         94.0%      15/34 (19i)     182p·15w        1907        299.2k/s       1h07m     \n",
      "    1.22B         94.0%      21/34 (13i)     168p·21w        1929        300.2k/s       1h07m     \n",
      "    1.22B         94.0%      20/34 (14i)     172p·19w        1954        298.8k/s       1h08m     \n",
      "    1.23B         94.1%      11/34 (23i)     176p·11w        1981        298.2k/s       1h08m     \n",
      "    1.23B         94.1%      18/34 (16i)     163p·19w        1996        297.2k/s       1h09m     \n",
      "    1.24B         94.1%      15/34 (19i)     165p·15w        2025        296.9k/s       1h09m     \n",
      "    1.24B         94.1%       8/34 (26i)     169p·8w         2040        295.3k/s       1h10m     \n",
      "    1.25B         94.2%      16/34 (18i)     168p·16w        2061        296.5k/s       1h10m     \n",
      "    1.26B         94.2%       7/34 (27i)     176p·7w         2082        296.1k/s       1h11m     \n",
      "    1.27B         94.2%       8/34 (26i)     178p·8w         2103        295.5k/s       1h11m     \n",
      "    1.28B         94.3%      13/34 (21i)     169p·13w        2124        295.4k/s       1h12m     \n",
      "    1.28B         94.3%      12/34 (22i)     171p·11w        2140        294.7k/s       1h12m     \n",
      "    1.28B         94.3%       7/34 (27i)     173p·7w         2158        293.3k/s       1h13m     \n",
      "    1.29B         94.3%      15/34 (19i)     163p·15w        2182        292.9k/s       1h13m     \n",
      "    1.30B         94.3%      11/34 (23i)     163p·11w        2199        292.2k/s       1h14m     \n",
      "    1.31B         94.4%      15/34 (19i)     162p·15w        2219        292.1k/s       1h14m     \n",
      "    1.31B         94.4%      16/34 (18i)     161p·16w        2241        291.5k/s       1h15m     \n",
      "    1.32B         94.4%      18/34 (16i)     161p·19w        2268        291.1k/s       1h15m     \n",
      "    1.32B         94.4%      23/34 (11i)     158p·23w        2290        290.3k/s       1h16m     \n",
      "    1.33B         94.4%      12/34 (22i)     167p·12w        2311        289.5k/s       1h16m     \n",
      "    1.34B         94.4%      15/34 (19i)     167p·14w        2330        289.6k/s       1h17m     \n",
      "    1.35B         94.4%      22/34 (12i)     161p·22w        2353        289.4k/s       1h17m     \n",
      "    1.35B         94.5%      11/34 (23i)     172p·11w        2382        288.3k/s       1h18m     \n",
      "    1.36B         94.5%      15/34 (19i)     168p·15w        2402        287.8k/s       1h18m     \n",
      "    1.36B         94.5%      16/34 (18i)     168p·16w        2421        287.3k/s       1h19m     \n",
      "    1.37B         94.5%      18/34 (16i)     162p·18w        2441        287.4k/s       1h19m     \n",
      "    1.38B         94.5%      13/34 (21i)     165p·13w        2461        287.1k/s       1h20m     \n",
      "    1.39B         94.6%       25/34 (9i)     161p·25w        2486        287.8k/s       1h20m     \n",
      "    1.40B         94.6%      19/34 (15i)     166p·19w        2509        287.7k/s       1h21m     \n",
      "    1.41B         94.6%      12/34 (22i)     170p·12w        2535        287.3k/s       1h21m     \n",
      "    1.41B         94.6%      10/34 (24i)     175p·10w        2557        286.9k/s       1h22m     \n",
      "    1.42B         94.6%       9/34 (25i)     174p·9w         2577        286.5k/s       1h22m     \n",
      "    1.42B         94.7%      11/34 (23i)     172p·11w        2601        285.9k/s       1h23m     \n",
      "    1.43B         94.7%      21/34 (13i)     161p·22w        2619        285.7k/s       1h23m     \n",
      "    1.44B         94.7%      16/34 (18i)     161p·16w        2646        285.4k/s       1h24m     \n",
      "    1.44B         94.7%      14/34 (20i)     166p·14w        2667        284.4k/s       1h24m     \n",
      "    1.45B         94.7%       9/34 (25i)     168p·9w         2689        284.0k/s       1h25m     \n",
      "    1.46B         94.8%       9/34 (25i)     168p·9w         2713        284.3k/s       1h25m     \n",
      "    1.46B         94.8%      11/34 (23i)     165p·11w        2729        282.9k/s       1h26m     \n",
      "    1.47B         94.8%      19/34 (15i)     160p·19w        2755        283.4k/s       1h26m     \n",
      "    1.48B         94.8%      15/34 (19i)     166p·14w        2772        282.6k/s       1h27m     \n",
      "    1.48B         94.8%      18/34 (16i)     163p·18w        2793        282.0k/s       1h27m     \n",
      "    1.49B         94.8%      18/34 (16i)     158p·18w        2814        281.6k/s       1h28m     \n",
      "    1.49B         94.8%       8/34 (26i)     168p·8w         2835        280.7k/s       1h28m     \n",
      "    1.49B         94.8%      10/34 (24i)     162p·10w        2850        279.8k/s       1h29m     \n",
      "    1.50B         94.8%      11/34 (23i)     157p·11w        2866        279.4k/s       1h29m     \n",
      "    1.51B         94.9%      14/34 (20i)     160p·14w        2890        279.1k/s       1h30m     \n",
      "    1.51B         94.9%      18/34 (16i)     160p·18w        2911        278.5k/s       1h30m     \n",
      "    1.52B         94.9%      11/34 (23i)     161p·11w        2935        278.5k/s       1h31m     \n",
      "    1.52B         94.9%      13/34 (21i)     158p·13w        2958        277.8k/s       1h31m     \n"
     ]
    }
   ],
   "execution_count": null
  },
  {
   "metadata": {},
   "cell_type": "code",
   "outputs": [],
   "execution_count": null,
   "source": "virtual void MergeBatch(const std::vector<std::pair<std::string, std::string>>& items) = 0;",
   "id": "6f0d8f3a28bc3ef7"
  },
  {
   "metadata": {},
   "cell_type": "markdown",
   "source": [
    "# **Inspect the Procesed Database**\n",
    "## `db_head`: Print the first _N_ key–value pairs"
   ],
   "id": "b916bcb8f52efc4e"
  },
  {
   "metadata": {
    "ExecuteTime": {
     "end_time": "2025-10-15T19:36:10.565335Z",
     "start_time": "2025-10-15T19:36:09.331843Z"
    }
   },
   "cell_type": "code",
   "source": [
    "db_path = \"/vast/edk202/NLP_corpora/Google_Books/20200217/eng/5gram_files/5grams_processed.db\"\n",
    "\n",
    "db_head(db_path, key_format=\"utf-8\", value_format=\"packed\", n=5)"
   ],
   "id": "602ef9dec8103212",
   "outputs": [
    {
     "name": "stdout",
     "output_type": "stream",
     "text": [
      "First 5 key-value pairs:\n",
      "────────────────────────────────────────────────────────────────────────────────────────────────────\n",
      "[ 1] Key:   <UNK> <UNK> <UNK> <UNK> aaa\n",
      "     Value: [166 records] ... +156 earlier, (2010, 676, 433), (2011, 531, 360), (2012, 507, 342)\n",
      "            (2013, 356, 246), (2014, 425, 286), (2015, 322, 219), (2016, 313, 232)\n",
      "            (2017, 246, 202), (2018, 228, 125), (2019, 191, 123)\n",
      "\n",
      "[ 2] Key:   <UNK> <UNK> <UNK> <UNK> aar\n",
      "     Value: [220 records] ... +210 earlier, (2010, 63, 54), (2011, 62, 51), (2012, 31, 31), (2013, 51, 51)\n",
      "            (2014, 80, 38), (2015, 30, 28), (2016, 19, 17), (2017, 52, 51), (2018, 1140, 1136)\n",
      "            (2019, 15, 15)\n",
      "\n",
      "[ 3] Key:   <UNK> <UNK> <UNK> <UNK> aaron\n",
      "     Value: [304 records] ... +294 earlier, (2010, 1929, 1736), (2011, 2095, 1935), (2012, 2762, 2518)\n",
      "            (2013, 2385, 2195), (2014, 2637, 2441), (2015, 2500, 2252), (2016, 2176, 1949)\n",
      "            (2017, 9100, 6289), (2018, 2809, 2607), (2019, 2034, 1886)\n",
      "\n",
      "[ 4] Key:   <UNK> <UNK> <UNK> <UNK> aba\n",
      "     Value: [162 records] ... +152 earlier, (2010, 377, 298), (2011, 215, 184), (2012, 588, 421)\n",
      "            (2013, 472, 336), (2014, 268, 178), (2015, 243, 193), (2016, 658, 476)\n",
      "            (2017, 680, 416), (2018, 1043, 737), (2019, 270, 223)\n",
      "\n",
      "[ 5] Key:   <UNK> <UNK> <UNK> <UNK> aback\n",
      "     Value: [169 records] ... +159 earlier, (2010, 6, 6), (2011, 6, 6), (2012, 12, 12), (2013, 19, 19)\n",
      "            (2014, 19, 19), (2015, 17, 17), (2016, 20, 18), (2017, 70, 64), (2018, 62, 62)\n",
      "            (2019, 14, 14)\n",
      "\n"
     ]
    }
   ],
   "execution_count": 5
  },
  {
   "metadata": {},
   "cell_type": "markdown",
   "source": "## `db_peek`: Print _N_ key-value pairs starting at the specified key",
   "id": "a5cd2b4c5b2bef6c"
  },
  {
   "metadata": {
    "ExecuteTime": {
     "end_time": "2025-10-15T19:36:14.505506Z",
     "start_time": "2025-10-15T19:36:13.796117Z"
    }
   },
   "cell_type": "code",
   "source": [
    "db_path = \"/vast/edk202/NLP_corpora/Google_Books/20200217/eng/5gram_files/5grams_processed.db\"\n",
    "\n",
    "db_peek(db_path, start_key=b\"quick brown <UNK> <UNK> <UNK>\", key_format=\"utf-8\", value_format=\"packed\", n=5)\n"
   ],
   "id": "4ae0c4f82ae61dbd",
   "outputs": [
    {
     "name": "stdout",
     "output_type": "stream",
     "text": [
      "5 key-value pairs starting from 717569636b2062726f776e203c554e4b3e203c554e4b3e203c554e4b3e:\n",
      "────────────────────────────────────────────────────────────────────────────────────────────────────\n",
      "[ 1] Key:   quick brown <UNK> <UNK> <UNK>\n",
      "     Value: [21 records] ... +11 earlier, (2006, 4, 3), (2007, 1, 1), (2008, 13, 3), (2009, 2, 2)\n",
      "            (2010, 5, 4), (2011, 2, 2), (2012, 9, 7), (2013, 5, 3), (2014, 2, 1), (2016, 1, 1)\n",
      "\n",
      "[ 2] Key:   quick brown eye <UNK> <UNK>\n",
      "     Value: [156 records] ... +146 earlier, (2010, 5, 5), (2011, 6, 6), (2012, 10, 10), (2013, 19, 19)\n",
      "            (2014, 18, 18), (2015, 22, 22), (2016, 18, 18), (2017, 26, 26), (2018, 99, 99)\n",
      "            (2019, 16, 16)\n",
      "\n",
      "[ 3] Key:   quick brown eye <UNK> butler\n",
      "     Value: [10 records] (1866, 23, 23), (1867, 2, 2), (1869, 2, 2), (1870, 2, 2), (1871, 4, 4), (1875, 3, 3)\n",
      "            (1891, 1, 1), (1892, 1, 1), (1903, 1, 1), (1908, 1, 1)\n",
      "\n",
      "[ 4] Key:   quick brown eye take <UNK>\n",
      "     Value: [36 records] ... +26 earlier, (2007, 1, 1), (2008, 9, 9), (2009, 1, 1), (2011, 2, 2), (2012, 3, 3)\n",
      "            (2013, 1, 1), (2014, 1, 1), (2015, 1, 1), (2018, 2, 2), (2019, 5, 5)\n",
      "\n",
      "[ 5] Key:   quick brown fox <UNK> <UNK>\n",
      "     Value: [74 records] ... +64 earlier, (2010, 86, 45), (2011, 19, 18), (2012, 75, 42), (2013, 69, 35)\n",
      "            (2014, 61, 33), (2015, 85, 26), (2016, 58, 35), (2017, 56, 22), (2018, 45, 20)\n",
      "            (2019, 7, 6)\n",
      "\n"
     ]
    }
   ],
   "execution_count": 6
  },
  {
   "metadata": {},
   "cell_type": "markdown",
   "source": "## `db_peek_prefix`: Print key-value pairs containing the specified prefix",
   "id": "f0261bc901193643"
  },
  {
   "metadata": {
    "ExecuteTime": {
     "end_time": "2025-10-15T19:36:29.965408Z",
     "start_time": "2025-10-15T19:36:29.393732Z"
    }
   },
   "cell_type": "code",
   "source": [
    "db_path = \"/vast/edk202/NLP_corpora/Google_Books/20200217/eng/5gram_files/5grams_processed.db\"\n",
    "\n",
    "db_peek_prefix(db_path, prefix=b\"<UNK> united state <UNK> <UNK>\", key_format=\"utf-8\", value_format=\"summary\", n=1)"
   ],
   "id": "b04a9e9cf0cc209f",
   "outputs": [
    {
     "name": "stdout",
     "output_type": "stream",
     "text": [
      "1 key-value pairs with prefix 3c554e4b3e20756e69746564207374617465203c554e4b3e203c554e4b3e:\n",
      "────────────────────────────────────────────────────────────────────────────────────────────────────\n",
      "[ 1] Key:   <UNK> united state <UNK> <UNK>\n",
      "     Value: Total: 163,751,741 occurrences in 97,174,930 volumes (1472-2019, 384 years)\n",
      "\n"
     ]
    }
   ],
   "execution_count": 7
  },
  {
   "metadata": {},
   "cell_type": "code",
   "source": "",
   "id": "35abdd0e1baea1b1",
   "outputs": [],
   "execution_count": null
  }
 ],
 "metadata": {
  "kernelspec": {
   "display_name": "hist_w2v (Singularity)",
   "language": "python",
   "name": "hist_w2v"
  },
  "language_info": {
   "codemirror_mode": {
    "name": "ipython",
    "version": 3
   },
   "file_extension": ".py",
   "mimetype": "text/x-python",
   "name": "python",
   "nbconvert_exporter": "python",
   "pygments_lexer": "ipython3",
   "version": "3.11.13"
  }
 },
 "nbformat": 4,
 "nbformat_minor": 5
}
