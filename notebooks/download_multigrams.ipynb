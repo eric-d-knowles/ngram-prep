{
 "cells": [
  {
   "metadata": {
    "ExecuteTime": {
     "end_time": "2025-09-15T00:50:35.034857Z",
     "start_time": "2025-09-15T00:50:22.243214Z"
    }
   },
   "cell_type": "code",
   "source": [
    "%cd /scratch/edk202/ngram-prep\n",
    "\n",
    "%env LC_ALL=C.UTF-8\n",
    "%env LANG=C.UTF-8\n",
    "\n",
    "%pip install -e . --no-build-isolation -q"
   ],
   "id": "e2b29f8010b30c2e",
   "outputs": [
    {
     "name": "stdout",
     "output_type": "stream",
     "text": [
      "/scratch/edk202/ngram-prep\n",
      "env: LC_ALL=C.UTF-8\n",
      "env: LANG=C.UTF-8\n",
      "Note: you may need to restart the kernel to use updated packages.\n"
     ]
    }
   ],
   "execution_count": 1
  },
  {
   "metadata": {
    "ExecuteTime": {
     "end_time": "2025-09-15T00:50:44.616867Z",
     "start_time": "2025-09-15T00:50:44.370651Z"
    }
   },
   "cell_type": "code",
   "source": [
    "# Auto-reload packages\n",
    "%load_ext autoreload\n",
    "%autoreload 2"
   ],
   "id": "ce854c30d3ed2553",
   "outputs": [],
   "execution_count": 2
  },
  {
   "metadata": {
    "ExecuteTime": {
     "end_time": "2025-09-15T00:50:47.452706Z",
     "start_time": "2025-09-15T00:50:44.617916Z"
    }
   },
   "cell_type": "code",
   "source": [
    "# Standard stuff\n",
    "from pathlib import Path\n",
    "\n",
    "# NLTK stuff\n",
    "from nltk.corpus import stopwords; stopwords = set(stopwords.words(\"english\"))\n",
    "from nltk.stem import WordNetLemmatizer; lemmatizer = WordNetLemmatizer()\n",
    "\n",
    "# Raw n-gram acquisition stuff\n",
    "from ngram_acquire.pipeline.orchestrate import download_and_ingest_to_rocksdb\n",
    "from ngram_acquire.pipeline.logger import setup_logger\n",
    "\n",
    "# Cython utilities\n",
    "from ngram_filter.config import PipelineConfig, FilterConfig\n",
    "from ngram_filter.pipeline.orchestrator import build_processed_db"
   ],
   "id": "66bfa7710298d111",
   "outputs": [],
   "execution_count": 3
  },
  {
   "metadata": {
    "ExecuteTime": {
     "end_time": "2025-09-15T00:50:48.659098Z",
     "start_time": "2025-09-15T00:50:48.547569Z"
    }
   },
   "cell_type": "code",
   "source": [
    "setup_logger(\n",
    "    db_path=\"/vast/edk202/NLP_corpora/Google_Books/20200217/eng/5gram_files/1grams.db\",\n",
    "    console=False,\n",
    "    rotate=True,\n",
    "    max_bytes=100_000_000,\n",
    "    backup_count=5,\n",
    "    force=True\n",
    ")"
   ],
   "id": "fd41f453d3936ce3",
   "outputs": [
    {
     "data": {
      "text/plain": [
       "PosixPath('/vast/edk202/NLP_corpora/Google_Books/20200217/eng/5gram_files/1grams.db/ngram_download_20250914_205048.log')"
      ]
     },
     "execution_count": 4,
     "metadata": {},
     "output_type": "execute_result"
    }
   ],
   "execution_count": 4
  },
  {
   "metadata": {},
   "cell_type": "markdown",
   "source": "# **Download 5-Grams and Ingest to a RocksDB Database**",
   "id": "51b58f57597b05ea"
  },
  {
   "metadata": {
    "ExecuteTime": {
     "start_time": "2025-09-07T01:58:02.911645Z"
    }
   },
   "cell_type": "code",
   "source": [
    "download_and_ingest_to_rocksdb(\n",
    "    ngram_size = 5,\n",
    "    repo_release_id = \"20200217\",\n",
    "    repo_corpus_id = \"eng\",\n",
    "    db_path = \"/vast/edk202/NLP_corpora/Google_Books/20200217/eng/5gram_files/5grams.db\",\n",
    "    file_range = (0, 19422),\n",
    "    random_seed = 21,\n",
    "    workers = 39,\n",
    "    use_threads = False,\n",
    "    ngram_type = \"tagged\",\n",
    "    overwrite = False,\n",
    "    write_batch_size = 100_000,\n",
    "    open_type = \"write:packed24\",\n",
    "    post_compact = False\n",
    ")"
   ],
   "id": "65902ca87dcac5b1",
   "outputs": [
    {
     "name": "stdout",
     "output_type": "stream",
     "text": [
      "\u001B[31mStart Time: 2025-09-06 21:58:02\u001B[0m\n",
      "\u001B[4m\n",
      "Download & Ingestion Configuration\u001B[0m\n",
      "Ngram repository:           https://storage.googleapis.com/books/ngrams/books/20200217/eng/eng-5-ngrams_exports.html\n",
      "RocksDB database path:      /vast/edk202/NLP_corpora/Google_Books/20200217/eng/5gram_files/5grams.db\n",
      "File index range:           0 to 19422 (count ~ 19423)\n",
      "Total files available:      19423\n",
      "Files to process:           9657\n",
      "First file URL:             http://storage.googleapis.com/books/ngrams/books/20200217/eng/5-16099-of-19423.gz\n",
      "Last file URL:              http://storage.googleapis.com/books/ngrams/books/20200217/eng/5-03676-of-19423.gz\n",
      "Ngram size:                 5\n",
      "Ngram filtering:            tagged\n",
      "Overwrite mode:             False\n",
      "Files to skip (processed):  9766\n",
      "Write batch size:           100,000\n",
      "Worker processes/threads:   39 (processes)\n",
      "\n"
     ]
    },
    {
     "name": "stderr",
     "output_type": "stream",
     "text": [
      "Processing Files:   4%|\u001B[34m▍         \u001B[0m| 411/9657 [10:44<2:19:25,  1.11files/s] "
     ]
    }
   ],
   "execution_count": null
  },
  {
   "metadata": {},
   "cell_type": "markdown",
   "source": "## Process the Ngrams",
   "id": "7b87630cc83eaebb"
  },
  {
   "metadata": {
    "jupyter": {
     "is_executing": true
    },
    "ExecuteTime": {
     "start_time": "2025-09-15T00:50:58.521303Z"
    }
   },
   "cell_type": "code",
   "source": [
    "src_db = Path(\"/vast/edk202/NLP_corpora/Google_Books/20200217/eng/5gram_files/5grams.db\")\n",
    "dst_db = src_db.parent / \"5grams_processed.db\"\n",
    "tmp_dir = src_db.parent / \"processing_tmp\"\n",
    "wht_path =\"/vast/edk202/NLP_corpora/Google_Books/20200217/eng/5gram_files/1grams_processed.db/whitelist.txt\"\n",
    "\n",
    "# Default configs or override as desired\n",
    "pipeline_config = PipelineConfig(\n",
    "    src_db=src_db,\n",
    "    dst_db=dst_db,\n",
    "    tmp_dir=tmp_dir,\n",
    "    readers=8,\n",
    "    force_restart=False,\n",
    "    progress_every_s=60.0,\n",
    ")\n",
    "\n",
    "filter_config = FilterConfig(\n",
    "    stop_set=stopwords,\n",
    "    lemma_gen=lemmatizer,\n",
    "    whitelist_path=wht_path\n",
    ")\n",
    "\n",
    "build_processed_db(pipeline_config, filter_config)"
   ],
   "id": "ddab7723316c43f5",
   "outputs": [
    {
     "name": "stdout",
     "output_type": "stream",
     "text": [
      "N-GRAM FILTER PIPELINE\n",
      "━━━━━━━━━━━━━━━━━━━━━━━━━━━━━━━━━━━━━━━━━━━━━━━━━━━━━━━━━━━━━━━━━━━━━━━━━━━━━━━━━━━━━━━━━━━━━━━━━━━━\n",
      "\n",
      "Configuration:\n",
      "════════════════════════════════════════════════════════════════════════════════════════════════════\n",
      "  Workers: 8\n",
      "  Work units: 64\n",
      "  Source: /vast/edk202/NLP_corpora/Google_Books/20200217/eng/5gram_files/5grams.db\n",
      "  Destination: 02/NLP_corpora/Google_Books/20200217/eng/5gram_files/5grams_processed.db\n",
      "  Buffer: 25,000 items, 16MB\n",
      "  Profile: write:packed24\n",
      "  Input whitelist: .../Google_Books/20200217/eng/5gram_files/1grams_processed.db/whitelist.txt\n",
      "    All tokens (min count: 1)\n",
      "  Output whitelist: None\n",
      "  Loading whitelist...\n",
      "  Loaded 60,000 tokens\n",
      "\n",
      "Phase 1: Creating work units...\n",
      "════════════════════════════════════════════════════════════════════════════════════════════════════\n",
      "  Force restart requested - clearing existing work units\n",
      "  Creating 64 work units using ASCII range...\n",
      "  Created 64 work units covering range 0x21-0x7e\n",
      "  Created 64 work units\n",
      "\n",
      "Phase 2: Processing 64 work units with 8 workers...\n",
      "════════════════════════════════════════════════════════════════════════════════════════════════════\n",
      "\n",
      "    recs scanned   recs written   items kept     throughput     elapsed\n",
      "   ─────────────────────────────────────────────────────────────────────\n",
      "    0              0              0%             0/s            1m00s       \n",
      "    0              0              0%             0/s            2m00s       \n",
      "    0              0              0%             0/s            3m00s       \n",
      "    1,511,795      1,043,047      74%            6.3k/s         4m00s       \n",
      "    6,856,438      5,120,767      76%            22.8k/s        5m00s       \n",
      "    10,963,098     8,601,353      79%            30.4k/s        6m00s       \n",
      "    19,028,580     15,770,725     83%            45.3k/s        7m00s       \n",
      "    25,149,766     20,891,850     83%            52.4k/s        8m00s       \n",
      "    32,510,107     27,445,120     85%            60.2k/s        9m00s       \n",
      "    42,221,934     35,756,712     85%            70.4k/s        10m00s      \n",
      "    52,902,526     44,323,266     84%            80.1k/s        11m00s      \n"
     ]
    }
   ],
   "execution_count": null
  }
 ],
 "metadata": {
  "kernelspec": {
   "display_name": "hist_w2v (Singularity)",
   "language": "python",
   "name": "hist_w2v"
  },
  "language_info": {
   "codemirror_mode": {
    "name": "ipython",
    "version": 3
   },
   "file_extension": ".py",
   "mimetype": "text/x-python",
   "name": "python",
   "nbconvert_exporter": "python",
   "pygments_lexer": "ipython3",
   "version": "3.11.13"
  }
 },
 "nbformat": 4,
 "nbformat_minor": 5
}
