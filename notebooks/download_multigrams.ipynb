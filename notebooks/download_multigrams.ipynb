{
 "cells": [
  {
   "metadata": {},
   "cell_type": "code",
   "source": [
    "%cd /scratch/edk202/ngram-prep\n",
    "\n",
    "%env LC_ALL=C.UTF-8\n",
    "%env LANG=C.UTF-8\n",
    "\n",
    "%pip install -e . --no-build-isolation -q"
   ],
   "id": "e2b29f8010b30c2e",
   "outputs": [],
   "execution_count": null
  },
  {
   "metadata": {
    "ExecuteTime": {
     "end_time": "2025-09-18T23:07:00.112307Z",
     "start_time": "2025-09-18T23:07:00.057828Z"
    }
   },
   "cell_type": "code",
   "source": [
    "# Auto-reload packages\n",
    "%load_ext autoreload\n",
    "%autoreload 2"
   ],
   "id": "ce854c30d3ed2553",
   "outputs": [],
   "execution_count": 1
  },
  {
   "metadata": {
    "ExecuteTime": {
     "end_time": "2025-09-18T23:07:05.343976Z",
     "start_time": "2025-09-18T23:07:00.124286Z"
    }
   },
   "cell_type": "code",
   "source": [
    "# Standard stuff\n",
    "from pathlib import Path\n",
    "\n",
    "# NLTK stuff\n",
    "from nltk.corpus import stopwords; stopwords = set(stopwords.words(\"english\"))\n",
    "from nltk.stem import WordNetLemmatizer; lemmatizer = WordNetLemmatizer()\n",
    "\n",
    "# Raw n-gram acquisition stuff\n",
    "from ngram_acquire.pipeline.orchestrate import download_and_ingest_to_rocksdb\n",
    "from ngram_acquire.pipeline.logger import setup_logger\n",
    "\n",
    "# Cython utilities\n",
    "from ngram_filter.config import PipelineConfig, FilterConfig\n",
    "from ngram_filter.pipeline.orchestrator import build_processed_db"
   ],
   "id": "66bfa7710298d111",
   "outputs": [],
   "execution_count": 2
  },
  {
   "metadata": {
    "ExecuteTime": {
     "end_time": "2025-09-18T23:07:12.869763Z",
     "start_time": "2025-09-18T23:07:12.782301Z"
    }
   },
   "cell_type": "code",
   "source": [
    "setup_logger(\n",
    "    db_path=\"/vast/edk202/NLP_corpora/Google_Books/20200217/eng/5gram_files/1grams.db\",\n",
    "    console=False,\n",
    "    rotate=True,\n",
    "    max_bytes=100_000_000,\n",
    "    backup_count=5,\n",
    "    force=True\n",
    ")"
   ],
   "id": "fd41f453d3936ce3",
   "outputs": [
    {
     "data": {
      "text/plain": [
       "PosixPath('/vast/edk202/NLP_corpora/Google_Books/20200217/eng/5gram_files/1grams.db/ngram_download_20250918_190712.log')"
      ]
     },
     "execution_count": 3,
     "metadata": {},
     "output_type": "execute_result"
    }
   ],
   "execution_count": 3
  },
  {
   "metadata": {},
   "cell_type": "markdown",
   "source": "# **Download 5-Grams and Ingest to a RocksDB Database**",
   "id": "51b58f57597b05ea"
  },
  {
   "metadata": {
    "jupyter": {
     "is_executing": true
    },
    "ExecuteTime": {
     "start_time": "2025-09-19T00:59:20.000852Z"
    }
   },
   "cell_type": "code",
   "source": [
    "download_and_ingest_to_rocksdb(\n",
    "    ngram_size = 5,\n",
    "    repo_release_id = \"20200217\",\n",
    "    repo_corpus_id = \"eng\",\n",
    "    db_path = \"/vast/edk202/NLP_corpora/Google_Books/20200217/eng/5gram_files/5grams.db\",\n",
    "    file_range = (17000, 19422),\n",
    "    random_seed = 11,\n",
    "    workers = 40,\n",
    "    use_threads = False,\n",
    "    ngram_type = \"tagged\",\n",
    "    overwrite = False,\n",
    "    write_batch_size = 100_000,\n",
    "    open_type = \"write:packed24\",\n",
    "    post_compact = True\n",
    ")"
   ],
   "id": "65902ca87dcac5b1",
   "outputs": [
    {
     "name": "stdout",
     "output_type": "stream",
     "text": [
      "\u001B[31mStart Time: 2025-09-18 20:59:20\u001B[0m\n",
      "\u001B[4m\n",
      "Download & Ingestion Configuration\u001B[0m\n",
      "Ngram repository:           https://storage.googleapis.com/books/ngrams/books/20200217/eng/eng-5-ngrams_exports.html\n",
      "RocksDB database path:      /vast/edk202/NLP_corpora/Google_Books/20200217/eng/5gram_files/5grams.db\n",
      "File index range:           17000 to 19422 (count ~ 2423)\n",
      "Total files available:      19423\n",
      "Files to process:           1423\n",
      "First file URL:             http://storage.googleapis.com/books/ngrams/books/20200217/eng/5-19353-of-19423.gz\n",
      "Last file URL:              http://storage.googleapis.com/books/ngrams/books/20200217/eng/5-18926-of-19423.gz\n",
      "Ngram size:                 5\n",
      "Ngram filtering:            tagged\n",
      "Overwrite mode:             False\n",
      "Files to skip (processed):  1000\n",
      "Write batch size:           100,000\n",
      "Worker processes/threads:   40 (processes)\n",
      "\n"
     ]
    },
    {
     "name": "stderr",
     "output_type": "stream",
     "text": [
      "Processing Files:  87%|\u001B[34m████████▋ \u001B[0m| 1236/1423 [49:12<09:22,  3.01s/files] "
     ]
    }
   ],
   "execution_count": null
  },
  {
   "metadata": {
    "ExecuteTime": {
     "end_time": "2025-09-19T00:59:19.973810Z",
     "start_time": "2025-09-18T23:07:26.725713Z"
    }
   },
   "cell_type": "code",
   "source": [
    "from common_db.api import open_db\n",
    "\n",
    "db_path = \"/vast/edk202/NLP_corpora/Google_Books/20200217/eng/5gram_files/5grams.db\"\n",
    "\n",
    "with open_db(db_path, mode=\"rw\") as db:\n",
    "    db.compact_all()"
   ],
   "id": "40931c497e1c4aea",
   "outputs": [],
   "execution_count": 5
  },
  {
   "metadata": {},
   "cell_type": "markdown",
   "source": "## Process the Ngrams",
   "id": "7b87630cc83eaebb"
  },
  {
   "metadata": {
    "jupyter": {
     "is_executing": true
    }
   },
   "cell_type": "code",
   "source": [
    "src_db = Path(\"/vast/edk202/NLP_corpora/Google_Books/20200217/eng/5gram_files/5grams.db\")\n",
    "dst_db = src_db.parent / \"5grams_processed.db\"\n",
    "tmp_dir = src_db.parent / \"processing_tmp\"\n",
    "wht_path =\"/vast/edk202/NLP_corpora/Google_Books/20200217/eng/5gram_files/1grams_processed.db/whitelist.txt\"\n",
    "\n",
    "# Default configs or override as desired\n",
    "pipeline_config = PipelineConfig(\n",
    "    src_db=src_db,\n",
    "    dst_db=dst_db,\n",
    "    tmp_dir=tmp_dir,\n",
    "    readers=8,\n",
    "    work_units_per_reader=16,\n",
    "    force_restart=True,\n",
    "    progress_every_s=60.0,\n",
    ")\n",
    "\n",
    "filter_config = FilterConfig(\n",
    "    stop_set=stopwords,\n",
    "    lemma_gen=lemmatizer,\n",
    "    whitelist_path=wht_path\n",
    ")\n",
    "\n",
    "build_processed_db(pipeline_config, filter_config)"
   ],
   "id": "ddab7723316c43f5",
   "outputs": [],
   "execution_count": null
  }
 ],
 "metadata": {
  "kernelspec": {
   "display_name": "hist_w2v (Singularity)",
   "language": "python",
   "name": "hist_w2v"
  },
  "language_info": {
   "codemirror_mode": {
    "name": "ipython",
    "version": 3
   },
   "file_extension": ".py",
   "mimetype": "text/x-python",
   "name": "python",
   "nbconvert_exporter": "python",
   "pygments_lexer": "ipython3",
   "version": "3.11.13"
  }
 },
 "nbformat": 4,
 "nbformat_minor": 5
}
