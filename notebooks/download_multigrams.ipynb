{
 "cells": [
  {
   "metadata": {
    "ExecuteTime": {
     "end_time": "2025-09-22T03:20:35.848218Z",
     "start_time": "2025-09-22T03:20:23.811093Z"
    }
   },
   "cell_type": "code",
   "source": [
    "%cd /scratch/edk202/ngram-prep\n",
    "\n",
    "%env LC_ALL=C.UTF-8\n",
    "%env LANG=C.UTF-8\n",
    "\n",
    "%pip install -e . --no-build-isolation -q"
   ],
   "id": "e2b29f8010b30c2e",
   "outputs": [
    {
     "name": "stdout",
     "output_type": "stream",
     "text": [
      "/scratch/edk202/ngram-prep\n",
      "env: LC_ALL=C.UTF-8\n",
      "env: LANG=C.UTF-8\n",
      "Note: you may need to restart the kernel to use updated packages.\n"
     ]
    }
   ],
   "execution_count": 1
  },
  {
   "metadata": {
    "ExecuteTime": {
     "end_time": "2025-09-22T22:43:28.919838Z",
     "start_time": "2025-09-22T22:43:28.892003Z"
    }
   },
   "cell_type": "code",
   "source": [
    "# Auto-reload packages\n",
    "%load_ext autoreload\n",
    "%autoreload 2"
   ],
   "id": "ce854c30d3ed2553",
   "outputs": [],
   "execution_count": 1
  },
  {
   "metadata": {
    "ExecuteTime": {
     "end_time": "2025-09-22T22:43:29.751073Z",
     "start_time": "2025-09-22T22:43:29.031124Z"
    }
   },
   "cell_type": "code",
   "source": [
    "# Standard stuff\n",
    "from pathlib import Path\n",
    "\n",
    "# NLTK stuff\n",
    "from nltk.corpus import stopwords; stopwords = set(stopwords.words(\"english\"))\n",
    "from nltk.stem import WordNetLemmatizer; lemmatizer = WordNetLemmatizer()\n",
    "\n",
    "# Raw n-gram acquisition stuff\n",
    "from ngram_acquire.pipeline.orchestrate import download_and_ingest_to_rocksdb\n",
    "from ngram_acquire.pipeline.logger import setup_logger\n",
    "\n",
    "# Cython utilities\n",
    "from ngram_filter.config import PipelineConfig, FilterConfig\n",
    "from ngram_filter.pipeline.orchestrator import build_processed_db"
   ],
   "id": "66bfa7710298d111",
   "outputs": [],
   "execution_count": 2
  },
  {
   "metadata": {
    "ExecuteTime": {
     "end_time": "2025-09-22T22:43:32.157773Z",
     "start_time": "2025-09-22T22:43:32.084172Z"
    }
   },
   "cell_type": "code",
   "source": [
    "setup_logger(\n",
    "    db_path=\"/vast/edk202/NLP_corpora/Google_Books/20200217/eng/5gram_files/1grams.db\",\n",
    "    console=False,\n",
    "    rotate=True,\n",
    "    max_bytes=100_000_000,\n",
    "    backup_count=5,\n",
    "    force=True\n",
    ")"
   ],
   "id": "fd41f453d3936ce3",
   "outputs": [
    {
     "data": {
      "text/plain": [
       "PosixPath('/vast/edk202/NLP_corpora/Google_Books/20200217/eng/5gram_files/1grams.db/ngram_download_20250922_184332.log')"
      ]
     },
     "execution_count": 3,
     "metadata": {},
     "output_type": "execute_result"
    }
   ],
   "execution_count": 3
  },
  {
   "metadata": {},
   "cell_type": "markdown",
   "source": "# **Download 5-Grams and Ingest to a RocksDB Database**",
   "id": "51b58f57597b05ea"
  },
  {
   "metadata": {
    "ExecuteTime": {
     "end_time": "2025-09-19T12:57:14.902235Z",
     "start_time": "2025-09-19T12:57:09.699496Z"
    }
   },
   "cell_type": "code",
   "source": [
    "download_and_ingest_to_rocksdb(\n",
    "    ngram_size = 5,\n",
    "    repo_release_id = \"20200217\",\n",
    "    repo_corpus_id = \"eng\",\n",
    "    db_path = \"/vast/edk202/NLP_corpora/Google_Books/20200217/eng/5gram_files/5grams.db\",\n",
    "    file_range = (0, 19422),\n",
    "    random_seed = 11,\n",
    "    workers = 40,\n",
    "    use_threads = False,\n",
    "    ngram_type = \"tagged\",\n",
    "    overwrite = False,\n",
    "    write_batch_size = 100_000,\n",
    "    open_type = \"write:packed24\",\n",
    "    post_compact = True\n",
    ")"
   ],
   "id": "65902ca87dcac5b1",
   "outputs": [
    {
     "name": "stdout",
     "output_type": "stream",
     "text": [
      "🎉 All files in the specified range are already processed!\n"
     ]
    }
   ],
   "execution_count": 4
  },
  {
   "metadata": {
    "ExecuteTime": {
     "end_time": "2025-09-19T00:59:19.973810Z",
     "start_time": "2025-09-18T23:07:26.725713Z"
    }
   },
   "cell_type": "code",
   "source": [
    "from common_db.api import open_db\n",
    "\n",
    "db_path = \"/vast/edk202/NLP_corpora/Google_Books/20200217/eng/5gram_files/5grams.db\"\n",
    "\n",
    "with open_db(db_path, mode=\"rw\") as db:\n",
    "    db.compact_all()"
   ],
   "id": "40931c497e1c4aea",
   "outputs": [],
   "execution_count": 5
  },
  {
   "metadata": {},
   "cell_type": "markdown",
   "source": "## Process the Ngrams",
   "id": "7b87630cc83eaebb"
  },
  {
   "metadata": {
    "jupyter": {
     "is_executing": true
    },
    "ExecuteTime": {
     "start_time": "2025-09-22T22:43:34.140631Z"
    }
   },
   "cell_type": "code",
   "source": [
    "src_db = Path(\"/vast/edk202/NLP_corpora/Google_Books/20200217/eng/5gram_files/5grams.db\")\n",
    "dst_db = src_db.parent / \"5grams_processed.db\"\n",
    "tmp_dir = src_db.parent / \"processing_tmp\"\n",
    "wht_path =\"/vast/edk202/NLP_corpora/Google_Books/20200217/eng/5gram_files/1grams_processed.db/whitelist.txt\"\n",
    "\n",
    "pipeline_config = PipelineConfig(\n",
    "    src_db=src_db,\n",
    "    dst_db=dst_db,\n",
    "    tmp_dir=tmp_dir,\n",
    "    readers=8,\n",
    "    partitioning_sample_rate=0.00001,\n",
    "    prefix_length=4,\n",
    "    force_restart=True,\n",
    "    progress_every_s=60.0,\n",
    ")\n",
    "\n",
    "filter_config = FilterConfig(\n",
    "    stop_set=stopwords,\n",
    "    lemma_gen=lemmatizer,\n",
    "    whitelist_path=wht_path\n",
    ")\n",
    "\n",
    "build_processed_db(pipeline_config, filter_config)"
   ],
   "id": "e599bcdf6c73be2a",
   "outputs": [
    {
     "name": "stdout",
     "output_type": "stream",
     "text": [
      "N-GRAM FILTER PIPELINE\n",
      "━━━━━━━━━━━━━━━━━━━━━━━━━━━━━━━━━━━━━━━━━━━━━━━━━━━━━━━━━━━━━━━━━━━━━━━━━━━━━━━━━━━━━━━━━━━━━━━━━━━━\n",
      "\n",
      "Configuration:\n",
      "════════════════════════════════════════════════════════════════════════════════════════════════════\n",
      "  Workers: 8\n",
      "  Work units: 64\n",
      "  Source: /vast/edk202/NLP_corpora/Google_Books/20200217/eng/5gram_files/5grams.db\n",
      "  Destination: 02/NLP_corpora/Google_Books/20200217/eng/5gram_files/5grams_processed.db\n",
      "  Buffer: 25,000 items, 16MB\n",
      "  Profile: write:packed24\n",
      "  Input whitelist: .../Google_Books/20200217/eng/5gram_files/1grams_processed.db/whitelist.txt\n",
      "    All tokens (min count: 1)\n",
      "  Output whitelist: None\n",
      "  Loading whitelist...\n",
      "  Loaded 40,000 tokens\n",
      "\n",
      "Phase 1: Creating work units...\n",
      "════════════════════════════════════════════════════════════════════════════════════════════════════\n",
      "  Force restart requested - clearing existing work units\n",
      "  Sampling database at 0.00001 rate (prefix_length=4)...\n",
      "  Targeting 24,801 samples using reservoir sampling\n",
      "  ━━━━━━━━━━━━━━━━━━━━━━━━━━━━━━━━━━━━━━━━━━━━━━━━━━━━━━━━━━━━\n",
      "  RESERVOIR SAMPLING CONFIGURATION\n",
      "  ────────────────────────────────────────────────────────────\n",
      "  Target sample size:     24,801 items\n",
      "  Progress interval:      10,000,000 items\n",
      "  Database limit:         No limit (full traversal)\n",
      "  ────────────────────────────────────────────────────────────\n",
      "  Processed 10,000,000 items\n",
      "  Processed 20,000,000 items\n",
      "  Processed 30,000,000 items\n",
      "  Processed 40,000,000 items\n",
      "  Processed 50,000,000 items\n",
      "  Processed 60,000,000 items\n",
      "  Processed 70,000,000 items\n",
      "  Processed 80,000,000 items\n",
      "  Processed 90,000,000 items\n",
      "  Processed 100,000,000 items\n",
      "  Processed 110,000,000 items\n",
      "  Processed 120,000,000 items\n",
      "  Processed 130,000,000 items\n",
      "  Processed 140,000,000 items\n",
      "  Processed 150,000,000 items\n",
      "  Processed 160,000,000 items\n",
      "  Processed 170,000,000 items\n",
      "  Processed 180,000,000 items\n",
      "  Processed 190,000,000 items\n",
      "  Processed 200,000,000 items\n",
      "  Processed 210,000,000 items\n",
      "  Processed 220,000,000 items\n",
      "  Processed 230,000,000 items\n",
      "  Processed 240,000,000 items\n",
      "  Processed 250,000,000 items\n",
      "  Processed 260,000,000 items\n",
      "  Processed 270,000,000 items\n",
      "  Processed 280,000,000 items\n",
      "  Processed 290,000,000 items\n",
      "  Processed 300,000,000 items\n",
      "  Processed 310,000,000 items\n",
      "  Processed 320,000,000 items\n",
      "  Processed 330,000,000 items\n",
      "  Processed 340,000,000 items\n",
      "  Processed 350,000,000 items\n",
      "  Processed 360,000,000 items\n",
      "  Processed 370,000,000 items\n",
      "  Processed 380,000,000 items\n",
      "  Processed 390,000,000 items\n",
      "  Processed 400,000,000 items\n",
      "  Processed 410,000,000 items\n",
      "  Processed 420,000,000 items\n",
      "  Processed 430,000,000 items\n",
      "  Processed 440,000,000 items\n",
      "  Processed 450,000,000 items\n",
      "  Processed 460,000,000 items\n",
      "  Processed 470,000,000 items\n",
      "  Processed 480,000,000 items\n",
      "  Processed 490,000,000 items\n",
      "  Processed 500,000,000 items\n",
      "  Processed 510,000,000 items\n",
      "  Processed 520,000,000 items\n",
      "  Processed 530,000,000 items\n",
      "  Processed 540,000,000 items\n",
      "  Processed 550,000,000 items\n",
      "  Processed 560,000,000 items\n",
      "  Processed 570,000,000 items\n",
      "  Processed 580,000,000 items\n",
      "  Processed 590,000,000 items\n",
      "  Processed 600,000,000 items\n",
      "  Processed 610,000,000 items\n",
      "  Processed 620,000,000 items\n",
      "  Processed 630,000,000 items\n",
      "  Processed 640,000,000 items\n",
      "  Processed 650,000,000 items\n",
      "  Processed 660,000,000 items\n",
      "  Processed 670,000,000 items\n",
      "  Processed 680,000,000 items\n",
      "  Processed 690,000,000 items\n",
      "  Processed 700,000,000 items\n",
      "  Processed 710,000,000 items\n",
      "  Processed 720,000,000 items\n",
      "  Processed 730,000,000 items\n",
      "  Processed 740,000,000 items\n",
      "  Processed 750,000,000 items\n",
      "  Processed 760,000,000 items\n",
      "  Processed 770,000,000 items\n",
      "  Processed 780,000,000 items\n",
      "  Processed 790,000,000 items\n",
      "  Processed 800,000,000 items\n",
      "  Processed 810,000,000 items\n"
     ]
    }
   ],
   "execution_count": null
  }
 ],
 "metadata": {
  "kernelspec": {
   "display_name": "hist_w2v (Singularity)",
   "language": "python",
   "name": "hist_w2v"
  },
  "language_info": {
   "codemirror_mode": {
    "name": "ipython",
    "version": 3
   },
   "file_extension": ".py",
   "mimetype": "text/x-python",
   "name": "python",
   "nbconvert_exporter": "python",
   "pygments_lexer": "ipython3",
   "version": "3.11.13"
  }
 },
 "nbformat": 4,
 "nbformat_minor": 5
}
