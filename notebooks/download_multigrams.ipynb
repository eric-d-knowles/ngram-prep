{
 "cells": [
  {
   "metadata": {},
   "cell_type": "code",
   "source": [
    "%cd /scratch/edk202/ngram-prep\n",
    "\n",
    "%env LC_ALL=C.UTF-8\n",
    "%env LANG=C.UTF-8\n",
    "\n",
    "%pip install -e . --no-build-isolation -q"
   ],
   "id": "e2b29f8010b30c2e",
   "outputs": [],
   "execution_count": null
  },
  {
   "metadata": {
    "ExecuteTime": {
     "end_time": "2025-09-20T02:49:28.750302Z",
     "start_time": "2025-09-20T02:49:28.702462Z"
    }
   },
   "cell_type": "code",
   "source": [
    "# Auto-reload packages\n",
    "%load_ext autoreload\n",
    "%autoreload 2"
   ],
   "id": "ce854c30d3ed2553",
   "outputs": [],
   "execution_count": 1
  },
  {
   "metadata": {
    "ExecuteTime": {
     "end_time": "2025-09-20T02:49:35.496540Z",
     "start_time": "2025-09-20T02:49:28.762217Z"
    }
   },
   "cell_type": "code",
   "source": [
    "# Standard stuff\n",
    "from pathlib import Path\n",
    "\n",
    "# NLTK stuff\n",
    "from nltk.corpus import stopwords; stopwords = set(stopwords.words(\"english\"))\n",
    "from nltk.stem import WordNetLemmatizer; lemmatizer = WordNetLemmatizer()\n",
    "\n",
    "# Raw n-gram acquisition stuff\n",
    "from ngram_acquire.pipeline.orchestrate import download_and_ingest_to_rocksdb\n",
    "from ngram_acquire.pipeline.logger import setup_logger\n",
    "\n",
    "# Cython utilities\n",
    "from ngram_filter.config import PipelineConfig, FilterConfig\n",
    "from ngram_filter.pipeline.orchestrator import build_processed_db"
   ],
   "id": "66bfa7710298d111",
   "outputs": [],
   "execution_count": 2
  },
  {
   "metadata": {
    "ExecuteTime": {
     "end_time": "2025-09-20T02:49:43.909570Z",
     "start_time": "2025-09-20T02:49:43.594554Z"
    }
   },
   "cell_type": "code",
   "source": [
    "setup_logger(\n",
    "    db_path=\"/vast/edk202/NLP_corpora/Google_Books/20200217/eng/5gram_files/1grams.db\",\n",
    "    console=False,\n",
    "    rotate=True,\n",
    "    max_bytes=100_000_000,\n",
    "    backup_count=5,\n",
    "    force=True\n",
    ")"
   ],
   "id": "fd41f453d3936ce3",
   "outputs": [
    {
     "data": {
      "text/plain": [
       "PosixPath('/vast/edk202/NLP_corpora/Google_Books/20200217/eng/5gram_files/1grams.db/ngram_download_20250919_224943.log')"
      ]
     },
     "execution_count": 3,
     "metadata": {},
     "output_type": "execute_result"
    }
   ],
   "execution_count": 3
  },
  {
   "metadata": {},
   "cell_type": "markdown",
   "source": "# **Download 5-Grams and Ingest to a RocksDB Database**",
   "id": "51b58f57597b05ea"
  },
  {
   "metadata": {
    "ExecuteTime": {
     "end_time": "2025-09-19T12:57:14.902235Z",
     "start_time": "2025-09-19T12:57:09.699496Z"
    }
   },
   "cell_type": "code",
   "source": [
    "download_and_ingest_to_rocksdb(\n",
    "    ngram_size = 5,\n",
    "    repo_release_id = \"20200217\",\n",
    "    repo_corpus_id = \"eng\",\n",
    "    db_path = \"/vast/edk202/NLP_corpora/Google_Books/20200217/eng/5gram_files/5grams.db\",\n",
    "    file_range = (0, 19422),\n",
    "    random_seed = 11,\n",
    "    workers = 40,\n",
    "    use_threads = False,\n",
    "    ngram_type = \"tagged\",\n",
    "    overwrite = False,\n",
    "    write_batch_size = 100_000,\n",
    "    open_type = \"write:packed24\",\n",
    "    post_compact = True\n",
    ")"
   ],
   "id": "65902ca87dcac5b1",
   "outputs": [
    {
     "name": "stdout",
     "output_type": "stream",
     "text": [
      "🎉 All files in the specified range are already processed!\n"
     ]
    }
   ],
   "execution_count": 4
  },
  {
   "metadata": {
    "ExecuteTime": {
     "end_time": "2025-09-19T00:59:19.973810Z",
     "start_time": "2025-09-18T23:07:26.725713Z"
    }
   },
   "cell_type": "code",
   "source": [
    "from common_db.api import open_db\n",
    "\n",
    "db_path = \"/vast/edk202/NLP_corpora/Google_Books/20200217/eng/5gram_files/5grams.db\"\n",
    "\n",
    "with open_db(db_path, mode=\"rw\") as db:\n",
    "    db.compact_all()"
   ],
   "id": "40931c497e1c4aea",
   "outputs": [],
   "execution_count": 5
  },
  {
   "metadata": {},
   "cell_type": "markdown",
   "source": "## Process the Ngrams",
   "id": "7b87630cc83eaebb"
  },
  {
   "metadata": {
    "jupyter": {
     "is_executing": true
    },
    "ExecuteTime": {
     "start_time": "2025-09-20T02:49:52.301970Z"
    }
   },
   "cell_type": "code",
   "source": [
    "src_db = Path(\"/vast/edk202/NLP_corpora/Google_Books/20200217/eng/5gram_files/5grams.db\")\n",
    "dst_db = src_db.parent / \"5grams_processed.db\"\n",
    "tmp_dir = src_db.parent / \"processing_tmp\"\n",
    "wht_path =\"/vast/edk202/NLP_corpora/Google_Books/20200217/eng/5gram_files/1grams_processed.db/whitelist.txt\"\n",
    "\n",
    "pipeline_config = PipelineConfig(\n",
    "    src_db=src_db,\n",
    "    dst_db=dst_db,\n",
    "    tmp_dir=tmp_dir,\n",
    "    readers=8,\n",
    "    work_units_per_reader=16,\n",
    "    force_restart=False,\n",
    "    progress_every_s=60.0,\n",
    ")\n",
    "\n",
    "filter_config = FilterConfig(\n",
    "    stop_set=stopwords,\n",
    "    lemma_gen=lemmatizer,\n",
    "    whitelist_path=wht_path\n",
    ")\n",
    "\n",
    "build_processed_db(pipeline_config, filter_config)"
   ],
   "id": "e599bcdf6c73be2a",
   "outputs": [
    {
     "name": "stdout",
     "output_type": "stream",
     "text": [
      "N-GRAM FILTER PIPELINE\n",
      "━━━━━━━━━━━━━━━━━━━━━━━━━━━━━━━━━━━━━━━━━━━━━━━━━━━━━━━━━━━━━━━━━━━━━━━━━━━━━━━━━━━━━━━━━━━━━━━━━━━━\n",
      "\n",
      "Configuration:\n",
      "════════════════════════════════════════════════════════════════════════════════════════════════════\n",
      "  Workers: 8\n",
      "  Work units: 128\n",
      "  Source: /vast/edk202/NLP_corpora/Google_Books/20200217/eng/5gram_files/5grams.db\n",
      "  Destination: 02/NLP_corpora/Google_Books/20200217/eng/5gram_files/5grams_processed.db\n",
      "  Buffer: 25,000 items, 16MB\n",
      "  Profile: write:packed24\n",
      "  Input whitelist: .../Google_Books/20200217/eng/5gram_files/1grams_processed.db/whitelist.txt\n",
      "    All tokens (min count: 1)\n",
      "  Output whitelist: None\n",
      "  Loading whitelist...\n",
      "  Loaded 40,000 tokens\n",
      "\n",
      "Phase 1: Creating work units...\n",
      "════════════════════════════════════════════════════════════════════════════════════════════════════\n",
      "  Resuming: 128 completed, 0 processing, 0 pending\n",
      "\n",
      "Phase 2: Processing 0 work units with 8 workers...\n",
      "════════════════════════════════════════════════════════════════════════════════════════════════════\n",
      "\n",
      "    recs scanned   recs written   items kept     throughput     elapsed\n",
      "   ─────────────────────────────────────────────────────────────────────\n",
      "   ──────────────────────────────  final  ──────────────────────────────\n",
      "    0              0              0%             0/s            5s          \n",
      "\n",
      "Phase 3: Merging worker outputs into final database...\n",
      "════════════════════════════════════════════════════════════════════════════════════════════════════\n",
      "  Found 128 worker output files\n",
      "  Batch size: 64MB, 100,000 items\n",
      "  Folding 128 shard(s)...\n",
      "  unit_0000.db: 0 items (0.0 MB)\n",
      "  unit_0001.db: 0 items (0.0 MB)\n",
      "  unit_0002.db: 4,851,730 items (5520.2 MB)\n",
      "  unit_0003.db: 0 items (0.0 MB)\n",
      "  unit_0004.db: 10,785 items (7.5 MB)\n",
      "  unit_0005.db: 75,650 items (66.3 MB)\n",
      "  unit_0006.db: 218,854 items (213.7 MB)\n",
      "  unit_0007.db: 0 items (0.0 MB)\n",
      "  unit_0008.db: 261,073 items (203.0 MB)\n",
      "  unit_0009.db: 1,591,689 items (1737.3 MB)\n",
      "  unit_0010.db: 0 items (0.0 MB)\n",
      "  unit_0011.db: 2,830,339 items (2680.3 MB)\n",
      "  unit_0012.db: 3,656,690 items (3394.0 MB)\n",
      "  unit_0013.db: 190,744 items (201.2 MB)\n",
      "  unit_0014.db: 0 items (0.0 MB)\n",
      "  unit_0015.db: 17,393 items (13.8 MB)\n",
      "  unit_0016.db: 40,922,941 items (51348.4 MB)\n",
      "  unit_0017.db: 6,840,130 items (6861.5 MB)\n",
      "  unit_0018.db: 0 items (0.0 MB)\n",
      "  unit_0019.db: 203,471 items (197.2 MB)\n",
      "  unit_0020.db: 303,116 items (198.0 MB)\n",
      "  unit_0021.db: 0 items (0.0 MB)\n",
      "  unit_0022.db: 120,413 items (100.0 MB)\n",
      "  unit_0023.db: 1,466,693 items (1251.1 MB)\n",
      "  unit_0024.db: 794,573 items (677.4 MB)\n",
      "  unit_0025.db: 0 items (0.0 MB)\n",
      "  unit_0026.db: 531,430 items (463.3 MB)\n",
      "  unit_0027.db: 414,171 items (343.6 MB)\n",
      "  unit_0028.db: 374,043 items (330.7 MB)\n",
      "  unit_0029.db: 0 items (0.0 MB)\n",
      "  unit_0030.db: 278,032 items (237.4 MB)\n",
      "  unit_0031.db: 220,550 items (184.3 MB)\n",
      "  unit_0032.db: 0 items (0.0 MB)\n",
      "  unit_0033.db: 207,798 items (178.6 MB)\n",
      "  unit_0034.db: 177,339 items (146.8 MB)\n",
      "  unit_0035.db: 2,765,966 items (2576.5 MB)\n",
      "  unit_0036.db: 0 items (0.0 MB)\n",
      "  unit_0037.db: 1,169 items (1.2 MB)\n",
      "  unit_0038.db: 3,788 items (3.1 MB)\n",
      "  unit_0039.db: 30,730 items (29.6 MB)\n",
      "  unit_0040.db: 0 items (0.0 MB)\n",
      "  unit_0041.db: 6,304 items (6.3 MB)\n",
      "  unit_0042.db: 0 items (0.0 MB)\n",
      "  unit_0043.db: 0 items (0.0 MB)\n",
      "  unit_0044.db: 1,250 items (0.5 MB)\n",
      "  unit_0045.db: 10,457,009 items (9909.2 MB)\n",
      "  unit_0046.db: 4,996,075 items (4627.5 MB)\n",
      "  unit_0047.db: 0 items (0.0 MB)\n",
      "  unit_0048.db: 8,811,577 items (7572.2 MB)\n",
      "  unit_0049.db: 4,021,262 items (3383.5 MB)\n",
      "  unit_0050.db: 4,137,749 items (3510.9 MB)\n",
      "  unit_0051.db: 0 items (0.0 MB)\n",
      "  unit_0052.db: 4,258,602 items (3783.5 MB)\n",
      "  unit_0053.db: 3,131,075 items (2819.9 MB)\n",
      "  unit_0054.db: 0 items (0.0 MB)\n",
      "  unit_0055.db: 5,163,049 items (5253.6 MB)\n",
      "  unit_0056.db: 9,121,397 items (10275.7 MB)\n",
      "  unit_0057.db: 1,925,971 items (1788.9 MB)\n",
      "  unit_0058.db: 0 items (0.0 MB)\n",
      "  unit_0059.db: 869,776 items (735.2 MB)\n",
      "  unit_0060.db: 3,429,582 items (3085.3 MB)\n",
      "  unit_0061.db: 5,911,115 items (5122.1 MB)\n",
      "  unit_0062.db: 0 items (0.0 MB)\n",
      "  unit_0063.db: 3,211,132 items (2957.8 MB)\n",
      "  unit_0064.db: 3,041,974 items (2853.8 MB)\n",
      "  unit_0065.db: 0 items (0.0 MB)\n",
      "  unit_0066.db: 5,623,958 items (4705.0 MB)\n",
      "  unit_0067.db: 265,041 items (232.9 MB)\n",
      "  unit_0068.db: 3,972,949 items (3245.0 MB)\n",
      "  unit_0069.db: 0 items (0.0 MB)\n",
      "  unit_0070.db: 9,635,246 items (8583.7 MB)\n",
      "  unit_0071.db: 16,302,339 items (17612.4 MB)\n",
      "  unit_0072.db: 1,781,424 items (1504.6 MB)\n",
      "  unit_0073.db: 0 items (0.0 MB)\n",
      "  unit_0074.db: 1,015,731 items (845.6 MB)\n",
      "  unit_0075.db: 4,579,818 items (4634.2 MB)\n",
      "  unit_0076.db: 0 items (0.0 MB)\n",
      "  unit_0077.db: 90,916 items (78.1 MB)\n",
      "  unit_0078.db: 1,026,092 items (1054.4 MB)\n",
      "  unit_0079.db: 147,439 items (118.3 MB)\n",
      "  unit_0080.db: 0 items (0.0 MB)\n",
      "  unit_0081.db: 222,770 items (189.5 MB)\n",
      "  unit_0082.db: 11,522 items (15.7 MB)\n",
      "  unit_0083.db: 216,209 items (189.5 MB)\n",
      "  unit_0084.db: 0 items (0.0 MB)\n",
      "  unit_0085.db: 7,103 items (9.2 MB)\n",
      "  unit_0086.db: 724 items (0.6 MB)\n",
      "  unit_0087.db: 0 items (0.0 MB)\n",
      "  unit_0088.db: 3,845 items (0.7 MB)\n",
      "  unit_0089.db: 78,131,527 items (89697.5 MB)\n"
     ]
    }
   ],
   "execution_count": null
  },
  {
   "metadata": {},
   "cell_type": "code",
   "outputs": [],
   "execution_count": null,
   "source": "",
   "id": "7e76c8db03a83cf2"
  }
 ],
 "metadata": {
  "kernelspec": {
   "display_name": "hist_w2v (Singularity)",
   "language": "python",
   "name": "hist_w2v"
  },
  "language_info": {
   "codemirror_mode": {
    "name": "ipython",
    "version": 3
   },
   "file_extension": ".py",
   "mimetype": "text/x-python",
   "name": "python",
   "nbconvert_exporter": "python",
   "pygments_lexer": "ipython3",
   "version": "3.11.13"
  }
 },
 "nbformat": 4,
 "nbformat_minor": 5
}
