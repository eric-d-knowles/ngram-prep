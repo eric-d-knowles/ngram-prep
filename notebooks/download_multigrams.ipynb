{
 "cells": [
  {
   "metadata": {},
   "cell_type": "markdown",
   "source": [
    "# **Setup**\n",
    "## Recompile Cython Extensions"
   ],
   "id": "ed15de79ff6600a1"
  },
  {
   "metadata": {},
   "cell_type": "code",
   "outputs": [],
   "execution_count": null,
   "source": [
    "%cd /scratch/edk202/ngram-prep\n",
    "\n",
    "%env LC_ALL=C.UTF-8\n",
    "%env LANG=C.UTF-8\n",
    "\n",
    "%pip install -e . --no-build-isolation -q"
   ],
   "id": "5a286fabaadb42f3"
  },
  {
   "metadata": {},
   "cell_type": "markdown",
   "source": "## Imports",
   "id": "2d7d8e9ec4dd02cf"
  },
  {
   "metadata": {
    "ExecuteTime": {
     "end_time": "2025-10-17T00:13:25.633249Z",
     "start_time": "2025-10-17T00:13:24.877197Z"
    }
   },
   "cell_type": "code",
   "source": [
    "# Auto-reload edited scripts\n",
    "%load_ext autoreload\n",
    "%autoreload 2\n",
    "\n",
    "# NLTK resources\n",
    "from nltk.corpus import stopwords; stopwords = set(stopwords.words(\"english\"))\n",
    "from nltk.stem import WordNetLemmatizer; lemmatizer = WordNetLemmatizer()\n",
    "\n",
    "# Ngram acquisition functions\n",
    "from ngram_prep.ngram_acquire import download_and_ingest_to_rocksdb\n",
    "from ngram_prep.ngram_acquire.logger import setup_logger\n",
    "\n",
    "# Ngram processing functions\n",
    "from pathlib import Path\n",
    "from ngram_prep.ngram_filter.config import PipelineConfig, FilterConfig\n",
    "from ngram_prep.ngram_filter.pipeline.orchestrator import build_processed_db\n",
    "from ngram_prep.utilities.peek import db_peek, db_peek_prefix"
   ],
   "id": "ce854c30d3ed2553",
   "outputs": [],
   "execution_count": 1
  },
  {
   "metadata": {},
   "cell_type": "markdown",
   "source": "## Set up logging to file",
   "id": "9dcc445498bb0c6a"
  },
  {
   "metadata": {
    "ExecuteTime": {
     "end_time": "2025-10-17T00:13:25.710637Z",
     "start_time": "2025-10-17T00:13:25.644151Z"
    }
   },
   "cell_type": "code",
   "source": [
    "setup_logger(\n",
    "    db_path=\"/vast/edk202/NLP_corpora/Google_Books/20200217/eng/5gram_files/5grams.db\",\n",
    "    console=False,\n",
    "    rotate=True,\n",
    "    max_bytes=100_000_000,\n",
    "    backup_count=5,\n",
    "    force=True\n",
    ")"
   ],
   "id": "12e3d73b8a010aa3",
   "outputs": [
    {
     "data": {
      "text/plain": [
       "PosixPath('/vast/edk202/NLP_corpora/Google_Books/20200217/eng/5gram_files/5grams.db/ngram_download_20251016_201325.log')"
      ]
     },
     "execution_count": 2,
     "metadata": {},
     "output_type": "execute_result"
    }
   ],
   "execution_count": 2
  },
  {
   "metadata": {},
   "cell_type": "markdown",
   "source": "# **Download 5-Grams and Ingest to RocksDB**",
   "id": "7ef4e7ff09f03459"
  },
  {
   "metadata": {},
   "cell_type": "code",
   "source": [
    "download_and_ingest_to_rocksdb(\n",
    "    ngram_size=1,\n",
    "    repo_release_id=\"20200217\",\n",
    "    repo_corpus_id=\"eng\",\n",
    "    db_path_stub=\"/vast/edk202/NLP_corpora/Google_Books/\",\n",
    "    file_range=(0, 19422),\n",
    "    random_seed=98,\n",
    "    workers=39,\n",
    "    use_threads=False,\n",
    "    ngram_type=\"tagged\",\n",
    "    overwrite_db=True,\n",
    "    write_batch_size=100_000,\n",
    "    open_type=\"write:packed24\",\n",
    "    compact_after_ingest=True\n",
    ")"
   ],
   "id": "c114576e7345015e",
   "outputs": [],
   "execution_count": null
  },
  {
   "metadata": {},
   "cell_type": "markdown",
   "source": "# **Run Processing Pipeline**",
   "id": "293dff16a66060a0"
  },
  {
   "metadata": {
    "jupyter": {
     "is_executing": true
    },
    "ExecuteTime": {
     "start_time": "2025-10-17T00:13:42.618028Z"
    }
   },
   "cell_type": "code",
   "source": [
    "src_db = Path(\"/vast/edk202/NLP_corpora/Google_Books/20200217/eng/5gram_files/5grams.db\")\n",
    "dst_db = src_db.parent / \"5grams_processed.db\"\n",
    "tmp_dir = src_db.parent / \"processing_tmp\"\n",
    "whitelist_dir = src_db.parent.parent / \"1gram_files\" / \"1grams_processed.db\" / \"whitelist.txt\"\n",
    "\n",
    "filter_config = FilterConfig(\n",
    "    stop_set=stopwords,\n",
    "    lemma_gen=lemmatizer,\n",
    "    whitelist_path=whitelist_dir\n",
    ")\n",
    "\n",
    "pipeline_config = PipelineConfig(\n",
    "    src_db=src_db,\n",
    "    dst_db=dst_db,\n",
    "    tmp_dir=tmp_dir,\n",
    "    num_workers=30,\n",
    "    num_initial_work_units=300,\n",
    "    max_split_depth=100,\n",
    "    split_check_interval_s=30.0,\n",
    "    mode=\"restart\",\n",
    "    progress_every_s=30.0,\n",
    "    max_items_per_bucket=100_000,\n",
    "    max_bytes_per_bucket=128 * 1024 * 1024\n",
    ")\n",
    "\n",
    "build_processed_db(pipeline_config, filter_config)"
   ],
   "id": "35e8aa97d8255330",
   "outputs": [
    {
     "name": "stdout",
     "output_type": "stream",
     "text": [
      "N-GRAM FILTER PIPELINE\n",
      "━━━━━━━━━━━━━━━━━━━━━━━━━━━━━━━━━━━━━━━━━━━━━━━━━━━━━━━━━━━━━━━━━━━━━━━━━━━━━━━━━━━━━━━━━━━━━━━━━━━━\n",
      "\n",
      "Configuration\n",
      "════════════════════════════════════════════════════════════════════════════════════════════════════\n",
      "\u001B[4mPipeline\u001B[0m\n",
      "Run mode:             restart\n",
      "Compact after ingest: True\n",
      "\n",
      "\u001B[4mWorkers\u001B[0m\n",
      "Num Workers:        30\n",
      "Initial work units: 300\n",
      "Dynamic splitting:  Enabled\n",
      "Profiles:           read=read:packed24, write=write:packed24\n",
      "Buffer:             100,000 items, 128.00 MB\n",
      "\n",
      "\u001B[4mFiles\u001B[0m\n",
      "Source: /vast/edk202/NLP_corpora/Google_Books/20200217/eng/5gram_files/5grams.db\n",
      "Destination: /vast/edk202/NLP_corpora/Google_Books/20200217/eng/5gram_files/5grams_processed.db\n",
      "Input whitelist: ..._corpora/Google_Books/20200217/eng/1gram_files/1grams_processed.db/whitelist.txt\n",
      "  All tokens (min count: 1)\n",
      "Output whitelist: None\n",
      "Loading whitelist...\n",
      "Loaded 30,000 tokens\n",
      "\n",
      "Phase 1: Creating work units...\n",
      "════════════════════════════════════════════════════════════════════════════════════════════════════\n",
      "Clean restart - creating new work units\n",
      "Created 300 uniform work units (byte-range partitioning)\n",
      "Dynamic splitting will handle load balancing at runtime\n",
      "\n",
      "Phase 2: Processing 300 work units with 30 workers...\n",
      "════════════════════════════════════════════════════════════════════════════════════════════════════\n",
      "\n",
      "    items         kept%        workers        units         splits         rate        elapsed    \n",
      "──────────────────────────────────────────────────────────────────────────────────────────────────\n",
      "[PREFETCH] Prefetch thread STARTED (queue maxsize=3)\n",
      "      0            0.0%         30/30        230p·30w         0            0/s           30s      \n",
      "[PREFETCH] Successfully prefetched unit unit_21_22_2a0ce9 (0 items)[PREFETCH] FALLBACK to direct read for unit unit_21_22_2a0ce9 (prefetch_enabled=True, has_data=False)\n",
      "\n",
      "[PREFETCH] Stats: 1 shards, 0 items in 39.0s (0 items/s) | Prefetch: 0 hits, 1 misses (0.0% hit rate)\n",
      "[PREFETCH] Successfully prefetched unit unit_23_24_46b68d (10597 items)[PREFETCH] Using prefetched data for unit unit_23_24_46b68d (10597 items)\n",
      "\n",
      "[PREFETCH] Successfully prefetched unit unit_2b_2c_1d1ab1 (17036 items)[PREFETCH] Using prefetched data for unit unit_2b_2c_1d1ab1 (17036 items)\n",
      "\n",
      "[PREFETCH] Successfully prefetched unit unit_3f_40_716f6a (0 items)[PREFETCH] FALLBACK to direct read for unit unit_3f_40_716f6a (prefetch_enabled=True, has_data=False)\n",
      "\n",
      "[PREFETCH] Successfully prefetched unit unit_3b_3c_cbb83b (1162 items)[PREFETCH] Using prefetched data for unit unit_3b_3c_cbb83b (1162 items)\n",
      "\n",
      "[PREFETCH] Successfully prefetched unit unit_3c_3d_bd115b (3733 items)[PREFETCH] Using prefetched data for unit unit_3c_3d_bd115b (3733 items)\n",
      "\n",
      "[PREFETCH] Successfully prefetched unit unit_3e_3f_327bd2 (6231 items)[PREFETCH] Using prefetched data for unit unit_3e_3f_327bd2 (6231 items)\n",
      "\n",
      "[PREFETCH] Successfully prefetched unit unit_40_41_404c28 (1231 items)[PREFETCH] Using prefetched data for unit unit_40_41_404c28 (1231 items)\n",
      "\n",
      "[PREFETCH] Stats: 7 shards, 39,990 items in 12.0s (3,339 items/s) | Prefetch: 6 hits, 2 misses (75.0% hit rate)\n",
      "[PREFETCH] Successfully prefetched unit unit_3d_3e_9cbce2 (30354 items)\n",
      "[PREFETCH] Using prefetched data for unit unit_3d_3e_9cbce2 (30354 items)\n",
      "[PREFETCH] Successfully prefetched unit unit_4280_43_f2a795 (1398 items)\n",
      "[PREFETCH] Using prefetched data for unit unit_4280_43_f2a795 (1398 items)\n",
      "    1.01M         64.7%         30/30        215p·30w         1          16.8k/s        1m00s     \n",
      "[PREFETCH] Successfully prefetched unit unit_2a_2b_534708 (187678 items)[PREFETCH] Using prefetched data for unit unit_2a_2b_534708 (187678 items)\n",
      "\n",
      "[PREFETCH] Stats: 3 shards, 219,430 items in 10.2s (21,554 items/s) | Prefetch: 9 hits, 2 misses (81.8% hit rate)\n",
      "[PREFETCH] Successfully prefetched unit unit_30_31_fff143 (118448 items)[PREFETCH] Using prefetched data for unit unit_30_31_fff143 (118448 items)\n",
      "\n",
      "[PREFETCH] Successfully prefetched unit unit_25_26_b62e79 (214758 items)[PREFETCH] Using prefetched data for unit unit_25_26_b62e79 (214758 items)\n",
      "\n",
      "[PREFETCH] Successfully prefetched unit unit_26_27_8bea59 (249868 items)[PREFETCH] Using prefetched data for unit unit_26_27_8bea59 (249868 items)\n",
      "\n",
      "[PREFETCH] Stats: 3 shards, 583,074 items in 11.0s (53,231 items/s) | Prefetch: 12 hits, 2 misses (85.7% hit rate)\n",
      "[PREFETCH] Successfully prefetched unit unit_2f_30_681d1a (295187 items)[PREFETCH] Using prefetched data for unit unit_2f_30_681d1a (295187 items)\n",
      "\n",
      "[PREFETCH] Successfully prefetched unit unit_39_3a_4567cc (174137 items)[PREFETCH] Using prefetched data for unit unit_39_3a_4567cc (174137 items)\n",
      "\n",
      "[PREFETCH] Successfully prefetched unit unit_2e_2f_267428 (200514 items)[PREFETCH] Using prefetched data for unit unit_2e_2f_267428 (200514 items)\n",
      "\n",
      "[PREFETCH] Successfully prefetched unit unit_24_25_a01728 (74676 items)[PREFETCH] Using prefetched data for unit unit_24_25_a01728 (74676 items)\n",
      "\n",
      "[PREFETCH] Stats: 4 shards, 744,514 items in 11.2s (66,366 items/s) | Prefetch: 16 hits, 2 misses (88.9% hit rate)\n",
      "[PREFETCH] Successfully prefetched unit unit_38_39_4214c7 (203904 items)\n",
      "[PREFETCH] Using prefetched data for unit unit_38_39_4214c7 (203904 items)\n",
      "[PREFETCH] Successfully prefetched unit unit_37_38_dbf9b0 (216507 items)[PREFETCH] Using prefetched data for unit unit_37_38_dbf9b0 (216507 items)\n",
      "\n",
      "    12.14M        69.1%         30/30        206p·30w         3          134.5k/s       1m30s     \n",
      "[PREFETCH] Successfully prefetched unit unit_45_46_5f8f28 (380770 items)[PREFETCH] Using prefetched data for unit unit_45_46_5f8f28 (380770 items)\n",
      "\n",
      "[PREFETCH] Stats: 3 shards, 701,181 items in 12.2s (57,479 items/s) | Prefetch: 19 hits, 2 misses (90.5% hit rate)\n",
      "[PREFETCH] Successfully prefetched unit unit_5080_51_50508a (1115 items)\n",
      "[PREFETCH] Using prefetched data for unit unit_5080_51_50508a (1115 items)\n",
      "[PREFETCH] Successfully prefetched unit unit_36_37_9c0dda (272850 items)[PREFETCH] Using prefetched data for unit unit_36_37_9c0dda (272850 items)\n",
      "\n"
     ]
    }
   ],
   "execution_count": null
  },
  {
   "metadata": {},
   "cell_type": "markdown",
   "source": [
    "# **Inspect the Procesed Database**\n",
    "## `db_head`: Print the first _N_ key–value pairs"
   ],
   "id": "b916bcb8f52efc4e"
  },
  {
   "metadata": {
    "ExecuteTime": {
     "end_time": "2025-10-15T19:36:10.565335Z",
     "start_time": "2025-10-15T19:36:09.331843Z"
    }
   },
   "cell_type": "code",
   "source": [
    "db_path = \"/vast/edk202/NLP_corpora/Google_Books/20200217/eng/5gram_files/5grams_processed.db\"\n",
    "\n",
    "db_head(db_path, key_format=\"utf-8\", value_format=\"packed\", n=5)"
   ],
   "id": "602ef9dec8103212",
   "outputs": [
    {
     "name": "stdout",
     "output_type": "stream",
     "text": [
      "First 5 key-value pairs:\n",
      "────────────────────────────────────────────────────────────────────────────────────────────────────\n",
      "[ 1] Key:   <UNK> <UNK> <UNK> <UNK> aaa\n",
      "     Value: [166 records] ... +156 earlier, (2010, 676, 433), (2011, 531, 360), (2012, 507, 342)\n",
      "            (2013, 356, 246), (2014, 425, 286), (2015, 322, 219), (2016, 313, 232)\n",
      "            (2017, 246, 202), (2018, 228, 125), (2019, 191, 123)\n",
      "\n",
      "[ 2] Key:   <UNK> <UNK> <UNK> <UNK> aar\n",
      "     Value: [220 records] ... +210 earlier, (2010, 63, 54), (2011, 62, 51), (2012, 31, 31), (2013, 51, 51)\n",
      "            (2014, 80, 38), (2015, 30, 28), (2016, 19, 17), (2017, 52, 51), (2018, 1140, 1136)\n",
      "            (2019, 15, 15)\n",
      "\n",
      "[ 3] Key:   <UNK> <UNK> <UNK> <UNK> aaron\n",
      "     Value: [304 records] ... +294 earlier, (2010, 1929, 1736), (2011, 2095, 1935), (2012, 2762, 2518)\n",
      "            (2013, 2385, 2195), (2014, 2637, 2441), (2015, 2500, 2252), (2016, 2176, 1949)\n",
      "            (2017, 9100, 6289), (2018, 2809, 2607), (2019, 2034, 1886)\n",
      "\n",
      "[ 4] Key:   <UNK> <UNK> <UNK> <UNK> aba\n",
      "     Value: [162 records] ... +152 earlier, (2010, 377, 298), (2011, 215, 184), (2012, 588, 421)\n",
      "            (2013, 472, 336), (2014, 268, 178), (2015, 243, 193), (2016, 658, 476)\n",
      "            (2017, 680, 416), (2018, 1043, 737), (2019, 270, 223)\n",
      "\n",
      "[ 5] Key:   <UNK> <UNK> <UNK> <UNK> aback\n",
      "     Value: [169 records] ... +159 earlier, (2010, 6, 6), (2011, 6, 6), (2012, 12, 12), (2013, 19, 19)\n",
      "            (2014, 19, 19), (2015, 17, 17), (2016, 20, 18), (2017, 70, 64), (2018, 62, 62)\n",
      "            (2019, 14, 14)\n",
      "\n"
     ]
    }
   ],
   "execution_count": 5
  },
  {
   "metadata": {},
   "cell_type": "markdown",
   "source": "## `db_peek`: Print _N_ key-value pairs starting at the specified key",
   "id": "a5cd2b4c5b2bef6c"
  },
  {
   "metadata": {
    "ExecuteTime": {
     "end_time": "2025-10-15T19:36:14.505506Z",
     "start_time": "2025-10-15T19:36:13.796117Z"
    }
   },
   "cell_type": "code",
   "source": [
    "db_path = \"/vast/edk202/NLP_corpora/Google_Books/20200217/eng/5gram_files/5grams_processed.db\"\n",
    "\n",
    "db_peek(db_path, start_key=b\"quick brown <UNK> <UNK> <UNK>\", key_format=\"utf-8\", value_format=\"packed\", n=5)\n"
   ],
   "id": "4ae0c4f82ae61dbd",
   "outputs": [
    {
     "name": "stdout",
     "output_type": "stream",
     "text": [
      "5 key-value pairs starting from 717569636b2062726f776e203c554e4b3e203c554e4b3e203c554e4b3e:\n",
      "────────────────────────────────────────────────────────────────────────────────────────────────────\n",
      "[ 1] Key:   quick brown <UNK> <UNK> <UNK>\n",
      "     Value: [21 records] ... +11 earlier, (2006, 4, 3), (2007, 1, 1), (2008, 13, 3), (2009, 2, 2)\n",
      "            (2010, 5, 4), (2011, 2, 2), (2012, 9, 7), (2013, 5, 3), (2014, 2, 1), (2016, 1, 1)\n",
      "\n",
      "[ 2] Key:   quick brown eye <UNK> <UNK>\n",
      "     Value: [156 records] ... +146 earlier, (2010, 5, 5), (2011, 6, 6), (2012, 10, 10), (2013, 19, 19)\n",
      "            (2014, 18, 18), (2015, 22, 22), (2016, 18, 18), (2017, 26, 26), (2018, 99, 99)\n",
      "            (2019, 16, 16)\n",
      "\n",
      "[ 3] Key:   quick brown eye <UNK> butler\n",
      "     Value: [10 records] (1866, 23, 23), (1867, 2, 2), (1869, 2, 2), (1870, 2, 2), (1871, 4, 4), (1875, 3, 3)\n",
      "            (1891, 1, 1), (1892, 1, 1), (1903, 1, 1), (1908, 1, 1)\n",
      "\n",
      "[ 4] Key:   quick brown eye take <UNK>\n",
      "     Value: [36 records] ... +26 earlier, (2007, 1, 1), (2008, 9, 9), (2009, 1, 1), (2011, 2, 2), (2012, 3, 3)\n",
      "            (2013, 1, 1), (2014, 1, 1), (2015, 1, 1), (2018, 2, 2), (2019, 5, 5)\n",
      "\n",
      "[ 5] Key:   quick brown fox <UNK> <UNK>\n",
      "     Value: [74 records] ... +64 earlier, (2010, 86, 45), (2011, 19, 18), (2012, 75, 42), (2013, 69, 35)\n",
      "            (2014, 61, 33), (2015, 85, 26), (2016, 58, 35), (2017, 56, 22), (2018, 45, 20)\n",
      "            (2019, 7, 6)\n",
      "\n"
     ]
    }
   ],
   "execution_count": 6
  },
  {
   "metadata": {},
   "cell_type": "markdown",
   "source": "## `db_peek_prefix`: Print key-value pairs containing the specified prefix",
   "id": "f0261bc901193643"
  },
  {
   "metadata": {
    "ExecuteTime": {
     "end_time": "2025-10-15T19:36:29.965408Z",
     "start_time": "2025-10-15T19:36:29.393732Z"
    }
   },
   "cell_type": "code",
   "source": [
    "db_path = \"/vast/edk202/NLP_corpora/Google_Books/20200217/eng/5gram_files/5grams_processed.db\"\n",
    "\n",
    "db_peek_prefix(db_path, prefix=b\"<UNK> united state <UNK> <UNK>\", key_format=\"utf-8\", value_format=\"summary\", n=1)"
   ],
   "id": "b04a9e9cf0cc209f",
   "outputs": [
    {
     "name": "stdout",
     "output_type": "stream",
     "text": [
      "1 key-value pairs with prefix 3c554e4b3e20756e69746564207374617465203c554e4b3e203c554e4b3e:\n",
      "────────────────────────────────────────────────────────────────────────────────────────────────────\n",
      "[ 1] Key:   <UNK> united state <UNK> <UNK>\n",
      "     Value: Total: 163,751,741 occurrences in 97,174,930 volumes (1472-2019, 384 years)\n",
      "\n"
     ]
    }
   ],
   "execution_count": 7
  },
  {
   "metadata": {},
   "cell_type": "code",
   "source": "",
   "id": "35abdd0e1baea1b1",
   "outputs": [],
   "execution_count": null
  }
 ],
 "metadata": {
  "kernelspec": {
   "display_name": "hist_w2v (Singularity)",
   "language": "python",
   "name": "hist_w2v"
  },
  "language_info": {
   "codemirror_mode": {
    "name": "ipython",
    "version": 3
   },
   "file_extension": ".py",
   "mimetype": "text/x-python",
   "name": "python",
   "nbconvert_exporter": "python",
   "pygments_lexer": "ipython3",
   "version": "3.11.13"
  }
 },
 "nbformat": 4,
 "nbformat_minor": 5
}
