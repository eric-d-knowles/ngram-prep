{
 "cells": [
  {
   "metadata": {},
   "cell_type": "markdown",
   "source": "# **Setup**",
   "id": "2d7d8e9ec4dd02cf"
  },
  {
   "metadata": {
    "ExecuteTime": {
     "end_time": "2025-11-01T04:06:37.241723Z",
     "start_time": "2025-11-01T04:06:34.531679Z"
    }
   },
   "cell_type": "code",
   "source": [
    "# Auto-reload edited scripts\n",
    "%load_ext autoreload\n",
    "%autoreload 2\n",
    "\n",
    "# Recompile Cython script\n",
    "%cd /scratch/edk202/ngram-prep\n",
    "!python setup.py build_ext --inplace -q\n",
    "\n",
    "# Stop words\n",
    "from stop_words import get_stop_words\n",
    "\n",
    "# Lemmatization\n",
    "from ngram_prep.ngram_filter.lemmatizer import SpacyLemmatizer\n",
    "\n",
    "# Ngram acquisition functions\n",
    "from ngram_prep.ngram_acquire import download_and_ingest_to_rocksdb\n",
    "from ngram_prep.ngram_acquire.logger import setup_logger\n",
    "\n",
    "# Ngram processing functions\n",
    "from pathlib import Path\n",
    "from ngram_prep.ngram_filter.config import PipelineConfig, FilterConfig\n",
    "from ngram_prep.ngram_filter.pipeline.orchestrator import build_processed_db\n",
    "from ngram_prep.utilities.peek import db_head, db_peek, db_peek_prefix"
   ],
   "id": "ce854c30d3ed2553",
   "outputs": [
    {
     "name": "stdout",
     "output_type": "stream",
     "text": [
      "/scratch/edk202/ngram-prep\n",
      "/bin/bash: warning: setlocale: LC_ALL: cannot change locale (en_US.UTF-8)\r\n",
      "running build_ext\r\n"
     ]
    }
   ],
   "execution_count": 1
  },
  {
   "metadata": {},
   "cell_type": "markdown",
   "source": "## Log to file",
   "id": "9dcc445498bb0c6a"
  },
  {
   "metadata": {
    "ExecuteTime": {
     "end_time": "2025-11-01T04:06:39.441091Z",
     "start_time": "2025-11-01T04:06:38.961667Z"
    }
   },
   "cell_type": "code",
   "source": [
    "setup_logger(\n",
    "    db_path=\"/scratch/edk202/NLP_corpora/Google_Books/20200217/eng/5gram_files/5grams.db\",\n",
    "    console=False,\n",
    "    rotate=True,\n",
    "    max_bytes=100_000_000,\n",
    "    backup_count=5,\n",
    "    force=True\n",
    ")"
   ],
   "id": "12e3d73b8a010aa3",
   "outputs": [
    {
     "data": {
      "text/plain": [
       "PosixPath('/scratch/edk202/NLP_corpora/Google_Books/20200217/eng/5gram_files/5grams.db/ngram_download_20251101_000639.log')"
      ]
     },
     "execution_count": 2,
     "metadata": {},
     "output_type": "execute_result"
    }
   ],
   "execution_count": 2
  },
  {
   "metadata": {},
   "cell_type": "markdown",
   "source": "# **Download 5-Grams and Ingest to RocksDB**",
   "id": "7ef4e7ff09f03459"
  },
  {
   "metadata": {
    "jupyter": {
     "is_executing": true
    },
    "ExecuteTime": {
     "end_time": "2025-10-31T16:04:21.040245174Z",
     "start_time": "2025-10-31T16:04:18.014743Z"
    }
   },
   "cell_type": "code",
   "source": [
    "download_and_ingest_to_rocksdb(\n",
    "    ngram_size=5,\n",
    "    repo_release_id=\"20200217\",\n",
    "    repo_corpus_id=\"eng\",\n",
    "    db_path_stub=\"/scratch/edk202/NLP_corpora/Google_Books/\",\n",
    "    file_range=(0, 19422),\n",
    "    random_seed=76,\n",
    "    workers=30,\n",
    "    use_threads=False,\n",
    "    ngram_type=\"tagged\",\n",
    "    overwrite_db=False,\n",
    "    write_batch_size=1_000_000,\n",
    "    open_type=\"write:packed24\",\n",
    "    compact_after_ingest=True\n",
    ")"
   ],
   "id": "c114576e7345015e",
   "outputs": [],
   "execution_count": null
  },
  {
   "metadata": {},
   "cell_type": "markdown",
   "source": "# **Run Processing Pipeline**",
   "id": "293dff16a66060a0"
  },
  {
   "metadata": {
    "jupyter": {
     "is_executing": true
    },
    "ExecuteTime": {
     "end_time": "2025-11-01T04:07:17.237372351Z",
     "start_time": "2025-11-01T04:07:12.561448Z"
    }
   },
   "cell_type": "code",
   "source": [
    "src_db = Path(\"/vast/edk202/NLP_corpora/Google_Books/20200217/eng/5gram_files/5grams.db\")\n",
    "dst_db = src_db.parent / \"5grams_processed.db\"\n",
    "tmp_dir = src_db.parent / \"processing_tmp\"\n",
    "whitelist_dir = src_db.parent.parent / \"1gram_files\" / \"1grams_processed.db\" / \"whitelist.txt\"\n",
    "\n",
    "stop_set = set(get_stop_words(\"english\"))\n",
    "lemmatizer = SpacyLemmatizer(language=\"en\")\n",
    "spell_check_lang = \"en\"\n",
    "\n",
    "filter_config = FilterConfig(\n",
    "    stop_set=stop_set,\n",
    "    lemma_gen=lemmatizer,\n",
    "    whitelist_path = whitelist_dir\n",
    ")\n",
    "\n",
    "pipeline_config = PipelineConfig(\n",
    "    src_db=src_db,\n",
    "    dst_db=dst_db,\n",
    "    tmp_dir=tmp_dir,\n",
    "    num_workers=30,\n",
    "    use_smart_partitioning=True,\n",
    "    samples_per_worker=500_000,\n",
    "    num_initial_work_units=600,\n",
    "    work_unit_claim_order=\"random\",\n",
    "    flush_interval_s=5.0,\n",
    "    mode=\"restart\",\n",
    "    progress_every_s=60.0,\n",
    "    ingest_num_readers=10,\n",
    "    ingest_batch_items=1_000_000,\n",
    "    ingest_queue_size=3,\n",
    ")\n",
    "\n",
    "build_processed_db(pipeline_config, filter_config)"
   ],
   "id": "35e8aa97d8255330",
   "outputs": [
    {
     "name": "stdout",
     "output_type": "stream",
     "text": [
      "N-GRAM FILTER PIPELINE\n",
      "━━━━━━━━━━━━━━━━━━━━━━━━━━━━━━━━━━━━━━━━━━━━━━━━━━━━━━━━━━━━━━━━━━━━━━━━━━━━━━━━━━━━━━━━━━━━━━━━━━━━\n",
      "\n",
      "Configuration\n",
      "════════════════════════════════════════════════════════════════════════════════════════════════════\n",
      "\u001B[4mPipeline\u001B[0m\n",
      "Run mode:             restart\n",
      "Compact after ingest: True\n",
      "\n",
      "\u001B[4mWorkers\u001B[0m\n",
      "Num Workers:        30\n",
      "Initial work units: 600\n",
      "Profiles:           read=read:packed24, write=write:packed24\n",
      "Flush interval:     5.0s\n",
      "\n",
      "\u001B[4mFiles\u001B[0m\n",
      "Source: /vast/edk202/NLP_corpora/Google_Books/20200217/eng/5gram_files/5grams.db\n",
      "Destination: /vast/edk202/NLP_corpora/Google_Books/20200217/eng/5gram_files/5grams_processed.db\n",
      "Input whitelist: ..._corpora/Google_Books/20200217/eng/1gram_files/1grams_processed.db/whitelist.txt\n",
      "  All tokens (min count: 1)\n",
      "Output whitelist: None\n",
      "Loading whitelist...\n",
      "Loaded 6,000 tokens\n",
      "\n",
      "Phase 1: Creating work units...\n",
      "════════════════════════════════════════════════════════════════════════════════════════════════════\n",
      "Clean restart - creating new work units\n",
      "Sampling database to create 600 density-based work units...\n"
     ]
    }
   ],
   "execution_count": null
  },
  {
   "metadata": {},
   "cell_type": "markdown",
   "source": [
    "# **Inspect the Procesed Database**\n",
    "## `db_head`: Print the first _N_ key–value pairs"
   ],
   "id": "b916bcb8f52efc4e"
  },
  {
   "metadata": {
    "ExecuteTime": {
     "end_time": "2025-11-01T00:07:23.432799Z",
     "start_time": "2025-11-01T00:07:22.761462Z"
    }
   },
   "cell_type": "code",
   "source": [
    "db_path = \"/vast/edk202/NLP_corpora/Google_Books/20200217/eng/5gram_files/5grams_processed.db\"\n",
    "\n",
    "db_head(db_path, key_format=\"utf-8\", value_format=\"packed\", n=5)"
   ],
   "id": "602ef9dec8103212",
   "outputs": [
    {
     "name": "stdout",
     "output_type": "stream",
     "text": [
      "First 5 key-value pairs:\n",
      "────────────────────────────────────────────────────────────────────────────────────────────────────\n",
      "[ 1] Key:   <UNK> <UNK> <UNK> <UNK> abandon\n",
      "     Value: [387 records] ... +377 earlier, (2010, 27926, 26498), (2011, 27582, 26509), (2012, 32242, 31044)\n",
      "            (2013, 34955, 33807), (2014, 33745, 32732), (2015, 29802, 28815), (2016, 28203, 27315)\n",
      "            (2017, 37094, 35829), (2018, 37506, 36414), (2019, 27181, 26381)\n",
      "\n",
      "[ 2] Key:   <UNK> <UNK> <UNK> <UNK> abdominal\n",
      "     Value: [282 records] ... +272 earlier, (2010, 18891, 14483), (2011, 20957, 15540), (2012, 25837, 21188)\n",
      "            (2013, 23417, 18111), (2014, 26332, 21212), (2015, 26647, 20917), (2016, 23715, 19133)\n",
      "            (2017, 15718, 12321), (2018, 15650, 12934), (2019, 12355, 10399)\n",
      "\n",
      "[ 3] Key:   <UNK> <UNK> <UNK> <UNK> abide\n",
      "     Value: [398 records] ... +388 earlier, (2010, 6488, 6060), (2011, 5526, 5182), (2012, 7163, 6760)\n",
      "            (2013, 7851, 7301), (2014, 7147, 6697), (2015, 7133, 6762), (2016, 6369, 5989)\n",
      "            (2017, 14963, 12866), (2018, 19561, 18781), (2019, 6777, 6508)\n",
      "\n",
      "[ 4] Key:   <UNK> <UNK> <UNK> <UNK> ability\n",
      "     Value: [406 records] ... +396 earlier, (2010, 117118, 110735), (2011, 116673, 110649)\n",
      "            (2012, 147503, 140001), (2013, 151769, 144449), (2014, 129320, 122865)\n",
      "            (2015, 114466, 108793), (2016, 116761, 111162), (2017, 109985, 104914)\n",
      "            (2018, 102950, 96268), (2019, 113709, 102897)\n",
      "\n",
      "[ 5] Key:   <UNK> <UNK> <UNK> <UNK> able\n",
      "     Value: [480 records] ... +470 earlier, (2010, 714849, 653063), (2011, 766363, 701940)\n",
      "            (2012, 941077, 860126), (2013, 967152, 879923), (2014, 951442, 867242)\n",
      "            (2015, 809905, 734282), (2016, 778963, 705239), (2017, 856701, 762400)\n",
      "            (2018, 826022, 746878), (2019, 831896, 697497)\n",
      "\n"
     ]
    }
   ],
   "execution_count": 6
  },
  {
   "metadata": {},
   "cell_type": "markdown",
   "source": "## `db_peek`: Print _N_ key-value pairs starting at the specified key",
   "id": "a5cd2b4c5b2bef6c"
  },
  {
   "metadata": {
    "ExecuteTime": {
     "end_time": "2025-11-01T00:07:32.344225Z",
     "start_time": "2025-11-01T00:07:31.906061Z"
    }
   },
   "cell_type": "code",
   "source": [
    "db_path = \"/vast/edk202/NLP_corpora/Google_Books/20200217/eng/5gram_files/5grams_processed.db\"\n",
    "\n",
    "db_peek(db_path, start_key=b\"quick brown <UNK> <UNK> <UNK>\", key_format=\"utf-8\", value_format=\"packed\", n=5)\n"
   ],
   "id": "4ae0c4f82ae61dbd",
   "outputs": [
    {
     "name": "stdout",
     "output_type": "stream",
     "text": [
      "5 key-value pairs starting from 717569636b2062726f776e203c554e4b3e203c554e4b3e203c554e4b3e:\n",
      "────────────────────────────────────────────────────────────────────────────────────────────────────\n",
      "[ 1] Key:   quick brown <UNK> <UNK> <UNK>\n",
      "     Value: [21 records] ... +11 earlier, (2006, 4, 3), (2007, 1, 1), (2008, 13, 3), (2009, 2, 2)\n",
      "            (2010, 5, 4), (2011, 2, 2), (2012, 9, 7), (2013, 5, 3), (2014, 2, 1), (2016, 1, 1)\n",
      "\n",
      "[ 2] Key:   quick brown eye <UNK> <UNK>\n",
      "     Value: [156 records] ... +146 earlier, (2010, 5, 5), (2011, 6, 6), (2012, 10, 10), (2013, 19, 19)\n",
      "            (2014, 18, 18), (2015, 22, 22), (2016, 18, 18), (2017, 26, 26), (2018, 99, 99)\n",
      "            (2019, 16, 16)\n",
      "\n",
      "[ 3] Key:   quick brown eye <UNK> butler\n",
      "     Value: [10 records] (1866, 23, 23), (1867, 2, 2), (1869, 2, 2), (1870, 2, 2), (1871, 4, 4), (1875, 3, 3)\n",
      "            (1891, 1, 1), (1892, 1, 1), (1903, 1, 1), (1908, 1, 1)\n",
      "\n",
      "[ 4] Key:   quick brown eye take <UNK>\n",
      "     Value: [36 records] ... +26 earlier, (2007, 1, 1), (2008, 9, 9), (2009, 1, 1), (2011, 2, 2), (2012, 3, 3)\n",
      "            (2013, 1, 1), (2014, 1, 1), (2015, 1, 1), (2018, 2, 2), (2019, 5, 5)\n",
      "\n",
      "[ 5] Key:   quick brown fox <UNK> <UNK>\n",
      "     Value: [74 records] ... +64 earlier, (2010, 86, 45), (2011, 19, 18), (2012, 75, 42), (2013, 69, 35)\n",
      "            (2014, 61, 33), (2015, 85, 26), (2016, 58, 35), (2017, 56, 22), (2018, 45, 20)\n",
      "            (2019, 7, 6)\n",
      "\n"
     ]
    }
   ],
   "execution_count": 7
  },
  {
   "metadata": {},
   "cell_type": "markdown",
   "source": "## `db_peek_prefix`: Print key-value pairs containing the specified prefix",
   "id": "f0261bc901193643"
  },
  {
   "metadata": {
    "ExecuteTime": {
     "end_time": "2025-11-01T00:10:07.996605Z",
     "start_time": "2025-11-01T00:10:07.591430Z"
    }
   },
   "cell_type": "code",
   "source": [
    "db_path = \"/vast/edk202/NLP_corpora/Google_Books/20200217/eng/5gram_files/5grams_processed.db\"\n",
    "\n",
    "db_peek_prefix(db_path, prefix=b\"<UNK> <UNK> <UNK> <UNK> alone\", key_format=\"utf-8\", value_format=\"summary\", n=1)"
   ],
   "id": "b04a9e9cf0cc209f",
   "outputs": [
    {
     "name": "stdout",
     "output_type": "stream",
     "text": [
      "1 key-value pairs with prefix 3c554e4b3e203c554e4b3e203c554e4b3e203c554e4b3e20616c6f6e65:\n",
      "────────────────────────────────────────────────────────────────────────────────────────────────────\n",
      "[ 1] Key:   <UNK> <UNK> <UNK> <UNK> alone\n",
      "     Value: Total: 7,354,834 occurrences in 7,103,072 volumes (1501-2019, 441 years)\n",
      "\n"
     ]
    }
   ],
   "execution_count": 17
  },
  {
   "metadata": {},
   "cell_type": "code",
   "source": "",
   "id": "35abdd0e1baea1b1",
   "outputs": [],
   "execution_count": null
  }
 ],
 "metadata": {
  "kernelspec": {
   "display_name": "Python 3 (ipykernel)",
   "language": "python",
   "name": "python3"
  },
  "language_info": {
   "codemirror_mode": {
    "name": "ipython",
    "version": 3
   },
   "file_extension": ".py",
   "mimetype": "text/x-python",
   "name": "python",
   "nbconvert_exporter": "python",
   "pygments_lexer": "ipython3",
   "version": "3.11.13"
  }
 },
 "nbformat": 4,
 "nbformat_minor": 5
}
