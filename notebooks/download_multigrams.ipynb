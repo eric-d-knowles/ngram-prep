{
 "cells": [
  {
   "metadata": {},
   "cell_type": "markdown",
   "source": [
    "# **Setup**\n",
    "## Recompile Cython Extensions"
   ],
   "id": "ed15de79ff6600a1"
  },
  {
   "metadata": {
    "jupyter": {
     "is_executing": true
    }
   },
   "cell_type": "code",
   "source": [
    "%cd /scratch/edk202/ngram-prep\n",
    "\n",
    "%env LC_ALL=C.UTF-8\n",
    "%env LANG=C.UTF-8\n",
    "\n",
    "%pip install -e . --no-build-isolation -q"
   ],
   "id": "83fd8bce39b84e5",
   "outputs": [],
   "execution_count": null
  },
  {
   "metadata": {},
   "cell_type": "markdown",
   "source": "## Imports",
   "id": "4abc2d0e95d15ad0"
  },
  {
   "metadata": {
    "ExecuteTime": {
     "end_time": "2025-10-12T14:49:33.954025Z",
     "start_time": "2025-10-12T14:49:29.814920Z"
    }
   },
   "cell_type": "code",
   "source": [
    "# Auto-reload edited scripts\n",
    "%load_ext autoreload\n",
    "%autoreload 2\n",
    "\n",
    "# NLTK resources\n",
    "from nltk.corpus import stopwords; stopwords = set(stopwords.words(\"english\"))\n",
    "from nltk.stem import WordNetLemmatizer; lemmatizer = WordNetLemmatizer()\n",
    "\n",
    "# Ngram acquisition functions\n",
    "from ngram_prep.ngram_acquire import download_and_ingest_to_rocksdb\n",
    "from ngram_prep.ngram_acquire.logger import setup_logger\n",
    "\n",
    "# Ngram processing functions\n",
    "from pathlib import Path\n",
    "from ngram_prep.ngram_filter.config import PipelineConfig, FilterConfig\n",
    "from ngram_prep.ngram_filter.pipeline.orchestrator import build_processed_db\n",
    "from ngram_prep.parallel import SplitMonitorConfig\n",
    "from ngram_prep.utilities.peek import db_peek, db_peek_prefix"
   ],
   "id": "ce854c30d3ed2553",
   "outputs": [],
   "execution_count": 1
  },
  {
   "metadata": {},
   "cell_type": "markdown",
   "source": "## Set up logging to file",
   "id": "9dcc445498bb0c6a"
  },
  {
   "metadata": {
    "ExecuteTime": {
     "end_time": "2025-10-12T14:49:41.028546Z",
     "start_time": "2025-10-12T14:49:40.862685Z"
    }
   },
   "cell_type": "code",
   "source": [
    "setup_logger(\n",
    "    db_path=\"/vast/edk202/NLP_corpora/Google_Books/20200217/eng/5gram_files/1grams.db\",\n",
    "    console=False,\n",
    "    rotate=True,\n",
    "    max_bytes=100_000_000,\n",
    "    backup_count=5,\n",
    "    force=True\n",
    ")"
   ],
   "id": "12e3d73b8a010aa3",
   "outputs": [
    {
     "data": {
      "text/plain": [
       "PosixPath('/vast/edk202/NLP_corpora/Google_Books/20200217/eng/5gram_files/ngram_download_20251012_104941.log')"
      ]
     },
     "execution_count": 2,
     "metadata": {},
     "output_type": "execute_result"
    }
   ],
   "execution_count": 2
  },
  {
   "metadata": {},
   "cell_type": "markdown",
   "source": "# **Download 5-Grams and Ingest to RocksDB**",
   "id": "7ef4e7ff09f03459"
  },
  {
   "metadata": {
    "ExecuteTime": {
     "end_time": "2025-10-12T01:10:01.443441Z",
     "start_time": "2025-10-12T01:10:01.004778Z"
    }
   },
   "cell_type": "code",
   "source": [
    "download_and_ingest_to_rocksdb(\n",
    "    ngram_size=1,\n",
    "    repo_release_id=\"20200217\",\n",
    "    repo_corpus_id=\"eng\",\n",
    "    db_path_stub=\"/vast/edk202/NLP_corpora/Google_Books/\",\n",
    "    file_range=(0, 19422),\n",
    "    random_seed=98,\n",
    "    workers=39,\n",
    "    use_threads=False,\n",
    "    ngram_type=\"tagged\",\n",
    "    overwrite_db=True,\n",
    "    write_batch_size=100_000,\n",
    "    open_type=\"write:packed24\",\n",
    "    compact_after_ingest=True\n",
    ")"
   ],
   "id": "c114576e7345015e",
   "outputs": [
    {
     "ename": "ValueError",
     "evalue": "Invalid file range (0, 19422). Available: 0..23",
     "output_type": "error",
     "traceback": [
      "\u001B[31m---------------------------------------------------------------------------\u001B[39m",
      "\u001B[31mValueError\u001B[39m                                Traceback (most recent call last)",
      "\u001B[36mCell\u001B[39m\u001B[36m \u001B[39m\u001B[32mIn[2]\u001B[39m\u001B[32m, line 1\u001B[39m\n\u001B[32m----> \u001B[39m\u001B[32m1\u001B[39m \u001B[43mdownload_and_ingest_to_rocksdb\u001B[49m\u001B[43m(\u001B[49m\n\u001B[32m      2\u001B[39m \u001B[43m    \u001B[49m\u001B[43mngram_size\u001B[49m\u001B[43m=\u001B[49m\u001B[32;43m1\u001B[39;49m\u001B[43m,\u001B[49m\n\u001B[32m      3\u001B[39m \u001B[43m    \u001B[49m\u001B[43mrepo_release_id\u001B[49m\u001B[43m=\u001B[49m\u001B[33;43m\"\u001B[39;49m\u001B[33;43m20200217\u001B[39;49m\u001B[33;43m\"\u001B[39;49m\u001B[43m,\u001B[49m\n\u001B[32m      4\u001B[39m \u001B[43m    \u001B[49m\u001B[43mrepo_corpus_id\u001B[49m\u001B[43m=\u001B[49m\u001B[33;43m\"\u001B[39;49m\u001B[33;43meng\u001B[39;49m\u001B[33;43m\"\u001B[39;49m\u001B[43m,\u001B[49m\n\u001B[32m      5\u001B[39m \u001B[43m    \u001B[49m\u001B[43mdb_path_stub\u001B[49m\u001B[43m=\u001B[49m\u001B[33;43m\"\u001B[39;49m\u001B[33;43m/vast/edk202/NLP_corpora/Google_Books/\u001B[39;49m\u001B[33;43m\"\u001B[39;49m\u001B[43m,\u001B[49m\n\u001B[32m      6\u001B[39m \u001B[43m    \u001B[49m\u001B[43mfile_range\u001B[49m\u001B[43m=\u001B[49m\u001B[43m(\u001B[49m\u001B[32;43m0\u001B[39;49m\u001B[43m,\u001B[49m\u001B[43m \u001B[49m\u001B[32;43m19422\u001B[39;49m\u001B[43m)\u001B[49m\u001B[43m,\u001B[49m\n\u001B[32m      7\u001B[39m \u001B[43m    \u001B[49m\u001B[43mrandom_seed\u001B[49m\u001B[43m=\u001B[49m\u001B[32;43m98\u001B[39;49m\u001B[43m,\u001B[49m\n\u001B[32m      8\u001B[39m \u001B[43m    \u001B[49m\u001B[43mworkers\u001B[49m\u001B[43m=\u001B[49m\u001B[32;43m39\u001B[39;49m\u001B[43m,\u001B[49m\n\u001B[32m      9\u001B[39m \u001B[43m    \u001B[49m\u001B[43muse_threads\u001B[49m\u001B[43m=\u001B[49m\u001B[38;5;28;43;01mFalse\u001B[39;49;00m\u001B[43m,\u001B[49m\n\u001B[32m     10\u001B[39m \u001B[43m    \u001B[49m\u001B[43mngram_type\u001B[49m\u001B[43m=\u001B[49m\u001B[33;43m\"\u001B[39;49m\u001B[33;43mtagged\u001B[39;49m\u001B[33;43m\"\u001B[39;49m\u001B[43m,\u001B[49m\n\u001B[32m     11\u001B[39m \u001B[43m    \u001B[49m\u001B[43moverwrite_db\u001B[49m\u001B[43m=\u001B[49m\u001B[38;5;28;43;01mTrue\u001B[39;49;00m\u001B[43m,\u001B[49m\n\u001B[32m     12\u001B[39m \u001B[43m    \u001B[49m\u001B[43mwrite_batch_size\u001B[49m\u001B[43m=\u001B[49m\u001B[32;43m100_000\u001B[39;49m\u001B[43m,\u001B[49m\n\u001B[32m     13\u001B[39m \u001B[43m    \u001B[49m\u001B[43mopen_type\u001B[49m\u001B[43m=\u001B[49m\u001B[33;43m\"\u001B[39;49m\u001B[33;43mwrite:packed24\u001B[39;49m\u001B[33;43m\"\u001B[39;49m\u001B[43m,\u001B[49m\n\u001B[32m     14\u001B[39m \u001B[43m    \u001B[49m\u001B[43mcompact_after_ingest\u001B[49m\u001B[43m=\u001B[49m\u001B[38;5;28;43;01mTrue\u001B[39;49;00m\n\u001B[32m     15\u001B[39m \u001B[43m)\u001B[49m\n",
      "\u001B[36mFile \u001B[39m\u001B[32m/scratch/edk202/ngram-prep/src/ngram_prep/ngram_acquire/core.py:116\u001B[39m, in \u001B[36mdownload_and_ingest_to_rocksdb\u001B[39m\u001B[34m(ngram_size, repo_release_id, repo_corpus_id, db_path_stub, file_range, workers, use_threads, ngram_type, overwrite_db, random_seed, write_batch_size, open_type, compact_after_ingest)\u001B[39m\n\u001B[32m    113\u001B[39m page_url, file_urls_available = discover_files(ngram_size, repo_release_id, repo_corpus_id)\n\u001B[32m    115\u001B[39m \u001B[38;5;66;03m# Select file subset\u001B[39;00m\n\u001B[32m--> \u001B[39m\u001B[32m116\u001B[39m file_urls_to_use, start_idx, end_idx = \u001B[43mselect_file_subset\u001B[49m\u001B[43m(\u001B[49m\u001B[43mfile_urls_available\u001B[49m\u001B[43m,\u001B[49m\u001B[43m \u001B[49m\u001B[43mfile_range\u001B[49m\u001B[43m)\u001B[49m\n\u001B[32m    118\u001B[39m \u001B[38;5;66;03m# Validate and normalize open_type\u001B[39;00m\n\u001B[32m    119\u001B[39m open_type = open_type.lower()\n",
      "\u001B[36mFile \u001B[39m\u001B[32m/scratch/edk202/ngram-prep/src/ngram_prep/ngram_acquire/coordinator.py:77\u001B[39m, in \u001B[36mselect_file_subset\u001B[39m\u001B[34m(file_urls, file_range)\u001B[39m\n\u001B[32m     74\u001B[39m start_idx, end_idx = file_range\n\u001B[32m     76\u001B[39m \u001B[38;5;28;01mif\u001B[39;00m start_idx < \u001B[32m0\u001B[39m \u001B[38;5;129;01mor\u001B[39;00m end_idx >= \u001B[38;5;28mlen\u001B[39m(file_urls) \u001B[38;5;129;01mor\u001B[39;00m start_idx > end_idx:\n\u001B[32m---> \u001B[39m\u001B[32m77\u001B[39m     \u001B[38;5;28;01mraise\u001B[39;00m \u001B[38;5;167;01mValueError\u001B[39;00m(\n\u001B[32m     78\u001B[39m         \u001B[33mf\u001B[39m\u001B[33m\"\u001B[39m\u001B[33mInvalid file range \u001B[39m\u001B[38;5;132;01m{\u001B[39;00mfile_range\u001B[38;5;132;01m}\u001B[39;00m\u001B[33m. Available: 0..\u001B[39m\u001B[38;5;132;01m{\u001B[39;00m\u001B[38;5;28mlen\u001B[39m(file_urls)\u001B[38;5;250m \u001B[39m-\u001B[38;5;250m \u001B[39m\u001B[32m1\u001B[39m\u001B[38;5;132;01m}\u001B[39;00m\u001B[33m\"\u001B[39m\n\u001B[32m     79\u001B[39m     )\n\u001B[32m     81\u001B[39m selected = file_urls[start_idx: end_idx + \u001B[32m1\u001B[39m]\n\u001B[32m     82\u001B[39m logger.info(\u001B[33m\"\u001B[39m\u001B[33mSelected files \u001B[39m\u001B[38;5;132;01m%d\u001B[39;00m\u001B[33m to \u001B[39m\u001B[38;5;132;01m%d\u001B[39;00m\u001B[33m (\u001B[39m\u001B[38;5;132;01m%d\u001B[39;00m\u001B[33m total)\u001B[39m\u001B[33m\"\u001B[39m, start_idx, end_idx, \u001B[38;5;28mlen\u001B[39m(selected))\n",
      "\u001B[31mValueError\u001B[39m: Invalid file range (0, 19422). Available: 0..23"
     ]
    }
   ],
   "execution_count": 2
  },
  {
   "metadata": {},
   "cell_type": "markdown",
   "source": "# **Run Processing Pipeline**",
   "id": "293dff16a66060a0"
  },
  {
   "metadata": {
    "ExecuteTime": {
     "end_time": "2025-10-12T02:22:35.031409Z",
     "start_time": "2025-10-12T02:22:13.460696Z"
    }
   },
   "cell_type": "code",
   "source": [
    "src_db = Path(\"/vast/edk202/NLP_corpora/Google_Books/20200217/eng/5gram_files/5grams.db\")\n",
    "dst_db = src_db.parent / \"5grams_processed.db\"\n",
    "tmp_dir = src_db.parent / \"processing_tmp\"\n",
    "whitelist_dir = src_db.parent.parent / \"1gram_files\" / \"1grams_processed.db\" / \"whitelist.txt\"\n",
    "\n",
    "filter_config = FilterConfig(\n",
    "    stop_set=stopwords,\n",
    "    lemma_gen=lemmatizer,\n",
    "    whitelist_path=whitelist_dir\n",
    ")\n",
    "\n",
    "split_monitor_config = SplitMonitorConfig(\n",
    "    check_interval=2,\n",
    "    starvation_threshold=4\n",
    ")\n",
    "\n",
    "pipeline_config = PipelineConfig(\n",
    "    src_db=src_db,\n",
    "    dst_db=dst_db,\n",
    "    tmp_dir=tmp_dir,\n",
    "    num_workers=30,\n",
    "    num_ingest_workers=10,\n",
    "    num_initial_work_units=30,\n",
    "    mode=\"resume\",\n",
    "    enable_ingest=True,\n",
    "    delete_after_ingest=True,\n",
    "    compact_after_ingest=False,\n",
    "    progress_every_s=60.0,\n",
    "    max_items_per_bucket=100_000,\n",
    "    max_bytes_per_bucket=128 * 1024 * 1024,\n",
    "    split_monitor_config=split_monitor_config\n",
    ")\n",
    "\n",
    "build_processed_db(pipeline_config, filter_config)"
   ],
   "id": "35e8aa97d8255330",
   "outputs": [
    {
     "name": "stdout",
     "output_type": "stream",
     "text": [
      "N-GRAM FILTER PIPELINE\n",
      "━━━━━━━━━━━━━━━━━━━━━━━━━━━━━━━━━━━━━━━━━━━━━━━━━━━━━━━━━━━━━━━━━━━━━━━━━━━━━━━━━━━━━━━━━━━━━━━━━━━━\n",
      "\n",
      "Configuration\n",
      "════════════════════════════════════════════════════════════════════════════════════════════════════\n",
      "\u001B[4mPipeline\u001B[0m\n",
      "Run mode:               resume\n",
      "Ingest after filtering: True\n",
      "\n",
      "\u001B[4mWorkers\u001B[0m\n",
      "Num Workers:        30\n",
      "Initial work units: 30\n",
      "Dynamic splitting:  Enabled\n",
      "Profiles:           read=read:packed24, write=write:packed24\n",
      "Buffer:             100,000 items, 128.00 MB\n",
      "\n",
      "\u001B[4mFiles\u001B[0m\n",
      "Source: /vast/edk202/NLP_corpora/Google_Books/20200217/eng/5gram_files/5grams.db\n",
      "Destination: /vast/edk202/NLP_corpora/Google_Books/20200217/eng/5gram_files/5grams_processed.db\n",
      "Input whitelist: ..._corpora/Google_Books/20200217/eng/1gram_files/1grams_processed.db/whitelist.txt\n",
      "  All tokens (min count: 1)\n",
      "Output whitelist: None\n",
      "Loading whitelist...\n",
      "Loaded 40,000 tokens\n",
      "\n",
      "Phase 1: Creating work units...\n",
      "════════════════════════════════════════════════════════════════════════════════════════════════════\n",
      "Resuming existing work units\n",
      "Resuming: 3042 completed, 0 processing, 0 pending\n",
      "\n",
      "Phase 2: Processing 0 work units with 30 workers...\n",
      "════════════════════════════════════════════════════════════════════════════════════════════════════\n",
      "\n",
      "    items          kept        workers        units         splits      throughput     elapsed    \n",
      "──────────────────────────────────────────────────────────────────────────────────────────────────\n",
      "   ──────────────────────────────────── final ────────────────────────────────────\n",
      "      0            0.0%       0a|30i|0s    0p|0pd|3042c      3012          0/s           20s      \n",
      "\n",
      "Phase 3: Finalizing database (concurrent ingestion already completed)...\n",
      "════════════════════════════════════════════════════════════════════════════════════════════════════\n",
      "\n",
      "┌──────────────────────────────────────────────────────────────────────────────────────────────────┐\n",
      "│ PROCESSING COMPLETE                                                                              │\n",
      "├──────────────────────────────────────────────────────────────────────────────────────────────────┤\n",
      "│ Items: 284,517,618                                                                               │\n",
      "│ Size: 292.40 GB                                                                                  │\n",
      "│ Database: /vast/edk202/NLP_corpora/Google_Books/20200217/eng/5gram_files/5grams_processed.db     │\n",
      "└──────────────────────────────────────────────────────────────────────────────────────────────────┘\n"
     ]
    }
   ],
   "execution_count": 4
  },
  {
   "metadata": {},
   "cell_type": "markdown",
   "source": [
    "# **Inspect the Procesed Database**\n",
    "## `db_head`: Print the first _N_ key–value pairs"
   ],
   "id": "b916bcb8f52efc4e"
  },
  {
   "metadata": {
    "ExecuteTime": {
     "end_time": "2025-10-12T02:26:03.885684Z",
     "start_time": "2025-10-12T02:26:03.655930Z"
    }
   },
   "cell_type": "code",
   "source": [
    "LGdb_path = \"/vast/edk202/NLP_corpora/Google_Books/20200217/eng/5gram_files/5grams_processed.db\"\n",
    "\n",
    "db_head(db_path, key_format=\"utf-8\", value_format=\"packed\", n=5)"
   ],
   "id": "602ef9dec8103212",
   "outputs": [
    {
     "ename": "NameError",
     "evalue": "name 'db_head' is not defined",
     "output_type": "error",
     "traceback": [
      "\u001B[31m---------------------------------------------------------------------------\u001B[39m",
      "\u001B[31mNameError\u001B[39m                                 Traceback (most recent call last)",
      "\u001B[36mCell\u001B[39m\u001B[36m \u001B[39m\u001B[32mIn[5]\u001B[39m\u001B[32m, line 3\u001B[39m\n\u001B[32m      1\u001B[39m LGdb_path = \u001B[33m\"\u001B[39m\u001B[33m/vast/edk202/NLP_corpora/Google_Books/20200217/eng/5gram_files/5grams_processed.db\u001B[39m\u001B[33m\"\u001B[39m\n\u001B[32m----> \u001B[39m\u001B[32m3\u001B[39m \u001B[43mdb_head\u001B[49m(db_path, key_format=\u001B[33m\"\u001B[39m\u001B[33mutf-8\u001B[39m\u001B[33m\"\u001B[39m, value_format=\u001B[33m\"\u001B[39m\u001B[33mpacked\u001B[39m\u001B[33m\"\u001B[39m, n=\u001B[32m5\u001B[39m)\n",
      "\u001B[31mNameError\u001B[39m: name 'db_head' is not defined"
     ]
    }
   ],
   "execution_count": 5
  },
  {
   "metadata": {},
   "cell_type": "markdown",
   "source": "## `db_peek`: Print _N_ key-value pairs starting at the specified key",
   "id": "a5cd2b4c5b2bef6c"
  },
  {
   "metadata": {},
   "cell_type": "code",
   "source": [
    "db_path = \"/vast/edk202/NLP_corpora/Google_Books/20200217/eng/5gram_files/5grams_processed.db\"\n",
    "\n",
    "db_peek(db_path, start_key=b\"quick brown <UNK> <UNK> <UNK>\", key_format=\"utf-8\", value_format=\"packed\", n=5)\n"
   ],
   "id": "4ae0c4f82ae61dbd",
   "outputs": [],
   "execution_count": null
  },
  {
   "metadata": {},
   "cell_type": "markdown",
   "source": "## `db_peek_prefix`: Print key-value pairs containing the specified prefix",
   "id": "f0261bc901193643"
  },
  {
   "metadata": {},
   "cell_type": "code",
   "source": [
    "db_path = \"/vast/edk202/NLP_corpora/Google_Books/20200217/eng/5gram_files/5grams_processed.db\"\n",
    "\n",
    "db_peek_prefix(db_path, prefix=b\"<UNK> united state <UNK> <UNK>\", key_format=\"utf-8\", value_format=\"summary\", n=1)"
   ],
   "id": "b04a9e9cf0cc209f",
   "outputs": [],
   "execution_count": null
  },
  {
   "metadata": {},
   "cell_type": "code",
   "source": "",
   "id": "35abdd0e1baea1b1",
   "outputs": [],
   "execution_count": null
  }
 ],
 "metadata": {
  "kernelspec": {
   "display_name": "hist_w2v (Singularity)",
   "language": "python",
   "name": "hist_w2v"
  },
  "language_info": {
   "codemirror_mode": {
    "name": "ipython",
    "version": 3
   },
   "file_extension": ".py",
   "mimetype": "text/x-python",
   "name": "python",
   "nbconvert_exporter": "python",
   "pygments_lexer": "ipython3",
   "version": "3.11.13"
  }
 },
 "nbformat": 4,
 "nbformat_minor": 5
}
