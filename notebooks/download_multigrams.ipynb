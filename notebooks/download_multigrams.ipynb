{
 "cells": [
  {
   "metadata": {},
   "cell_type": "markdown",
   "source": [
    "# **Setup**\n",
    "## Recompile Cython Extensions"
   ],
   "id": "ed15de79ff6600a1"
  },
  {
   "metadata": {},
   "cell_type": "code",
   "source": [
    "%cd /scratch/edk202/ngram-prep\n",
    "\n",
    "%env LC_ALL=C.UTF-8\n",
    "%env LANG=C.UTF-8\n",
    "\n",
    "%pip install -e . --no-build-isolation -q"
   ],
   "id": "5a286fabaadb42f3",
   "outputs": [],
   "execution_count": null
  },
  {
   "metadata": {},
   "cell_type": "markdown",
   "source": "## Imports",
   "id": "2d7d8e9ec4dd02cf"
  },
  {
   "metadata": {
    "ExecuteTime": {
     "end_time": "2025-10-20T21:32:51.995788Z",
     "start_time": "2025-10-20T21:32:46.766429Z"
    }
   },
   "cell_type": "code",
   "source": [
    "# Auto-reload edited scripts\n",
    "%load_ext autoreload\n",
    "%autoreload 2\n",
    "\n",
    "# NLTK resources\n",
    "from nltk.corpus import stopwords; stopwords = set(stopwords.words(\"english\"))\n",
    "from nltk.stem import WordNetLemmatizer; lemmatizer = WordNetLemmatizer()\n",
    "\n",
    "# Ngram acquisition functions\n",
    "from ngram_prep.ngram_acquire import download_and_ingest_to_rocksdb\n",
    "from ngram_prep.ngram_acquire.logger import setup_logger\n",
    "\n",
    "# Ngram processing functions\n",
    "from pathlib import Path\n",
    "from ngram_prep.ngram_filter.config import PipelineConfig, FilterConfig\n",
    "from ngram_prep.ngram_filter.pipeline.orchestrator import build_processed_db\n",
    "from ngram_prep.utilities.peek import db_head, db_peek, db_peek_prefix"
   ],
   "id": "ce854c30d3ed2553",
   "outputs": [],
   "execution_count": 1
  },
  {
   "metadata": {},
   "cell_type": "markdown",
   "source": "## Set up logging to file",
   "id": "9dcc445498bb0c6a"
  },
  {
   "metadata": {
    "ExecuteTime": {
     "end_time": "2025-10-20T21:32:52.126800Z",
     "start_time": "2025-10-20T21:32:52.011401Z"
    }
   },
   "cell_type": "code",
   "source": [
    "setup_logger(\n",
    "    db_path=\"/vast/edk202/NLP_corpora/Google_Books/20200217/eng/5gram_files/5grams.db\",\n",
    "    console=False,\n",
    "    rotate=True,\n",
    "    max_bytes=100_000_000,\n",
    "    backup_count=5,\n",
    "    force=True\n",
    ")"
   ],
   "id": "12e3d73b8a010aa3",
   "outputs": [
    {
     "data": {
      "text/plain": [
       "PosixPath('/vast/edk202/NLP_corpora/Google_Books/20200217/eng/5gram_files/5grams.db/ngram_download_20251020_173252.log')"
      ]
     },
     "execution_count": 2,
     "metadata": {},
     "output_type": "execute_result"
    }
   ],
   "execution_count": 2
  },
  {
   "metadata": {},
   "cell_type": "markdown",
   "source": "# **Download 5-Grams and Ingest to RocksDB**",
   "id": "7ef4e7ff09f03459"
  },
  {
   "metadata": {
    "jupyter": {
     "is_executing": true
    },
    "ExecuteTime": {
     "start_time": "2025-10-20T21:32:59.728210Z"
    }
   },
   "cell_type": "code",
   "source": [
    "download_and_ingest_to_rocksdb(\n",
    "    ngram_size=5,\n",
    "    repo_release_id=\"20200217\",\n",
    "    repo_corpus_id=\"eng\",\n",
    "    #db_path_stub=\"/vast/edk202/NLP_corpora/Google_Books/\",\n",
    "    db_path_stub=\"/scratch/edk202/NLP_tmp\",\n",
    "    file_range=(0, 19422),\n",
    "    random_seed=76,\n",
    "    workers=30,\n",
    "    use_threads=False,\n",
    "    ngram_type=\"tagged\",\n",
    "    overwrite_db=False,\n",
    "    write_batch_size=1_000_000,\n",
    "    open_type=\"write:packed24\",\n",
    "    compact_after_ingest=True\n",
    ")"
   ],
   "id": "c114576e7345015e",
   "outputs": [
    {
     "name": "stdout",
     "output_type": "stream",
     "text": [
      "N-GRAM ACQUISITION PIPELINE\n",
      "━━━━━━━━━━━━━━━━━━━━━━━━━━━━━━━━━━━━━━━━━━━━━━━━━━━━━━━━━━━━━━━━━━━━━━━━━━━━━━━━━━━━━━━━━━━━━━━━━━━━\n",
      "Start Time: 2025-10-20 17:32:59\n",
      "\n",
      "Download Configuration\n",
      "════════════════════════════════════════════════════════════════════════════════════════════════════\n",
      "Ngram repo:           https://books.storage.googleapis.com/?prefix=ngrams/books/20200217/eng/5-\n",
      "DB path:              /scratch/edk202/NLP_tmp/20200217/eng/5gram_files/5grams.db\n",
      "File range:           0 to 19422\n",
      "Total files:          19423\n",
      "Files to get:         4744\n",
      "Skipping:             14679\n",
      "Download workers:     30\n",
      "Batch size:           1,000,000\n",
      "Ngram size:           5\n",
      "Ngram type:           tagged\n",
      "Overwrite DB:         False\n",
      "DB Profile:           write:packed24\n",
      "\n",
      "Download Progress\n",
      "════════════════════════════════════════════════════════════════════════════════════════════════════\n"
     ]
    },
    {
     "name": "stderr",
     "output_type": "stream",
     "text": [
      "Files Processed: 100%|███████████████████████████████████████████████████| 4744/4744 [2:00:03<00:00]\n"
     ]
    },
    {
     "name": "stdout",
     "output_type": "stream",
     "text": [
      "\n",
      "Post-Ingestion Compaction\n",
      "════════════════════════════════════════════════════════════════════════════════════════════════════\n",
      "Initial DB size:         2.17 TB\n"
     ]
    }
   ],
   "execution_count": null
  },
  {
   "metadata": {},
   "cell_type": "markdown",
   "source": "# **Run Processing Pipeline**",
   "id": "293dff16a66060a0"
  },
  {
   "metadata": {
    "jupyter": {
     "is_executing": true
    }
   },
   "cell_type": "code",
   "source": [
    "src_db = Path(\"/vast/edk202/NLP_corpora/Google_Books/20200217/eng/5gram_files/5grams.db\")\n",
    "dst_db = src_db.parent / \"5grams_processed.db\"\n",
    "tmp_dir = src_db.parent / \"processing_tmp\"\n",
    "whitelist_dir = src_db.parent.parent / \"1gram_files\" / \"1grams_processed.db\" / \"whitelist.txt\"\n",
    "\n",
    "filter_config = FilterConfig(\n",
    "    stop_set=stopwords,\n",
    "    lemma_gen=lemmatizer,\n",
    "    whitelist_path=whitelist_dir\n",
    ")\n",
    "\n",
    "pipeline_config = PipelineConfig(\n",
    "    src_db=src_db,\n",
    "    dst_db=dst_db,\n",
    "    tmp_dir=tmp_dir,\n",
    "    num_workers=20,\n",
    "    num_initial_work_units=40,\n",
    "    work_unit_claim_order=\"sequential\",\n",
    "    max_split_depth=30,\n",
    "    split_check_interval_s=10.0,\n",
    "    mode=\"restart\",\n",
    "    progress_every_s=30.0,\n",
    "    max_items_per_bucket=100_000,\n",
    "    max_bytes_per_bucket=128 * 1024 * 1024,\n",
    "    ingest_num_readers=20,\n",
    "    ingest_queue_size=1,\n",
    ")\n",
    "\n",
    "build_processed_db(pipeline_config, filter_config)"
   ],
   "id": "35e8aa97d8255330",
   "outputs": [],
   "execution_count": null
  },
  {
   "metadata": {},
   "cell_type": "markdown",
   "source": [
    "# **Inspect the Procesed Database**\n",
    "## `db_head`: Print the first _N_ key–value pairs"
   ],
   "id": "b916bcb8f52efc4e"
  },
  {
   "metadata": {},
   "cell_type": "code",
   "source": [
    "db_path = \"/vast/edk202/NLP_corpora/Google_Books/20200217/eng/5gram_files/5grams_processed.db\"\n",
    "\n",
    "db_head(db_path, key_format=\"utf-8\", value_format=\"packed\", n=5)"
   ],
   "id": "602ef9dec8103212",
   "outputs": [],
   "execution_count": null
  },
  {
   "metadata": {},
   "cell_type": "markdown",
   "source": "## `db_peek`: Print _N_ key-value pairs starting at the specified key",
   "id": "a5cd2b4c5b2bef6c"
  },
  {
   "metadata": {},
   "cell_type": "code",
   "source": [
    "db_path = \"/vast/edk202/NLP_corpora/Google_Books/20200217/eng/5gram_files/5grams_processed.db\"\n",
    "\n",
    "db_peek(db_path, start_key=b\"quick brown <UNK> <UNK> <UNK>\", key_format=\"utf-8\", value_format=\"packed\", n=5)\n"
   ],
   "id": "4ae0c4f82ae61dbd",
   "outputs": [],
   "execution_count": null
  },
  {
   "metadata": {},
   "cell_type": "markdown",
   "source": "## `db_peek_prefix`: Print key-value pairs containing the specified prefix",
   "id": "f0261bc901193643"
  },
  {
   "metadata": {},
   "cell_type": "code",
   "source": [
    "db_path = \"/vast/edk202/NLP_corpora/Google_Books/20200217/eng/5gram_files/5grams_processed.db\"\n",
    "\n",
    "db_peek_prefix(db_path, prefix=b\"<UNK> <UNK> united state <UNK>\", key_format=\"utf-8\", value_format=\"summary\", n=1)"
   ],
   "id": "b04a9e9cf0cc209f",
   "outputs": [],
   "execution_count": null
  },
  {
   "metadata": {},
   "cell_type": "code",
   "source": "",
   "id": "35abdd0e1baea1b1",
   "outputs": [],
   "execution_count": null
  }
 ],
 "metadata": {
  "kernelspec": {
   "display_name": "hist_w2v (Singularity)",
   "language": "python",
   "name": "hist_w2v"
  },
  "language_info": {
   "codemirror_mode": {
    "name": "ipython",
    "version": 3
   },
   "file_extension": ".py",
   "mimetype": "text/x-python",
   "name": "python",
   "nbconvert_exporter": "python",
   "pygments_lexer": "ipython3",
   "version": "3.11.13"
  }
 },
 "nbformat": 4,
 "nbformat_minor": 5
}
