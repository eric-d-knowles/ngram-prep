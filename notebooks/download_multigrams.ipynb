{
 "cells": [
  {
   "metadata": {},
   "cell_type": "markdown",
   "source": [
    "# **Setup**\n",
    "## Recompile Cython Extensions"
   ],
   "id": "ed15de79ff6600a1"
  },
  {
   "metadata": {
    "ExecuteTime": {
     "end_time": "2025-10-04T00:13:14.942648Z",
     "start_time": "2025-10-04T00:13:03.949472Z"
    }
   },
   "cell_type": "code",
   "source": [
    "%cd /scratch/edk202/ngram-prep\n",
    "\n",
    "%env LC_ALL=C.UTF-8\n",
    "%env LANG=C.UTF-8\n",
    "\n",
    "%pip install -e . --no-build-isolation -q"
   ],
   "id": "83fd8bce39b84e5",
   "outputs": [
    {
     "name": "stdout",
     "output_type": "stream",
     "text": [
      "/scratch/edk202/ngram-prep\n",
      "env: LC_ALL=C.UTF-8\n",
      "env: LANG=C.UTF-8\n",
      "Note: you may need to restart the kernel to use updated packages.\n"
     ]
    }
   ],
   "execution_count": 1
  },
  {
   "metadata": {},
   "cell_type": "markdown",
   "source": "## Imports",
   "id": "4abc2d0e95d15ad0"
  },
  {
   "metadata": {
    "ExecuteTime": {
     "end_time": "2025-10-04T03:40:50.393848Z",
     "start_time": "2025-10-04T03:40:49.670715Z"
    }
   },
   "cell_type": "code",
   "source": [
    "# Auto-reload edited scripts\n",
    "%load_ext autoreload\n",
    "%autoreload 2\n",
    "\n",
    "# NLTK resources\n",
    "from nltk.corpus import stopwords; stopwords = set(stopwords.words(\"english\"))\n",
    "from nltk.stem import WordNetLemmatizer; lemmatizer = WordNetLemmatizer()\n",
    "\n",
    "# Ngram acquisition functions\n",
    "from ngram_acquire.pipeline.orchestrate import download_and_ingest_to_rocksdb\n",
    "from ngram_acquire.pipeline.logger import setup_logger\n",
    "\n",
    "# Ngram processing functions\n",
    "from pathlib import Path\n",
    "from ngram_filter.config import PipelineConfig, FilterConfig\n",
    "from ngram_filter.pipeline.orchestrator import build_processed_db\n",
    "from utilities.peek import *"
   ],
   "id": "ce854c30d3ed2553",
   "outputs": [],
   "execution_count": 1
  },
  {
   "metadata": {},
   "cell_type": "markdown",
   "source": "## Set up logging to file",
   "id": "9dcc445498bb0c6a"
  },
  {
   "metadata": {
    "ExecuteTime": {
     "end_time": "2025-10-04T03:40:53.634781Z",
     "start_time": "2025-10-04T03:40:53.515957Z"
    }
   },
   "cell_type": "code",
   "source": [
    "setup_logger(\n",
    "    db_path=\"/vast/edk202/NLP_corpora/Google_Books/20200217/eng/5gram_files/1grams.db\",\n",
    "    console=False,\n",
    "    rotate=True,\n",
    "    max_bytes=100_000_000,\n",
    "    backup_count=5,\n",
    "    force=True\n",
    ")"
   ],
   "id": "12e3d73b8a010aa3",
   "outputs": [
    {
     "data": {
      "text/plain": [
       "PosixPath('/vast/edk202/NLP_corpora/Google_Books/20200217/eng/5gram_files/ngram_download_20251003_234053.log')"
      ]
     },
     "execution_count": 2,
     "metadata": {},
     "output_type": "execute_result"
    }
   ],
   "execution_count": 2
  },
  {
   "metadata": {},
   "cell_type": "markdown",
   "source": "# **Download 5-Grams and Ingest to RocksDB**",
   "id": "7ef4e7ff09f03459"
  },
  {
   "metadata": {
    "jupyter": {
     "is_executing": true
    },
    "ExecuteTime": {
     "start_time": "2025-10-04T03:40:53.635778Z"
    }
   },
   "cell_type": "code",
   "source": [
    "download_and_ingest_to_rocksdb(\n",
    "    ngram_size=5,\n",
    "    repo_release_id=\"20200217\",\n",
    "    repo_corpus_id=\"eng\",\n",
    "    db_path_stub=\"/vast/edk202/NLP_corpora/Google_Books/\",\n",
    "    file_range=(0, 19422),\n",
    "    random_seed=21,\n",
    "    workers=32,\n",
    "    use_threads=False,\n",
    "    ngram_type=\"tagged\",\n",
    "    overwrite_db=False,\n",
    "    overwrite_checkpoint=True,\n",
    "    write_batch_size=100_000,\n",
    "    open_type=\"write:packed24\",\n",
    "    post_compact=False\n",
    ")"
   ],
   "id": "c114576e7345015e",
   "outputs": [],
   "execution_count": null
  },
  {
   "metadata": {},
   "cell_type": "markdown",
   "source": "# **Run Processing Pipeline**",
   "id": "293dff16a66060a0"
  },
  {
   "metadata": {
    "jupyter": {
     "is_executing": true
    },
    "ExecuteTime": {
     "end_time": "2025-10-04T03:38:40.249960084Z",
     "start_time": "2025-10-04T02:35:33.432616Z"
    }
   },
   "cell_type": "code",
   "source": [
    "src_db = Path(\"/vast/edk202/NLP_corpora/Google_Books/20200217/eng/5gram_files/5grams.db\")\n",
    "dst_db = src_db.parent / \"5grams_processed.db\"\n",
    "tmp_dir = src_db.parent / \"processing_tmp\"\n",
    "wht_path =\"/vast/edk202/NLP_corpora/Google_Books/20200217/eng/1gram_files/1grams_processed.db/whitelist.txt\"\n",
    "\n",
    "pipeline_config = PipelineConfig(\n",
    "    src_db=src_db,\n",
    "    dst_db=dst_db,\n",
    "    tmp_dir=tmp_dir,\n",
    "    readers=32,\n",
    "    ingestors=32,\n",
    "    work_units_per_reader=1,\n",
    "    partitioning_sample_rate=0.001,\n",
    "    prefix_length=6,\n",
    "    mode=\"restart\",\n",
    "    force_cache_use=False,\n",
    "    enable_ingest=True,\n",
    "    delete_after_ingest=True,\n",
    "    post_compact=True,\n",
    "    overwrite_checkpoint=True,\n",
    "    progress_every_s=60.0\n",
    ")\n",
    "\n",
    "filter_config = FilterConfig(\n",
    "    stop_set=stopwords,\n",
    "    lemma_gen=lemmatizer,\n",
    "    whitelist_path=wht_path\n",
    ")\n",
    "\n",
    "build_processed_db(pipeline_config, filter_config)"
   ],
   "id": "35e8aa97d8255330",
   "outputs": [
    {
     "name": "stdout",
     "output_type": "stream",
     "text": [
      "N-GRAM FILTER PIPELINE\n",
      "━━━━━━━━━━━━━━━━━━━━━━━━━━━━━━━━━━━━━━━━━━━━━━━━━━━━━━━━━━━━━━━━━━━━━━━━━━━━━━━━━━━━━━━━━━━━━━━━━━━━\n",
      "\n",
      "Configuration:\n",
      "════════════════════════════════════════════════════════════════════════════════════════════════════\n",
      "\u001B[4mPipeline\u001B[0m\n",
      "Run mode: restart\n",
      "Ingest after filtering: True\n",
      "Compact after ingesting: True\n",
      "  \n",
      "\u001B[4mWorkers\u001B[0m\n",
      "Num Workers: 32\n",
      "Work units: 32\n",
      "Profiles: read=read:packed24, write=write:packed24\n",
      "Buffer: 100,000 items, 128MB\n",
      "  \n",
      "\u001B[4mFiles\u001B[0m\n",
      "Source: /vast/edk202/NLP_corpora/Google_Books/20200217/eng/5gram_files/5grams.db\n",
      "Destination: /vast/edk202/NLP_corpora/Google_Books/20200217/eng/5gram_files/5grams_processed.db\n",
      "Input whitelist: ..._corpora/Google_Books/20200217/eng/1gram_files/1grams_processed.db/whitelist.txt\n",
      "  All tokens (min count: 1)\n",
      "Output whitelist: None\n",
      "Loading whitelist...\n",
      "Loaded 40,000 tokens\n",
      "\n",
      "Phase 1: Creating work units...\n",
      "════════════════════════════════════════════════════════════════════════════════════════════════════\n",
      "Clean restart - resampling and creating new work units\n",
      "Sampling database at 0.00100 rate (prefix_length=6)...\n",
      "Targeting 2,480,149 samples using reservoir sampling\n",
      "\n",
      "  ━━━━━━━━━━━━━━━━━━━━━━━━━━━━━━━━━━━━━━━━━━━━━━━━━━━━━━━━━━━━\n",
      "  RESERVOIR SAMPLING CONFIGURATION\n",
      "  ────────────────────────────────────────────────────────────\n",
      "  Target sample size:     2,480,149 items\n",
      "  Database size:          2,480,149,854 items\n",
      "  Progress reporting:     Every 10% complete\n",
      "  Database limit:         No limit (full traversal)\n",
      "  ────────────────────────────────────────────────────────────\n",
      "  Progress: 10.0% (248,014,986 items)\n",
      "  Progress: 20.0% (496,029,971 items)\n"
     ]
    }
   ],
   "execution_count": null
  },
  {
   "metadata": {},
   "cell_type": "markdown",
   "source": [
    "# **Inspect the Procesed Database**\n",
    "## `db_head`: Print the first _N_ key–value pairs"
   ],
   "id": "b916bcb8f52efc4e"
  },
  {
   "metadata": {},
   "cell_type": "code",
   "source": [
    "db_path = \"/vast/edk202/NLP_corpora/Google_Books/20200217/eng/5gram_files/5grams_processed.db\"\n",
    "\n",
    "db_head(db_path, key_format=\"utf-8\", value_format=\"packed\", n=5)"
   ],
   "id": "602ef9dec8103212",
   "outputs": [],
   "execution_count": null
  },
  {
   "metadata": {},
   "cell_type": "markdown",
   "source": "## `db_peek`: Print _N_ key-value pairs starting at the specified key",
   "id": "a5cd2b4c5b2bef6c"
  },
  {
   "metadata": {},
   "cell_type": "code",
   "source": [
    "db_path = \"/vast/edk202/NLP_corpora/Google_Books/20200217/eng/5gram_files/5grams_processed.db\"\n",
    "\n",
    "db_peek(db_path, start_key=b\"quick brown <UNK> <UNK> <UNK>\", key_format=\"utf-8\", value_format=\"packed\", n=5)\n"
   ],
   "id": "4ae0c4f82ae61dbd",
   "outputs": [],
   "execution_count": null
  },
  {
   "metadata": {},
   "cell_type": "markdown",
   "source": "## `db_peek_prefix`: Print key-value pairs containing the specified prefix",
   "id": "f0261bc901193643"
  },
  {
   "metadata": {},
   "cell_type": "code",
   "source": [
    "db_path = \"/vast/edk202/NLP_corpora/Google_Books/20200217/eng/5gram_files/5grams_processed.db\"\n",
    "\n",
    "db_peek_prefix(db_path, prefix=b\"<UNK> united state <UNK> america\", key_format=\"utf-8\", value_format=\"summary\", n=1)"
   ],
   "id": "b04a9e9cf0cc209f",
   "outputs": [],
   "execution_count": null
  }
 ],
 "metadata": {
  "kernelspec": {
   "display_name": "hist_w2v (Singularity)",
   "language": "python",
   "name": "hist_w2v"
  },
  "language_info": {
   "codemirror_mode": {
    "name": "ipython",
    "version": 3
   },
   "file_extension": ".py",
   "mimetype": "text/x-python",
   "name": "python",
   "nbconvert_exporter": "python",
   "pygments_lexer": "ipython3",
   "version": "3.11.13"
  }
 },
 "nbformat": 4,
 "nbformat_minor": 5
}
