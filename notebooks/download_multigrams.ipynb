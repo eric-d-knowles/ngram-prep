{
 "cells": [
  {
   "metadata": {},
   "cell_type": "markdown",
   "source": [
    "# **Setup**\n",
    "## Recompile Cython Extensions"
   ],
   "id": "ed15de79ff6600a1"
  },
  {
   "metadata": {},
   "cell_type": "code",
   "outputs": [],
   "execution_count": null,
   "source": [
    "%cd /scratch/edk202/ngram-prep\n",
    "\n",
    "%env LC_ALL=C.UTF-8\n",
    "%env LANG=C.UTF-8\n",
    "\n",
    "%pip install -e . --no-build-isolation -q"
   ],
   "id": "83fd8bce39b84e5"
  },
  {
   "metadata": {},
   "cell_type": "markdown",
   "source": "## Imports",
   "id": "4abc2d0e95d15ad0"
  },
  {
   "metadata": {
    "ExecuteTime": {
     "end_time": "2025-09-28T16:40:46.867557Z",
     "start_time": "2025-09-28T16:40:46.827063Z"
    }
   },
   "cell_type": "code",
   "source": [
    "# Auto-reload edited scripts\n",
    "%load_ext autoreload\n",
    "%autoreload 2\n",
    "\n",
    "# System functions\n",
    "from pathlib import Path\n",
    "\n",
    "# NLTK resources\n",
    "from nltk.corpus import stopwords; stopwords = set(stopwords.words(\"english\"))\n",
    "from nltk.stem import WordNetLemmatizer; lemmatizer = WordNetLemmatizer()\n",
    "\n",
    "# Ngram acquisition functions\n",
    "from ngram_acquire.pipeline.orchestrate import download_and_ingest_to_rocksdb\n",
    "from ngram_acquire.pipeline.logger import setup_logger\n",
    "\n",
    "# Ngram processing functions\n",
    "from ngram_filter.config import PipelineConfig, FilterConfig\n",
    "from ngram_filter.pipeline.orchestrator import build_processed_db\n",
    "from common_db.api import open_db"
   ],
   "id": "ce854c30d3ed2553",
   "outputs": [],
   "execution_count": 1
  },
  {
   "metadata": {},
   "cell_type": "markdown",
   "source": "# **Download 5-Grams and Ingest to a RocksDB Database**",
   "id": "7ef4e7ff09f03459"
  },
  {
   "metadata": {},
   "cell_type": "code",
   "outputs": [],
   "execution_count": null,
   "source": [
    "setup_logger(\n",
    "    db_path=\"/vast/edk202/NLP_corpora/Google_Books/20200217/eng/5gram_files/1grams.db\",\n",
    "    console=False,\n",
    "    rotate=True,\n",
    "    max_bytes=100_000_000,\n",
    "    backup_count=5,\n",
    "    force=True\n",
    ")\n",
    "\n",
    "download_and_ingest_to_rocksdb(\n",
    "    ngram_size = 5,\n",
    "    repo_release_id = \"20200217\",\n",
    "    repo_corpus_id = \"eng\",\n",
    "    db_path = \"/vast/edk202/NLP_corpora/Google_Books/20200217/eng/5gram_files/5grams.db\",\n",
    "    file_range = (0, 19422),\n",
    "    random_seed = 11,\n",
    "    workers = 40,\n",
    "    use_threads = False,\n",
    "    ngram_type = \"tagged\",\n",
    "    overwrite = True,\n",
    "    write_batch_size = 100_000,\n",
    "    open_type = \"write:packed24\",\n",
    "    post_compact = True\n",
    ")"
   ],
   "id": "c114576e7345015e"
  },
  {
   "metadata": {},
   "cell_type": "markdown",
   "source": "# **Run Processing Pipeline**",
   "id": "293dff16a66060a0"
  },
  {
   "metadata": {},
   "cell_type": "code",
   "outputs": [
    {
     "name": "stdout",
     "output_type": "stream",
     "text": [
      "    177,244,788      173,985,516      98%              56.8k/s          52m00s        \n",
      "    180,743,512      177,485,516      98%              56.8k/s          53m00s        \n",
      "    184,175,635      180,885,516      98%              56.8k/s          54m00s        \n",
      "    187,587,615      184,185,516      98%              56.8k/s          55m00s        \n",
      "    190,917,913      187,585,516      98%              56.8k/s          56m00s        \n",
      "    194,402,610      190,985,516      98%              56.8k/s          57m00s        \n",
      "    197,693,049      194,285,516      98%              56.8k/s          58m00s        \n",
      "    201,136,624      197,585,516      98%              56.8k/s          59m00s        \n",
      "    204,545,145      200,985,516      98%              56.8k/s          1h00m         \n",
      "    207,796,224      204,284,713      98%              56.8k/s          1h01m         \n",
      "    211,264,791      207,684,713      98%              56.8k/s          1h02m         \n",
      "    214,582,549      210,984,713      98%              56.8k/s          1h03m         \n",
      "    217,676,169      213,950,521      98%              56.7k/s          1h04m         \n",
      "    219,334,591      215,550,521      98%              56.2k/s          1h05m         \n",
      "    220,898,604      217,150,521      98%              55.8k/s          1h06m         \n",
      "    222,606,331      218,850,521      98%              55.4k/s          1h07m         \n",
      "    224,326,215      220,550,521      98%              55.0k/s          1h08m         \n",
      "    225,926,119      222,150,521      98%              54.6k/s          1h09m         \n"
     ]
    }
   ],
   "execution_count": null,
   "source": [
    "src_db = Path(\"/vast/edk202/NLP_corpora/Google_Books/20200217/eng/5gram_files/5grams.db\")\n",
    "dst_db = src_db.parent / \"5grams_processed.db\"\n",
    "tmp_dir = src_db.parent / \"processing_tmp\"\n",
    "wht_path =\"/vast/edk202/NLP_corpora/Google_Books/20200217/eng/5gram_files/1grams_processed.db/whitelist.txt\"\n",
    "\n",
    "pipeline_config = PipelineConfig(\n",
    "    src_db=src_db,\n",
    "    dst_db=dst_db,\n",
    "    tmp_dir=tmp_dir,\n",
    "    readers=2,\n",
    "    ingestors=16,\n",
    "    partitioning_sample_rate=0.001,\n",
    "    prefix_length=6,\n",
    "    mode=\"resume\",\n",
    "    force_cache_use=False,\n",
    "    enable_ingest=True,\n",
    "    delete_after_ingest=True,\n",
    "    enable_compact=False,\n",
    "    progress_every_s=60.0,\n",
    ")\n",
    "\n",
    "filter_config = FilterConfig(\n",
    "    stop_set=stopwords,\n",
    "    lemma_gen=lemmatizer,\n",
    "    whitelist_path=wht_path\n",
    ")\n",
    "\n",
    "build_processed_db(pipeline_config, filter_config)"
   ],
   "id": "35e8aa97d8255330"
  },
  {
   "metadata": {},
   "cell_type": "markdown",
   "source": [
    "As the pipeline runs, the work-unit status is tracked in a SQLite database. Run the following command to check progress.\n",
    "\n",
    "Execute from the `processing_tmp` directory:\n",
    "```\n",
    "python3 -c \"\n",
    "import sqlite3\n",
    "conn = sqlite3.connect('work_tracker.db')\n",
    "cur = conn.cursor()\n",
    "results = cur.execute('SELECT status, COUNT(*) FROM work_units GROUP BY status').fetchall()\n",
    "status_dict = dict(results)\n",
    "print(f\\\"Completed: {status_dict.get('completed', 0)}, Processing: {status_dict.get('processing', 0)}, Pending: {status_dict.get('pending', 0)}\\\")\n",
    "\"\n",
    "```"
   ],
   "id": "bd3f6d2818ac2577"
  },
  {
   "metadata": {},
   "cell_type": "markdown",
   "source": [
    "## Run a Manual Compaction\n",
    "\n",
    "Compaction improves DB read performance. Strong recommendation to run this if compaction was disabled during ingestion."
   ],
   "id": "990548c61932af0b"
  },
  {
   "metadata": {},
   "cell_type": "code",
   "outputs": [],
   "execution_count": null,
   "source": [
    "db_path = \"/vast/edk202/NLP_corpora/Google_Books/20200217/eng/5gram_files/5grams.db\"\n",
    "\n",
    "with open_db(db_path, mode=\"rw\") as db:\n",
    "    db.compact_all()"
   ],
   "id": "2db05b41b1591ac7"
  },
  {
   "metadata": {},
   "cell_type": "code",
   "outputs": [],
   "execution_count": null,
   "source": "",
   "id": "83cebbaff7f87a7e"
  }
 ],
 "metadata": {
  "kernelspec": {
   "display_name": "hist_w2v (Singularity)",
   "language": "python",
   "name": "hist_w2v"
  },
  "language_info": {
   "codemirror_mode": {
    "name": "ipython",
    "version": 3
   },
   "file_extension": ".py",
   "mimetype": "text/x-python",
   "name": "python",
   "nbconvert_exporter": "python",
   "pygments_lexer": "ipython3",
   "version": "3.11.13"
  }
 },
 "nbformat": 4,
 "nbformat_minor": 5
}
