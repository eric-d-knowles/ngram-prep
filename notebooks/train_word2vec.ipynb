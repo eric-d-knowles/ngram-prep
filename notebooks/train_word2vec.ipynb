{
 "cells": [
  {
   "metadata": {},
   "cell_type": "markdown",
   "source": "# **Setup**",
   "id": "67f4fbe53cf4dc6f"
  },
  {
   "metadata": {
    "ExecuteTime": {
     "end_time": "2025-10-27T21:13:25.697390Z",
     "start_time": "2025-10-27T21:13:24.742136Z"
    }
   },
   "cell_type": "code",
   "source": [
    "# Auto-reload edited scripts\n",
    "%load_ext autoreload\n",
    "%autoreload 2\n",
    "\n",
    "# Import training function\n",
    "from ngram_train.word2vec import train_models, evaluate_models"
   ],
   "id": "b68550efb08f6107",
   "outputs": [],
   "execution_count": 1
  },
  {
   "metadata": {
    "jupyter": {
     "is_executing": true
    },
    "ExecuteTime": {
     "start_time": "2025-10-27T21:13:25.701201Z"
    }
   },
   "cell_type": "code",
   "source": [
    "src_path = '/scratch/edk202/NLP_corpora/Google_Books/20200217/eng/5gram_files'\n",
    "\n",
    "train_models(\n",
    "    corpus_path=src_path,\n",
    "    dir_suffix='test',\n",
    "    years=(2019, 2019),\n",
    "    weight_by=('none', 'freq', 'doc_freq'),\n",
    "    vector_size=(100, 200, 300),\n",
    "    window=(1, 2, 3, 4),\n",
    "    min_count=(1, 5, 10, 20),\n",
    "    approach=('skip-gram',),\n",
    "    epochs=(5, 10, 15, 20),\n",
    "    max_parallel_models=40,\n",
    "    workers_per_model=1,\n",
    "    allow_unk=False,\n",
    "    max_unk_count=4,\n",
    "    load_into_memory=True,\n",
    "    shuffle=True,\n",
    "    random_seed=67\n",
    ")"
   ],
   "id": "cae4c8204dfaefe0",
   "outputs": [
    {
     "name": "stdout",
     "output_type": "stream",
     "text": [
      "\n",
      "WORD2VEC MODEL TRAINING\n",
      "━━━━━━━━━━━━━━━━━━━━━━━━━━━━━━━━━━━━━━━━━━━━━━━━━━━━━━━━━━━━━━━━━━━━━━━━━━━━━━━━━━━━━━━━━━━━━━━━━━━━\n",
      "Start Time: 2025-10-27 17:13:25\n",
      "\n",
      "Configuration\n",
      "════════════════════════════════════════════════════════════════════════════════════════════════════\n",
      "Database:             .../edk202/NLP_corpora/Google_Books/20200217/eng/5gram_files/5grams_pivoted.db\n",
      "Model directory:      /scratch/edk202/NLP_models/Google_Books/20200217/eng/5gram_files/models_test\n",
      "Log directory:        .../edk202/NLP_models/Google_Books/20200217/eng/5gram_files/logs_test/training\n",
      "Parallel models:      40\n",
      "\n",
      "Training Parameters\n",
      "────────────────────────────────────────────────────────────────────────────────────────────────────\n",
      "Years:                2019–2019 (1 years)\n",
      "Weighting:            ('none', 'freq', 'doc_freq')\n",
      "Vector size:          (100, 200, 300)\n",
      "Context window:       (1, 2, 3, 4)\n",
      "Minimum word count:   (1, 5, 10, 20)\n",
      "Approach:             ('skip-gram',)\n",
      "Training epochs:      (5, 10, 15, 20)\n",
      "\n",
      "Data Options\n",
      "────────────────────────────────────────────────────────────────────────────────────────────────────\n",
      "Allow <UNK>:          False\n",
      "Max <UNK> count:      4\n",
      "Load into memory:     True\n",
      "Shuffle:              True\n",
      "Workers per model:    1\n",
      "\n",
      "Execution\n",
      "────────────────────────────────────────────────────────────────────────────────────────────────────\n",
      "Total models:         576\n",
      "Parameter combos:     576\n",
      "Years:                1\n",
      "\n"
     ]
    },
    {
     "name": "stderr",
     "output_type": "stream",
     "text": [
      "Training Models:   0%|          | 0/576 [00:00<?, ? models/s]"
     ]
    }
   ],
   "execution_count": null
  },
  {
   "metadata": {
    "ExecuteTime": {
     "end_time": "2025-10-27T19:16:09.133050Z",
     "start_time": "2025-10-27T19:12:14.852290Z"
    }
   },
   "cell_type": "code",
   "source": [
    "mod_path = '/scratch/edk202/NLP_models/Google_Books/20200217/eng/5gram_files'\n",
    "\n",
    "evaluate_models(\n",
    "    model_dir=mod_path,\n",
    "    dir_suffix='test',\n",
    "    eval_dir=mod_path,\n",
    "    save_mode='overwrite'\n",
    ")"
   ],
   "id": "c82c892c2bc6a2fc",
   "outputs": [
    {
     "name": "stdout",
     "output_type": "stream",
     "text": [
      "\n",
      "WORD2VEC MODEL EVALUATION\n",
      "━━━━━━━━━━━━━━━━━━━━━━━━━━━━━━━━━━━━━━━━━━━━━━━━━━━━━━━━━━━━━━━━━━━━━━━━━━━━━━━━━━━━━━━━━━━━━━━━━━━━\n",
      "Start Time: 2025-10-27 15:12:15\n",
      "\n",
      "Configuration\n",
      "════════════════════════════════════════════════════════════════════════════════════════════════════\n",
      "Model directory:      /scratch/edk202/NLP_models/Google_Books/20200217/eng/5gram_files/models_test\n",
      "Evaluation file:      ...LP_models/Google_Books/20200217/eng/5gram_files/evaluation_results_test.csv\n",
      "Log directory:        ...dk202/NLP_models/Google_Books/20200217/eng/5gram_files/logs_test/evaluation\n",
      "Save mode:            overwrite\n",
      "\n",
      "Evaluation Datasets\n",
      "────────────────────────────────────────────────────────────────────────────────────────────────────\n",
      "Similarity dataset:   ...miniforge/lib/python3.11/site-packages/gensim/test/test_data/wordsim353.tsv\n",
      "Analogy dataset:      ...orge/lib/python3.11/site-packages/gensim/test/test_data/questions-words.txt\n",
      "\n",
      "Found 9 models to evaluate\n",
      "\n"
     ]
    },
    {
     "name": "stderr",
     "output_type": "stream",
     "text": [
      "Evaluating models: 100%|██████████| 9/9 [03:53<00:00, 25.94s/ models]\n"
     ]
    },
    {
     "name": "stdout",
     "output_type": "stream",
     "text": [
      "\n",
      "Evaluation Complete\n",
      "════════════════════════════════════════════════════════════════════════════════════════════════════\n",
      "Models evaluated:     9\n",
      "Results saved to:     ...LP_models/Google_Books/20200217/eng/5gram_files/evaluation_results_test.csv\n",
      "━━━━━━━━━━━━━━━━━━━━━━━━━━━━━━━━━━━━━━━━━━━━━━━━━━━━━━━━━━━━━━━━━━━━━━━━━━━━━━━━━━━━━━━━━━━━━━━━━━━━\n",
      "\n"
     ]
    }
   ],
   "execution_count": 12
  },
  {
   "metadata": {},
   "cell_type": "code",
   "outputs": [],
   "execution_count": null,
   "source": "",
   "id": "c5a4871a014d4fb6"
  }
 ],
 "metadata": {
  "kernelspec": {
   "display_name": "Python 3",
   "language": "python",
   "name": "python3"
  },
  "language_info": {
   "codemirror_mode": {
    "name": "ipython",
    "version": 2
   },
   "file_extension": ".py",
   "mimetype": "text/x-python",
   "name": "python",
   "nbconvert_exporter": "python",
   "pygments_lexer": "ipython2",
   "version": "2.7.6"
  }
 },
 "nbformat": 4,
 "nbformat_minor": 5
}
