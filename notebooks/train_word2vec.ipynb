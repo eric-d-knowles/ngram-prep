{
 "cells": [
  {
   "metadata": {},
   "cell_type": "markdown",
   "source": "# **Setup**",
   "id": "67f4fbe53cf4dc6f"
  },
  {
   "metadata": {
    "ExecuteTime": {
     "end_time": "2025-10-27T18:11:28.779779Z",
     "start_time": "2025-10-27T18:11:28.622518Z"
    }
   },
   "cell_type": "code",
   "source": "# Auto-reload edited scripts\n%load_ext autoreload\n%autoreload 2\n\n# Import training function\nfrom ngram_train.word2vec import train_models",
   "id": "b68550efb08f6107",
   "outputs": [
    {
     "name": "stdout",
     "output_type": "stream",
     "text": [
      "The autoreload extension is already loaded. To reload it, use:\n",
      "  %reload_ext autoreload\n"
     ]
    }
   ],
   "execution_count": 10
  },
  {
   "metadata": {
    "ExecuteTime": {
     "end_time": "2025-10-27T18:13:48.819273Z",
     "start_time": "2025-10-27T18:13:21.495979Z"
    }
   },
   "cell_type": "code",
   "source": [
    "src_path = '/scratch/edk202/NLP_corpora/Google_Books/20200217/eng/5gram_files'\n",
    "\n",
    "train_models(\n",
    "    corpus_path=src_path,\n",
    "    years=(1800, 1804),\n",
    "    weight_by=('none',),\n",
    "    vector_size=(300,),\n",
    "    window=(2,),\n",
    "    min_count=(1,),\n",
    "    approach=('skip-gram',),\n",
    "    epochs=(5,),\n",
    "    max_parallel_models=5,\n",
    "    workers_per_model=1,\n",
    "    allow_unk=False,\n",
    "    max_unk_count=4,\n",
    "    load_into_memory=True,\n",
    "    shuffle=True,\n",
    "    random_seed=42\n",
    ")"
   ],
   "id": "cae4c8204dfaefe0",
   "outputs": [
    {
     "name": "stdout",
     "output_type": "stream",
     "text": [
      "No dir_suffix provided. Using timestamp: 20251027_141321\n",
      "\n",
      "\n",
      "WORD2VEC MODEL TRAINING\n",
      "━━━━━━━━━━━━━━━━━━━━━━━━━━━━━━━━━━━━━━━━━━━━━━━━━━━━━━━━━━━━━━━━━━━━━━━━━━━━━━━━━━━━━━━━━━━━━━━━━━━━\n",
      "Start Time: 2025-10-27 14:13:21\n",
      "\n",
      "Configuration\n",
      "════════════════════════════════════════════════════════════════════════════════════════════════════\n",
      "Database:             .../edk202/NLP_corpora/Google_Books/20200217/eng/5gram_files/5grams_pivoted.db\n",
      "Model directory:      ...202/NLP_models/Google_Books/20200217/eng/5gram_files/models_20251027_141321\n",
      "Log directory:        ..._models/Google_Books/20200217/eng/5gram_files/logs_20251027_141321/training\n",
      "Parallel models:      5\n",
      "\n",
      "Training Parameters\n",
      "────────────────────────────────────────────────────────────────────────────────────────────────────\n",
      "Years:                1800–1804 (5 years)\n",
      "Weighting:            ('none',)\n",
      "Vector size:          (300,)\n",
      "Context window:       (2,)\n",
      "Minimum word count:   (1,)\n",
      "Approach:             ('skip-gram',)\n",
      "Training epochs:      (5,)\n",
      "\n",
      "Data Options\n",
      "────────────────────────────────────────────────────────────────────────────────────────────────────\n",
      "Allow <UNK>:          False\n",
      "Max <UNK> count:      4\n",
      "Load into memory:     True\n",
      "Shuffle:              True\n",
      "Workers per model:    1\n",
      "\n",
      "Execution\n",
      "────────────────────────────────────────────────────────────────────────────────────────────────────\n",
      "Total models:         5\n",
      "Parameter combos:     1\n",
      "Years:                5\n",
      "\n"
     ]
    },
    {
     "name": "stderr",
     "output_type": "stream",
     "text": [
      "Training Models: 100%|██████████| 5/5 [00:27<00:00,  5.46s/ models]"
     ]
    },
    {
     "name": "stdout",
     "output_type": "stream",
     "text": [
      "\n",
      "Training Complete\n",
      "════════════════════════════════════════════════════════════════════════════════════════════════════\n",
      "Models trained:       5\n",
      "Model directory:      ...202/NLP_models/Google_Books/20200217/eng/5gram_files/models_20251027_141321\n",
      "━━━━━━━━━━━━━━━━━━━━━━━━━━━━━━━━━━━━━━━━━━━━━━━━━━━━━━━━━━━━━━━━━━━━━━━━━━━━━━━━━━━━━━━━━━━━━━━━━━━━\n",
      "\n"
     ]
    },
    {
     "name": "stderr",
     "output_type": "stream",
     "text": [
      "\n"
     ]
    }
   ],
   "execution_count": 12
  },
  {
   "metadata": {},
   "cell_type": "code",
   "outputs": [],
   "execution_count": null,
   "source": "",
   "id": "c82c892c2bc6a2fc"
  }
 ],
 "metadata": {
  "kernelspec": {
   "display_name": "Python 3",
   "language": "python",
   "name": "python3"
  },
  "language_info": {
   "codemirror_mode": {
    "name": "ipython",
    "version": 2
   },
   "file_extension": ".py",
   "mimetype": "text/x-python",
   "name": "python",
   "nbconvert_exporter": "python",
   "pygments_lexer": "ipython2",
   "version": "2.7.6"
  }
 },
 "nbformat": 4,
 "nbformat_minor": 5
}
