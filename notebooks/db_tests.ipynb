{
 "cells": [
  {
   "cell_type": "code",
   "id": "initial_id",
   "metadata": {
    "collapsed": true,
    "ExecuteTime": {
     "end_time": "2025-09-06T17:09:34.247364Z",
     "start_time": "2025-09-06T17:09:34.223638Z"
    }
   },
   "source": [
    "import rocks_shim as rs\n",
    "\n",
    "db = rs.open(\"/tmp/test_ngram\", create_if_missing=True)\n",
    "test_data = {f\"key_{i}\": f\"value_{i}\".encode() for i in range(100)}\n",
    "\n",
    "# This should now work\n",
    "from ngram_prep.ngram_acquire.db.write import write_batch_to_db\n",
    "result = write_batch_to_db(db, test_data)\n",
    "print(f\"Wrote {result} entries\")\n",
    "\n",
    "# Verify\n",
    "for i in range(5):\n",
    "    key = f\"key_{i}\".encode()\n",
    "    value = db.get(key)\n",
    "    print(f\"key_{i}: {value}\")\n",
    "\n",
    "db.close()"
   ],
   "outputs": [
    {
     "name": "stdout",
     "output_type": "stream",
     "text": [
      "Wrote 100 entries\n",
      "key_0: b'value_0'\n",
      "key_1: b'value_1'\n",
      "key_2: b'value_2'\n",
      "key_3: b'value_3'\n",
      "key_4: b'value_4'\n"
     ]
    }
   ],
   "execution_count": 1
  },
  {
   "metadata": {},
   "cell_type": "code",
   "outputs": [],
   "execution_count": null,
   "source": "",
   "id": "738acedbc82cba03"
  }
 ],
 "metadata": {
  "kernelspec": {
   "display_name": "Python 3",
   "language": "python",
   "name": "python3"
  },
  "language_info": {
   "codemirror_mode": {
    "name": "ipython",
    "version": 2
   },
   "file_extension": ".py",
   "mimetype": "text/x-python",
   "name": "python",
   "nbconvert_exporter": "python",
   "pygments_lexer": "ipython2",
   "version": "2.7.6"
  }
 },
 "nbformat": 4,
 "nbformat_minor": 5
}
