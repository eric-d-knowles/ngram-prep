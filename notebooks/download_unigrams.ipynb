{
 "cells": [
  {
   "metadata": {},
   "cell_type": "code",
   "source": [
    "%cd /scratch/edk202/ngram-prep\n",
    "\n",
    "%env LC_ALL=C.UTF-8\n",
    "%env LANG=C.UTF-8\n",
    "\n",
    "%pip install -e . --no-build-isolation -q"
   ],
   "id": "1ad267332e4b1fcd",
   "outputs": [],
   "execution_count": null
  },
  {
   "metadata": {
    "ExecuteTime": {
     "end_time": "2025-09-12T20:47:24.946548Z",
     "start_time": "2025-09-12T20:47:24.882944Z"
    }
   },
   "cell_type": "code",
   "source": [
    "# Auto-reload packages\n",
    "%load_ext autoreload\n",
    "%autoreload 2"
   ],
   "id": "ad3fc5fc588e8363",
   "outputs": [],
   "execution_count": 1
  },
  {
   "metadata": {
    "ExecuteTime": {
     "end_time": "2025-09-12T20:47:30.968896Z",
     "start_time": "2025-09-12T20:47:24.959197Z"
    }
   },
   "cell_type": "code",
   "source": [
    "# Standard stuff\n",
    "from pathlib import Path\n",
    "\n",
    "# NLTK stuff\n",
    "from nltk.corpus import stopwords; stopwords = set(stopwords.words(\"english\"))\n",
    "from nltk.stem import WordNetLemmatizer; lemmatizer = WordNetLemmatizer()\n",
    "\n",
    "# Raw n-gram acquisition stuff\n",
    "from ngram_acquire.pipeline.orchestrate import download_and_ingest_to_rocksdb\n",
    "from ngram_acquire.utils.vocab import write_vocab\n",
    "from ngram_acquire.pipeline.logger import setup_logger\n",
    "from utilities.save_sample import save_sample_to_db, verify_sample_db\n",
    "\n",
    "# Downloaded n-gram filtering stuff\n",
    "\n",
    "# Cython utilities\n",
    "from ngram_filter.config import PipelineConfig, FilterConfig\n",
    "from ngram_filter.pipeline.orchestrator import build_processed_db\n",
    "from utilities.count_items import count_db_items\n",
    "from utilities.reservoir_sampler import reservoir_sampling"
   ],
   "id": "be55f147a8e96bcf",
   "outputs": [
    {
     "name": "stdout",
     "output_type": "stream",
     "text": [
      "\n",
      "Phase 3: Finalizing...\n",
      "════════════════════════════════════════════════════════════════════════════════════════════════════\n"
     ]
    }
   ],
   "execution_count": 2
  },
  {
   "metadata": {
    "ExecuteTime": {
     "end_time": "2025-09-12T20:47:40.103233Z",
     "start_time": "2025-09-12T20:47:39.991534Z"
    }
   },
   "cell_type": "code",
   "source": [
    "setup_logger(\n",
    "    db_path=\"/vast/edk202/NLP_corpora/Google_Books/20200217/eng/5gram_files/1grams.db\",\n",
    "    console=False,\n",
    "    rotate=True,\n",
    "    max_bytes=100_000_000,\n",
    "    backup_count=5,\n",
    "    force=True\n",
    ")"
   ],
   "id": "5b072e6dbd0ce17c",
   "outputs": [
    {
     "data": {
      "text/plain": [
       "PosixPath('/vast/edk202/NLP_corpora/Google_Books/20200217/eng/5gram_files/1grams.db/ngram_download_20250912_164740.log')"
      ]
     },
     "execution_count": 3,
     "metadata": {},
     "output_type": "execute_result"
    }
   ],
   "execution_count": 3
  },
  {
   "metadata": {},
   "cell_type": "markdown",
   "source": "## Download Unigrams and Ingest to a RocksDB Database",
   "id": "fe5d0309548b386a"
  },
  {
   "metadata": {},
   "cell_type": "code",
   "source": [
    "download_and_ingest_to_rocksdb(\n",
    "    ngram_size = 1,\n",
    "    repo_release_id = \"20200217\",\n",
    "    repo_corpus_id = \"eng\",\n",
    "    db_path = \"/vast/edk202/NLP_corpora/Google_Books/20200217/eng/5gram_files/1grams.db\",\n",
    "    file_range = (0, 23),\n",
    "    random_seed = 42,\n",
    "    workers = 25,\n",
    "    use_threads = False,\n",
    "    ngram_type = \"tagged\",\n",
    "    overwrite = True,\n",
    "    write_batch_size = 100_000,\n",
    "    open_type = \"write:packed24\",\n",
    "    post_compact = False\n",
    ")"
   ],
   "id": "9f25804d1183f1fe",
   "outputs": [],
   "execution_count": null
  },
  {
   "metadata": {},
   "cell_type": "markdown",
   "source": "## Count the Raw Records",
   "id": "8cc99b80b7c8791e"
  },
  {
   "metadata": {},
   "cell_type": "code",
   "source": [
    "db_path = \"/vast/edk202/NLP_corpora/Google_Books/20200217/eng/5gram_files/1grams.db\"\n",
    "\n",
    "count = count_db_items(\n",
    "    db_path,\n",
    "    progress_interval=5_000_000\n",
    ")"
   ],
   "id": "e9f88488d885ad3f",
   "outputs": [],
   "execution_count": null
  },
  {
   "metadata": {},
   "cell_type": "markdown",
   "source": "## Sample the Raw Records",
   "id": "fd8b7eb012f166a2"
  },
  {
   "metadata": {},
   "cell_type": "code",
   "source": [
    "db_path = \"/vast/edk202/NLP_corpora/Google_Books/20200217/eng/5gram_files/1grams_processed.db\"\n",
    "\n",
    "sample = reservoir_sampling(\n",
    "    db_path,\n",
    "    sample_size=10,\n",
    "    key_type=\"byte\",\n",
    "    progress_interval=1_000_000,\n",
    "    return_keys=True,\n",
    ")"
   ],
   "id": "242948002c466776",
   "outputs": [],
   "execution_count": null
  },
  {
   "metadata": {},
   "cell_type": "markdown",
   "source": "## Save the Sample to a Testing Database",
   "id": "4a6b8185f56a0a6b"
  },
  {
   "metadata": {},
   "cell_type": "code",
   "source": [
    "db_path = \"/vast/edk202/NLP_corpora/Google_Books/20200217/eng/5gram_files/1grams_processed_sample.db\"\n",
    "\n",
    "save_sample_to_db(\n",
    "    sample,\n",
    "    db_path,\n",
    "    overwrite=True\n",
    ")"
   ],
   "id": "d18b7a810518734a",
   "outputs": [],
   "execution_count": null
  },
  {
   "metadata": {},
   "cell_type": "code",
   "source": [
    "db_path = \"/vast/edk202/NLP_corpora/Google_Books/20200217/eng/5gram_files/1grams_processed_sample.db\"\n",
    "\n",
    "valid = verify_sample_db(\n",
    "    db_path,\n",
    "    show_count=10,\n",
    "    decode_output=True,\n",
    "    unpack_ngram=True\n",
    ")"
   ],
   "id": "4b8c4a1bbba7e2f4",
   "outputs": [],
   "execution_count": null
  },
  {
   "metadata": {},
   "cell_type": "code",
   "source": [
    "# Temp fix for __init__.py problem\n",
    "\n",
    "with open(\"/ext3/miniforge3/envs/hist_w2v/lib/python3.11/site-packages/rocks_shim/__init__.py\", 'w') as f:\n",
    "    f.write(\"from .rocks_shim import *\\n\")"
   ],
   "id": "32cb21bb32c2f303",
   "outputs": [],
   "execution_count": null
  },
  {
   "metadata": {
    "ExecuteTime": {
     "end_time": "2025-08-30T05:06:09.350481Z",
     "start_time": "2025-08-30T05:06:09.314491Z"
    }
   },
   "cell_type": "markdown",
   "source": "## Run Processing Pipeline",
   "id": "22b6b244da05f32d"
  },
  {
   "metadata": {
    "jupyter": {
     "is_executing": true
    },
    "ExecuteTime": {
     "end_time": "2025-09-12T20:49:40.055992258Z",
     "start_time": "2025-09-12T20:48:41.477987Z"
    }
   },
   "cell_type": "code",
   "source": [
    "src_db = Path(\"/vast/edk202/NLP_corpora/Google_Books/20200217/eng/5gram_files/1grams.db\")\n",
    "dst_db = src_db.parent / \"1grams_processed.db\"\n",
    "tmp_dir = src_db.parent / \"processing_tmp\"\n",
    "\n",
    "# Default configs or override as desired\n",
    "pipeline_config = PipelineConfig(\n",
    "    src_db=src_db,\n",
    "    dst_db=dst_db,\n",
    "    tmp_dir=tmp_dir,\n",
    "    readers=8,\n",
    "    force_restart=True,\n",
    "    progress_every_s=60.0\n",
    ")\n",
    "\n",
    "filter_config = FilterConfig(\n",
    "    stop_set=stopwords,\n",
    "    lemma_gen=lemmatizer,\n",
    ")\n",
    "\n",
    "# Run it\n",
    "build_processed_db(pipeline_config, filter_config)"
   ],
   "id": "57db436f73cba01",
   "outputs": [
    {
     "name": "stdout",
     "output_type": "stream",
     "text": [
      "N-GRAM FILTER PIPELINE\n",
      "━━━━━━━━━━━━━━━━━━━━━━━━━━━━━━━━━━━━━━━━━━━━━━━━━━━━━━━━━━━━━━━━━━━━━━━━━━━━━━━━━━━━━━━━━━━━━━━━━━━━\n",
      "\n",
      "Configuration:\n",
      "════════════════════════════════════════════════════════════════════════════════════════════════════\n",
      "  Workers: 8\n",
      "  Work units: 64\n",
      "  Source: /vast/edk202/NLP_corpora/Google_Books/20200217/eng/5gram_files/1grams.db\n",
      "  Destination: /vast/edk202/NLP_corpora/Google_Books/20200217/eng/5gram_files/1grams_processed.db\n",
      "  Buffer: 25,000 items, 16MB\n",
      "  Profile: write:packed24\n",
      "\n",
      "Phase 1: Creating work units...\n",
      "════════════════════════════════════════════════════════════════════════════════════════════════════\n",
      "  Force restart requested - clearing existing work units\n",
      "  Creating 64 work units using ASCII range...\n",
      "  Created 64 work units covering range 0x21-0x7e\n",
      "  Validating 64 work units...\n",
      "  Validated 64 work units: 795 keys over 10 sample units\n",
      "  Created 64 work units\n",
      "\n",
      "Phase 2: Processing 64 work units with 8 workers...\n",
      "════════════════════════════════════════════════════════════════════════════════════════════════════\n",
      "\n",
      "  recs scanned   recs written   items kept     throughput     elapsed\n",
      "   ───────────────────────────────────────────────────────────────────────────\n"
     ]
    }
   ],
   "execution_count": null
  },
  {
   "metadata": {},
   "cell_type": "code",
   "source": [
    "src = \"/vast/edk202/NLP_corpora/Google_Books/20200217/eng/5gram_files/1grams_processed.db\"\n",
    "dst = \"/vast/edk202/NLP_corpora/Google_Books/20200217/eng/5gram_files/vocab.txt\"\n",
    "\n",
    "write_vocab(src, dst, top=60_000)"
   ],
   "id": "a8a2be8c3fb4a2d2",
   "outputs": [],
   "execution_count": null
  },
  {
   "metadata": {},
   "cell_type": "code",
   "source": "",
   "id": "7aeed59ca0e62b6b",
   "outputs": [],
   "execution_count": null
  }
 ],
 "metadata": {
  "kernelspec": {
   "display_name": "hist_w2v (Singularity)",
   "language": "python",
   "name": "hist_w2v"
  },
  "language_info": {
   "codemirror_mode": {
    "name": "ipython",
    "version": 3
   },
   "file_extension": ".py",
   "mimetype": "text/x-python",
   "name": "python",
   "nbconvert_exporter": "python",
   "pygments_lexer": "ipython3",
   "version": "3.11.13"
  }
 },
 "nbformat": 4,
 "nbformat_minor": 5
}
