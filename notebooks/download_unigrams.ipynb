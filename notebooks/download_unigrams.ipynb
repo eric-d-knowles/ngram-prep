{
 "cells": [
  {
   "metadata": {},
   "cell_type": "markdown",
   "source": [
    "# **Setup**\n",
    "## Recompile Cython Extensions"
   ],
   "id": "b784e1a1cda09447"
  },
  {
   "metadata": {},
   "cell_type": "code",
   "source": [
    "%cd /scratch/edk202/ngram-prep\n",
    "\n",
    "%env LC_ALL=C.UTF-8\n",
    "%env LANG=C.UTF-8\n",
    "\n",
    "%pip install -e . --no-build-isolation -q"
   ],
   "id": "1ad267332e4b1fcd",
   "outputs": [],
   "execution_count": null
  },
  {
   "metadata": {},
   "cell_type": "markdown",
   "source": "## Imports",
   "id": "a8e3ef360e1fe339"
  },
  {
   "metadata": {
    "ExecuteTime": {
     "end_time": "2025-10-10T14:46:09.974732Z",
     "start_time": "2025-10-10T14:46:09.261690Z"
    }
   },
   "cell_type": "code",
   "source": "# Auto-reload edited scripts\n%load_ext autoreload\n%autoreload 2\n\n# NLTK resources\nfrom nltk.corpus import stopwords; stopwords = set(stopwords.words(\"english\"))\nfrom nltk.stem import WordNetLemmatizer; lemmatizer = WordNetLemmatizer()\n\n# Ngram acquisition functions\nfrom ngram_prep.ngram_acquire import download_and_ingest_to_rocksdb\nfrom ngram_prep.ngram_acquire.logger import setup_logger\n\n# Ngram processing functions\nfrom pathlib import Path\nfrom ngram_prep.ngram_filter.config import PipelineConfig, FilterConfig\nfrom ngram_prep.ngram_filter.pipeline.orchestrator import build_processed_db",
   "id": "1998c9fafc32aa8",
   "outputs": [],
   "execution_count": 1
  },
  {
   "metadata": {},
   "cell_type": "markdown",
   "source": "## Set up logging to file",
   "id": "abd0247891250279"
  },
  {
   "metadata": {
    "ExecuteTime": {
     "end_time": "2025-10-10T14:46:10.020570Z",
     "start_time": "2025-10-10T14:46:09.978761Z"
    }
   },
   "cell_type": "code",
   "source": [
    "setup_logger(\n",
    "    db_path=\"/vast/edk202/NLP_corpora/Google_Books/20200217/eng/1gram_files/1grams.db\",\n",
    "    console=False,\n",
    "    rotate=True,\n",
    "    max_bytes=100_000_000,\n",
    "    backup_count=5,\n",
    "    force=True\n",
    ")"
   ],
   "id": "34a1e1724ae74cc1",
   "outputs": [
    {
     "data": {
      "text/plain": [
       "PosixPath('/vast/edk202/NLP_corpora/Google_Books/20200217/eng/1gram_files/1grams.db/ngram_download_20251010_104610.log')"
      ]
     },
     "execution_count": 2,
     "metadata": {},
     "output_type": "execute_result"
    }
   ],
   "execution_count": 2
  },
  {
   "metadata": {},
   "cell_type": "markdown",
   "source": "# **Download Unigrams and Ingest to RocksDB**",
   "id": "879927f391b65d8c"
  },
  {
   "metadata": {
    "ExecuteTime": {
     "end_time": "2025-10-10T13:21:16.038966Z",
     "start_time": "2025-10-10T13:09:53.358346Z"
    }
   },
   "cell_type": "code",
   "source": [
    "download_and_ingest_to_rocksdb(\n",
    "    ngram_size=1,\n",
    "    repo_release_id=\"20200217\",\n",
    "    repo_corpus_id=\"eng\",\n",
    "    db_path_stub=\"/vast/edk202/NLP_corpora/Google_Books/\",\n",
    "    file_range=(0, 23),\n",
    "    random_seed=98,\n",
    "    workers=25,\n",
    "    use_threads=False,\n",
    "    ngram_type=\"tagged\",\n",
    "    overwrite_db=True,\n",
    "    write_batch_size=100_000,\n",
    "    open_type=\"write:packed24\",\n",
    "    compact_after_ingest=True\n",
    ")"
   ],
   "id": "23449b75707ae1c",
   "outputs": [
    {
     "name": "stdout",
     "output_type": "stream",
     "text": [
      "N-GRAM ACQUISITION PIPELINE\n",
      "━━━━━━━━━━━━━━━━━━━━━━━━━━━━━━━━━━━━━━━━━━━━━━━━━━━━━━━━━━━━━━━━━━━━━━━━━━━━━━━━━━━━━━━━━━━━━━━━━━━━\n",
      "Start Time: 2025-10-10 09:09:53\n",
      "\n",
      "Download Configuration\n",
      "════════════════════════════════════════════════════════════════════════════════════════════════════\n",
      "Ngram repo:           https://books.storage.googleapis.com/?prefix=ngrams/books/20200217/eng/1-\n",
      "DB path:              /vast/edk202/NLP_corpora/Google_Books/20200217/eng/1gram_files/1grams.db\n",
      "File range:           0 to 23\n",
      "Total files:          24\n",
      "Files to get:         24\n",
      "Skipping:             0\n",
      "Download workers:     25\n",
      "Batch size:           100,000\n",
      "Ngram size:           1\n",
      "Ngram type:           tagged\n",
      "Overwrite DB:         True\n",
      "DB Profile:           write:packed24\n",
      "\n",
      "Download Progress\n",
      "════════════════════════════════════════════════════════════════════════════════════════════════════\n"
     ]
    },
    {
     "name": "stderr",
     "output_type": "stream",
     "text": [
      "Files Processed: 100%|█████████████████████████████████████████████████████████| 24/24 [08:21<00:00]\n"
     ]
    },
    {
     "name": "stdout",
     "output_type": "stream",
     "text": [
      "\n",
      "Post-Ingestion Compaction\n",
      "════════════════════════════════════════════════════════════════════════════════════════════════════\n",
      "Initial DB size:         51.59 GB\n",
      "Compaction completed in 0:02:53\n",
      "Size before:             51.59 GB\n",
      "Size after:              57.76 GB\n",
      "Space saved:             -6.18 GB (-12.0%)\n",
      "\n",
      "Processing complete!\n",
      "\n",
      "Final Summary\n",
      "════════════════════════════════════════════════════════════════════════════════════════════════════\n",
      "Fully processed files:       24\n",
      "Failed files:                0\n",
      "Total entries written:       41,783,218\n",
      "Write batches flushed:       24\n",
      "Uncompressed data processed: 43.28 GB\n",
      "Processing throughput:       64.92 MB/sec\n",
      "\n",
      "End Time: 2025-10-10 09:21:16.032684\n",
      "Total Runtime: 0:11:22.631208\n",
      "Time per file: 0:00:28.442967\n",
      "Files per hour: 126.6\n"
     ]
    }
   ],
   "execution_count": 3
  },
  {
   "metadata": {},
   "cell_type": "markdown",
   "source": "# **Run Processing Pipeline**",
   "id": "97d09d26c6f2043f"
  },
  {
   "metadata": {
    "ExecuteTime": {
     "end_time": "2025-10-10T15:25:46.064097Z",
     "start_time": "2025-10-10T15:18:23.265532Z"
    }
   },
   "cell_type": "code",
   "source": [
    "src_db = Path(\"/vast/edk202/NLP_corpora/Google_Books/20200217/eng/1gram_files/1grams.db\")\n",
    "dst_db = src_db.parent / \"1grams_processed.db\"\n",
    "tmp_dir = src_db.parent / \"processing_tmp\"\n",
    "\n",
    "pipeline_config = PipelineConfig(\n",
    "    src_db=src_db,\n",
    "    dst_db=dst_db,\n",
    "    tmp_dir=tmp_dir,\n",
    "    num_workers=32,\n",
    "    mode=\"restart\",\n",
    "    enable_ingest=True,\n",
    "    num_ingest_workers=32,\n",
    "    delete_after_ingest=True,\n",
    "    compact_after_ingest=True,\n",
    "    progress_every_s=60.0,\n",
    "    output_whitelist_path=dst_db / \"whitelist.txt\",\n",
    "    output_whitelist_top_n=40_000\n",
    ")\n",
    "\n",
    "filter_config = FilterConfig(\n",
    "    stop_set=stopwords,\n",
    "    lemma_gen=lemmatizer,\n",
    ")\n",
    "\n",
    "build_processed_db(pipeline_config, filter_config)"
   ],
   "id": "57db436f73cba01",
   "outputs": [
    {
     "name": "stdout",
     "output_type": "stream",
     "text": [
      "N-GRAM FILTER PIPELINE\n",
      "━━━━━━━━━━━━━━━━━━━━━━━━━━━━━━━━━━━━━━━━━━━━━━━━━━━━━━━━━━━━━━━━━━━━━━━━━━━━━━━━━━━━━━━━━━━━━━━━━━━━\n",
      "\n",
      "Configuration\n",
      "════════════════════════════════════════════════════════════════════════════════════════════════════\n",
      "\u001B[4mPipeline\u001B[0m\n",
      "Run mode:               restart\n",
      "Ingest after filtering: True\n",
      "Compact after ingest:   True\n",
      "\n",
      "\u001B[4mWorkers\u001B[0m\n",
      "Num Workers:        32\n",
      "Initial work units: 32\n",
      "Dynamic splitting:  Enabled\n",
      "Profiles:           read=read:packed24, write=write:packed24\n",
      "Buffer:             100,000 items, 128.00 MB\n",
      "\n",
      "\u001B[4mFiles\u001B[0m\n",
      "Source: /vast/edk202/NLP_corpora/Google_Books/20200217/eng/1gram_files/1grams.db\n",
      "Destination: /vast/edk202/NLP_corpora/Google_Books/20200217/eng/1gram_files/1grams_processed.db\n",
      "Input whitelist: None\n",
      "Output whitelist: ...ks/20200217/eng/1gram_files/1grams_processed.db/whitelist.txt (top 40,000 keys)\n",
      "\n",
      "Phase 1: Creating work units...\n",
      "════════════════════════════════════════════════════════════════════════════════════════════════════\n",
      "Clean restart - creating new work units\n",
      "Created 32 uniform work units (byte-range partitioning)\n",
      "Dynamic splitting will handle load balancing at runtime\n",
      "\n",
      "Phase 2: Processing 32 work units with 32 workers...\n",
      "════════════════════════════════════════════════════════════════════════════════════════════════════\n",
      "\n",
      "    recs scanned     recs written     items kept       throughput       elapsed\n",
      "   ───────────────────────────────────────────────────────────────────────────────\n",
      "    10,994,873       0                47%              181.1k/s         1m00s         \n",
      "    40,491,002       0                60%              335.4k/s         2m00s         \n",
      "   ──────────────────────────────────── final ────────────────────────────────────\n",
      "    41,783,242       0                60%              333.7k/s         2m05s         \n",
      "\n",
      "Phase 3: Merging worker outputs into final database...\n",
      "════════════════════════════════════════════════════════════════════════════════════════════════════\n",
      "Ingesting shards with batch size 128MB / 200,000 items\n",
      "Deleting shards after successful ingestion\n"
     ]
    },
    {
     "name": "stderr",
     "output_type": "stream",
     "text": [
      "Shards Ingested: 100%|█████████████████████████████████████████████████████████| 74/74 [01:43<00:00]"
     ]
    },
    {
     "name": "stdout",
     "output_type": "stream",
     "text": [
      "\n",
      "Phase 3: Finalizing (flush)...\n",
      "════════════════════════════════════════════════════════════════════════════════════════════════════\n",
      "Performing final flush...\n"
     ]
    },
    {
     "name": "stderr",
     "output_type": "stream",
     "text": [
      "Shards Ingested: 100%|█████████████████████████████████████████████████████████| 74/74 [01:48<00:00]"
     ]
    },
    {
     "name": "stdout",
     "output_type": "stream",
     "text": [
      "\n",
      "Post-Ingestion Compaction\n",
      "════════════════════════════════════════════════════════════════════════════════════════════════════\n",
      "Initial DB size:         25.36 GB\n"
     ]
    },
    {
     "name": "stderr",
     "output_type": "stream",
     "text": [
      "\n"
     ]
    },
    {
     "name": "stdout",
     "output_type": "stream",
     "text": [
      "Compaction completed in 0:01:04\n",
      "Size before:             25.36 GB\n",
      "Size after:              21.91 GB\n",
      "Space saved:             3.45 GB (13.6%)\n",
      "\n",
      "Phase 4: Generating output whitelist...\n",
      "════════════════════════════════════════════════════════════════════════════════════════════════════\n",
      "  Output path: ...LP_corpora/Google_Books/20200217/eng/1gram_files/1grams_processed.db/whitelist.txt\n",
      "  Extracting top 40,000 tokens\n",
      "  Generated whitelist with 40,000 tokens in 143.9s\n",
      "\n",
      "┌──────────────────────────────────────────────────────────────────────────────────────────────────┐\n",
      "│ PROCESSING COMPLETE                                                                              │\n",
      "├──────────────────────────────────────────────────────────────────────────────────────────────────┤\n",
      "│ Items: 16,500,110                                                                                │\n",
      "│ Size: 26.31 GB                                                                                   │\n",
      "│ Database: /vast/edk202/NLP_corpora/Google_Books/20200217/eng/1gram_files/1grams_processed.db     │\n",
      "│ Whitelist: ..._corpora/Google_Books/20200217/eng/1gram_files/1grams_processed.db/whitelist.txt   │\n",
      "└──────────────────────────────────────────────────────────────────────────────────────────────────┘\n"
     ]
    }
   ],
   "execution_count": 5
  }
 ],
 "metadata": {
  "kernelspec": {
   "display_name": "hist_w2v (Singularity)",
   "language": "python",
   "name": "hist_w2v"
  },
  "language_info": {
   "codemirror_mode": {
    "name": "ipython",
    "version": 3
   },
   "file_extension": ".py",
   "mimetype": "text/x-python",
   "name": "python",
   "nbconvert_exporter": "python",
   "pygments_lexer": "ipython3",
   "version": "3.11.13"
  }
 },
 "nbformat": 4,
 "nbformat_minor": 5
}
