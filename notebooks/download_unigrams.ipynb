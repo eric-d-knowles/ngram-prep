{
 "cells": [
  {
   "metadata": {
    "ExecuteTime": {
     "end_time": "2025-10-30T18:34:12.442758Z",
     "start_time": "2025-10-30T18:34:11.430397Z"
    }
   },
   "cell_type": "markdown",
   "source": "# **Setup**",
   "id": "93c7b9e5cefc6406"
  },
  {
   "metadata": {
    "ExecuteTime": {
     "end_time": "2025-11-01T00:16:30.290554Z",
     "start_time": "2025-11-01T00:16:29.705745Z"
    }
   },
   "cell_type": "code",
   "source": [
    "# Auto-reload edited scripts\n",
    "%load_ext autoreload\n",
    "%autoreload 2\n",
    "\n",
    "# Recompile Cython script\n",
    "%cd /scratch/edk202/ngram-prep\n",
    "!python setup.py build_ext --inplace -q\n",
    "\n",
    "# Stop words\n",
    "from stop_words import get_stop_words\n",
    "\n",
    "# Lemmatization\n",
    "from ngram_prep.ngram_filter.lemmatizer import SpacyLemmatizer\n",
    "\n",
    "# Ngram acquisition functions\n",
    "from ngram_prep.ngram_acquire import download_and_ingest_to_rocksdb\n",
    "from ngram_prep.ngram_acquire.logger import setup_logger\n",
    "\n",
    "# Ngram processing functions\n",
    "from pathlib import Path\n",
    "from ngram_prep.ngram_filter.config import PipelineConfig, FilterConfig\n",
    "from ngram_prep.ngram_filter.pipeline.orchestrator import build_processed_db\n",
    "from ngram_prep.utilities.peek import db_head, db_peek, db_peek_prefix"
   ],
   "id": "e032d0e757813319",
   "outputs": [
    {
     "name": "stdout",
     "output_type": "stream",
     "text": [
      "The autoreload extension is already loaded. To reload it, use:\n",
      "  %reload_ext autoreload\n",
      "/scratch/edk202/ngram-prep\n",
      "/bin/bash: warning: setlocale: LC_ALL: cannot change locale (en_US.UTF-8)\r\n",
      "running build_ext\r\n"
     ]
    }
   ],
   "execution_count": 14
  },
  {
   "metadata": {},
   "cell_type": "markdown",
   "source": "## Log to file",
   "id": "abd0247891250279"
  },
  {
   "metadata": {
    "ExecuteTime": {
     "end_time": "2025-11-01T00:16:30.652503Z",
     "start_time": "2025-11-01T00:16:30.636088Z"
    }
   },
   "cell_type": "code",
   "source": [
    "setup_logger(\n",
    "    db_path=\"/scratch/edk202/NLP_corpora/Google_Books/20200217/eng/5gram_files/5grams.db\",\n",
    "    console=False,\n",
    "    rotate=True,\n",
    "    max_bytes=100_000_000,\n",
    "    backup_count=5,\n",
    "    force=True\n",
    ")"
   ],
   "id": "34a1e1724ae74cc1",
   "outputs": [
    {
     "data": {
      "text/plain": [
       "PosixPath('/scratch/edk202/NLP_corpora/Google_Books/20200217/eng/5gram_files/5grams.db/ngram_download_20251031_201630.log')"
      ]
     },
     "execution_count": 15,
     "metadata": {},
     "output_type": "execute_result"
    }
   ],
   "execution_count": 15
  },
  {
   "metadata": {},
   "cell_type": "markdown",
   "source": "# **Download Unigrams and Ingest to RocksDB**",
   "id": "879927f391b65d8c"
  },
  {
   "metadata": {
    "ExecuteTime": {
     "end_time": "2025-11-01T00:25:57.443418Z",
     "start_time": "2025-11-01T00:16:34.422020Z"
    }
   },
   "cell_type": "code",
   "source": [
    "download_and_ingest_to_rocksdb(\n",
    "    ngram_size=1,\n",
    "    repo_release_id=\"20200217\",\n",
    "    repo_corpus_id=\"eng\",\n",
    "    db_path_stub=\"/vast/edk202/NLP_corpora/Google_Books/\",\n",
    "    file_range=(0, 23),\n",
    "    random_seed=98,\n",
    "    workers=20,\n",
    "    use_threads=False,\n",
    "    ngram_type=\"tagged\",\n",
    "    overwrite_db=True,\n",
    "    write_batch_size=100_000,\n",
    "    open_type=\"write:packed24\",\n",
    "    compact_after_ingest=True\n",
    ")"
   ],
   "id": "23449b75707ae1c",
   "outputs": [
    {
     "name": "stdout",
     "output_type": "stream",
     "text": [
      "N-GRAM ACQUISITION PIPELINE\n",
      "━━━━━━━━━━━━━━━━━━━━━━━━━━━━━━━━━━━━━━━━━━━━━━━━━━━━━━━━━━━━━━━━━━━━━━━━━━━━━━━━━━━━━━━━━━━━━━━━━━━━\n",
      "Start Time: 2025-10-31 20:16:34\n",
      "\n",
      "Download Configuration\n",
      "════════════════════════════════════════════════════════════════════════════════════════════════════\n",
      "Ngram repo:           https://books.storage.googleapis.com/?prefix=ngrams/books/20200217/eng/1-\n",
      "DB path:              /vast/edk202/NLP_corpora/Google_Books/20200217/eng/1gram_files/1grams.db\n",
      "File range:           0 to 23\n",
      "Total files:          24\n",
      "Files to get:         24\n",
      "Skipping:             0\n",
      "Download workers:     20\n",
      "Batch size:           100,000\n",
      "Ngram size:           1\n",
      "Ngram type:           tagged\n",
      "Overwrite DB:         True\n",
      "DB Profile:           write:packed24\n",
      "\n",
      "Download Progress\n",
      "════════════════════════════════════════════════════════════════════════════════════════════════════\n"
     ]
    },
    {
     "name": "stderr",
     "output_type": "stream",
     "text": [
      "Files Processed: 100%|█████████████████████████████████████████████████████████| 24/24 [06:23<00:00]\n"
     ]
    },
    {
     "name": "stdout",
     "output_type": "stream",
     "text": [
      "\n",
      "Post-Ingestion Compaction\n",
      "════════════════════════════════════════════════════════════════════════════════════════════════════\n",
      "Initial DB size:         35.62 GB\n",
      "Compaction completed in 0:02:57\n",
      "Size before:             35.62 GB\n",
      "Size after:              57.76 GB\n",
      "Space saved:             -22.14 GB (-62.1%)\n",
      "\n",
      "Processing complete!\n",
      "\n",
      "Final Summary\n",
      "════════════════════════════════════════════════════════════════════════════════════════════════════\n",
      "Fully processed files:       24\n",
      "Failed files:                0\n",
      "Total entries written:       41,783,218\n",
      "Write batches flushed:       24\n",
      "Uncompressed data processed: 43.28 GB\n",
      "Processing throughput:       78.72 MB/sec\n",
      "\n",
      "End Time: 2025-10-31 20:25:57.439629\n",
      "Total Runtime: 0:09:23.004931\n",
      "Time per file: 0:00:23.458539\n",
      "Files per hour: 153.5\n"
     ]
    }
   ],
   "execution_count": 16
  },
  {
   "metadata": {},
   "cell_type": "markdown",
   "source": "# **Run Processing Pipeline**",
   "id": "97d09d26c6f2043f"
  },
  {
   "metadata": {
    "jupyter": {
     "is_executing": true
    },
    "ExecuteTime": {
     "start_time": "2025-11-01T00:25:57.488440Z"
    }
   },
   "cell_type": "code",
   "source": [
    "src_db = Path(\"/vast/edk202/NLP_corpora/Google_Books/20200217/eng/1gram_files/1grams.db\")\n",
    "dst_db = src_db.parent / \"1grams_processed.db\"\n",
    "tmp_dir = src_db.parent / \"processing_tmp\"\n",
    "\n",
    "stop_set = set(get_stop_words(\"english\"))\n",
    "lemmatizer = SpacyLemmatizer(language=\"en\")\n",
    "spell_check_lang = \"en\"\n",
    "\n",
    "filter_config = FilterConfig(\n",
    "    stop_set=stop_set,\n",
    "    lemma_gen=lemmatizer,\n",
    ")\n",
    "\n",
    "pipeline_config = PipelineConfig(\n",
    "    src_db=src_db,\n",
    "    dst_db=dst_db,\n",
    "    tmp_dir=tmp_dir,\n",
    "    num_workers=40,\n",
    "    use_smart_partitioning=True,\n",
    "    samples_per_worker=500_000,\n",
    "    num_initial_work_units=400,\n",
    "    work_unit_claim_order=\"random\",\n",
    "    flush_interval_s=5.0,\n",
    "    mode=\"restart\",\n",
    "    progress_every_s=5.0,\n",
    "    ingest_num_readers=10,\n",
    "    ingest_batch_items=2_000_000,\n",
    "    ingest_queue_size=2,\n",
    "    output_whitelist_path=dst_db / \"whitelist.txt\",\n",
    "    output_whitelist_top_n=6_000,\n",
    "    output_whitelist_spell_check=True,\n",
    "    output_whitelist_spell_check_language=spell_check_lang\n",
    ")\n",
    "\n",
    "build_processed_db(pipeline_config, filter_config)"
   ],
   "id": "57db436f73cba01",
   "outputs": [
    {
     "name": "stdout",
     "output_type": "stream",
     "text": [
      "N-GRAM FILTER PIPELINE\n",
      "━━━━━━━━━━━━━━━━━━━━━━━━━━━━━━━━━━━━━━━━━━━━━━━━━━━━━━━━━━━━━━━━━━━━━━━━━━━━━━━━━━━━━━━━━━━━━━━━━━━━\n",
      "\n",
      "Configuration\n",
      "════════════════════════════════════════════════════════════════════════════════════════════════════\n",
      "\u001B[4mPipeline\u001B[0m\n",
      "Run mode:             restart\n",
      "Compact after ingest: True\n",
      "\n",
      "\u001B[4mWorkers\u001B[0m\n",
      "Num Workers:        40\n",
      "Initial work units: 400\n",
      "Profiles:           read=read:packed24, write=write:packed24\n",
      "Flush interval:     5.0s\n",
      "\n",
      "\u001B[4mFiles\u001B[0m\n",
      "Source: /vast/edk202/NLP_corpora/Google_Books/20200217/eng/1gram_files/1grams.db\n",
      "Destination: /vast/edk202/NLP_corpora/Google_Books/20200217/eng/1gram_files/1grams_processed.db\n",
      "Input whitelist: None\n",
      "Output whitelist: ...oks/20200217/eng/1gram_files/1grams_processed.db/whitelist.txt (top 6,000 keys)\n",
      "\n",
      "Phase 1: Creating work units...\n",
      "════════════════════════════════════════════════════════════════════════════════════════════════════\n",
      "Clean restart - creating new work units\n",
      "Sampling database to create 400 density-based work units...\n",
      "Created 400 balanced work units based on data density\n",
      "\n",
      "Phase 2: Processing 400 work units with 40 workers...\n",
      "════════════════════════════════════════════════════════════════════════════════════════════════════\n",
      "\n",
      "    items         kept%        workers        units          rate        elapsed    \n",
      "────────────────────────────────────────────────────────────────────────────────────\n",
      "      0            0.0%          4/40        396·4·0         0/s            5s      \n",
      "   119.33K        84.4%          8/40        390·8·2       11.7k/s         10s      \n"
     ]
    }
   ],
   "execution_count": null
  },
  {
   "metadata": {},
   "cell_type": "markdown",
   "source": [
    "# **Inspect the Procesed Database**\n",
    "## `db_head`: Print the first _N_ key–value pairs"
   ],
   "id": "fc603d355569ee"
  },
  {
   "metadata": {
    "ExecuteTime": {
     "end_time": "2025-10-31T14:59:12.791319Z",
     "start_time": "2025-10-31T14:59:12.705450Z"
    }
   },
   "cell_type": "code",
   "source": [
    "db_path = \"/vast/edk202/NLP_corpora/Google_Books/20200217/eng/1gram_files/1grams_processed.db\"\n",
    "\n",
    "db_head(db_path, key_format=\"utf-8\", value_format=\"packed\", n=5)"
   ],
   "id": "65dc0569cf8c1e32",
   "outputs": [
    {
     "name": "stdout",
     "output_type": "stream",
     "text": [
      "First 5 key-value pairs:\n",
      "────────────────────────────────────────────────────────────────────────────────────────────────────\n",
      "[ 1] Key:   FALSE\n",
      "     Value: [380 records] ... +370 earlier, (2010, 841, 723), (2011, 706, 634), (2012, 773, 706)\n",
      "            (2013, 1294, 952), (2014, 1017, 876), (2015, 1094, 799), (2016, 1047, 734)\n",
      "            (2017, 1432, 1129), (2018, 1952, 1511), (2019, 1557, 1054)\n",
      "\n",
      "[ 2] Key:   TRUE\n",
      "     Value: [440 records] ... +430 earlier, (2010, 46286, 35975), (2011, 42519, 33719), (2012, 48922, 38400)\n",
      "            (2013, 57484, 43234), (2014, 53077, 41010), (2015, 48476, 36281), (2016, 45082, 34440)\n",
      "            (2017, 55048, 37723), (2018, 60260, 40195), (2019, 49897, 37191)\n",
      "\n",
      "[ 3] Key:   aaa\n",
      "     Value: [404 records] ... +394 earlier, (2010, 73202, 21159), (2011, 70332, 20728), (2012, 89260, 25722)\n",
      "            (2013, 80191, 21846), (2014, 65586, 19120), (2015, 58974, 16984), (2016, 52096, 16749)\n",
      "            (2017, 46607, 14927), (2018, 41184, 13241), (2019, 37169, 12360)\n",
      "\n",
      "[ 4] Key:   aaaa\n",
      "     Value: [338 records] ... +328 earlier, (2010, 2930, 1386), (2011, 4081, 1368), (2012, 3533, 1741)\n",
      "            (2013, 3132, 1561), (2014, 2904, 1322), (2015, 21418, 1175), (2016, 6363, 1181)\n",
      "            (2017, 2709, 1265), (2018, 2217, 1050), (2019, 1905, 1076)\n",
      "\n",
      "[ 5] Key:   aaaaa\n",
      "     Value: [274 records] ... +264 earlier, (2010, 805, 410), (2011, 727, 413), (2012, 965, 524)\n",
      "            (2013, 817, 520), (2014, 964, 429), (2015, 653, 359), (2016, 694, 368)\n",
      "            (2017, 700, 368), (2018, 569, 267), (2019, 393, 310)\n",
      "\n"
     ]
    }
   ],
   "execution_count": 16
  },
  {
   "metadata": {},
   "cell_type": "markdown",
   "source": "## `db_peek`: Print _N_ key-value pairs starting at the specified key",
   "id": "93ddff0e275f2d7e"
  },
  {
   "metadata": {
    "ExecuteTime": {
     "end_time": "2025-11-01T00:14:47.563097Z",
     "start_time": "2025-11-01T00:14:47.479106Z"
    }
   },
   "cell_type": "code",
   "source": [
    "db_path = \"/vast/edk202/NLP_corpora/Google_Books/20200217/eng/1gram_files/1grams_processed.db\"\n",
    "\n",
    "db_peek(db_path, start_key=b\"unhappy\", key_format=\"utf-8\", value_format=\"packed\", n=5)"
   ],
   "id": "598183cfd12f66c8",
   "outputs": [
    {
     "name": "stdout",
     "output_type": "stream",
     "text": [
      "5 key-value pairs starting from 756e6861707079:\n",
      "────────────────────────────────────────────────────────────────────────────────────────────────────\n",
      "[ 1] Key:   unhappy\n",
      "     Value: [444 records] ... +434 earlier, (2010, 257380, 95642), (2011, 261556, 99718)\n",
      "            (2012, 304990, 116127), (2013, 343730, 120790), (2014, 325703, 118893)\n",
      "            (2015, 285862, 99410), (2016, 259175, 93715), (2017, 319228, 93295)\n",
      "            (2018, 347741, 93195), (2019, 295667, 88524)\n",
      "\n",
      "[ 2] Key:   unhappyand\n",
      "     Value: [29 records] ... +19 earlier, (1952, 1, 1), (1970, 1, 1), (1995, 1, 1), (1996, 1, 1), (2001, 1, 1)\n",
      "            (2008, 2, 2), (2009, 1, 1), (2010, 2, 2), (2011, 1, 1), (2013, 1, 1)\n",
      "\n",
      "[ 3] Key:   unhappyboy\n",
      "     Value: [39 records] ... +29 earlier, (2000, 1, 1), (2002, 3, 3), (2003, 1, 1), (2004, 4, 4), (2006, 1, 1)\n",
      "            (2010, 2, 2), (2013, 2, 2), (2016, 1, 1), (2018, 1, 1), (2019, 1, 1)\n",
      "\n",
      "[ 4] Key:   unhappycountry\n",
      "     Value: [44 records] ... +34 earlier, (1939, 1, 1), (1953, 1, 1), (1959, 1, 1), (1975, 2, 2), (1984, 1, 1)\n",
      "            (1986, 1, 1), (2008, 2, 2), (2009, 1, 1), (2012, 1, 1), (2018, 2, 2)\n",
      "\n",
      "[ 5] Key:   unhappye\n",
      "     Value: [189 records] ... +179 earlier, (2010, 4, 4), (2011, 2, 2), (2012, 1, 1), (2013, 13, 11)\n",
      "            (2014, 11, 11), (2015, 13, 9), (2016, 6, 6), (2017, 2, 1), (2018, 8, 8), (2019, 7, 6)\n",
      "\n"
     ]
    }
   ],
   "execution_count": 3
  },
  {
   "metadata": {},
   "cell_type": "markdown",
   "source": "## `db_peek_prefix`: Print key-value pairs containing the specified prefix",
   "id": "db6da3ceeab23b6b"
  },
  {
   "metadata": {
    "ExecuteTime": {
     "end_time": "2025-11-01T00:16:09.283314Z",
     "start_time": "2025-11-01T00:16:09.195673Z"
    }
   },
   "cell_type": "code",
   "source": [
    "db_path = \"/vast/edk202/NLP_corpora/Google_Books/20200217/eng/1gram_files/1grams_processed.db\"\n",
    "\n",
    "db_peek_prefix(db_path, prefix=b\"flank\", key_format=\"utf-8\", value_format=\"summary\", n=1)"
   ],
   "id": "f0786a0f5c8c402f",
   "outputs": [
    {
     "name": "stdout",
     "output_type": "stream",
     "text": [
      "1 key-value pairs with prefix 666c616e6b:\n",
      "────────────────────────────────────────────────────────────────────────────────────────────────────\n",
      "[ 1] Key:   flank\n",
      "     Value: Total: 18,977,446 occurrences in 6,278,467 volumes (1520-2019, 420 years)\n",
      "\n"
     ]
    }
   ],
   "execution_count": 13
  },
  {
   "metadata": {},
   "cell_type": "code",
   "source": "",
   "id": "be1eebb826d335cd",
   "outputs": [],
   "execution_count": null
  }
 ],
 "metadata": {
  "kernelspec": {
   "display_name": "Python 3 (ipykernel)",
   "language": "python",
   "name": "python3"
  },
  "language_info": {
   "codemirror_mode": {
    "name": "ipython",
    "version": 3
   },
   "file_extension": ".py",
   "mimetype": "text/x-python",
   "name": "python",
   "nbconvert_exporter": "python",
   "pygments_lexer": "ipython3",
   "version": "3.11.13"
  }
 },
 "nbformat": 4,
 "nbformat_minor": 5
}
