{
 "cells": [
  {
   "metadata": {},
   "cell_type": "markdown",
   "source": [
    "# **Setup**\n",
    "## Recompile Cython Extensions"
   ],
   "id": "b784e1a1cda09447"
  },
  {
   "metadata": {
    "ExecuteTime": {
     "end_time": "2025-09-30T03:16:37.784123Z",
     "start_time": "2025-09-30T03:16:28.263531Z"
    }
   },
   "cell_type": "code",
   "source": [
    "%cd /scratch/edk202/ngram-prep\n",
    "\n",
    "%env LC_ALL=C.UTF-8\n",
    "%env LANG=C.UTF-8\n",
    "\n",
    "%pip install -e . --no-build-isolation -q"
   ],
   "id": "1ad267332e4b1fcd",
   "outputs": [
    {
     "name": "stdout",
     "output_type": "stream",
     "text": [
      "/scratch/edk202/ngram-prep\n",
      "env: LC_ALL=C.UTF-8\n",
      "env: LANG=C.UTF-8\n",
      "Note: you may need to restart the kernel to use updated packages.\n"
     ]
    }
   ],
   "execution_count": 1
  },
  {
   "metadata": {},
   "cell_type": "markdown",
   "source": "## Imports",
   "id": "a8e3ef360e1fe339"
  },
  {
   "metadata": {
    "ExecuteTime": {
     "end_time": "2025-09-30T04:19:29.430131Z",
     "start_time": "2025-09-30T04:19:28.709854Z"
    }
   },
   "cell_type": "code",
   "source": [
    "# Auto-reload edited scripts\n",
    "%load_ext autoreload\n",
    "%autoreload 2\n",
    "\n",
    "# NLTK resources\n",
    "from nltk.corpus import stopwords; stopwords = set(stopwords.words(\"english\"))\n",
    "from nltk.stem import WordNetLemmatizer; lemmatizer = WordNetLemmatizer()\n",
    "\n",
    "# Ngram acquisition functions\n",
    "from ngram_acquire.pipeline.orchestrate import download_and_ingest_to_rocksdb\n",
    "from ngram_acquire.pipeline.logger import setup_logger\n",
    "\n",
    "# Ngram processing functions\n",
    "from pathlib import Path\n",
    "from ngram_filter.config import PipelineConfig, FilterConfig\n",
    "from ngram_filter.pipeline.orchestrator import build_processed_db\n",
    "from common_db.api import open_db"
   ],
   "id": "be55f147a8e96bcf",
   "outputs": [],
   "execution_count": 1
  },
  {
   "metadata": {},
   "cell_type": "markdown",
   "source": "## Set up logging to file",
   "id": "bc8c6e9a55974fa7"
  },
  {
   "metadata": {
    "ExecuteTime": {
     "end_time": "2025-09-30T04:19:29.530407Z",
     "start_time": "2025-09-30T04:19:29.434470Z"
    }
   },
   "cell_type": "code",
   "source": [
    "setup_logger(\n",
    "    db_path=\"/vast/edk202/NLP_corpora/Google_Books/20200217/eng/5gram_files/1grams.db\",\n",
    "    console=False,\n",
    "    rotate=True,\n",
    "    max_bytes=100_000_000,\n",
    "    backup_count=5,\n",
    "    force=True\n",
    ")"
   ],
   "id": "34a1e1724ae74cc1",
   "outputs": [
    {
     "data": {
      "text/plain": [
       "PosixPath('/vast/edk202/NLP_corpora/Google_Books/20200217/eng/5gram_files/1grams.db/ngram_download_20250930_001929.log')"
      ]
     },
     "execution_count": 2,
     "metadata": {},
     "output_type": "execute_result"
    }
   ],
   "execution_count": 2
  },
  {
   "metadata": {},
   "cell_type": "markdown",
   "source": "# **Download Unigrams and Ingest to RocksDB**",
   "id": "879927f391b65d8c"
  },
  {
   "metadata": {},
   "cell_type": "code",
   "source": [
    "download_and_ingest_to_rocksdb(\n",
    "    ngram_size = 1,\n",
    "    repo_release_id = \"20200217\",\n",
    "    repo_corpus_id = \"eng\",\n",
    "    db_path_stub = \"/vast/edk202/NLP_corpora/Google_Books/\",\n",
    "    file_range = (0, 23),\n",
    "    random_seed = 21,\n",
    "    workers = 30,\n",
    "    use_threads = False,\n",
    "    ngram_type = \"tagged\",\n",
    "    overwrite = True,\n",
    "    write_batch_size = 100_000,\n",
    "    open_type = \"write:packed24\",\n",
    "    post_compact = True\n",
    ")"
   ],
   "id": "ca245b7b1cef8e37",
   "outputs": [],
   "execution_count": null
  },
  {
   "metadata": {},
   "cell_type": "markdown",
   "source": "# **Run Processing Pipeline**",
   "id": "97d09d26c6f2043f"
  },
  {
   "metadata": {
    "ExecuteTime": {
     "end_time": "2025-09-30T04:36:16.671063Z",
     "start_time": "2025-09-30T04:19:34.934786Z"
    }
   },
   "cell_type": "code",
   "source": [
    "src_db = Path(\"/vast/edk202/NLP_corpora/Google_Books/20200217/eng/1gram_files/1grams.db\")\n",
    "dst_db = src_db.parent / \"1grams_processed.db\"\n",
    "tmp_dir = src_db.parent / \"processing_tmp\"\n",
    "\n",
    "pipeline_config = PipelineConfig(\n",
    "    src_db=src_db,\n",
    "    dst_db=dst_db,\n",
    "    tmp_dir=tmp_dir,\n",
    "    readers=32,\n",
    "    ingestors=16,\n",
    "    work_units_per_reader=1,\n",
    "    partitioning_sample_rate=0.01,\n",
    "    prefix_length=4,\n",
    "    mode=\"reprocess\",\n",
    "    force_cache_use=False,\n",
    "    enable_ingest=True,\n",
    "    delete_after_ingest=True,\n",
    "    enable_compact=True,\n",
    "    progress_every_s=60.0,\n",
    "    output_whitelist_path=dst_db / \"whitelist.txt\",\n",
    "    output_whitelist_top_n=40_000\n",
    ")\n",
    "\n",
    "filter_config = FilterConfig(\n",
    "    stop_set=stopwords,\n",
    "    lemma_gen=lemmatizer,\n",
    ")\n",
    "\n",
    "build_processed_db(pipeline_config, filter_config)"
   ],
   "id": "57db436f73cba01",
   "outputs": [
    {
     "name": "stdout",
     "output_type": "stream",
     "text": [
      "N-GRAM FILTER PIPELINE\n",
      "━━━━━━━━━━━━━━━━━━━━━━━━━━━━━━━━━━━━━━━━━━━━━━━━━━━━━━━━━━━━━━━━━━━━━━━━━━━━━━━━━━━━━━━━━━━━━━━━━━━━\n",
      "\n",
      "Configuration:\n",
      "════════════════════════════════════════════════════════════════════════════════════════════════════\n",
      "\u001B[4mPipeline\u001B[0m\n",
      "Run mode: reprocess\n",
      "Ingest after filtering: True\n",
      "Compact after ingesting: True\n",
      "  \n",
      "\u001B[4mWorkers\u001B[0m\n",
      "Num Workers: 32\n",
      "Work units: 32\n",
      "Profiles: read=read:packed24, write=write:packed24\n",
      "Buffer: 100,000 items, 128MB\n",
      "  \n",
      "\u001B[4mFiles\u001B[0m\n",
      "Source: /vast/edk202/NLP_corpora/Google_Books/20200217/eng/1gram_files/1grams.db\n",
      "Destination: /vast/edk202/NLP_corpora/Google_Books/20200217/eng/1gram_files/1grams_processed.db\n",
      "Input whitelist: None\n",
      "Output whitelist: ...ks/20200217/eng/1gram_files/1grams_processed.db/whitelist.txt (top 40,000 keys)\n",
      "\n",
      "Phase 1: Creating work units...\n",
      "════════════════════════════════════════════════════════════════════════════════════════════════════\n",
      "Reprocess - loading cached work units and resetting status\n",
      "Loaded 32 work units from cache\n",
      "\n",
      "Phase 2: Processing 32 work units with 32 workers...\n",
      "════════════════════════════════════════════════════════════════════════════════════════════════════\n",
      "\n",
      "    recs scanned     recs written     items kept       throughput       elapsed\n",
      "   ───────────────────────────────────────────────────────────────────────────────\n",
      "    34,186,859       18,105,473       56%              567.8k/s         1m00s         \n",
      "   ──────────────────────────────────── final ────────────────────────────────────\n",
      "    41,783,242       25,127,726       60%              431.4k/s         1m36s         \n",
      "\n",
      "Phase 3: Merging worker outputs into final database...\n",
      "════════════════════════════════════════════════════════════════════════════════════════════════════\n",
      "Found 32 worker output files\n",
      "Ingesting shards with batch size 128MB / 200,000 items\n",
      "Deleting shards after successful ingestion\n",
      "\n",
      "Folding 32 shard(s) with 16 parallel readers...\n",
      "  unit_0001.db: 0 items (0.0 MB) [deleted]\n",
      "  unit_0005.db: 0 items (0.0 MB) [deleted]\n",
      "  unit_0004.db: 0 items (0.0 MB) [deleted]\n",
      "  unit_0000.db: 0 items (0.0 MB) [deleted]\n",
      "  unit_0006.db: 0 items (0.0 MB) [deleted]\n",
      "  unit_0007.db: 0 items (0.0 MB) [deleted]\n",
      "  unit_0003.db: 0 items (0.0 MB) [deleted]\n",
      "  unit_0002.db: 0 items (0.0 MB) [deleted]\n",
      "  unit_0023.db: 626,211 items (1189.3 MB) [deleted]\n",
      "  unit_0022.db: 640,327 items (1191.3 MB) [deleted]\n",
      "  unit_0021.db: 648,878 items (1173.7 MB) [deleted]\n",
      "  unit_0020.db: 660,657 items (1127.8 MB) [deleted]\n",
      "  unit_0011.db: 738,566 items (1196.4 MB) [deleted]\n",
      "  unit_0017.db: 757,599 items (1188.8 MB) [deleted]\n",
      "  unit_0013.db: 777,228 items (1226.4 MB) [deleted]\n",
      "  unit_0008.db: 779,507 items (1232.7 MB) [deleted]\n",
      "  unit_0012.db: 783,586 items (1264.2 MB) [deleted]\n",
      "  unit_0016.db: 799,860 items (1267.5 MB) [deleted]\n",
      "  unit_0014.db: 801,883 items (1258.9 MB) [deleted]\n",
      "  unit_0019.db: 821,894 items (1307.6 MB) [deleted]\n",
      "  unit_0015.db: 825,312 items (1254.9 MB) [deleted]\n",
      "  unit_0010.db: 845,340 items (1369.3 MB) [deleted]\n",
      "  unit_0009.db: 884,247 items (1430.4 MB) [deleted]\n",
      "  unit_0018.db: 906,363 items (1404.1 MB) [deleted]\n",
      "  unit_0031.db: 383,718 items (715.1 MB) [deleted]\n",
      "  unit_0027.db: 625,629 items (1106.4 MB) [deleted]\n",
      "  unit_0024.db: 611,510 items (1120.1 MB) [deleted]\n",
      "  unit_0028.db: 632,046 items (1166.3 MB) [deleted]\n",
      "  unit_0029.db: 643,518 items (1183.1 MB) [deleted]\n",
      "  unit_0030.db: 635,115 items (1189.1 MB) [deleted]\n",
      "  unit_0026.db: 643,239 items (1120.4 MB) [deleted]\n",
      "  unit_0025.db: 611,574 items (1132.4 MB) [deleted]\n",
      "\n",
      "Phase 3: Finalizing...\n",
      "════════════════════════════════════════════════════════════════════════════════════════════════════\n",
      "  Performing final flush...\n",
      "  Compacting...\n",
      "\n",
      "Phase 4: Generating output whitelist...\n",
      "════════════════════════════════════════════════════════════════════════════════════════════════════\n",
      "  Output path: ...LP_corpora/Google_Books/20200217/eng/1gram_files/1grams_processed.db/whitelist.txt\n",
      "  Extracting top 40,000 tokens\n",
      "  Generated whitelist with 40,000 tokens in 270.3s\n",
      "\n",
      "╭─────────────────────────────────────────────────────────────────────────────────────╮\n",
      "│ PROCESSING COMPLETE: Final DB contains 17,083,807 items, 29,089.7 MB                │\n",
      "│ DB: ...t/edk202/NLP_corpora/Google_Books/20200217/eng/1gram_files/1grams_processed.db │\n",
      "│ Whitelist: ...Google_Books/20200217/eng/1gram_files/1grams_processed.db/whitelist.txt │\n",
      "╰─────────────────────────────────────────────────────────────────────────────────────╯\n",
      "\n"
     ]
    }
   ],
   "execution_count": 3
  },
  {
   "metadata": {},
   "cell_type": "markdown",
   "source": [
    "As the pipeline runs, the work-unit status is tracked in a SQLite database. Run the following command to check progress.\n",
    "\n",
    "Execute from the `processing_tmp` directory:\n",
    "```\n",
    "python3 -c \"\n",
    "import sqlite3\n",
    "conn = sqlite3.connect('work_tracker.db')\n",
    "cur = conn.cursor()\n",
    "results = cur.execute('SELECT status, COUNT(*) FROM work_units GROUP BY status').fetchall()\n",
    "status_dict = dict(results)\n",
    "print(f\\\"Completed: {status_dict.get('completed', 0)}, Processing: {status_dict.get('processing', 0)}, Pending: {status_dict.get('pending', 0)}\\\")\n",
    "\"\n",
    "```"
   ],
   "id": "19413b3c226358d9"
  },
  {
   "metadata": {},
   "cell_type": "markdown",
   "source": [
    "## Run a Manual Compaction\n",
    "\n",
    "Compaction improves DB read performance. Strong recommendation to run this if compaction was disabled during ingestion."
   ],
   "id": "9750c1f15d7e2913"
  },
  {
   "metadata": {},
   "cell_type": "code",
   "source": [
    "db_path = \"/vast/edk202/NLP_corpora/Google_Books/20200217/eng/5gram_files/5grams.db\"\n",
    "\n",
    "with open_db(db_path, mode=\"rw\") as db:\n",
    "    db.compact_all()"
   ],
   "id": "22b796e8b47531d8",
   "outputs": [],
   "execution_count": null
  },
  {
   "metadata": {},
   "cell_type": "code",
   "source": [
    "import requests\n",
    "url = \"https://books.storage.googleapis.com/?prefix=ngrams/books/20200217/eng/1-\"\n",
    "resp = requests.get(url)\n",
    "print(resp.text[:2000])  # First 2000 chars"
   ],
   "id": "cf93534849ac4c59",
   "outputs": [],
   "execution_count": null
  }
 ],
 "metadata": {
  "kernelspec": {
   "display_name": "hist_w2v (Singularity)",
   "language": "python",
   "name": "hist_w2v"
  },
  "language_info": {
   "codemirror_mode": {
    "name": "ipython",
    "version": 3
   },
   "file_extension": ".py",
   "mimetype": "text/x-python",
   "name": "python",
   "nbconvert_exporter": "python",
   "pygments_lexer": "ipython3",
   "version": "3.11.13"
  }
 },
 "nbformat": 4,
 "nbformat_minor": 5
}
