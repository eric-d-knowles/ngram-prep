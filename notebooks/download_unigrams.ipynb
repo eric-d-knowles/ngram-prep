{
 "cells": [
  {
   "metadata": {},
   "cell_type": "markdown",
   "source": "# **Setup**",
   "id": "b784e1a1cda09447"
  },
  {
   "metadata": {
    "ExecuteTime": {
     "end_time": "2025-10-29T22:05:52.047141Z",
     "start_time": "2025-10-29T22:05:48.941888Z"
    }
   },
   "cell_type": "code",
   "source": [
    "%cd /scratch/edk202/ngram-prep\n",
    "!python setup.py build_ext --inplace -q"
   ],
   "id": "2495a42ec5ef6fcf",
   "execution_count": 11,
   "outputs": [
    {
     "name": "stdout",
     "output_type": "stream",
     "text": [
      "/scratch/edk202/ngram-prep\n",
      "/bin/bash: warning: setlocale: LC_ALL: cannot change locale (en_US.UTF-8)\r\n",
      "running build_ext\r\n"
     ]
    }
   ]
  },
  {
   "metadata": {
    "ExecuteTime": {
     "end_time": "2025-10-30T00:33:17.564511Z",
     "start_time": "2025-10-30T00:33:17.546575Z"
    }
   },
   "cell_type": "code",
   "source": [
    "# Auto-reload edited scripts\n",
    "%load_ext autoreload\n",
    "%autoreload 2\n",
    "\n",
    "# Stop words\n",
    "from stop_words import get_stop_words\n",
    "\n",
    "# Lemmatization\n",
    "from ngram_prep.ngram_filter.lemmatizer import SpacyLemmatizer\n",
    "\n",
    "# Ngram acquisition functions\n",
    "from ngram_prep.ngram_acquire import download_and_ingest_to_rocksdb\n",
    "from ngram_prep.ngram_acquire.logger import setup_logger\n",
    "\n",
    "# Ngram processing functions\n",
    "from pathlib import Path\n",
    "from ngram_prep.ngram_filter.config import PipelineConfig, FilterConfig\n",
    "from ngram_prep.ngram_filter.pipeline.orchestrator import build_processed_db\n",
    "from ngram_prep.utilities.peek import db_head, db_peek, db_peek_prefix"
   ],
   "id": "e032d0e757813319",
   "outputs": [
    {
     "name": "stdout",
     "output_type": "stream",
     "text": [
      "The autoreload extension is already loaded. To reload it, use:\n",
      "  %reload_ext autoreload\n"
     ]
    }
   ],
   "execution_count": 3
  },
  {
   "metadata": {},
   "cell_type": "markdown",
   "source": "## Log to file",
   "id": "abd0247891250279"
  },
  {
   "metadata": {
    "ExecuteTime": {
     "end_time": "2025-10-30T00:33:18.614333Z",
     "start_time": "2025-10-30T00:33:18.596603Z"
    }
   },
   "cell_type": "code",
   "source": [
    "setup_logger(\n",
    "    db_path=\"/scratch/edk202/NLP_corpora/Google_Books/20200217/eng/5gram_files/5grams.db\",\n",
    "    console=False,\n",
    "    rotate=True,\n",
    "    max_bytes=100_000_000,\n",
    "    backup_count=5,\n",
    "    force=True\n",
    ")"
   ],
   "id": "34a1e1724ae74cc1",
   "outputs": [
    {
     "data": {
      "text/plain": [
       "PosixPath('/scratch/edk202/NLP_corpora/Google_Books/20200217/eng/5gram_files/ngram_download_20251029_203318.log')"
      ]
     },
     "execution_count": 4,
     "metadata": {},
     "output_type": "execute_result"
    }
   ],
   "execution_count": 4
  },
  {
   "metadata": {},
   "cell_type": "markdown",
   "source": "# **Download Unigrams and Ingest to RocksDB**",
   "id": "879927f391b65d8c"
  },
  {
   "metadata": {
    "ExecuteTime": {
     "end_time": "2025-10-29T23:34:58.796229Z",
     "start_time": "2025-10-29T23:20:33.940887Z"
    }
   },
   "cell_type": "code",
   "source": [
    "download_and_ingest_to_rocksdb(\n",
    "    ngram_size=1,\n",
    "    repo_release_id=\"20200217\",\n",
    "    repo_corpus_id=\"eng\",\n",
    "    db_path_stub=\"/vast/edk202/NLP_corpora/Google_Books/\",\n",
    "    file_range=(0, 23),\n",
    "    random_seed=98,\n",
    "    workers=25,\n",
    "    use_threads=False,\n",
    "    ngram_type=\"tagged\",\n",
    "    overwrite_db=True,\n",
    "    write_batch_size=100_000,\n",
    "    open_type=\"write:packed24\",\n",
    "    compact_after_ingest=True\n",
    ")"
   ],
   "id": "23449b75707ae1c",
   "outputs": [
    {
     "name": "stdout",
     "output_type": "stream",
     "text": [
      "N-GRAM ACQUISITION PIPELINE\n",
      "━━━━━━━━━━━━━━━━━━━━━━━━━━━━━━━━━━━━━━━━━━━━━━━━━━━━━━━━━━━━━━━━━━━━━━━━━━━━━━━━━━━━━━━━━━━━━━━━━━━━\n",
      "Start Time: 2025-10-29 19:20:33\n",
      "\n",
      "Download Configuration\n",
      "════════════════════════════════════════════════════════════════════════════════════════════════════\n",
      "Ngram repo:           https://books.storage.googleapis.com/?prefix=ngrams/books/20200217/eng/1-\n",
      "DB path:              /vast/edk202/NLP_corpora/Google_Books/20200217/eng/1gram_files/1grams.db\n",
      "File range:           0 to 23\n",
      "Total files:          24\n",
      "Files to get:         24\n",
      "Skipping:             0\n",
      "Download workers:     25\n",
      "Batch size:           100,000\n",
      "Ngram size:           1\n",
      "Ngram type:           tagged\n",
      "Overwrite DB:         True\n",
      "DB Profile:           write:packed24\n",
      "\n",
      "Download Progress\n",
      "════════════════════════════════════════════════════════════════════════════════════════════════════\n"
     ]
    },
    {
     "name": "stderr",
     "output_type": "stream",
     "text": [
      "Files Processed: 100%|█████████████████████████████████████████████████████████| 24/24 [07:03<00:00]\n"
     ]
    },
    {
     "name": "stdout",
     "output_type": "stream",
     "text": [
      "\n",
      "Post-Ingestion Compaction\n",
      "════════════════════════════════════════════════════════════════════════════════════════════════════\n",
      "Initial DB size:         34.94 GB\n",
      "Compaction completed in 0:07:20\n",
      "Size before:             34.94 GB\n",
      "Size after:              57.76 GB\n",
      "Space saved:             -22.82 GB (-65.3%)\n",
      "\n",
      "Processing complete!\n",
      "\n",
      "Final Summary\n",
      "════════════════════════════════════════════════════════════════════════════════════════════════════\n",
      "Fully processed files:       24\n",
      "Failed files:                0\n",
      "Total entries written:       41,783,218\n",
      "Write batches flushed:       24\n",
      "Uncompressed data processed: 43.28 GB\n",
      "Processing throughput:       51.24 MB/sec\n",
      "\n",
      "End Time: 2025-10-29 19:34:58.790926\n",
      "Total Runtime: 0:14:24.836944\n",
      "Time per file: 0:00:36.034873\n",
      "Files per hour: 99.9\n"
     ]
    }
   ],
   "execution_count": 4
  },
  {
   "metadata": {},
   "cell_type": "markdown",
   "source": "# **Run Processing Pipeline**",
   "id": "97d09d26c6f2043f"
  },
  {
   "metadata": {
    "jupyter": {
     "is_executing": true
    },
    "ExecuteTime": {
     "start_time": "2025-10-30T00:33:23.433120Z"
    }
   },
   "cell_type": "code",
   "source": [
    "src_db = Path(\"/vast/edk202/NLP_corpora/Google_Books/20200217/eng/1gram_files/1grams.db\")\n",
    "dst_db = src_db.parent / \"1grams_processed.db\"\n",
    "tmp_dir = src_db.parent / \"processing_tmp\"\n",
    "\n",
    "stop_set = set(get_stop_words(\"english\"))\n",
    "lemmatizer = SpacyLemmatizer(language=\"en\")\n",
    "\n",
    "filter_config = FilterConfig(\n",
    "    stop_set=stop_set,\n",
    "    lemma_gen=lemmatizer,\n",
    ")\n",
    "\n",
    "pipeline_config = PipelineConfig(\n",
    "    src_db=src_db,\n",
    "    dst_db=dst_db,\n",
    "    tmp_dir=tmp_dir,\n",
    "    num_workers=20,\n",
    "    num_initial_work_units=20,\n",
    "    work_unit_claim_order=\"random\",\n",
    "    max_split_depth=100,\n",
    "    split_check_interval_s=45.0,\n",
    "    mode=\"restart\",\n",
    "    progress_every_s=15.0,\n",
    "    max_items_per_bucket=10_000_000,\n",
    "    max_bytes_per_bucket=512 * 1024 * 1024,\n",
    "    ingest_num_readers=40,\n",
    "    ingest_batch_items=5_000_000,\n",
    "    ingest_queue_size=1,\n",
    "    output_whitelist_path=dst_db / \"whitelist.txt\",\n",
    "    output_whitelist_top_n=30_000\n",
    ")\n",
    "\n",
    "build_processed_db(pipeline_config, filter_config)"
   ],
   "id": "57db436f73cba01",
   "outputs": [
    {
     "name": "stdout",
     "output_type": "stream",
     "text": [
      "N-GRAM FILTER PIPELINE\n",
      "━━━━━━━━━━━━━━━━━━━━━━━━━━━━━━━━━━━━━━━━━━━━━━━━━━━━━━━━━━━━━━━━━━━━━━━━━━━━━━━━━━━━━━━━━━━━━━━━━━━━\n",
      "\n",
      "Configuration\n",
      "════════════════════════════════════════════════════════════════════════════════════════════════════\n",
      "\u001B[4mPipeline\u001B[0m\n",
      "Run mode:             restart\n",
      "Compact after ingest: True\n",
      "\n",
      "\u001B[4mWorkers\u001B[0m\n",
      "Num Workers:        20\n",
      "Initial work units: 20\n",
      "Dynamic splitting:  Enabled\n",
      "Profiles:           read=read:packed24, write=write:packed24\n",
      "Buffer:             10,000,000 items, 512.00 MB\n",
      "\n",
      "\u001B[4mFiles\u001B[0m\n",
      "Source: /vast/edk202/NLP_corpora/Google_Books/20200217/eng/1gram_files/1grams.db\n",
      "Destination: /vast/edk202/NLP_corpora/Google_Books/20200217/eng/1gram_files/1grams_processed.db\n",
      "Input whitelist: None\n",
      "Output whitelist: ...ks/20200217/eng/1gram_files/1grams_processed.db/whitelist.txt (top 30,000 keys)\n",
      "\n",
      "Phase 1: Creating work units...\n",
      "════════════════════════════════════════════════════════════════════════════════════════════════════\n",
      "Clean restart - creating new work units\n",
      "Created 20 uniform work units (byte-range partitioning)\n",
      "Dynamic splitting will handle load balancing at runtime\n",
      "\n",
      "Phase 2: Processing 20 work units with 20 workers...\n",
      "════════════════════════════════════════════════════════════════════════════════════════════════════\n",
      "\n",
      "    items         kept%        workers        units         splits         rate        elapsed    \n",
      "──────────────────────────────────────────────────────────────────────────────────────────────────\n",
      "   174.68K         0.5%       13/20 (7i)     14·13·13         20         11.5k/s         15s      \n"
     ]
    }
   ],
   "execution_count": null
  },
  {
   "metadata": {},
   "cell_type": "markdown",
   "source": [
    "# **Inspect the Procesed Database**\n",
    "## `db_head`: Print the first _N_ key–value pairs"
   ],
   "id": "fc603d355569ee"
  },
  {
   "metadata": {
    "ExecuteTime": {
     "end_time": "2025-10-24T20:47:33.344534Z",
     "start_time": "2025-10-24T20:47:33.290746Z"
    }
   },
   "cell_type": "code",
   "source": [
    "db_path = \"/scratch/edk202/NLP_corpora/Google_Books/20200217/eng/1gram_files/1grams_processed.db\"\n",
    "\n",
    "db_head(db_path, key_format=\"utf-8\", value_format=\"packed\", n=5)"
   ],
   "id": "65dc0569cf8c1e32",
   "outputs": [
    {
     "name": "stdout",
     "output_type": "stream",
     "text": [
      "First 5 key-value pairs:\n",
      "────────────────────────────────────────────────────────────────────────────────────────────────────\n",
      "[ 1] Key:   aaa\n",
      "     Value: [404 records] ... +394 earlier, (2010, 73349, 21260), (2011, 70513, 20830), (2012, 89395, 25823)\n",
      "            (2013, 80343, 21958), (2014, 65708, 19212), (2015, 59086, 17071), (2016, 52149, 16790)\n",
      "            (2017, 46701, 14991), (2018, 41247, 13294), (2019, 37242, 12423)\n",
      "\n",
      "[ 2] Key:   aaaa\n",
      "     Value: [337 records] ... +327 earlier, (2010, 2921, 1377), (2011, 4022, 1349), (2012, 3495, 1726)\n",
      "            (2013, 3113, 1547), (2014, 2891, 1311), (2015, 21412, 1170), (2016, 6345, 1171)\n",
      "            (2017, 2699, 1255), (2018, 2194, 1040), (2019, 1902, 1073)\n",
      "\n",
      "[ 3] Key:   aaaaa\n",
      "     Value: [274 records] ... +264 earlier, (2010, 805, 410), (2011, 726, 412), (2012, 961, 522)\n",
      "            (2013, 813, 519), (2014, 964, 429), (2015, 652, 358), (2016, 693, 367)\n",
      "            (2017, 696, 364), (2018, 569, 267), (2019, 393, 310)\n",
      "\n",
      "[ 4] Key:   aaaaaa\n",
      "     Value: [237 records] ... +227 earlier, (2010, 321, 243), (2011, 364, 238), (2012, 377, 269)\n",
      "            (2013, 408, 294), (2014, 323, 226), (2015, 314, 188), (2016, 268, 185)\n",
      "            (2017, 293, 174), (2018, 394, 175), (2019, 228, 149)\n",
      "\n",
      "[ 5] Key:   aaaaaaa\n",
      "     Value: [197 records] ... +187 earlier, (2010, 241, 136), (2011, 235, 124), (2012, 234, 145)\n",
      "            (2013, 208, 158), (2014, 231, 134), (2015, 175, 107), (2016, 129, 90), (2017, 134, 89)\n",
      "            (2018, 168, 87), (2019, 121, 93)\n",
      "\n"
     ]
    }
   ],
   "execution_count": 7
  },
  {
   "metadata": {},
   "cell_type": "markdown",
   "source": "## `db_peek`: Print _N_ key-value pairs starting at the specified key",
   "id": "93ddff0e275f2d7e"
  },
  {
   "metadata": {
    "ExecuteTime": {
     "end_time": "2025-10-24T20:47:36.909624Z",
     "start_time": "2025-10-24T20:47:36.882048Z"
    }
   },
   "cell_type": "code",
   "source": [
    "db_path = \"/scratch/edk202/NLP_corpora/Google_Books/20200217/eng/1gram_files/1grams_processed.db\"\n",
    "\n",
    "db_peek(db_path, start_key=b\"phenomenology\", key_format=\"utf-8\", value_format=\"packed\", n=5)"
   ],
   "id": "598183cfd12f66c8",
   "outputs": [
    {
     "name": "stdout",
     "output_type": "stream",
     "text": [
      "5 key-value pairs starting from 7068656e6f6d656e6f6c6f6779:\n",
      "────────────────────────────────────────────────────────────────────────────────────────────────────\n",
      "[ 1] Key:   phenomenology\n",
      "     Value: [217 records] ... +207 earlier, (2010, 100154, 17025), (2011, 94673, 16162), (2012, 135952, 24003)\n",
      "            (2013, 170315, 28592), (2014, 135473, 22509), (2015, 124618, 20352)\n",
      "            (2016, 131720, 23794), (2017, 120626, 21602), (2018, 113220, 19643)\n",
      "            (2019, 99773, 17020)\n",
      "\n",
      "[ 2] Key:   phenomenologyof\n",
      "     Value: [35 records] ... +25 earlier, (2009, 6, 6), (2010, 5, 4), (2011, 1, 1), (2012, 5, 4), (2013, 5, 5)\n",
      "            (2014, 2, 2), (2015, 5, 5), (2017, 10, 9), (2018, 12, 8), (2019, 5, 3)\n",
      "\n",
      "[ 3] Key:   phenomenoloical\n",
      "     Value: [25 records] ... +15 earlier, (1995, 2, 2), (2001, 1, 1), (2003, 1, 1), (2005, 2, 2), (2007, 3, 3)\n",
      "            (2008, 2, 2), (2013, 1, 1), (2014, 1, 1), (2015, 1, 1), (2018, 1, 1)\n",
      "\n",
      "[ 4] Key:   phenomenolooical\n",
      "     Value: [30 records] ... +20 earlier, (1988, 2, 2), (1989, 5, 2), (1991, 1, 1), (1993, 1, 1), (1996, 1, 1)\n",
      "            (1997, 2, 1), (2001, 4, 2), (2005, 2, 2), (2012, 1, 1), (2014, 1, 1)\n",
      "\n",
      "[ 5] Key:   phenomenoloqical\n",
      "     Value: [45 records] ... +35 earlier, (1997, 1, 1), (1998, 1, 1), (2000, 2, 2), (2001, 3, 3), (2002, 1, 1)\n",
      "            (2003, 3, 3), (2006, 4, 4), (2007, 1, 1), (2008, 1, 1), (2013, 1, 1)\n",
      "\n"
     ]
    }
   ],
   "execution_count": 8
  },
  {
   "metadata": {},
   "cell_type": "markdown",
   "source": "## `db_peek_prefix`: Print key-value pairs containing the specified prefix",
   "id": "db6da3ceeab23b6b"
  },
  {
   "metadata": {
    "ExecuteTime": {
     "end_time": "2025-10-24T20:47:46.072623Z",
     "start_time": "2025-10-24T20:47:46.045864Z"
    }
   },
   "cell_type": "code",
   "source": [
    "db_path = \"/scratch/edk202/NLP_corpora/Google_Books/20200217/eng/1gram_files/1grams_processed.db\"\n",
    "\n",
    "db_peek_prefix(db_path, prefix=b\"unite\", key_format=\"utf-8\", value_format=\"summary\", n=1)"
   ],
   "id": "f0786a0f5c8c402f",
   "outputs": [
    {
     "name": "stdout",
     "output_type": "stream",
     "text": [
      "1 key-value pairs with prefix 756e697465:\n",
      "────────────────────────────────────────────────────────────────────────────────────────────────────\n",
      "[ 1] Key:   unite\n",
      "     Value: Total: 55,373,396 occurrences in 15,400,322 volumes (1478-2019, 461 years)\n",
      "\n"
     ]
    }
   ],
   "execution_count": 9
  },
  {
   "metadata": {},
   "cell_type": "code",
   "source": "",
   "id": "be1eebb826d335cd",
   "outputs": [],
   "execution_count": null
  }
 ],
 "metadata": {
  "kernelspec": {
   "display_name": "Python 3 (ipykernel)",
   "language": "python",
   "name": "python3"
  },
  "language_info": {
   "codemirror_mode": {
    "name": "ipython",
    "version": 3
   },
   "file_extension": ".py",
   "mimetype": "text/x-python",
   "name": "python",
   "nbconvert_exporter": "python",
   "pygments_lexer": "ipython3",
   "version": "3.11.13"
  }
 },
 "nbformat": 4,
 "nbformat_minor": 5
}
