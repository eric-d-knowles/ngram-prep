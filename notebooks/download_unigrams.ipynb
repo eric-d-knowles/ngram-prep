{
 "cells": [
  {
   "metadata": {
    "ExecuteTime": {
     "end_time": "2025-09-17T00:52:01.047784Z",
     "start_time": "2025-09-17T00:51:50.656852Z"
    }
   },
   "cell_type": "code",
   "source": [
    "%cd /scratch/edk202/ngram-prep\n",
    "\n",
    "%env LC_ALL=C.UTF-8\n",
    "%env LANG=C.UTF-8\n",
    "\n",
    "%pip install -e . --no-build-isolation -q"
   ],
   "id": "1ad267332e4b1fcd",
   "outputs": [
    {
     "name": "stdout",
     "output_type": "stream",
     "text": [
      "/scratch/edk202/ngram-prep\n",
      "env: LC_ALL=C.UTF-8\n",
      "env: LANG=C.UTF-8\n",
      "Note: you may need to restart the kernel to use updated packages.\n"
     ]
    }
   ],
   "execution_count": 14
  },
  {
   "metadata": {
    "ExecuteTime": {
     "end_time": "2025-09-17T12:00:55.925714Z",
     "start_time": "2025-09-17T12:00:55.882014Z"
    }
   },
   "cell_type": "code",
   "source": [
    "# Auto-reload packages\n",
    "%load_ext autoreload\n",
    "%autoreload 2"
   ],
   "id": "ad3fc5fc588e8363",
   "outputs": [
    {
     "name": "stdout",
     "output_type": "stream",
     "text": [
      "The autoreload extension is already loaded. To reload it, use:\n",
      "  %reload_ext autoreload\n"
     ]
    }
   ],
   "execution_count": 6
  },
  {
   "metadata": {
    "ExecuteTime": {
     "end_time": "2025-09-17T12:00:56.495314Z",
     "start_time": "2025-09-17T12:00:56.459063Z"
    }
   },
   "cell_type": "code",
   "source": [
    "# Standard stuff\n",
    "from pathlib import Path\n",
    "\n",
    "# NLTK stuff\n",
    "from nltk.corpus import stopwords; stopwords = set(stopwords.words(\"english\"))\n",
    "from nltk.stem import WordNetLemmatizer; lemmatizer = WordNetLemmatizer()\n",
    "\n",
    "# Raw n-gram acquisition stuff\n",
    "from ngram_acquire.pipeline.orchestrate import download_and_ingest_to_rocksdb\n",
    "from ngram_acquire.pipeline.logger import setup_logger\n",
    "\n",
    "# Cython utilities\n",
    "from ngram_filter.config import PipelineConfig, FilterConfig\n",
    "from ngram_filter.pipeline.orchestrator import build_processed_db"
   ],
   "id": "be55f147a8e96bcf",
   "outputs": [],
   "execution_count": 7
  },
  {
   "metadata": {
    "ExecuteTime": {
     "end_time": "2025-09-17T12:00:57.595074Z",
     "start_time": "2025-09-17T12:00:57.508850Z"
    }
   },
   "cell_type": "code",
   "source": [
    "setup_logger(\n",
    "    db_path=\"/vast/edk202/NLP_corpora/Google_Books/20200217/eng/5gram_files/1grams.db\",\n",
    "    console=False,\n",
    "    rotate=True,\n",
    "    max_bytes=100_000_000,\n",
    "    backup_count=5,\n",
    "    force=True\n",
    ")"
   ],
   "id": "5b072e6dbd0ce17c",
   "outputs": [
    {
     "data": {
      "text/plain": [
       "PosixPath('/vast/edk202/NLP_corpora/Google_Books/20200217/eng/5gram_files/ngram_download_20250917_080057.log')"
      ]
     },
     "execution_count": 8,
     "metadata": {},
     "output_type": "execute_result"
    }
   ],
   "execution_count": 8
  },
  {
   "metadata": {},
   "cell_type": "markdown",
   "source": "## Download Unigrams and Ingest to a RocksDB Database",
   "id": "fe5d0309548b386a"
  },
  {
   "metadata": {
    "ExecuteTime": {
     "end_time": "2025-09-17T12:13:42.553670Z",
     "start_time": "2025-09-17T12:01:01.596212Z"
    }
   },
   "cell_type": "code",
   "source": [
    "download_and_ingest_to_rocksdb(\n",
    "    ngram_size = 1,\n",
    "    repo_release_id = \"20200217\",\n",
    "    repo_corpus_id = \"eng\",\n",
    "    db_path = \"/vast/edk202/NLP_corpora/Google_Books/20200217/eng/5gram_files/1grams.db\",\n",
    "    file_range = (0, 23),\n",
    "    random_seed = 21,\n",
    "    workers = 25,\n",
    "    use_threads = False,\n",
    "    ngram_type = \"tagged\",\n",
    "    overwrite = True,\n",
    "    write_batch_size = 100_000,\n",
    "    open_type = \"write:packed24\",\n",
    "    post_compact = True\n",
    ")"
   ],
   "id": "9f25804d1183f1fe",
   "outputs": [
    {
     "name": "stdout",
     "output_type": "stream",
     "text": [
      "\u001B[31mStart Time: 2025-09-17 08:01:01\u001B[0m\n",
      "\u001B[4m\n",
      "Download & Ingestion Configuration\u001B[0m\n",
      "Ngram repository:           https://storage.googleapis.com/books/ngrams/books/20200217/eng/eng-1-ngrams_exports.html\n",
      "RocksDB database path:      /vast/edk202/NLP_corpora/Google_Books/20200217/eng/5gram_files/1grams.db\n",
      "File index range:           0 to 23 (count ~ 24)\n",
      "Total files available:      24\n",
      "Files to process:           24\n",
      "First file URL:             http://storage.googleapis.com/books/ngrams/books/20200217/eng/1-00012-of-00024.gz\n",
      "Last file URL:              http://storage.googleapis.com/books/ngrams/books/20200217/eng/1-00005-of-00024.gz\n",
      "Ngram size:                 1\n",
      "Ngram filtering:            tagged\n",
      "Overwrite mode:             True\n",
      "Write batch size:           100,000\n",
      "Worker processes/threads:   25 (processes)\n",
      "\n"
     ]
    },
    {
     "name": "stderr",
     "output_type": "stream",
     "text": [
      "Processing Files: 100%|\u001B[34m██████████\u001B[0m| 24/24 [07:58<00:00, 19.92s/files]\n"
     ]
    },
    {
     "name": "stdout",
     "output_type": "stream",
     "text": [
      "\n",
      "\u001B[33mStarting post-ingestion compaction...\u001B[0m\n",
      "\u001B[32mCompaction completed in 0:04:30.599447\u001B[0m\n",
      "\u001B[32m\n",
      "Processing completed!\u001B[0m\n",
      "Fully processed files: 24\n",
      "Total entries written: 41,783,218\n",
      "Write batches flushed: 24\n",
      "Uncompressed data processed: 43.28 GB\n",
      "Processing throughput: 58.24 MB/sec\n",
      "\u001B[31m\n",
      "End Time: 2025-09-17 08:13:42.547605\u001B[0m\n",
      "\u001B[31mTotal Runtime: 0:12:40.916929\u001B[0m\n",
      "\u001B[34m\n",
      "Time per file: 0:00:31.704872\u001B[0m\n",
      "\u001B[34mFiles per hour: 113.5\u001B[0m\n"
     ]
    }
   ],
   "execution_count": 9
  },
  {
   "metadata": {},
   "cell_type": "markdown",
   "source": "## Run Processing Pipeline",
   "id": "97d09d26c6f2043f"
  },
  {
   "metadata": {
    "ExecuteTime": {
     "end_time": "2025-09-17T12:38:16.419929Z",
     "start_time": "2025-09-17T12:29:40.891363Z"
    }
   },
   "cell_type": "code",
   "source": [
    "src_db = Path(\"/vast/edk202/NLP_corpora/Google_Books/20200217/eng/5gram_files/1grams.db\")\n",
    "dst_db = src_db.parent / \"1grams_processed.db\"\n",
    "tmp_dir = src_db.parent / \"processing_tmp\"\n",
    "\n",
    "# Default configs or override as desired\n",
    "pipeline_config = PipelineConfig(\n",
    "    src_db=src_db,\n",
    "    dst_db=dst_db,\n",
    "    tmp_dir=tmp_dir,\n",
    "    readers=8,\n",
    "    work_units_per_reader=16,\n",
    "    force_restart=True,\n",
    "    progress_every_s=60.0,\n",
    "    output_whitelist_path=dst_db / \"whitelist.txt\",\n",
    "    output_whitelist_top_n=60_000\n",
    ")\n",
    "\n",
    "filter_config = FilterConfig(\n",
    "    stop_set=stopwords,\n",
    "    lemma_gen=lemmatizer,\n",
    ")\n",
    "\n",
    "build_processed_db(pipeline_config, filter_config)"
   ],
   "id": "57db436f73cba01",
   "outputs": [
    {
     "name": "stdout",
     "output_type": "stream",
     "text": [
      "N-GRAM FILTER PIPELINE\n",
      "━━━━━━━━━━━━━━━━━━━━━━━━━━━━━━━━━━━━━━━━━━━━━━━━━━━━━━━━━━━━━━━━━━━━━━━━━━━━━━━━━━━━━━━━━━━━━━━━━━━━\n",
      "\n",
      "Configuration:\n",
      "════════════════════════════════════════════════════════════════════════════════════════════════════\n",
      "  Workers: 8\n",
      "  Work units: 128\n",
      "  Source: /vast/edk202/NLP_corpora/Google_Books/20200217/eng/5gram_files/1grams.db\n",
      "  Destination: 02/NLP_corpora/Google_Books/20200217/eng/5gram_files/1grams_processed.db\n",
      "  Buffer: 25,000 items, 16MB\n",
      "  Profile: write:packed24\n",
      "  Input whitelist: None\n",
      "  Output whitelist: .../20200217/eng/5gram_files/1grams_processed.db/whitelist.txt (top 60,000 keys)\n",
      "\n",
      "Phase 1: Creating work units...\n",
      "════════════════════════════════════════════════════════════════════════════════════════════════════\n",
      "  Force restart requested - clearing existing work units\n",
      "  Creating 128 work units using ASCII range...\n",
      "  Created 128 work units covering range 0x21-0x7e\n",
      "\n",
      "Phase 2: Processing 128 work units with 8 workers...\n",
      "════════════════════════════════════════════════════════════════════════════════════════════════════\n",
      "\n",
      "    recs scanned   recs written   items kept     throughput     elapsed\n",
      "   ─────────────────────────────────────────────────────────────────────\n",
      "    21,937,800     9,408,378      43%            362.3k/s       1m00s       \n",
      "    41,483,975     24,878,208     60%            344.0k/s       2m00s       \n",
      "   ──────────────────────────────  final  ──────────────────────────────\n",
      "    41,783,242     25,127,726     60%            333.2k/s       2m05s       \n",
      "\n",
      "Phase 3: Merging worker outputs into final database...\n",
      "════════════════════════════════════════════════════════════════════════════════════════════════════\n",
      "  Found 128 worker output files\n",
      "  Batch size: 64MB, 100,000 items\n",
      "  Folding 128 shard(s)...\n",
      "  unit_0000.db: 0 items (0.0 MB)\n",
      "  unit_0001.db: 0 items (0.0 MB)\n",
      "  unit_0002.db: 0 items (0.0 MB)\n",
      "  unit_0003.db: 0 items (0.0 MB)\n",
      "  unit_0004.db: 0 items (0.0 MB)\n",
      "  unit_0005.db: 0 items (0.0 MB)\n",
      "  unit_0006.db: 0 items (0.0 MB)\n",
      "  unit_0007.db: 0 items (0.0 MB)\n",
      "  unit_0008.db: 0 items (0.0 MB)\n",
      "  unit_0009.db: 0 items (0.0 MB)\n",
      "  unit_0010.db: 0 items (0.0 MB)\n",
      "  unit_0011.db: 0 items (0.0 MB)\n",
      "  unit_0012.db: 0 items (0.0 MB)\n",
      "  unit_0013.db: 0 items (0.0 MB)\n",
      "  unit_0014.db: 0 items (0.0 MB)\n",
      "  unit_0015.db: 0 items (0.0 MB)\n",
      "  unit_0016.db: 0 items (0.0 MB)\n",
      "  unit_0017.db: 0 items (0.0 MB)\n",
      "  unit_0018.db: 0 items (0.0 MB)\n",
      "  unit_0019.db: 0 items (0.0 MB)\n",
      "  unit_0020.db: 0 items (0.0 MB)\n",
      "  unit_0021.db: 0 items (0.0 MB)\n",
      "  unit_0022.db: 0 items (0.0 MB)\n",
      "  unit_0023.db: 0 items (0.0 MB)\n",
      "  unit_0024.db: 0 items (0.0 MB)\n",
      "  unit_0025.db: 0 items (0.0 MB)\n",
      "  unit_0026.db: 0 items (0.0 MB)\n",
      "  unit_0027.db: 0 items (0.0 MB)\n",
      "  unit_0028.db: 0 items (0.0 MB)\n",
      "  unit_0029.db: 0 items (0.0 MB)\n",
      "  unit_0030.db: 0 items (0.0 MB)\n",
      "  unit_0031.db: 0 items (0.0 MB)\n",
      "  unit_0032.db: 0 items (0.0 MB)\n",
      "  unit_0033.db: 0 items (0.0 MB)\n",
      "  unit_0034.db: 0 items (0.0 MB)\n",
      "  unit_0035.db: 0 items (0.0 MB)\n",
      "  unit_0036.db: 0 items (0.0 MB)\n",
      "  unit_0037.db: 0 items (0.0 MB)\n",
      "  unit_0038.db: 0 items (0.0 MB)\n",
      "  unit_0039.db: 0 items (0.0 MB)\n",
      "  unit_0040.db: 0 items (0.0 MB)\n",
      "  unit_0041.db: 0 items (0.0 MB)\n",
      "  unit_0042.db: 0 items (0.0 MB)\n",
      "  unit_0043.db: 0 items (0.0 MB)\n",
      "  unit_0044.db: 0 items (0.0 MB)\n",
      "  unit_0045.db: 609,437 items (970.9 MB)\n",
      "  unit_0046.db: 609,946 items (994.5 MB)\n",
      "  unit_0047.db: 0 items (0.0 MB)\n",
      "  unit_0048.db: 737,539 items (1218.9 MB)\n",
      "  unit_0049.db: 414,387 items (655.0 MB)\n",
      "  unit_0050.db: 334,211 items (546.3 MB)\n",
      "  unit_0051.db: 0 items (0.0 MB)\n",
      "  unit_0052.db: 300,066 items (489.0 MB)\n",
      "  unit_0053.db: 381,498 items (606.1 MB)\n",
      "  unit_0054.db: 0 items (0.0 MB)\n",
      "  unit_0055.db: 403,792 items (661.2 MB)\n",
      "  unit_0056.db: 302,855 items (506.3 MB)\n",
      "  unit_0057.db: 161,481 items (271.2 MB)\n",
      "  unit_0058.db: 0 items (0.0 MB)\n",
      "  unit_0059.db: 399,096 items (569.7 MB)\n",
      "  unit_0060.db: 351,887 items (579.8 MB)\n",
      "  unit_0061.db: 673,989 items (1061.3 MB)\n",
      "  unit_0062.db: 0 items (0.0 MB)\n",
      "  unit_0063.db: 281,768 items (410.4 MB)\n",
      "  unit_0064.db: 228,704 items (361.1 MB)\n",
      "  unit_0065.db: 0 items (0.0 MB)\n",
      "  unit_0066.db: 631,337 items (1002.8 MB)\n",
      "  unit_0067.db: 52,944 items (83.1 MB)\n",
      "  unit_0068.db: 369,739 items (597.9 MB)\n",
      "  unit_0069.db: 0 items (0.0 MB)\n",
      "  unit_0070.db: 893,480 items (1397.8 MB)\n",
      "  unit_0071.db: 487,894 items (768.3 MB)\n",
      "  unit_0072.db: 127,263 items (195.8 MB)\n",
      "  unit_0073.db: 0 items (0.0 MB)\n",
      "  unit_0074.db: 212,504 items (332.0 MB)\n",
      "  unit_0075.db: 266,667 items (444.9 MB)\n",
      "  unit_0076.db: 0 items (0.0 MB)\n",
      "  unit_0077.db: 26,587 items (39.0 MB)\n",
      "  unit_0078.db: 68,527 items (99.9 MB)\n",
      "  unit_0079.db: 87,263 items (120.9 MB)\n",
      "  unit_0080.db: 0 items (0.0 MB)\n",
      "  unit_0081.db: 0 items (0.0 MB)\n",
      "  unit_0082.db: 0 items (0.0 MB)\n",
      "  unit_0083.db: 0 items (0.0 MB)\n",
      "  unit_0084.db: 0 items (0.0 MB)\n",
      "  unit_0085.db: 0 items (0.0 MB)\n",
      "  unit_0086.db: 0 items (0.0 MB)\n",
      "  unit_0087.db: 0 items (0.0 MB)\n",
      "  unit_0088.db: 0 items (0.0 MB)\n",
      "  unit_0089.db: 538,263 items (994.4 MB)\n",
      "  unit_0090.db: 286,764 items (510.0 MB)\n",
      "  unit_0091.db: 0 items (0.0 MB)\n",
      "  unit_0092.db: 600,770 items (1119.7 MB)\n",
      "  unit_0093.db: 373,941 items (677.6 MB)\n",
      "  unit_0094.db: 345,338 items (656.3 MB)\n",
      "  unit_0095.db: 0 items (0.0 MB)\n",
      "  unit_0096.db: 273,761 items (536.9 MB)\n",
      "  unit_0097.db: 185,476 items (327.0 MB)\n",
      "  unit_0098.db: 0 items (0.0 MB)\n",
      "  unit_0099.db: 238,957 items (422.2 MB)\n",
      "  unit_0100.db: 368,400 items (722.7 MB)\n",
      "  unit_0101.db: 63,082 items (119.9 MB)\n",
      "  unit_0102.db: 0 items (0.0 MB)\n",
      "  unit_0103.db: 94,252 items (139.4 MB)\n",
      "  unit_0104.db: 292,473 items (550.4 MB)\n",
      "  unit_0105.db: 380,124 items (645.4 MB)\n",
      "  unit_0106.db: 0 items (0.0 MB)\n",
      "  unit_0107.db: 231,533 items (404.5 MB)\n",
      "  unit_0108.db: 286,025 items (515.6 MB)\n",
      "  unit_0109.db: 0 items (0.0 MB)\n",
      "  unit_0110.db: 575,136 items (1015.9 MB)\n",
      "  unit_0111.db: 36,915 items (68.0 MB)\n",
      "  unit_0112.db: 350,008 items (675.5 MB)\n",
      "  unit_0113.db: 0 items (0.0 MB)\n",
      "  unit_0114.db: 632,779 items (1147.1 MB)\n",
      "  unit_0115.db: 418,457 items (779.0 MB)\n",
      "  unit_0116.db: 157,191 items (310.7 MB)\n",
      "  unit_0117.db: 0 items (0.0 MB)\n",
      "  unit_0118.db: 132,478 items (245.7 MB)\n",
      "  unit_0119.db: 144,998 items (283.8 MB)\n",
      "  unit_0120.db: 0 items (0.0 MB)\n",
      "  unit_0121.db: 15,075 items (27.3 MB)\n",
      "  unit_0122.db: 35,188 items (63.0 MB)\n",
      "  unit_0123.db: 27,865 items (41.5 MB)\n",
      "  unit_0124.db: 0 items (0.0 MB)\n",
      "  unit_0125.db: 0 items (0.0 MB)\n",
      "  unit_0126.db: 0 items (0.0 MB)\n",
      "  unit_0127.db: 0 items (0.0 MB)\n",
      "\n",
      "Phase 3: Finalizing...\n",
      "════════════════════════════════════════════════════════════════════════════════════════════════════\n",
      "  Performing final flush...\n",
      "  Compacting...\n",
      "\n",
      "Phase 4: Generating output whitelist...\n",
      "════════════════════════════════════════════════════════════════════════════════════════════════════\n",
      "  Output path: .../Google_Books/20200217/eng/5gram_files/1grams_processed.db/whitelist.txt\n",
      "  Extracting top 60,000 tokens\n",
      "  Generated whitelist with 60,000 tokens in 124.5s\n",
      "\n",
      "╭─────────────────────────────────────────────────────────────────────────────────────╮\n",
      "│ PROCESSING COMPLETE: Final DB contains 16,500,110 items, 27,983.9 MB                │\n",
      "│ DB: ...02/NLP_corpora/Google_Books/20200217/eng/5gram_files/1grams_processed.db     │\n",
      "│ Whitelist: ...Books/20200217/eng/5gram_files/1grams_processed.db/whitelist.txt      │\n",
      "╰─────────────────────────────────────────────────────────────────────────────────────╯\n",
      "\n"
     ]
    }
   ],
   "execution_count": 10
  },
  {
   "metadata": {
    "ExecuteTime": {
     "end_time": "2025-09-17T00:50:09.398853Z",
     "start_time": "2025-09-17T00:49:19.525220Z"
    }
   },
   "cell_type": "code",
   "source": [
    "from common_db.api import open_db\n",
    "\n",
    "db_path = \"/vast/edk202/NLP_corpora/Google_Books/20200217/eng/5gram_files/1grams_processed.db\"\n",
    "\n",
    "with open_db(db_path, mode=\"rw\") as db:\n",
    "    db.compact_all()"
   ],
   "id": "9d0e7bd54e0a36e8",
   "outputs": [],
   "execution_count": 12
  },
  {
   "metadata": {},
   "cell_type": "code",
   "outputs": [],
   "execution_count": null,
   "source": "",
   "id": "63ca9560fef8472d"
  }
 ],
 "metadata": {
  "kernelspec": {
   "display_name": "hist_w2v (Singularity)",
   "language": "python",
   "name": "hist_w2v"
  },
  "language_info": {
   "codemirror_mode": {
    "name": "ipython",
    "version": 3
   },
   "file_extension": ".py",
   "mimetype": "text/x-python",
   "name": "python",
   "nbconvert_exporter": "python",
   "pygments_lexer": "ipython3",
   "version": "3.11.13"
  }
 },
 "nbformat": 4,
 "nbformat_minor": 5
}
