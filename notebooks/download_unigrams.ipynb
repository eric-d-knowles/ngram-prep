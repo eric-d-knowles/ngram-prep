{
 "cells": [
  {
   "metadata": {
    "ExecuteTime": {
     "end_time": "2025-10-30T18:34:12.442758Z",
     "start_time": "2025-10-30T18:34:11.430397Z"
    }
   },
   "cell_type": "markdown",
   "source": "# **Setup**",
   "id": "93c7b9e5cefc6406"
  },
  {
   "metadata": {
    "ExecuteTime": {
     "end_time": "2025-10-31T04:54:25.411852Z",
     "start_time": "2025-10-31T04:54:24.204122Z"
    }
   },
   "cell_type": "code",
   "source": [
    "# Auto-reload edited scripts\n",
    "%load_ext autoreload\n",
    "%autoreload 2\n",
    "\n",
    "# Recompile Cython script\n",
    "%cd /scratch/edk202/ngram-prep\n",
    "!python setup.py build_ext --inplace -q\n",
    "\n",
    "# Stop words\n",
    "from stop_words import get_stop_words\n",
    "\n",
    "# Lemmatization\n",
    "from ngram_prep.ngram_filter.lemmatizer import SpacyLemmatizer\n",
    "\n",
    "# Ngram acquisition functions\n",
    "from ngram_prep.ngram_acquire import download_and_ingest_to_rocksdb\n",
    "from ngram_prep.ngram_acquire.logger import setup_logger\n",
    "\n",
    "# Ngram processing functions\n",
    "from pathlib import Path\n",
    "from ngram_prep.ngram_filter.config import PipelineConfig, FilterConfig\n",
    "from ngram_prep.ngram_filter.pipeline.orchestrator import build_processed_db\n",
    "from ngram_prep.utilities.peek import db_head, db_peek, db_peek_prefix"
   ],
   "id": "e032d0e757813319",
   "outputs": [
    {
     "name": "stdout",
     "output_type": "stream",
     "text": [
      "/scratch/edk202/ngram-prep\n",
      "/bin/bash: warning: setlocale: LC_ALL: cannot change locale (en_US.UTF-8)\r\n",
      "running build_ext\r\n"
     ]
    }
   ],
   "execution_count": 1
  },
  {
   "metadata": {},
   "cell_type": "markdown",
   "source": "## Log to file",
   "id": "abd0247891250279"
  },
  {
   "metadata": {
    "ExecuteTime": {
     "end_time": "2025-10-31T04:54:25.550912Z",
     "start_time": "2025-10-31T04:54:25.526488Z"
    }
   },
   "cell_type": "code",
   "source": [
    "setup_logger(\n",
    "    db_path=\"/scratch/edk202/NLP_corpora/Google_Books/20200217/eng/5gram_files/5grams.db\",\n",
    "    console=False,\n",
    "    rotate=True,\n",
    "    max_bytes=100_000_000,\n",
    "    backup_count=5,\n",
    "    force=True\n",
    ")"
   ],
   "id": "34a1e1724ae74cc1",
   "outputs": [
    {
     "data": {
      "text/plain": [
       "PosixPath('/scratch/edk202/NLP_corpora/Google_Books/20200217/eng/5gram_files/5grams.db/ngram_download_20251031_005425.log')"
      ]
     },
     "execution_count": 2,
     "metadata": {},
     "output_type": "execute_result"
    }
   ],
   "execution_count": 2
  },
  {
   "metadata": {},
   "cell_type": "markdown",
   "source": "# **Download Unigrams and Ingest to RocksDB**",
   "id": "879927f391b65d8c"
  },
  {
   "metadata": {
    "ExecuteTime": {
     "end_time": "2025-10-30T01:10:06.704715Z",
     "start_time": "2025-10-30T00:54:30.988616Z"
    }
   },
   "cell_type": "code",
   "source": [
    "download_and_ingest_to_rocksdb(\n",
    "    ngram_size=1,\n",
    "    repo_release_id=\"20200217\",\n",
    "    repo_corpus_id=\"eng\",\n",
    "    db_path_stub=\"/vast/edk202/NLP_corpora/Google_Books/\",\n",
    "    file_range=(0, 23),\n",
    "    random_seed=98,\n",
    "    workers=20,\n",
    "    use_threads=False,\n",
    "    ngram_type=\"tagged\",\n",
    "    overwrite_db=True,\n",
    "    write_batch_size=100_000,\n",
    "    open_type=\"write:packed24\",\n",
    "    compact_after_ingest=True\n",
    ")"
   ],
   "id": "23449b75707ae1c",
   "outputs": [
    {
     "name": "stdout",
     "output_type": "stream",
     "text": [
      "N-GRAM ACQUISITION PIPELINE\n",
      "━━━━━━━━━━━━━━━━━━━━━━━━━━━━━━━━━━━━━━━━━━━━━━━━━━━━━━━━━━━━━━━━━━━━━━━━━━━━━━━━━━━━━━━━━━━━━━━━━━━━\n",
      "Start Time: 2025-10-29 20:54:31\n",
      "\n",
      "Download Configuration\n",
      "════════════════════════════════════════════════════════════════════════════════════════════════════\n",
      "Ngram repo:           https://books.storage.googleapis.com/?prefix=ngrams/books/20200217/eng/1-\n",
      "DB path:              /vast/edk202/NLP_corpora/Google_Books/20200217/eng/1gram_files/1grams.db\n",
      "File range:           0 to 23\n",
      "Total files:          24\n",
      "Files to get:         24\n",
      "Skipping:             0\n",
      "Download workers:     25\n",
      "Batch size:           100,000\n",
      "Ngram size:           1\n",
      "Ngram type:           tagged\n",
      "Overwrite DB:         True\n",
      "DB Profile:           write:packed24\n",
      "\n",
      "Download Progress\n",
      "════════════════════════════════════════════════════════════════════════════════════════════════════\n"
     ]
    },
    {
     "name": "stderr",
     "output_type": "stream",
     "text": [
      "Files Processed: 100%|█████████████████████████████████████████████████████████| 24/24 [07:30<00:00]\n"
     ]
    },
    {
     "name": "stdout",
     "output_type": "stream",
     "text": [
      "\n",
      "Post-Ingestion Compaction\n",
      "════════════════════════════════════════════════════════════════════════════════════════════════════\n",
      "Initial DB size:         46.75 GB\n",
      "Compaction completed in 0:07:58\n",
      "Size before:             46.75 GB\n",
      "Size after:              57.76 GB\n",
      "Space saved:             -11.01 GB (-23.6%)\n",
      "\n",
      "Processing complete!\n",
      "\n",
      "Final Summary\n",
      "════════════════════════════════════════════════════════════════════════════════════════════════════\n",
      "Fully processed files:       24\n",
      "Failed files:                0\n",
      "Total entries written:       41,783,218\n",
      "Write batches flushed:       24\n",
      "Uncompressed data processed: 43.28 GB\n",
      "Processing throughput:       47.36 MB/sec\n",
      "\n",
      "End Time: 2025-10-29 21:10:06.699674\n",
      "Total Runtime: 0:15:35.697970\n",
      "Time per file: 0:00:38.987415\n",
      "Files per hour: 92.3\n"
     ]
    }
   ],
   "execution_count": 4
  },
  {
   "metadata": {},
   "cell_type": "markdown",
   "source": "# **Run Processing Pipeline**",
   "id": "97d09d26c6f2043f"
  },
  {
   "metadata": {
    "jupyter": {
     "is_executing": true
    },
    "ExecuteTime": {
     "start_time": "2025-10-31T04:54:26.946470Z"
    }
   },
   "cell_type": "code",
   "source": [
    "src_db = Path(\"/vast/edk202/NLP_corpora/Google_Books/20200217/eng/1gram_files/1grams.db\")\n",
    "dst_db = src_db.parent / \"1grams_processed.db\"\n",
    "tmp_dir = src_db.parent / \"processing_tmp\"\n",
    "\n",
    "stop_set = set(get_stop_words(\"english\"))\n",
    "lemmatizer = SpacyLemmatizer(language=\"en\")\n",
    "spell_check_lang = \"en\"\n",
    "\n",
    "filter_config = FilterConfig(\n",
    "    stop_set=stop_set,\n",
    "    lemma_gen=lemmatizer,\n",
    ")\n",
    "\n",
    "pipeline_config = PipelineConfig(\n",
    "    src_db=src_db,\n",
    "    dst_db=dst_db,\n",
    "    tmp_dir=tmp_dir,\n",
    "    num_workers=40,\n",
    "    use_smart_partitioning=True,\n",
    "    samples_per_worker=200_000,\n",
    "    num_initial_work_units=400,\n",
    "    work_unit_claim_order=\"random\",\n",
    "    flush_interval_s=5.0,\n",
    "    mode=\"restart\",\n",
    "    progress_every_s=5.0,\n",
    "    ingest_num_readers=10,\n",
    "    ingest_batch_items=1_000_000,\n",
    "    ingest_queue_size=2,\n",
    "    output_whitelist_path=dst_db / \"whitelist.txt\",\n",
    "    output_whitelist_top_n=5_000,\n",
    "    output_whitelist_spell_check=True,\n",
    "    output_whitelist_spell_check_language=spell_check_lang\n",
    ")\n",
    "\n",
    "build_processed_db(pipeline_config, filter_config)"
   ],
   "id": "57db436f73cba01",
   "outputs": [
    {
     "name": "stdout",
     "output_type": "stream",
     "text": [
      "N-GRAM FILTER PIPELINE\n",
      "━━━━━━━━━━━━━━━━━━━━━━━━━━━━━━━━━━━━━━━━━━━━━━━━━━━━━━━━━━━━━━━━━━━━━━━━━━━━━━━━━━━━━━━━━━━━━━━━━━━━\n",
      "\n",
      "Configuration\n",
      "════════════════════════════════════════════════════════════════════════════════════════════════════\n",
      "\u001B[4mPipeline\u001B[0m\n",
      "Run mode:             restart\n",
      "Compact after ingest: True\n",
      "\n",
      "\u001B[4mWorkers\u001B[0m\n",
      "Num Workers:        40\n",
      "Initial work units: 400\n",
      "Profiles:           read=read:packed24, write=write:packed24\n",
      "Flush interval:     5.0s\n",
      "\n",
      "\u001B[4mFiles\u001B[0m\n",
      "Source: /vast/edk202/NLP_corpora/Google_Books/20200217/eng/1gram_files/1grams.db\n",
      "Destination: /vast/edk202/NLP_corpora/Google_Books/20200217/eng/1gram_files/1grams_processed.db\n",
      "Input whitelist: None\n",
      "Output whitelist: ...oks/20200217/eng/1gram_files/1grams_processed.db/whitelist.txt (top 5,000 keys)\n",
      "\n",
      "Phase 1: Creating work units...\n",
      "════════════════════════════════════════════════════════════════════════════════════════════════════\n",
      "Clean restart - creating new work units\n",
      "Sampling database to create 400 density-based work units...\n"
     ]
    }
   ],
   "execution_count": null
  },
  {
   "metadata": {},
   "cell_type": "markdown",
   "source": [
    "# **Inspect the Procesed Database**\n",
    "## `db_head`: Print the first _N_ key–value pairs"
   ],
   "id": "fc603d355569ee"
  },
  {
   "metadata": {
    "ExecuteTime": {
     "end_time": "2025-10-30T18:56:50.490151Z",
     "start_time": "2025-10-30T18:56:50.175318Z"
    }
   },
   "cell_type": "code",
   "source": [
    "db_path = \"/scratch/edk202/NLP_corpora/Google_Books/20200217/eng/1gram_files/1grams_processed.db\"\n",
    "\n",
    "db_head(db_path, key_format=\"utf-8\", value_format=\"packed\", n=5)"
   ],
   "id": "65dc0569cf8c1e32",
   "outputs": [
    {
     "name": "stdout",
     "output_type": "stream",
     "text": [
      "First 5 key-value pairs:\n",
      "────────────────────────────────────────────────────────────────────────────────────────────────────\n",
      "[ 1] Key:   aaa\n",
      "     Value: [404 records] ... +394 earlier, (2010, 73431, 21325), (2011, 70646, 20906), (2012, 89564, 25953)\n",
      "            (2013, 80458, 22051), (2014, 65780, 19258), (2015, 59141, 17123), (2016, 52199, 16834)\n",
      "            (2017, 46773, 15045), (2018, 41298, 13335), (2019, 37433, 12542)\n",
      "\n",
      "[ 2] Key:   aaaa\n",
      "     Value: [338 records] ... +328 earlier, (2010, 2932, 1388), (2011, 4081, 1368), (2012, 3535, 1743)\n",
      "            (2013, 3136, 1565), (2014, 2906, 1324), (2015, 21418, 1175), (2016, 6364, 1182)\n",
      "            (2017, 2710, 1266), (2018, 2217, 1050), (2019, 1905, 1076)\n",
      "\n",
      "[ 3] Key:   aaaaa\n",
      "     Value: [274 records] ... +264 earlier, (2010, 805, 410), (2011, 727, 413), (2012, 965, 524)\n",
      "            (2013, 817, 520), (2014, 964, 429), (2015, 653, 359), (2016, 694, 368)\n",
      "            (2017, 700, 368), (2018, 569, 267), (2019, 393, 310)\n",
      "\n",
      "[ 4] Key:   aaaaaa\n",
      "     Value: [237 records] ... +227 earlier, (2010, 321, 243), (2011, 365, 239), (2012, 377, 269)\n",
      "            (2013, 408, 294), (2014, 324, 227), (2015, 314, 188), (2016, 268, 185)\n",
      "            (2017, 293, 174), (2018, 394, 175), (2019, 228, 149)\n",
      "\n",
      "[ 5] Key:   aaaaaaa\n",
      "     Value: [197 records] ... +187 earlier, (2010, 241, 136), (2011, 235, 124), (2012, 234, 145)\n",
      "            (2013, 208, 158), (2014, 231, 134), (2015, 175, 107), (2016, 129, 90), (2017, 134, 89)\n",
      "            (2018, 168, 87), (2019, 121, 93)\n",
      "\n"
     ]
    }
   ],
   "execution_count": 6
  },
  {
   "metadata": {},
   "cell_type": "markdown",
   "source": "## `db_peek`: Print _N_ key-value pairs starting at the specified key",
   "id": "93ddff0e275f2d7e"
  },
  {
   "metadata": {
    "ExecuteTime": {
     "end_time": "2025-10-30T18:56:56.748467Z",
     "start_time": "2025-10-30T18:56:56.242169Z"
    }
   },
   "cell_type": "code",
   "source": [
    "db_path = \"/scratch/edk202/NLP_corpora/Google_Books/20200217/eng/1gram_files/1grams.db\"\n",
    "\n",
    "db_peek(db_path, start_key=b\"other_\", key_format=\"utf-8\", value_format=\"packed\", n=5)"
   ],
   "id": "598183cfd12f66c8",
   "outputs": [
    {
     "name": "stdout",
     "output_type": "stream",
     "text": [
      "5 key-value pairs starting from 6f746865725f:\n",
      "────────────────────────────────────────────────────────────────────────────────────────────────────\n",
      "[ 1] Key:   other_ADJ\n",
      "     Value: [521 records] ... +511 earlier, (2010, 34424910, 260910), (2011, 33692399, 270927)\n",
      "            (2012, 41956338, 340795), (2013, 43665881, 339134), (2014, 37566652, 329281)\n",
      "            (2015, 32354317, 275662), (2016, 32758827, 267095), (2017, 32266995, 264232)\n",
      "            (2018, 30586747, 250060), (2019, 27286016, 237519)\n",
      "\n",
      "[ 2] Key:   other_NOUN\n",
      "     Value: [324 records] ... +314 earlier, (2010, 392, 276), (2011, 262, 247), (2012, 306, 279)\n",
      "            (2013, 392, 337), (2014, 517, 363), (2015, 277, 251), (2016, 307, 268)\n",
      "            (2017, 301, 251), (2018, 478, 205), (2019, 183, 169)\n",
      "\n",
      "[ 3] Key:   other_States_NOUN\n",
      "     Value: [56 records] ... +46 earlier, (1966, 1, 1), (1967, 4, 4), (1968, 1, 1), (1969, 2, 2), (1970, 1, 1)\n",
      "            (1971, 1, 1), (1975, 1, 1), (1978, 1, 1), (1979, 2, 2), (1990, 1, 1)\n",
      "\n",
      "[ 4] Key:   other__ADJ\n",
      "     Value: [239 records] ... +229 earlier, (2010, 36, 35), (2011, 60, 55), (2012, 38, 38), (2013, 46, 37)\n",
      "            (2014, 21, 21), (2015, 9, 7), (2016, 17, 13), (2017, 10, 10), (2018, 39, 25)\n",
      "            (2019, 11, 11)\n",
      "\n",
      "[ 5] Key:   other__ADP\n",
      "     Value: [95 records] ... +85 earlier, (1995, 2, 2), (1996, 2, 2), (1998, 2, 2), (2000, 1, 1), (2001, 1, 1)\n",
      "            (2003, 1, 1), (2004, 1, 1), (2007, 2, 2), (2008, 1, 1), (2011, 2, 2)\n",
      "\n"
     ]
    }
   ],
   "execution_count": 7
  },
  {
   "metadata": {},
   "cell_type": "markdown",
   "source": "## `db_peek_prefix`: Print key-value pairs containing the specified prefix",
   "id": "db6da3ceeab23b6b"
  },
  {
   "metadata": {
    "ExecuteTime": {
     "end_time": "2025-10-30T18:57:02.361495Z",
     "start_time": "2025-10-30T18:57:02.327150Z"
    }
   },
   "cell_type": "code",
   "source": [
    "db_path = \"/scratch/edk202/NLP_corpora/Google_Books/20200217/eng/1gram_files/1grams_processed.db\"\n",
    "\n",
    "db_peek_prefix(db_path, prefix=b\"unite\", key_format=\"utf-8\", value_format=\"summary\", n=1)"
   ],
   "id": "f0786a0f5c8c402f",
   "outputs": [
    {
     "name": "stdout",
     "output_type": "stream",
     "text": [
      "1 key-value pairs with prefix 756e697465:\n",
      "────────────────────────────────────────────────────────────────────────────────────────────────────\n",
      "[ 1] Key:   unite\n",
      "     Value: Total: 56,118,424 occurrences in 15,931,907 volumes (1478-2019, 461 years)\n",
      "\n"
     ]
    }
   ],
   "execution_count": 8
  },
  {
   "metadata": {},
   "cell_type": "code",
   "source": "",
   "id": "be1eebb826d335cd",
   "outputs": [],
   "execution_count": null
  }
 ],
 "metadata": {
  "kernelspec": {
   "display_name": "Python 3 (ipykernel)",
   "language": "python",
   "name": "python3"
  },
  "language_info": {
   "codemirror_mode": {
    "name": "ipython",
    "version": 3
   },
   "file_extension": ".py",
   "mimetype": "text/x-python",
   "name": "python",
   "nbconvert_exporter": "python",
   "pygments_lexer": "ipython3",
   "version": "3.11.13"
  }
 },
 "nbformat": 4,
 "nbformat_minor": 5
}
