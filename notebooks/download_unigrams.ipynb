{
 "cells": [
  {
   "metadata": {},
   "cell_type": "markdown",
   "source": [
    "# **Setup**\n",
    "## Recompile Cython Extensions"
   ],
   "id": "b784e1a1cda09447"
  },
  {
   "metadata": {
    "ExecuteTime": {
     "end_time": "2025-10-12T03:15:44.091372Z",
     "start_time": "2025-10-12T03:15:35.753197Z"
    }
   },
   "cell_type": "code",
   "source": [
    "%cd /scratch/edk202/ngram-prep\n",
    "\n",
    "%env LC_ALL=C.UTF-8\n",
    "%env LANG=C.UTF-8\n",
    "\n",
    "%pip install -e . --no-build-isolation -q"
   ],
   "id": "1ad267332e4b1fcd",
   "outputs": [
    {
     "name": "stdout",
     "output_type": "stream",
     "text": [
      "/scratch/edk202/ngram-prep\n",
      "env: LC_ALL=C.UTF-8\n",
      "env: LANG=C.UTF-8\n",
      "Note: you may need to restart the kernel to use updated packages.\n"
     ]
    }
   ],
   "execution_count": 1
  },
  {
   "metadata": {},
   "cell_type": "markdown",
   "source": "## Imports",
   "id": "a8e3ef360e1fe339"
  },
  {
   "metadata": {
    "ExecuteTime": {
     "end_time": "2025-10-14T21:17:02.607710Z",
     "start_time": "2025-10-14T21:16:58.100650Z"
    }
   },
   "cell_type": "code",
   "source": [
    "# Auto-reload edited scripts\n",
    "%load_ext autoreload\n",
    "%autoreload 2\n",
    "\n",
    "# NLTK resources\n",
    "from nltk.corpus import stopwords; stopwords = set(stopwords.words(\"english\"))\n",
    "from nltk.stem import WordNetLemmatizer; lemmatizer = WordNetLemmatizer()\n",
    "\n",
    "# Ngram acquisition functions\n",
    "from ngram_prep.ngram_acquire import download_and_ingest_to_rocksdb\n",
    "from ngram_prep.ngram_acquire.logger import setup_logger\n",
    "\n",
    "# Ngram processing functions\n",
    "from pathlib import Path\n",
    "from ngram_prep.ngram_filter.config import PipelineConfig, FilterConfig\n",
    "from ngram_prep.ngram_filter.pipeline.orchestrator import build_processed_db\n",
    "from ngram_prep.parallel import SplitMonitorConfig\n",
    "from ngram_prep.utilities.peek import db_head, db_peek, db_peek_prefix"
   ],
   "id": "1998c9fafc32aa8",
   "outputs": [],
   "execution_count": 1
  },
  {
   "metadata": {},
   "cell_type": "markdown",
   "source": "## Set up logging to file",
   "id": "abd0247891250279"
  },
  {
   "metadata": {
    "ExecuteTime": {
     "end_time": "2025-10-14T21:17:02.697221Z",
     "start_time": "2025-10-14T21:17:02.619201Z"
    }
   },
   "cell_type": "code",
   "source": [
    "setup_logger(\n",
    "    db_path=\"/vast/edk202/NLP_corpora/Google_Books/20200217/eng/1gram_files/1grams.db\",\n",
    "    console=False,\n",
    "    rotate=True,\n",
    "    max_bytes=100_000_000,\n",
    "    backup_count=5,\n",
    "    force=True\n",
    ")"
   ],
   "id": "34a1e1724ae74cc1",
   "outputs": [
    {
     "data": {
      "text/plain": [
       "PosixPath('/vast/edk202/NLP_corpora/Google_Books/20200217/eng/1gram_files/1grams.db/ngram_download_20251014_171702.log')"
      ]
     },
     "execution_count": 2,
     "metadata": {},
     "output_type": "execute_result"
    }
   ],
   "execution_count": 2
  },
  {
   "metadata": {},
   "cell_type": "markdown",
   "source": "# **Download Unigrams and Ingest to RocksDB**",
   "id": "879927f391b65d8c"
  },
  {
   "metadata": {
    "ExecuteTime": {
     "end_time": "2025-10-12T15:07:13.066185Z",
     "start_time": "2025-10-12T14:55:53.422396Z"
    }
   },
   "cell_type": "code",
   "source": [
    "download_and_ingest_to_rocksdb(\n",
    "    ngram_size=1,\n",
    "    repo_release_id=\"20200217\",\n",
    "    repo_corpus_id=\"eng\",\n",
    "    db_path_stub=\"/vast/edk202/NLP_corpora/Google_Books/\",\n",
    "    file_range=(0, 23),\n",
    "    random_seed=98,\n",
    "    workers=25,\n",
    "    use_threads=False,\n",
    "    ngram_type=\"tagged\",\n",
    "    overwrite_db=True,\n",
    "    write_batch_size=100_000,\n",
    "    open_type=\"write:packed24\",\n",
    "    compact_after_ingest=True\n",
    ")"
   ],
   "id": "23449b75707ae1c",
   "outputs": [
    {
     "name": "stdout",
     "output_type": "stream",
     "text": [
      "N-GRAM ACQUISITION PIPELINE\n",
      "━━━━━━━━━━━━━━━━━━━━━━━━━━━━━━━━━━━━━━━━━━━━━━━━━━━━━━━━━━━━━━━━━━━━━━━━━━━━━━━━━━━━━━━━━━━━━━━━━━━━\n",
      "Start Time: 2025-10-12 10:55:53\n",
      "\n",
      "Download Configuration\n",
      "════════════════════════════════════════════════════════════════════════════════════════════════════\n",
      "Ngram repo:           https://books.storage.googleapis.com/?prefix=ngrams/books/20200217/eng/1-\n",
      "DB path:              /vast/edk202/NLP_corpora/Google_Books/20200217/eng/1gram_files/1grams.db\n",
      "File range:           0 to 23\n",
      "Total files:          24\n",
      "Files to get:         24\n",
      "Skipping:             0\n",
      "Download workers:     25\n",
      "Batch size:           100,000\n",
      "Ngram size:           1\n",
      "Ngram type:           tagged\n",
      "Overwrite DB:         True\n",
      "DB Profile:           write:packed24\n",
      "\n",
      "Download Progress\n",
      "════════════════════════════════════════════════════════════════════════════════════════════════════\n"
     ]
    },
    {
     "name": "stderr",
     "output_type": "stream",
     "text": [
      "Files Processed: 100%|█████████████████████████████████████████████████████████| 24/24 [08:00<00:00]"
     ]
    },
    {
     "name": "stdout",
     "output_type": "stream",
     "text": [
      "\n",
      "Post-Ingestion Compaction\n",
      "════════════════════════════════════════════════════════════════════════════════════════════════════\n",
      "Initial DB size:         51.97 GB\n"
     ]
    },
    {
     "name": "stderr",
     "output_type": "stream",
     "text": [
      "\n"
     ]
    },
    {
     "name": "stdout",
     "output_type": "stream",
     "text": [
      "Compaction completed in 0:03:12\n",
      "Size before:             51.97 GB\n",
      "Size after:              57.76 GB\n",
      "Space saved:             -5.79 GB (-11.1%)\n",
      "\n",
      "Processing complete!\n",
      "\n",
      "Final Summary\n",
      "════════════════════════════════════════════════════════════════════════════════════════════════════\n",
      "Fully processed files:       24\n",
      "Failed files:                0\n",
      "Total entries written:       41,783,218\n",
      "Write batches flushed:       24\n",
      "Uncompressed data processed: 43.28 GB\n",
      "Processing throughput:       65.21 MB/sec\n",
      "\n",
      "End Time: 2025-10-12 11:07:13.060015\n",
      "Total Runtime: 0:11:19.601267\n",
      "Time per file: 0:00:28.316719\n",
      "Files per hour: 127.1\n"
     ]
    }
   ],
   "execution_count": 23
  },
  {
   "metadata": {},
   "cell_type": "markdown",
   "source": "# **Run Processing Pipeline**",
   "id": "97d09d26c6f2043f"
  },
  {
   "metadata": {
    "ExecuteTime": {
     "end_time": "2025-10-14T22:04:33.599009Z",
     "start_time": "2025-10-14T22:04:32.435551Z"
    }
   },
   "cell_type": "code",
   "source": [
    "src_db = Path(\"/vast/edk202/NLP_corpora/Google_Books/20200217/eng/1gram_files/1grams.db\")\n",
    "dst_db = src_db.parent / \"1grams_processed.db\"\n",
    "tmp_dir = src_db.parent / \"processing_tmp\"\n",
    "\n",
    "filter_config = FilterConfig(\n",
    "    stop_set=stopwords,\n",
    "    lemma_gen=lemmatizer,\n",
    ")\n",
    "\n",
    "pipeline_config = PipelineConfig(\n",
    "    src_db=src_db,\n",
    "    dst_db=dst_db,\n",
    "    tmp_dir=tmp_dir,\n",
    "    num_workers=30,\n",
    "    num_ingest_workers=10,\n",
    "    num_initial_work_units=2,\n",
    "    mode=\"restart\",\n",
    "    delete_after_ingest=True,\n",
    "    compact_after_ingest=True,\n",
    "    progress_every_s=60.0,\n",
    "    max_items_per_bucket=100_000,\n",
    "    max_bytes_per_bucket=128 * 1024 * 1024,\n",
    "    output_whitelist_path=dst_db / \"whitelist.txt\",\n",
    "    output_whitelist_top_n=40_000\n",
    ")\n",
    "\n",
    "build_processed_db(pipeline_config, filter_config)"
   ],
   "id": "57db436f73cba01",
   "outputs": [
    {
     "name": "stdout",
     "output_type": "stream",
     "text": [
      "N-GRAM FILTER PIPELINE\n",
      "━━━━━━━━━━━━━━━━━━━━━━━━━━━━━━━━━━━━━━━━━━━━━━━━━━━━━━━━━━━━━━━━━━━━━━━━━━━━━━━━━━━━━━━━━━━━━━━━━━━━\n",
      "\n",
      "Configuration\n",
      "════════════════════════════════════════════════════════════════════════════════════════════════════\n",
      "\u001B[4mPipeline\u001B[0m\n",
      "Run mode:             restart\n",
      "Concurrent ingestion: Enabled\n",
      "Compact after ingest: True\n",
      "\n",
      "\u001B[4mWorkers\u001B[0m\n",
      "Num Workers:        30\n",
      "Initial work units: 2\n",
      "Dynamic splitting:  Enabled\n",
      "Profiles:           read=read:packed24, write=write:packed24\n",
      "Buffer:             100,000 items, 128.00 MB\n",
      "\n",
      "\u001B[4mFiles\u001B[0m\n",
      "Source: /vast/edk202/NLP_corpora/Google_Books/20200217/eng/1gram_files/1grams.db\n",
      "Destination: /vast/edk202/NLP_corpora/Google_Books/20200217/eng/1gram_files/1grams_processed.db\n",
      "Input whitelist: None\n",
      "Output whitelist: ...ks/20200217/eng/1gram_files/1grams_processed.db/whitelist.txt (top 40,000 keys)\n",
      "\n",
      "Phase 1: Creating work units...\n",
      "════════════════════════════════════════════════════════════════════════════════════════════════════\n",
      "Clean restart - creating new work units\n",
      "Created 2 uniform work units (byte-range partitioning)\n",
      "Dynamic splitting will handle load balancing at runtime\n",
      "\n",
      "Phase 2: Processing 2 work units with 30 workers...\n",
      "════════════════════════════════════════════════════════════════════════════════════════════════════\n",
      "\n",
      "    items          kept        workers        units         splits      throughput     elapsed    \n",
      "──────────────────────────────────────────────────────────────────────────────────────────────────\n",
      "      0            0.0%       0a|30i|0s     0p|2pd|0c         0            0/s            1s      \n"
     ]
    },
    {
     "ename": "PicklingError",
     "evalue": "Can't pickle <class 'ngram_prep.ngram_filter.config.FilterConfig'>: it's not the same object as ngram_prep.ngram_filter.config.FilterConfig",
     "output_type": "error",
     "traceback": [
      "\u001B[31m---------------------------------------------------------------------------\u001B[39m",
      "\u001B[31mPicklingError\u001B[39m                             Traceback (most recent call last)",
      "\u001B[36mCell\u001B[39m\u001B[36m \u001B[39m\u001B[32mIn[8]\u001B[39m\u001B[32m, line 27\u001B[39m\n\u001B[32m      5\u001B[39m filter_config = FilterConfig(\n\u001B[32m      6\u001B[39m     stop_set=stopwords,\n\u001B[32m      7\u001B[39m     lemma_gen=lemmatizer,\n\u001B[32m      8\u001B[39m )\n\u001B[32m     10\u001B[39m pipeline_config = PipelineConfig(\n\u001B[32m     11\u001B[39m     src_db=src_db,\n\u001B[32m     12\u001B[39m     dst_db=dst_db,\n\u001B[32m   (...)\u001B[39m\u001B[32m     24\u001B[39m     output_whitelist_top_n=\u001B[32m40_000\u001B[39m\n\u001B[32m     25\u001B[39m )\n\u001B[32m---> \u001B[39m\u001B[32m27\u001B[39m \u001B[43mbuild_processed_db\u001B[49m\u001B[43m(\u001B[49m\u001B[43mpipeline_config\u001B[49m\u001B[43m,\u001B[49m\u001B[43m \u001B[49m\u001B[43mfilter_config\u001B[49m\u001B[43m)\u001B[49m\n",
      "\u001B[36mFile \u001B[39m\u001B[32m/scratch/edk202/ngram-prep/src/ngram_prep/ngram_filter/pipeline/orchestrator.py:647\u001B[39m, in \u001B[36mbuild_processed_db\u001B[39m\u001B[34m(pipeline_config, filter_config)\u001B[39m\n\u001B[32m      0\u001B[39m <Error retrieving source code with stack_data see ipython/ipython#13598>\n",
      "\u001B[36mFile \u001B[39m\u001B[32m/scratch/edk202/ngram-prep/src/ngram_prep/ngram_filter/pipeline/orchestrator.py:87\u001B[39m, in \u001B[36mrun\u001B[39m\u001B[34m(self)\u001B[39m\n\u001B[32m     85\u001B[39m \u001B[38;5;28mself\u001B[39m._create_work_units()\n\u001B[32m     86\u001B[39m \u001B[38;5;28mself\u001B[39m._process_work_units()\n\u001B[32m---> \u001B[39m\u001B[32m87\u001B[39m \u001B[38;5;28mself\u001B[39m._finalize_database()\n\u001B[32m     88\u001B[39m \u001B[38;5;28mself\u001B[39m._compact_if_requested()\n\u001B[32m     89\u001B[39m \u001B[38;5;28mself\u001B[39m._validate_final_result()\n",
      "\u001B[36mFile \u001B[39m\u001B[32m<string>:11\u001B[39m, in \u001B[36m_process_work_units\u001B[39m\u001B[34m(self)\u001B[39m\n",
      "\u001B[36mFile \u001B[39m\u001B[32m/scratch/edk202/ngram-prep/src/ngram_prep/ngram_filter/pipeline/worker_pool.py:61\u001B[39m, in \u001B[36mrun_worker_pool\u001B[39m\u001B[34m(num_workers, src_db_path, work_tracker_path, output_dir, filter_config, pipeline_config, worker_config, counters)\u001B[39m\n\u001B[32m     46\u001B[39m \u001B[38;5;28;01mfor\u001B[39;00m worker_id \u001B[38;5;129;01min\u001B[39;00m \u001B[38;5;28mrange\u001B[39m(num_workers):\n\u001B[32m     47\u001B[39m     process = ctx.Process(\n\u001B[32m     48\u001B[39m         target=worker_process,\n\u001B[32m     49\u001B[39m         args=(\n\u001B[32m   (...)\u001B[39m\u001B[32m     59\u001B[39m         name=\u001B[33mf\u001B[39m\u001B[33m\"\u001B[39m\u001B[33mngf:worker-\u001B[39m\u001B[38;5;132;01m{\u001B[39;00mworker_id\u001B[38;5;132;01m}\u001B[39;00m\u001B[33m\"\u001B[39m\n\u001B[32m     60\u001B[39m     )\n\u001B[32m---> \u001B[39m\u001B[32m61\u001B[39m     \u001B[43mprocess\u001B[49m\u001B[43m.\u001B[49m\u001B[43mstart\u001B[49m\u001B[43m(\u001B[49m\u001B[43m)\u001B[49m\n\u001B[32m     62\u001B[39m     processes.append(process)\n\u001B[32m     64\u001B[39m \u001B[38;5;66;03m# Wait for all workers to complete\u001B[39;00m\n",
      "\u001B[36mFile \u001B[39m\u001B[32m/ext3/miniforge3/envs/hist_w2v/lib/python3.11/multiprocessing/process.py:121\u001B[39m, in \u001B[36mBaseProcess.start\u001B[39m\u001B[34m(self)\u001B[39m\n\u001B[32m    118\u001B[39m \u001B[38;5;28;01massert\u001B[39;00m \u001B[38;5;129;01mnot\u001B[39;00m _current_process._config.get(\u001B[33m'\u001B[39m\u001B[33mdaemon\u001B[39m\u001B[33m'\u001B[39m), \\\n\u001B[32m    119\u001B[39m        \u001B[33m'\u001B[39m\u001B[33mdaemonic processes are not allowed to have children\u001B[39m\u001B[33m'\u001B[39m\n\u001B[32m    120\u001B[39m _cleanup()\n\u001B[32m--> \u001B[39m\u001B[32m121\u001B[39m \u001B[38;5;28mself\u001B[39m._popen = \u001B[38;5;28;43mself\u001B[39;49m\u001B[43m.\u001B[49m\u001B[43m_Popen\u001B[49m\u001B[43m(\u001B[49m\u001B[38;5;28;43mself\u001B[39;49m\u001B[43m)\u001B[49m\n\u001B[32m    122\u001B[39m \u001B[38;5;28mself\u001B[39m._sentinel = \u001B[38;5;28mself\u001B[39m._popen.sentinel\n\u001B[32m    123\u001B[39m \u001B[38;5;66;03m# Avoid a refcycle if the target function holds an indirect\u001B[39;00m\n\u001B[32m    124\u001B[39m \u001B[38;5;66;03m# reference to the process object (see bpo-30775)\u001B[39;00m\n",
      "\u001B[36mFile \u001B[39m\u001B[32m/ext3/miniforge3/envs/hist_w2v/lib/python3.11/multiprocessing/context.py:288\u001B[39m, in \u001B[36mSpawnProcess._Popen\u001B[39m\u001B[34m(process_obj)\u001B[39m\n\u001B[32m    285\u001B[39m \u001B[38;5;129m@staticmethod\u001B[39m\n\u001B[32m    286\u001B[39m \u001B[38;5;28;01mdef\u001B[39;00m\u001B[38;5;250m \u001B[39m\u001B[34m_Popen\u001B[39m(process_obj):\n\u001B[32m    287\u001B[39m     \u001B[38;5;28;01mfrom\u001B[39;00m\u001B[38;5;250m \u001B[39m\u001B[34;01m.\u001B[39;00m\u001B[34;01mpopen_spawn_posix\u001B[39;00m\u001B[38;5;250m \u001B[39m\u001B[38;5;28;01mimport\u001B[39;00m Popen\n\u001B[32m--> \u001B[39m\u001B[32m288\u001B[39m     \u001B[38;5;28;01mreturn\u001B[39;00m \u001B[43mPopen\u001B[49m\u001B[43m(\u001B[49m\u001B[43mprocess_obj\u001B[49m\u001B[43m)\u001B[49m\n",
      "\u001B[36mFile \u001B[39m\u001B[32m/ext3/miniforge3/envs/hist_w2v/lib/python3.11/multiprocessing/popen_spawn_posix.py:32\u001B[39m, in \u001B[36mPopen.__init__\u001B[39m\u001B[34m(self, process_obj)\u001B[39m\n\u001B[32m     30\u001B[39m \u001B[38;5;28;01mdef\u001B[39;00m\u001B[38;5;250m \u001B[39m\u001B[34m__init__\u001B[39m(\u001B[38;5;28mself\u001B[39m, process_obj):\n\u001B[32m     31\u001B[39m     \u001B[38;5;28mself\u001B[39m._fds = []\n\u001B[32m---> \u001B[39m\u001B[32m32\u001B[39m     \u001B[38;5;28;43msuper\u001B[39;49m\u001B[43m(\u001B[49m\u001B[43m)\u001B[49m\u001B[43m.\u001B[49m\u001B[34;43m__init__\u001B[39;49m\u001B[43m(\u001B[49m\u001B[43mprocess_obj\u001B[49m\u001B[43m)\u001B[49m\n",
      "\u001B[36mFile \u001B[39m\u001B[32m/ext3/miniforge3/envs/hist_w2v/lib/python3.11/multiprocessing/popen_fork.py:19\u001B[39m, in \u001B[36mPopen.__init__\u001B[39m\u001B[34m(self, process_obj)\u001B[39m\n\u001B[32m     17\u001B[39m \u001B[38;5;28mself\u001B[39m.returncode = \u001B[38;5;28;01mNone\u001B[39;00m\n\u001B[32m     18\u001B[39m \u001B[38;5;28mself\u001B[39m.finalizer = \u001B[38;5;28;01mNone\u001B[39;00m\n\u001B[32m---> \u001B[39m\u001B[32m19\u001B[39m \u001B[38;5;28;43mself\u001B[39;49m\u001B[43m.\u001B[49m\u001B[43m_launch\u001B[49m\u001B[43m(\u001B[49m\u001B[43mprocess_obj\u001B[49m\u001B[43m)\u001B[49m\n",
      "\u001B[36mFile \u001B[39m\u001B[32m/ext3/miniforge3/envs/hist_w2v/lib/python3.11/multiprocessing/popen_spawn_posix.py:47\u001B[39m, in \u001B[36mPopen._launch\u001B[39m\u001B[34m(self, process_obj)\u001B[39m\n\u001B[32m     45\u001B[39m \u001B[38;5;28;01mtry\u001B[39;00m:\n\u001B[32m     46\u001B[39m     reduction.dump(prep_data, fp)\n\u001B[32m---> \u001B[39m\u001B[32m47\u001B[39m     \u001B[43mreduction\u001B[49m\u001B[43m.\u001B[49m\u001B[43mdump\u001B[49m\u001B[43m(\u001B[49m\u001B[43mprocess_obj\u001B[49m\u001B[43m,\u001B[49m\u001B[43m \u001B[49m\u001B[43mfp\u001B[49m\u001B[43m)\u001B[49m\n\u001B[32m     48\u001B[39m \u001B[38;5;28;01mfinally\u001B[39;00m:\n\u001B[32m     49\u001B[39m     set_spawning_popen(\u001B[38;5;28;01mNone\u001B[39;00m)\n",
      "\u001B[36mFile \u001B[39m\u001B[32m/ext3/miniforge3/envs/hist_w2v/lib/python3.11/multiprocessing/reduction.py:60\u001B[39m, in \u001B[36mdump\u001B[39m\u001B[34m(obj, file, protocol)\u001B[39m\n\u001B[32m     58\u001B[39m \u001B[38;5;28;01mdef\u001B[39;00m\u001B[38;5;250m \u001B[39m\u001B[34mdump\u001B[39m(obj, file, protocol=\u001B[38;5;28;01mNone\u001B[39;00m):\n\u001B[32m     59\u001B[39m \u001B[38;5;250m    \u001B[39m\u001B[33;03m'''Replacement for pickle.dump() using ForkingPickler.'''\u001B[39;00m\n\u001B[32m---> \u001B[39m\u001B[32m60\u001B[39m     \u001B[43mForkingPickler\u001B[49m\u001B[43m(\u001B[49m\u001B[43mfile\u001B[49m\u001B[43m,\u001B[49m\u001B[43m \u001B[49m\u001B[43mprotocol\u001B[49m\u001B[43m)\u001B[49m\u001B[43m.\u001B[49m\u001B[43mdump\u001B[49m\u001B[43m(\u001B[49m\u001B[43mobj\u001B[49m\u001B[43m)\u001B[49m\n",
      "\u001B[31mPicklingError\u001B[39m: Can't pickle <class 'ngram_prep.ngram_filter.config.FilterConfig'>: it's not the same object as ngram_prep.ngram_filter.config.FilterConfig"
     ]
    }
   ],
   "execution_count": 8
  },
  {
   "metadata": {
    "ExecuteTime": {
     "end_time": "2025-10-12T14:52:42.610990Z",
     "start_time": "2025-10-12T14:52:42.468874Z"
    }
   },
   "cell_type": "code",
   "source": [
    "db_path = \"/vast/edk202/NLP_corpora/Google_Books/20200217/eng/1gram_files/1grams_processed.db\"\n",
    "\n",
    "db_head(db_path, key_format=\"utf-8\", value_format=\"packed\", n=5)"
   ],
   "id": "65dc0569cf8c1e32",
   "outputs": [
    {
     "name": "stdout",
     "output_type": "stream",
     "text": [
      "First 5 key-value pairs:\n",
      "────────────────────────────────────────────────────────────────────────────────────────────────────\n",
      "Database is empty\n"
     ]
    }
   ],
   "execution_count": 11
  },
  {
   "metadata": {
    "ExecuteTime": {
     "end_time": "2025-10-12T14:54:28.212410Z",
     "start_time": "2025-10-12T14:54:28.072304Z"
    }
   },
   "cell_type": "code",
   "source": [
    "db_path = \"/vast/edk202/NLP_corpora/Google_Books/20200217/eng/1gram_files/1grams_processed.db\"\n",
    "\n",
    "db_peek(db_path, start_key=b\"act\", key_format=\"utf-8\", value_format=\"packed\", n=5)"
   ],
   "id": "598183cfd12f66c8",
   "outputs": [
    {
     "name": "stdout",
     "output_type": "stream",
     "text": [
      "5 key-value pairs starting from 616374:\n",
      "────────────────────────────────────────────────────────────────────────────────────────────────────\n",
      "[ 1] Key:   act\n",
      "     Value: [504 records] ... +494 earlier, (2010, 10556515, 1099161), (2011, 9229582, 1109018)\n",
      "            (2012, 10938686, 1383123), (2013, 11459759, 1421585), (2014, 9599801, 1295175)\n",
      "            (2015, 8323275, 1110554), (2016, 8486488, 1109310), (2017, 8038504, 1063541)\n",
      "            (2018, 7433187, 1001313), (2019, 6529027, 945410)\n",
      "\n",
      "[ 2] Key:   acta\n",
      "     Value: [390 records] ... +380 earlier, (2010, 136674, 20924), (2011, 165094, 21097)\n",
      "            (2012, 465319, 45151), (2013, 324333, 39196), (2014, 181040, 24479)\n",
      "            (2015, 142455, 21433), (2016, 167581, 24617), (2017, 167433, 23366)\n",
      "            (2018, 188806, 23373), (2019, 163520, 21539)\n",
      "\n",
      "[ 3] Key:   actaa\n",
      "     Value: [203 records] ... +193 earlier, (2010, 11, 9), (2011, 3, 1), (2012, 15, 13), (2013, 16, 10)\n",
      "            (2014, 7, 5), (2015, 3, 3), (2016, 3, 3), (2017, 9, 6), (2018, 3, 3), (2019, 7, 5)\n",
      "\n",
      "[ 4] Key:   actaaa\n",
      "     Value: [61 records] ... +51 earlier, (1913, 1, 1), (1917, 1, 1), (1919, 1, 1), (1921, 1, 1), (1967, 2, 1)\n",
      "            (1986, 1, 1), (2005, 1, 1), (2010, 1, 1), (2011, 1, 1), (2014, 1, 1)\n",
      "\n",
      "[ 5] Key:   actaaarthist\n",
      "     Value: [33 records] ... +23 earlier, (2010, 10, 6), (2011, 4, 3), (2012, 5, 3), (2013, 9, 3)\n",
      "            (2014, 9, 4), (2015, 9, 3), (2016, 7, 5), (2017, 2, 2), (2018, 11, 3), (2019, 7, 4)\n",
      "\n"
     ]
    }
   ],
   "execution_count": 22
  },
  {
   "metadata": {},
   "cell_type": "code",
   "outputs": [],
   "execution_count": null,
   "source": "",
   "id": "f0786a0f5c8c402f"
  }
 ],
 "metadata": {
  "kernelspec": {
   "display_name": "hist_w2v (Singularity)",
   "language": "python",
   "name": "hist_w2v"
  },
  "language_info": {
   "codemirror_mode": {
    "name": "ipython",
    "version": 3
   },
   "file_extension": ".py",
   "mimetype": "text/x-python",
   "name": "python",
   "nbconvert_exporter": "python",
   "pygments_lexer": "ipython3",
   "version": "3.11.13"
  }
 },
 "nbformat": 4,
 "nbformat_minor": 5
}
